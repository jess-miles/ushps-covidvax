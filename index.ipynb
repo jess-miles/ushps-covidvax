{
 "cells": [
  {
   "cell_type": "markdown",
   "metadata": {},
   "source": [
    "## OVERVIEW OF OSEMiN"
   ]
  },
  {
   "cell_type": "markdown",
   "metadata": {},
   "source": [
    "<img src='https://raw.githubusercontent.com/jirvingphd/fsds_100719_cohort_notes/master/images/OSEMN.png' width=800>\n",
    "\n",
    "<center><a href=\"https://www.kdnuggets.com/2018/02/data-science-command-line-book-exploring-data.html\"> \n",
    "    </a></center>\n",
    "\n",
    "\n",
    "> <font size=2em>The Data Science Process we'll be using during this section--OSEMiN (pronounced \"OH-sum\", rhymes with \"possum\").  This is the most straightforward of the Data Science Processes discussed so far.  **Note that during this process, just like the others, the stages often blur together.***  It is completely acceptable (and ***often a best practice!) to float back and forth** between stages as you learn new things about your problem, dataset, requirements, etc.  \n",
    "It's quite common to get to the modeling step and realize that you need to scrub your data a bit more or engineer a different feature and jump back to the \"Scrub\" stage, or go all the way back to the \"Obtain\" stage when you realize your current data isn't sufficient to solve this problem. \n",
    "As with any of these frameworks, *OSEMiN is meant to be treated as guidelines, not law. \n",
    "</font>\n",
    "\n",
    "\n",
    "### OSEMN DETAILS\n",
    "\n",
    "**OBTAIN**\n",
    "\n",
    "- This step involves understanding stakeholder requirements, gathering information on the problem, and finally sourcing data that we think will be necessary for solving this problem. \n",
    "\n",
    "**SCRUB**\n",
    "\n",
    "- During this stage, we'll focus on preprocessing our data.  Important steps such as identifying and removing null values, dealing with outliers, normalizing data, and feature engineering/feature selection are handled around this stage.  The line with this stage really blurs with the _Explore_ stage, as it is common to only realize that certain columns require cleaning or preprocessing as a result of the visualzations and explorations done during Step 3.  \n",
    "\n",
    "- Note that although technically, categorical data should be one-hot encoded during this step, in practice, it's usually done after data exploration.  This is because it is much less time-consuming to visualize and explore a few columns containing categorical data than it is to explore many different dummy columns that have been one-hot encoded. \n",
    "\n",
    "**EXPLORE**\n",
    "\n",
    "- This step focuses on getting to know the dataset you're working with. As mentioned above, this step tends to blend with the _Scrub_ step mentioned above.  During this step, you'll create visualizations to really get a feel for your dataset.  You'll focus on things such as understanding the distribution of different columns, checking for multicollinearity, and other tasks liek that.  If your project is a classification task, you may check the balance of the different classes in your dataset.  If your problem is a regression task, you may check that the dataset meets the assumptions necessary for a regression task.  \n",
    "\n",
    "- At the end of this step, you should have a dataset ready for modeling that you've thoroughly explored and are extremely familiar with.  \n",
    "\n",
    "**MODEL**\n",
    "\n",
    "- This step, as with the last two frameworks, is also pretty self-explanatory. It consists of building and tuning models using all the tools you have in your data science toolbox.  In practice, this often means defining a threshold for success, selecting machine learning algorithms to test on the project, and tuning the ones that show promise to try and increase your results.  As with the other stages, it is both common and accepted to realize something, jump back to a previous stage like _Scrub_ or _Explore_, and make some changes to see how it affects the model.  \n",
    "\n",
    "**iNTERPRET**\n",
    "\n",
    "- During this step, you'll interpret the results of your model(s), and communicate results to stakeholders.  As with the other frameworks, communication is incredibily important! During this stage, you may come to realize that further investigation is needed, or more data.  That's totally fine--figure out what's needed, go get it, and start the process over! If your results are satisfactory to all stakeholders involved, you may also go from this stage right into productionizing your model and automating processes necessary to support it.  \n",
    "\n",
    "\n",
    "\n"
   ]
  },
  {
   "cell_type": "markdown",
   "metadata": {},
   "source": [
    "## PROCESS CHECKLIST\n"
   ]
  },
  {
   "cell_type": "markdown",
   "metadata": {},
   "source": [
    "> Keep in mind that it is normal to jump between the OSEMN phases and some of them will blend together, like SCRUB and EXPLORE."
   ]
  },
  {
   "cell_type": "markdown",
   "metadata": {},
   "source": [
    "1. **[OBTAIN](#OBTAIN)**\n",
    "    - Import data, inspect, check for datatypes to convert and null values\n",
    "    - Display header and info.\n",
    "    - Drop any unneeded columns, if known (`df.drop(['col1','col2'],axis=1,inplace=True`)\n",
    "    <br><br>\n",
    "\n",
    "\n",
    "2. **[SCRUB](#SCRUB)**\n",
    "    - Recast data types, identify outliers, check for multicollinearity, normalize data**\n",
    "    - Check and cast data types\n",
    "        - [ ] Check for #'s that are store as objects (`df.info()`,`df.describe()`)\n",
    "            - when converting to #'s, look for odd values (like many 0's), or strings that can't be converted.\n",
    "            - Decide how to deal weird/null values (`df.unique()`, `df.isna().sum()`)\n",
    "            - `df.fillna(subset=['col_with_nulls'],'fill_value')`, `df.replace()`\n",
    "        - [ ] Check for categorical variables stored as integers.\n",
    "            - May be easier to tell when you make a scatter plotm or `pd.plotting.scatter_matrix()`\n",
    "            \n",
    "    - [ ] Check for missing values  (df.isna().sum())\n",
    "        - Can drop rows or colums\n",
    "        - For missing numeric data with median or bin/convert to categorical\n",
    "        - For missing categorical data: make NaN own category OR replace with most common category\n",
    "    - [ ] Check for multicollinearity\n",
    "        - Use seaborn to make correlation matrix plot \n",
    "        - Good rule of thumb is anything over 0.75 corr is high, remove the variable that has the most correl with the largest # of variables\n",
    "    - [ ] Normalize data (may want to do after some exploring)\n",
    "        - Most popular is Z-scoring (but won't fix skew) \n",
    "        - Can log-transform to fix skewed data\n",
    "    \n",
    "    \n",
    "3. **[EXPLORE](#EXPLORE)**\n",
    "    - [ ] Check distributions, outliers, etc**\n",
    "    - [ ] Check scales, ranges (df.describe())\n",
    "    - [ ] Check histograms to get an idea of distributions (df.hist()) and data transformations to perform.\n",
    "        - Can also do kernel density estimates\n",
    "    - [ ] Use scatter plots to check for linearity and possible categorical variables (`df.plot(\"x\",\"y\")`)\n",
    "        - categoricals will look like vertical lines\n",
    "    - [ ] Use `pd.plotting.scatter_matrix(df)` to visualize possible relationships\n",
    "    - [ ] Check for linearity.\n",
    "   \n",
    "   \n",
    "4. **[MODEL](#MODEL)**\n",
    "\n",
    "    - **Fit an initial model:** \n",
    "        - Run an initial model and get results\n",
    "\n",
    "    - **Holdout validation / Train/test split**\n",
    "        - use sklearn `train_test_split`\n",
    "    \n",
    "    \n",
    "5. **[iNTERPRET](#iNTERPRET)**\n",
    "    - **Assessing the model:**\n",
    "        - Assess parameters (slope,intercept)\n",
    "        - Check if the model explains the variation in the data (RMSE, F, R_square)\n",
    "        - *Are the coeffs, slopes, intercepts in appropriate units?*\n",
    "        - *Whats the impact of collinearity? Can we ignore?*\n",
    "        <br><br>\n",
    "    - **Revise the fitted model**\n",
    "        - Multicollinearity is big issue for lin regression and cannot fully remove it\n",
    "        - Use the predictive ability of model to test it (like R2 and RMSE)\n",
    "        - Check for missed non-linearity\n",
    "        \n",
    "       \n",
    "6. **Interpret final model and draw >=3 conclusions and recommendations from dataset**"
   ]
  },
  {
   "cell_type": "markdown",
   "metadata": {
    "ExecuteTime": {
     "end_time": "2020-01-29T18:00:23.504059Z",
     "start_time": "2020-01-29T18:00:23.498461Z"
    }
   },
   "source": [
    "<div style=\"display:block;border-bottom:solid red 3px;padding:1.4em;color:red;font-size:30pt;display:inline-block;line-height:1.5em;\">\n",
    "DELETE THIS CELL AND EVERYTHING ABOVE FROM YOUR FINAL NOTEBOOK\n",
    "</div>"
   ]
  },
  {
   "cell_type": "markdown",
   "metadata": {},
   "source": [
    "# Final Project Submission"
   ]
  },
  {
   "cell_type": "markdown",
   "metadata": {},
   "source": [
    "Please fill out:\n",
    "* Student name: \n",
    "* Student pace: self paced / part time / full time:\n",
    "* Scheduled project review date/time: \n",
    "* Instructor name: \n",
    "* Blog post URL:\n",
    "* Video of 5-min Non-Technical Presentation:"
   ]
  },
  {
   "cell_type": "markdown",
   "metadata": {},
   "source": [
    "## TABLE OF CONTENTS "
   ]
  },
  {
   "cell_type": "markdown",
   "metadata": {},
   "source": [
    "*Click to jump to matching Markdown Header.*<br><br>\n",
    " \n",
    "- **[Introduction](#INTRODUCTION)<br>**\n",
    "- **[OBTAIN](#OBTAIN)**<br>\n",
    "- **[SCRUB](#SCRUB)**<br>\n",
    "- **[EXPLORE](#EXPLORE)**<br>\n",
    "- **[MODEL](#MODEL)**<br>\n",
    "- **[iNTERPRET](#iNTERPRET)**<br>\n",
    "- **[Conclusions/Recommendations](#CONCLUSIONS-&-RECOMMENDATIONS)<br>**\n",
    "___"
   ]
  },
  {
   "cell_type": "markdown",
   "metadata": {},
   "source": [
    "# INTRODUCTION"
   ]
  },
  {
   "cell_type": "markdown",
   "metadata": {},
   "source": [
    "\n",
    "## Business Problem\n",
    "\n",
    "COVID-19 vaccines became available to subsets of the American public at the end of 2020. States and cities differed in terms of which groups of people were eligible first, and the timeline by which they expanded eligibility, but [by April 19th](https://www.nytimes.com/2021/04/19/world/adults-eligible-covid-vaccine.html), all Americans over the age of 16 were eligible.\n",
    "\n",
    "Appointment availability was initially scarce in some places, but this very quickly shifted to a growing number of appointments going unfilled across the country. [Only 59% of adults have received at least one dose](https://covid.cdc.gov/covid-data-tracker/#datatracker-home) (as of this writing, on May 14th, 2021), so there are still plenty of people who haven't received any doses.\n",
    "\n",
    "Vaccination rate is an important metric being considered as state and local governments decide how and when to relax mask-wearing, occupancy, and other COVID restrictions. These entities are already wondering about the best methods to encourage their populations to get vaccinated. In order to develop effective strategies, state and local governments need to understand the factors that contribute to vaccine hesitancy. \n",
    "\n",
    "To aid in this understanding, I will build a predictive model to classify whether someone is likely to be vaccine optimistic, or vaccine hesitant, based on their other answers to the Household Pulse Survey that the US Census has been conducting bi-weekly during the pandemic. Interpreting the factors which are most important in predicting vaccine hesitancy among populations should provide insights that will allow state and local governments to develop effective outreach strategies.\n",
    "\n",
    "\n"
   ]
  },
  {
   "cell_type": "markdown",
   "metadata": {},
   "source": [
    "# OBTAIN"
   ]
  },
  {
   "cell_type": "markdown",
   "metadata": {},
   "source": [
    "## Data Understanding\n",
    "\n",
    "For this analysis, I will use a [publicly available microdata sample](https://www.census.gov/programs-surveys/household-pulse-survey/datasets.html) from the bi-weekly Household Pulse Surveys that the US Census has been conducting during the pandemic. Each observation represents an individual's anonymized response to the survey.\n",
    "\n",
    "Respondents were randomly sampled from all 50 states and the top 15 metropolitan areas, and asked to fill out the survey online. They were asked a variety of questions about their household, including whether they've received any doses of the vaccine, and if not, what their intent was to do so in the future. I will engineer these features into a binary target variable representing vaccine optimism versus vaccine hesitancy, and use each respondent's answers to other survey questions as the predictors.\n",
    "\n",
    "Some survey questions were only presented to the respondent if they answered a certain way to a prior question, such as only asking about intention to get a vaccine in the future if the respondent indicated they had not yet received any doses. I will carefully review the data dictionary provided by the Census team to understand these relationships, and  engineer features from the groups of questions as appropriate.\n",
    "\n",
    "I will use the most recent microdata file available as of this writing, May 14, 2021, which includes a sample of about 78,000 responses from Phase 3 of the survey, covering the timeframe of March 3 to March 15, 2021. This is referred to as the \"week 26\" period.  Note that the survey is ongoing and currently in Phase 3.1, but microdata is not yet available for the first week of Phase 3.1, so I will use the most recent data available.\n",
    "\n",
    "For more technical information on the sampling methodology and full questionnaire, [see here](https://www.census.gov/programs-surveys/household-pulse-survey/technical-documentation.html)."
   ]
  },
  {
   "cell_type": "code",
   "execution_count": 1,
   "metadata": {},
   "outputs": [],
   "source": [
    "import pandas as pd\n",
    "import numpy as np\n",
    "import matplotlib.pyplot as plt\n",
    "import seaborn as sns\n",
    "import missingno\n",
    "import plotly.express as px\n",
    "\n",
    "pd.set_option('display.max_info_rows', 300)\n",
    "pd.set_option('display.max_info_columns', 300)"
   ]
  },
  {
   "cell_type": "code",
   "execution_count": 2,
   "metadata": {
    "scrolled": false
   },
   "outputs": [
    {
     "name": "stdout",
     "output_type": "stream",
     "text": [
      "<class 'pandas.core.frame.DataFrame'>\n",
      "RangeIndex: 78307 entries, 0 to 78306\n",
      "Data columns (total 204 columns):\n",
      " #   Column                  Dtype  \n",
      "---  ------                  -----  \n",
      " 0   ._pulse2021_puf_26.csv  object \n",
      " 1   WEEK                    float64\n",
      " 2   EST_ST                  float64\n",
      " 3   EST_MSA                 float64\n",
      " 4   REGION                  float64\n",
      " 5   HWEIGHT                 float64\n",
      " 6   PWEIGHT                 float64\n",
      " 7   TBIRTH_YEAR             float64\n",
      " 8   ABIRTH_YEAR             float64\n",
      " 9   EGENDER                 float64\n",
      " 10  AGENDER                 float64\n",
      " 11  RHISPANIC               float64\n",
      " 12  AHISPANIC               float64\n",
      " 13  RRACE                   float64\n",
      " 14  ARACE                   float64\n",
      " 15  EEDUC                   float64\n",
      " 16  AEDUC                   float64\n",
      " 17  MS                      float64\n",
      " 18  THHLD_NUMPER            float64\n",
      " 19  AHHLD_NUMPER            float64\n",
      " 20  THHLD_NUMKID            float64\n",
      " 21  AHHLD_NUMKID            float64\n",
      " 22  THHLD_NUMADLT           float64\n",
      " 23  RECVDVACC               float64\n",
      " 24  DOSES                   float64\n",
      " 25  GETVACC                 float64\n",
      " 26  WHYNOT1                 float64\n",
      " 27  WHYNOT2                 float64\n",
      " 28  WHYNOT3                 float64\n",
      " 29  WHYNOT4                 float64\n",
      " 30  WHYNOT5                 float64\n",
      " 31  WHYNOT6                 float64\n",
      " 32  WHYNOT7                 float64\n",
      " 33  WHYNOT8                 float64\n",
      " 34  WHYNOT9                 float64\n",
      " 35  WHYNOT10                float64\n",
      " 36  WHYNOT11                float64\n",
      " 37  WHYNOTB1                float64\n",
      " 38  WHYNOTB2                float64\n",
      " 39  WHYNOTB3                float64\n",
      " 40  WHYNOTB4                float64\n",
      " 41  WHYNOTB5                float64\n",
      " 42  WHYNOTB6                float64\n",
      " 43  HADCOVID                float64\n",
      " 44  WRKLOSS                 float64\n",
      " 45  EXPCTLOSS               float64\n",
      " 46  ANYWORK                 float64\n",
      " 47  KINDWORK                float64\n",
      " 48  RSNNOWRK                float64\n",
      " 49  TW_START                float64\n",
      " 50  UI_APPLY                float64\n",
      " 51  UI_RECV                 float64\n",
      " 52  SSA_RECV                float64\n",
      " 53  SSA_APPLY               float64\n",
      " 54  SSAPGM1                 float64\n",
      " 55  SSAPGM2                 float64\n",
      " 56  SSAPGM3                 float64\n",
      " 57  SSAPGM4                 float64\n",
      " 58  SSAPGM5                 float64\n",
      " 59  SSALIKELY               float64\n",
      " 60  SSAEXPCT1               float64\n",
      " 61  SSAEXPCT2               float64\n",
      " 62  SSAEXPCT3               float64\n",
      " 63  SSAEXPCT4               float64\n",
      " 64  SSAEXPCT5               float64\n",
      " 65  SSADECISN               float64\n",
      " 66  EIP                     float64\n",
      " 67  EIPSPND1                float64\n",
      " 68  EIPSPND2                float64\n",
      " 69  EIPSPND3                float64\n",
      " 70  EIPSPND4                float64\n",
      " 71  EIPSPND5                float64\n",
      " 72  EIPSPND6                float64\n",
      " 73  EIPSPND7                float64\n",
      " 74  EIPSPND8                float64\n",
      " 75  EIPSPND9                float64\n",
      " 76  EIPSPND10               float64\n",
      " 77  EIPSPND11               float64\n",
      " 78  EIPSPND12               float64\n",
      " 79  EIPSPND13               float64\n",
      " 80  EXPNS_DIF               float64\n",
      " 81  CHNGHOW1                float64\n",
      " 82  CHNGHOW2                float64\n",
      " 83  CHNGHOW3                float64\n",
      " 84  CHNGHOW4                float64\n",
      " 85  CHNGHOW5                float64\n",
      " 86  CHNGHOW6                float64\n",
      " 87  CHNGHOW7                float64\n",
      " 88  CHNGHOW8                float64\n",
      " 89  CHNGHOW9                float64\n",
      " 90  CHNGHOW10               float64\n",
      " 91  CHNGHOW11               float64\n",
      " 92  CHNGHOW12               float64\n",
      " 93  WHYCHNGD1               float64\n",
      " 94  WHYCHNGD2               float64\n",
      " 95  WHYCHNGD3               float64\n",
      " 96  WHYCHNGD4               float64\n",
      " 97  WHYCHNGD5               float64\n",
      " 98  WHYCHNGD6               float64\n",
      " 99  WHYCHNGD7               float64\n",
      " 100 WHYCHNGD8               float64\n",
      " 101 WHYCHNGD9               float64\n",
      " 102 WHYCHNGD10              float64\n",
      " 103 WHYCHNGD11              float64\n",
      " 104 WHYCHNGD12              float64\n",
      " 105 WHYCHNGD13              float64\n",
      " 106 SPNDSRC1                float64\n",
      " 107 SPNDSRC2                float64\n",
      " 108 SPNDSRC3                float64\n",
      " 109 SPNDSRC4                float64\n",
      " 110 SPNDSRC5                float64\n",
      " 111 SPNDSRC6                float64\n",
      " 112 SPNDSRC7                float64\n",
      " 113 SPNDSRC8                float64\n",
      " 114 FEWRTRIPS               float64\n",
      " 115 FEWRTRANS               float64\n",
      " 116 PLNDTRIPS               float64\n",
      " 117 CURFOODSUF              float64\n",
      " 118 CHILDFOOD               float64\n",
      " 119 FOODSUFRSN1             float64\n",
      " 120 FOODSUFRSN2             float64\n",
      " 121 FOODSUFRSN3             float64\n",
      " 122 FOODSUFRSN4             float64\n",
      " 123 FOODSUFRSN5             float64\n",
      " 124 FREEFOOD                float64\n",
      " 125 WHEREFREE1              float64\n",
      " 126 WHEREFREE2              float64\n",
      " 127 WHEREFREE3              float64\n",
      " 128 WHEREFREE4              float64\n",
      " 129 WHEREFREE5              float64\n",
      " 130 WHEREFREE6              float64\n",
      " 131 WHEREFREE7              float64\n",
      " 132 SNAP_YN                 float64\n",
      " 133 TSPNDFOOD               float64\n",
      " 134 TSPNDPRPD               float64\n",
      " 135 ANXIOUS                 float64\n",
      " 136 WORRY                   float64\n",
      " 137 INTEREST                float64\n",
      " 138 DOWN                    float64\n",
      " 139 HLTHINS1                float64\n",
      " 140 HLTHINS2                float64\n",
      " 141 HLTHINS3                float64\n",
      " 142 HLTHINS4                float64\n",
      " 143 HLTHINS5                float64\n",
      " 144 HLTHINS6                float64\n",
      " 145 HLTHINS7                float64\n",
      " 146 HLTHINS8                float64\n",
      " 147 PRIVHLTH                float64\n",
      " 148 PUBHLTH                 float64\n",
      " 149 DELAY                   float64\n",
      " 150 NOTGET                  float64\n",
      " 151 PRESCRIPT               float64\n",
      " 152 MH_SVCS                 float64\n",
      " 153 MH_NOTGET               float64\n",
      " 154 TENURE                  float64\n",
      " 155 LIVQTR                  float64\n",
      " 156 RENTCUR                 float64\n",
      " 157 MORTCUR                 float64\n",
      " 158 MORTCONF                float64\n",
      " 159 EVICT                   float64\n",
      " 160 FORCLOSE                float64\n",
      " 161 ENROLL1                 float64\n",
      " 162 ENROLL2                 float64\n",
      " 163 ENROLL3                 float64\n",
      " 164 TEACH1                  float64\n",
      " 165 TEACH2                  float64\n",
      " 166 TEACH3                  float64\n",
      " 167 TEACH4                  float64\n",
      " 168 TEACH5                  float64\n",
      " 169 COMPAVAIL               float64\n",
      " 170 COMP1                   float64\n",
      " 171 COMP2                   float64\n",
      " 172 COMP3                   float64\n",
      " 173 INTRNTAVAIL             float64\n",
      " 174 INTRNT1                 float64\n",
      " 175 INTRNT2                 float64\n",
      " 176 INTRNT3                 float64\n",
      " 177 SCHLHRS                 float64\n",
      " 178 TSTDY_HRS               float64\n",
      " 179 TCH_HRS                 float64\n",
      " 180 TNUM_PS                 float64\n",
      " 181 PSPLANS1                float64\n",
      " 182 PSPLANS2                float64\n",
      " 183 PSPLANS3                float64\n",
      " 184 PSPLANS4                float64\n",
      " 185 PSPLANS5                float64\n",
      " 186 PSPLANS6                float64\n",
      " 187 PSCHNG1                 float64\n",
      " 188 PSCHNG2                 float64\n",
      " 189 PSCHNG3                 float64\n",
      " 190 PSCHNG4                 float64\n",
      " 191 PSCHNG5                 float64\n",
      " 192 PSCHNG6                 float64\n",
      " 193 PSCHNG7                 float64\n",
      " 194 PSWHYCHG1               float64\n",
      " 195 PSWHYCHG2               float64\n",
      " 196 PSWHYCHG3               float64\n",
      " 197 PSWHYCHG4               float64\n",
      " 198 PSWHYCHG5               float64\n",
      " 199 PSWHYCHG6               float64\n",
      " 200 PSWHYCHG7               float64\n",
      " 201 PSWHYCHG8               float64\n",
      " 202 PSWHYCHG9               float64\n",
      " 203 INCOME                  float64\n",
      "dtypes: float64(203), object(1)\n",
      "memory usage: 121.9+ MB\n"
     ]
    }
   ],
   "source": [
    "# import data from downloaded CSV\n",
    "df = pd.read_csv(r\"data/pulse2021_puf_26.csv.tar.gz\")\n",
    "df.info()"
   ]
  },
  {
   "cell_type": "markdown",
   "metadata": {},
   "source": [
    "I will primarily use the data dictionary provided by the Census team to determine which fields to include in my initial model.\n",
    "\n",
    "Although all the data fields are stored as floats, based on the dictionary most of them are actually ordinally encoded categorical variables. I will need to combine them or convert them to text categories as appropriate."
   ]
  },
  {
   "cell_type": "markdown",
   "metadata": {},
   "source": [
    "# SCRUB"
   ]
  },
  {
   "cell_type": "markdown",
   "metadata": {},
   "source": [
    "I will need to engineer multiple features, including my target. As written and organized into a question per column, the data is not in ideal format for analysis due to the presence of main question and sub-question groups; some questions are conceptually spread across multiple columns.\n",
    "\n",
    "I will endeavor to balance reducing the feature space with keeping as much of the original information as possible.\n",
    "\n",
    "One notable challenge will be dealing with missing data. The data dictionary indicates that there are two placeholders that represent a non-answer: \n",
    "- -88: Missing / Did not report\n",
    "- -99: Question seen but category not selected\n",
    "\n",
    "The Census team provides no additional information about why a response might be missing and placed in the -88 category as opposed to the -99 category that represents a lack of a response from the respondent. I have reached out to them via email for explanation, but have not yet heard back. Although some instances appear to be filled in to account for the fact that a sub-question wasn't presented to a respondent because of how they answered a prior question, there are some columns with -88 placeholders that do not appear to be sub-questions, so in my understanding should have been presented to everyone. \n",
    "\n",
    "Since there are a significant number of these -88 placeholders in some top-level question columns, I will likely encode them as a separate category instead of dropping them or attempting to impute them."
   ]
  },
  {
   "cell_type": "markdown",
   "metadata": {},
   "source": [
    "## Target columns\n",
    "\n",
    "I want to create a binary target that represents a respondent's vaccine outlook: hesitant, or optimistic.\n",
    "\n",
    "I will need to engineer this target from two questions: \n",
    "- `RECVDVACC` asked the respondent whether they have received any doses of the COVID vaccine\n",
    "- `GETVACC` is a sub-question asked of the respondent if they said they had not received any doses. It asked about the respondent's intent to get a vaccine in the future. Choices include:\n",
    "\n",
    "1. Definitely get a vaccine\n",
    "2. Probably get a vaccine\n",
    "3. Probably NOT get a vaccine \n",
    "4. Definitely NOT get a vaccine\n",
    "\n",
    "At the time of the survey back in early March, only certain subsets of the population were eligible to make a vaccine appointment, based on state-specific criteria such as age, occupation, health risk indicators, and other factors. I want to make sure my class takes into account people who have been vaccinated but doesn't penalize people who have not yet been vaccinated yet, given there is no easy way to know if they were eligible for vaccination when they were surveyed. \n",
    "\n",
    "I will create the binary target by combining answers to these two questions in the following way:\n",
    "\n",
    "**Vaccine optimistic**\n",
    "- Has received at least one dose OR\n",
    "- Has not received any doses yet AND:\n",
    "    - Intends to Definitely get a vaccine OR\n",
    "    - Intends to Probably get a vaccine\n",
    "\n",
    "**Vaccine hesitant**\n",
    "- Has not received any doses yet AND:\n",
    "    - Intends to Probably NOT get a vaccine OR\n",
    "    - Intends to Definitely NOT get a vaccine\n"
   ]
  },
  {
   "cell_type": "code",
   "execution_count": 3,
   "metadata": {
    "scrolled": false
   },
   "outputs": [
    {
     "data": {
      "text/plain": [
       " 2.0     42085\n",
       " 1.0     35840\n",
       "-99.0      381\n",
       "Name: RECVDVACC, dtype: int64"
      ]
     },
     "execution_count": 3,
     "metadata": {},
     "output_type": "execute_result"
    }
   ],
   "source": [
    "# First question asking whether they have received any doses\n",
    "df['RECVDVACC'].value_counts()"
   ]
  },
  {
   "cell_type": "code",
   "execution_count": 4,
   "metadata": {},
   "outputs": [
    {
     "data": {
      "text/plain": [
       "1"
      ]
     },
     "execution_count": 4,
     "metadata": {},
     "output_type": "execute_result"
    }
   ],
   "source": [
    "df['RECVDVACC'].isna().sum()"
   ]
  },
  {
   "cell_type": "code",
   "execution_count": 5,
   "metadata": {
    "scrolled": true
   },
   "outputs": [
    {
     "data": {
      "text/html": [
       "<div>\n",
       "<style scoped>\n",
       "    .dataframe tbody tr th:only-of-type {\n",
       "        vertical-align: middle;\n",
       "    }\n",
       "\n",
       "    .dataframe tbody tr th {\n",
       "        vertical-align: top;\n",
       "    }\n",
       "\n",
       "    .dataframe thead th {\n",
       "        text-align: right;\n",
       "    }\n",
       "</style>\n",
       "<table border=\"1\" class=\"dataframe\">\n",
       "  <thead>\n",
       "    <tr style=\"text-align: right;\">\n",
       "      <th></th>\n",
       "      <th>._pulse2021_puf_26.csv</th>\n",
       "      <th>WEEK</th>\n",
       "      <th>EST_ST</th>\n",
       "      <th>EST_MSA</th>\n",
       "      <th>REGION</th>\n",
       "      <th>HWEIGHT</th>\n",
       "      <th>PWEIGHT</th>\n",
       "      <th>TBIRTH_YEAR</th>\n",
       "      <th>ABIRTH_YEAR</th>\n",
       "      <th>EGENDER</th>\n",
       "      <th>...</th>\n",
       "      <th>PSWHYCHG1</th>\n",
       "      <th>PSWHYCHG2</th>\n",
       "      <th>PSWHYCHG3</th>\n",
       "      <th>PSWHYCHG4</th>\n",
       "      <th>PSWHYCHG5</th>\n",
       "      <th>PSWHYCHG6</th>\n",
       "      <th>PSWHYCHG7</th>\n",
       "      <th>PSWHYCHG8</th>\n",
       "      <th>PSWHYCHG9</th>\n",
       "      <th>INCOME</th>\n",
       "    </tr>\n",
       "  </thead>\n",
       "  <tbody>\n",
       "    <tr>\n",
       "      <th>78306</th>\n",
       "      <td>NaN</td>\n",
       "      <td>NaN</td>\n",
       "      <td>NaN</td>\n",
       "      <td>NaN</td>\n",
       "      <td>NaN</td>\n",
       "      <td>NaN</td>\n",
       "      <td>NaN</td>\n",
       "      <td>NaN</td>\n",
       "      <td>NaN</td>\n",
       "      <td>NaN</td>\n",
       "      <td>...</td>\n",
       "      <td>NaN</td>\n",
       "      <td>NaN</td>\n",
       "      <td>NaN</td>\n",
       "      <td>NaN</td>\n",
       "      <td>NaN</td>\n",
       "      <td>NaN</td>\n",
       "      <td>NaN</td>\n",
       "      <td>NaN</td>\n",
       "      <td>NaN</td>\n",
       "      <td>NaN</td>\n",
       "    </tr>\n",
       "  </tbody>\n",
       "</table>\n",
       "<p>1 rows × 204 columns</p>\n",
       "</div>"
      ],
      "text/plain": [
       "      ._pulse2021_puf_26.csv  WEEK  EST_ST  EST_MSA  REGION  HWEIGHT  PWEIGHT  \\\n",
       "78306                    NaN   NaN     NaN      NaN     NaN      NaN      NaN   \n",
       "\n",
       "       TBIRTH_YEAR  ABIRTH_YEAR  EGENDER  ...  PSWHYCHG1  PSWHYCHG2  \\\n",
       "78306          NaN          NaN      NaN  ...        NaN        NaN   \n",
       "\n",
       "       PSWHYCHG3  PSWHYCHG4  PSWHYCHG5  PSWHYCHG6  PSWHYCHG7  PSWHYCHG8  \\\n",
       "78306        NaN        NaN        NaN        NaN        NaN        NaN   \n",
       "\n",
       "       PSWHYCHG9  INCOME  \n",
       "78306        NaN     NaN  \n",
       "\n",
       "[1 rows x 204 columns]"
      ]
     },
     "execution_count": 5,
     "metadata": {},
     "output_type": "execute_result"
    }
   ],
   "source": [
    "df.loc[df['RECVDVACC'].isna()]"
   ]
  },
  {
   "cell_type": "markdown",
   "metadata": {},
   "source": [
    "- Value of 1 indicates Yes, at least one dose\n",
    "- Value of 2 indicates No, no doses yet\n",
    "- Value of -99 indicates the respondent did not answer the question\n",
    "\n",
    "I will drop the -99 values, since there are few of them and I wouldn't be comfortable imputing target variables."
   ]
  },
  {
   "cell_type": "code",
   "execution_count": 6,
   "metadata": {
    "scrolled": true
   },
   "outputs": [
    {
     "data": {
      "text/plain": [
       "2.0    42085\n",
       "1.0    35840\n",
       "Name: RECVDVACC, dtype: int64"
      ]
     },
     "execution_count": 6,
     "metadata": {},
     "output_type": "execute_result"
    }
   ],
   "source": [
    "to_drop = df.loc[df['RECVDVACC'] == -99.0].index\n",
    "df.drop(index=to_drop, inplace=True)\n",
    "\n",
    "df['RECVDVACC'].value_counts()"
   ]
  },
  {
   "cell_type": "markdown",
   "metadata": {},
   "source": [
    "It looks like there was an extra blank line at the end of the file that is NaN for all values, so I'll remove that too."
   ]
  },
  {
   "cell_type": "code",
   "execution_count": 7,
   "metadata": {},
   "outputs": [],
   "source": [
    "df.dropna(axis=0, how='all', inplace=True)"
   ]
  },
  {
   "cell_type": "code",
   "execution_count": 8,
   "metadata": {
    "scrolled": false
   },
   "outputs": [
    {
     "data": {
      "text/plain": [
       "-88.0    35840\n",
       " 1.0     24576\n",
       " 2.0      7904\n",
       " 3.0      5271\n",
       " 4.0      4234\n",
       "-99.0      100\n",
       "Name: GETVACC, dtype: int64"
      ]
     },
     "execution_count": 8,
     "metadata": {},
     "output_type": "execute_result"
    }
   ],
   "source": [
    "df['GETVACC'].value_counts()"
   ]
  },
  {
   "cell_type": "code",
   "execution_count": 9,
   "metadata": {},
   "outputs": [
    {
     "data": {
      "text/plain": [
       "0"
      ]
     },
     "execution_count": 9,
     "metadata": {},
     "output_type": "execute_result"
    }
   ],
   "source": [
    "df['GETVACC'].isna().sum()"
   ]
  },
  {
   "cell_type": "markdown",
   "metadata": {},
   "source": [
    "This question was only asked of respondents who said they had not received any doses yet.\n",
    "\n",
    "- Value of 1 indicates will Definitely get a vaccine\n",
    "- Value of 2 indicates will Probably get a vaccine\n",
    "- Value of 3 indicates will Probably NOT get a vaccine \n",
    "- Value of 4 indicates will Definitely NOT get a vaccine\n",
    "- Value of -99 indicates the respondent did not answer the question\n",
    "\n",
    "A value of -88 is described as simply missing in the data dictionary. In this case, we know that this question was asked of a subset of people who sad they hadn't received any doses, and the count of value -88 in this question matches the count of 1 - Yes in the previous question.\n",
    "\n",
    "I will confirm that these -88 placeholders represent people who received a dose of the vaccine."
   ]
  },
  {
   "cell_type": "code",
   "execution_count": 10,
   "metadata": {
    "scrolled": true
   },
   "outputs": [
    {
     "data": {
      "text/plain": [
       "1.0    35840\n",
       "Name: RECVDVACC, dtype: int64"
      ]
     },
     "execution_count": 10,
     "metadata": {},
     "output_type": "execute_result"
    }
   ],
   "source": [
    "# Do 'GETVACC' values of -88 also have 'RECVDVACC' values of 1?\n",
    "df.loc[df['GETVACC'] == -88.0]['RECVDVACC'].value_counts()"
   ]
  },
  {
   "cell_type": "markdown",
   "metadata": {},
   "source": [
    "Yes, all the -88 values from the second question are people who answered Yes (1.0) in the first question.\n",
    "\n",
    "I will drop the -99 values to the second question since they are also very small in size. Then I will create a binary target based on the logic outlined in the header section above."
   ]
  },
  {
   "cell_type": "code",
   "execution_count": 11,
   "metadata": {
    "scrolled": true
   },
   "outputs": [
    {
     "data": {
      "text/plain": [
       "0.0    68320\n",
       "1.0     9505\n",
       "Name: target, dtype: int64"
      ]
     },
     "execution_count": 11,
     "metadata": {},
     "output_type": "execute_result"
    }
   ],
   "source": [
    "# drop -99 values, where the respondent didn't answer the question\n",
    "to_drop = df.loc[df['GETVACC'] == -99.0].index\n",
    "df.drop(index=to_drop, inplace=True)\n",
    "\n",
    "# Target class 0 will be vaccine optimistic\n",
    "df.loc[(df['RECVDVACC'] == 1.0) | \n",
    "       (df['GETVACC'] == 1.0) | \n",
    "       (df['GETVACC'] == 2.0), 'target'] = 0\n",
    "\n",
    "# Target class 1 will be vaccine hesitant\n",
    "df.loc[(df['GETVACC'] == 3.0) | \n",
    "       (df['GETVACC'] == 4.0), 'target'] = 1\n",
    "\n",
    "df['target'].value_counts()"
   ]
  },
  {
   "cell_type": "code",
   "execution_count": 12,
   "metadata": {
    "scrolled": true
   },
   "outputs": [
    {
     "data": {
      "text/plain": [
       "0.0    0.877867\n",
       "1.0    0.122133\n",
       "Name: target, dtype: float64"
      ]
     },
     "execution_count": 12,
     "metadata": {},
     "output_type": "execute_result"
    }
   ],
   "source": [
    "df['target'].value_counts(normalize=True)"
   ]
  },
  {
   "cell_type": "code",
   "execution_count": 13,
   "metadata": {
    "scrolled": false
   },
   "outputs": [
    {
     "data": {
      "text/plain": [
       "0"
      ]
     },
     "execution_count": 13,
     "metadata": {},
     "output_type": "execute_result"
    }
   ],
   "source": [
    "df['target'].isna().sum()"
   ]
  },
  {
   "cell_type": "markdown",
   "metadata": {},
   "source": [
    "## Predictor Columns\n",
    "\n",
    "I used the data dictionary provided by the Census as the primary method of determining which columns were categorical versus numeric, and which I wanted to use versus leave out of the initial exploration. A copy of the data dictionary is provided in the data folder.\n",
    "\n",
    "Many of the questions asked in this survey involve potentially sensitive topics, such as race, financial circumstances, participation level in social assistance programs, household spending habits, aspects of mental health, etc. I will therefore do my utmost to apply consistent, objective criteria regarding which columns to include or remove in the model to avoid unintentional personal bias, and will provide detail regarding each of these tactical decisions."
   ]
  },
  {
   "cell_type": "markdown",
   "metadata": {},
   "source": [
    "### Initial Columns to Exclude\n",
    "\n",
    "As a first pass, I identified the following characteristics of columns in the data set that led me to decide to exclude them in the initial exploration and likely from the model."
   ]
  },
  {
   "cell_type": "markdown",
   "metadata": {},
   "source": [
    "#### Subquestions\n",
    "\n",
    "Certain questions were asked of respondents only if they answered in a certain way to a prior question. One example would be the set of `WHYCHNGD` subquestions asking WHY household spending had changed, which were only presented to respondents who said their household spending HAD changed.\n",
    "\n",
    "I think these subquestions will be very useful in understanding more nuance about the opinions and circumstances of households, if the primary question turns out to be an important predictor of vaccine hesitancy. However, I will include only the top-level questions in the modeling process.\n",
    "\n",
    "Fields that represent subquestions (based on the data dictionary), and will be excluded from initial analysis are:\n",
    "\n",
    "- WHYNOT1\n",
    "- WHYNOT2\n",
    "- WHYNOT3\n",
    "- WHYNOT4\n",
    "- WHYNOT5\n",
    "- WHYNOT6\n",
    "- WHYNOT7\n",
    "- WHYNOT8\n",
    "- WHYNOT9\n",
    "- WHYNOT10\n",
    "- WHYNOT11\n",
    "- WHYNOTB1\n",
    "- WHYNOTB2\n",
    "- WHYNOTB3\n",
    "- WHYNOTB4\n",
    "- WHYNOTB5\n",
    "- WHYNOTB6\n",
    "- RSNNOWRK\n",
    "- SSAPGM1\n",
    "- SSAPGM2\n",
    "- SSAPGM3\n",
    "- SSAPGM4\n",
    "- SSAPGM5\n",
    "- SSALIKELY\n",
    "- SSAEXPCT1\n",
    "- SSAEXPCT2\n",
    "- SSAEXPCT3\n",
    "- SSAEXPCT4\n",
    "- SSAEXPCT5\n",
    "- SSADECISN\n",
    "- EIPSPND1\n",
    "- EIPSPND2\n",
    "- EIPSPND3\n",
    "- EIPSPND4\n",
    "- EIPSPND5\n",
    "- EIPSPND6\n",
    "- EIPSPND7\n",
    "- EIPSPND8\n",
    "- EIPSPND9\n",
    "- EIPSPND10\n",
    "- EIPSPND11\n",
    "- EIPSPND12\n",
    "- EIPSPND13\n",
    "- WHYCHNGD1\n",
    "- WHYCHNGD2\n",
    "- WHYCHNGD3\n",
    "- WHYCHNGD4\n",
    "- WHYCHNGD5\n",
    "- WHYCHNGD6\n",
    "- WHYCHNGD7\n",
    "- WHYCHNGD8\n",
    "- WHYCHNGD9\n",
    "- WHYCHNGD10\n",
    "- WHYCHNGD11\n",
    "- WHYCHNGD12\n",
    "- WHYCHNGD13\n",
    "- CHILDFOOD\n",
    "- FOODSUFRSN1\n",
    "- FOODSUFRSN2\n",
    "- FOODSUFRSN3\n",
    "- FOODSUFRSN4\n",
    "- FOODSUFRSN5\n",
    "- WHEREFREE1\n",
    "- WHEREFREE2\n",
    "- WHEREFREE3\n",
    "- WHEREFREE4\n",
    "- WHEREFREE5\n",
    "- WHEREFREE6\n",
    "- WHEREFREE7\n",
    "- RENTCUR\n",
    "- MORTCUR\n",
    "- MORTCONF\n",
    "- EVICT\n",
    "- FORCLOSE\n",
    "- TEACH1\n",
    "- TEACH2\n",
    "- TEACH3\n",
    "- TEACH4\n",
    "- TEACH5\n",
    "- COMPAVAIL\n",
    "- COMP1\n",
    "- COMP2\n",
    "- COMP3\n",
    "- INTRNTAVAIL\n",
    "- INTRNT1\n",
    "- INTRNT2\n",
    "- INTRNT3\n",
    "- KINDWORK\n",
    "- SCHLHRS\n",
    "- TSTDY_HRS\n",
    "- TCH_HRS\n",
    "- PSPLANS1\n",
    "- PSPLANS2\n",
    "- PSPLANS3\n",
    "- PSPLANS4\n",
    "- PSPLANS5\n",
    "- PSPLANS6\n",
    "- PSCHNG1\n",
    "- PSCHNG2\n",
    "- PSCHNG3\n",
    "- PSCHNG4\n",
    "- PSCHNG5\n",
    "- PSCHNG6\n",
    "- PSCHNG7\n",
    "- PSWHYCHG1\n",
    "- PSWHYCHG2\n",
    "- PSWHYCHG3\n",
    "- PSWHYCHG4\n",
    "- PSWHYCHG5\n",
    "- PSWHYCHG6\n",
    "- PSWHYCHG7\n",
    "- PSWHYCHG8\n",
    "- PSWHYCHG9\n",
    "- DOSES"
   ]
  },
  {
   "cell_type": "markdown",
   "metadata": {},
   "source": [
    "#### Duplicates, Metadata, and Imputed values\n",
    "\n",
    "Several columns were already imputed into appropriate summary columns by the Census team, which means the original columns are essentially duplicates:\n",
    "\n",
    "- THHLD_NUMPER\n",
    "- HLTHINS1\n",
    "- HLTHINS2\n",
    "- HLTHINS3\n",
    "- HLTHINS4\n",
    "- HLTHINS5\n",
    "- HLTHINS6\n",
    "- HLTHINS7\n",
    "- HLTHINS8\n",
    "\n",
    "The REGION column will also not be included, as the dataset contains other columns that can be used to represent geographical characteristics.\n",
    "\n",
    "A few columns represent metadata such as household identifier, and weight calculations to be used to generate population statistics:\n",
    "\n",
    "- SCRAM\n",
    "- PWEIGHT\n",
    "- HWEIGHT\n",
    "- WEEK\n",
    "\n",
    "The following columns are indicators that a value was imputed by the Census team:\n",
    "\n",
    "- ABIRTH_YEAR\n",
    "- AGENDER\n",
    "- AHISPANIC\n",
    "- ARACE\n",
    "- AEDUC\n",
    "- AHHLD_NUMPER\n",
    "- AHHLD_NUMKID"
   ]
  },
  {
   "cell_type": "markdown",
   "metadata": {},
   "source": [
    "### Categories to Engineer\n",
    "\n",
    "Some categorical columns can be combined fairly easily into a single columns without losing information. I will combine them to simplify and reduce the feature space."
   ]
  },
  {
   "cell_type": "code",
   "execution_count": 14,
   "metadata": {},
   "outputs": [
    {
     "data": {
      "text/plain": [
       "1.0    61184\n",
       "0.0    16641\n",
       "Name: HLTHINS, dtype: int64"
      ]
     },
     "execution_count": 14,
     "metadata": {},
     "output_type": "execute_result"
    }
   ],
   "source": [
    "# Combine HLTHINS multi-choice answers to represent has insurance or not\n",
    "\n",
    "# Assign 1 if any health insurance option chosen\n",
    "df.loc[(df['HLTHINS1']==1)|(df['HLTHINS2']==1)|(df['HLTHINS3']==1)|\n",
    "       (df['HLTHINS4']==1)|(df['HLTHINS5']==1)|(df['HLTHINS6']==1)|\n",
    "       (df['HLTHINS7']==1)|(df['HLTHINS8']==1), ['HLTHINS']] = 1\n",
    "\n",
    "# Assign 0 if No seleted for all\n",
    "df.loc[(df['HLTHINS1']==2)&(df['HLTHINS2']==2)&(df['HLTHINS3']==2)&\n",
    "       (df['HLTHINS4']==2)&(df['HLTHINS5']==2)&(df['HLTHINS6']==2)&\n",
    "       (df['HLTHINS7']==2)&(df['HLTHINS8']==2), ['HLTHINS']] = 0\n",
    "\n",
    "# Assign 0 if didn't answer\n",
    "df.loc[df['HLTHINS'].isna(), ['HLTHINS']] = 0\n",
    "\n",
    "df['HLTHINS'].value_counts()"
   ]
  },
  {
   "cell_type": "code",
   "execution_count": 15,
   "metadata": {},
   "outputs": [
    {
     "data": {
      "text/plain": [
       "0.0    63559\n",
       "1.0    14266\n",
       "Name: SCHOOL_KIDS, dtype: int64"
      ]
     },
     "execution_count": 15,
     "metadata": {},
     "output_type": "execute_result"
    }
   ],
   "source": [
    "# Create a single categorical column for children enrolled in school outside\n",
    "# the home\n",
    "\n",
    "# Assign 1 if have any children enrolled in school outside the home\n",
    "df.loc[(df['ENROLL1']==1), ['SCHOOL_KIDS']] = 1\n",
    "\n",
    "# Assign 0 if have ONLY children who are being homeschooled\n",
    "df.loc[(df['ENROLL2']==1) & (df['SCHOOL_KIDS'].isna()), ['SCHOOL_KIDS']] = 0\n",
    "\n",
    "# Assign 3 if indicated did NOT have children enrolled in school\n",
    "df.loc[(df['ENROLL3']==1) & (df['SCHOOL_KIDS'].isna()), ['SCHOOL_KIDS']] = 0\n",
    "\n",
    "# Assign 0 if did not answer; assume this means they don't have kids of\n",
    "# school age\n",
    "df.loc[df['SCHOOL_KIDS'].isna(), ['SCHOOL_KIDS']] = 0\n",
    "\n",
    "df['SCHOOL_KIDS'].value_counts()"
   ]
  },
  {
   "cell_type": "code",
   "execution_count": 16,
   "metadata": {},
   "outputs": [
    {
     "data": {
      "text/html": [
       "<div>\n",
       "<style scoped>\n",
       "    .dataframe tbody tr th:only-of-type {\n",
       "        vertical-align: middle;\n",
       "    }\n",
       "\n",
       "    .dataframe tbody tr th {\n",
       "        vertical-align: top;\n",
       "    }\n",
       "\n",
       "    .dataframe thead th {\n",
       "        text-align: right;\n",
       "    }\n",
       "</style>\n",
       "<table border=\"1\" class=\"dataframe\">\n",
       "  <thead>\n",
       "    <tr style=\"text-align: right;\">\n",
       "      <th></th>\n",
       "      <th>TSPNDPRPD</th>\n",
       "      <th>TSPNDFOOD</th>\n",
       "    </tr>\n",
       "  </thead>\n",
       "  <tbody>\n",
       "    <tr>\n",
       "      <th>1</th>\n",
       "      <td>50.0</td>\n",
       "      <td>200.0</td>\n",
       "    </tr>\n",
       "    <tr>\n",
       "      <th>3</th>\n",
       "      <td>0.0</td>\n",
       "      <td>300.0</td>\n",
       "    </tr>\n",
       "    <tr>\n",
       "      <th>4</th>\n",
       "      <td>210.0</td>\n",
       "      <td>100.0</td>\n",
       "    </tr>\n",
       "    <tr>\n",
       "      <th>5</th>\n",
       "      <td>200.0</td>\n",
       "      <td>200.0</td>\n",
       "    </tr>\n",
       "    <tr>\n",
       "      <th>6</th>\n",
       "      <td>0.0</td>\n",
       "      <td>40.0</td>\n",
       "    </tr>\n",
       "  </tbody>\n",
       "</table>\n",
       "</div>"
      ],
      "text/plain": [
       "   TSPNDPRPD  TSPNDFOOD\n",
       "1       50.0      200.0\n",
       "3        0.0      300.0\n",
       "4      210.0      100.0\n",
       "5      200.0      200.0\n",
       "6        0.0       40.0"
      ]
     },
     "execution_count": 16,
     "metadata": {},
     "output_type": "execute_result"
    }
   ],
   "source": [
    "# Combine TSPNDPRPD and TSPNDFOOD into a single column representing the\n",
    "# proportion of money spent on food that was on food to be eaten at home\n",
    "# TSPNDPRPD is amount spent on prepared meals\n",
    "# TSPNDFOOD is amount spent on food to be prepared at home\n",
    "\n",
    "# if respondent entered one food amount but not the other, assume they left\n",
    "# the other blank because it should be 0\n",
    "df.loc[(df['TSPNDPRPD'] < 0) & (df['TSPNDFOOD'] >0), 'TSPNDPRPD'] = 0\n",
    "df.loc[(df['TSPNDPRPD'] > 0) & (df['TSPNDFOOD'] <0), 'TSPNDFOOD'] = 0\n",
    "\n",
    "# Only calculate if respondent included an answer for one\n",
    "ans = df.loc[(df['TSPNDPRPD'] >0) | (df['TSPNDFOOD'] >0), ['TSPNDPRPD', 'TSPNDFOOD']]\n",
    "ans.head()"
   ]
  },
  {
   "cell_type": "code",
   "execution_count": 17,
   "metadata": {
    "scrolled": true
   },
   "outputs": [
    {
     "data": {
      "text/html": [
       "<div>\n",
       "<style scoped>\n",
       "    .dataframe tbody tr th:only-of-type {\n",
       "        vertical-align: middle;\n",
       "    }\n",
       "\n",
       "    .dataframe tbody tr th {\n",
       "        vertical-align: top;\n",
       "    }\n",
       "\n",
       "    .dataframe thead th {\n",
       "        text-align: right;\n",
       "    }\n",
       "</style>\n",
       "<table border=\"1\" class=\"dataframe\">\n",
       "  <thead>\n",
       "    <tr style=\"text-align: right;\">\n",
       "      <th></th>\n",
       "      <th>TSPNDPRPD</th>\n",
       "      <th>TSPNDFOOD</th>\n",
       "      <th>PROP_FOODSPEND_HOME</th>\n",
       "    </tr>\n",
       "  </thead>\n",
       "  <tbody>\n",
       "    <tr>\n",
       "      <th>1</th>\n",
       "      <td>50.0</td>\n",
       "      <td>200.0</td>\n",
       "      <td>0.800000</td>\n",
       "    </tr>\n",
       "    <tr>\n",
       "      <th>3</th>\n",
       "      <td>0.0</td>\n",
       "      <td>300.0</td>\n",
       "      <td>1.000000</td>\n",
       "    </tr>\n",
       "    <tr>\n",
       "      <th>4</th>\n",
       "      <td>210.0</td>\n",
       "      <td>100.0</td>\n",
       "      <td>0.322581</td>\n",
       "    </tr>\n",
       "    <tr>\n",
       "      <th>5</th>\n",
       "      <td>200.0</td>\n",
       "      <td>200.0</td>\n",
       "      <td>0.500000</td>\n",
       "    </tr>\n",
       "    <tr>\n",
       "      <th>6</th>\n",
       "      <td>0.0</td>\n",
       "      <td>40.0</td>\n",
       "      <td>1.000000</td>\n",
       "    </tr>\n",
       "  </tbody>\n",
       "</table>\n",
       "</div>"
      ],
      "text/plain": [
       "   TSPNDPRPD  TSPNDFOOD  PROP_FOODSPEND_HOME\n",
       "1       50.0      200.0             0.800000\n",
       "3        0.0      300.0             1.000000\n",
       "4      210.0      100.0             0.322581\n",
       "5      200.0      200.0             0.500000\n",
       "6        0.0       40.0             1.000000"
      ]
     },
     "execution_count": 17,
     "metadata": {},
     "output_type": "execute_result"
    }
   ],
   "source": [
    "# Populate proportion of food spend that was on food to be prepared\n",
    "# at home\n",
    "ans['PROP_FOODSPEND_HOME'] = ans.apply(lambda x: x[1]/np.sum(x), axis=1)\n",
    "ans.head()"
   ]
  },
  {
   "cell_type": "code",
   "execution_count": 18,
   "metadata": {
    "scrolled": true
   },
   "outputs": [
    {
     "data": {
      "text/html": [
       "<div>\n",
       "<style scoped>\n",
       "    .dataframe tbody tr th:only-of-type {\n",
       "        vertical-align: middle;\n",
       "    }\n",
       "\n",
       "    .dataframe tbody tr th {\n",
       "        vertical-align: top;\n",
       "    }\n",
       "\n",
       "    .dataframe thead th {\n",
       "        text-align: right;\n",
       "    }\n",
       "</style>\n",
       "<table border=\"1\" class=\"dataframe\">\n",
       "  <thead>\n",
       "    <tr style=\"text-align: right;\">\n",
       "      <th></th>\n",
       "      <th>TSPNDPRPD</th>\n",
       "      <th>TSPNDFOOD</th>\n",
       "      <th>PROP_FOODSPEND_HOME</th>\n",
       "    </tr>\n",
       "  </thead>\n",
       "  <tbody>\n",
       "    <tr>\n",
       "      <th>0</th>\n",
       "      <td>-88.0</td>\n",
       "      <td>-88.0</td>\n",
       "      <td>NaN</td>\n",
       "    </tr>\n",
       "    <tr>\n",
       "      <th>1</th>\n",
       "      <td>50.0</td>\n",
       "      <td>200.0</td>\n",
       "      <td>0.800000</td>\n",
       "    </tr>\n",
       "    <tr>\n",
       "      <th>2</th>\n",
       "      <td>-88.0</td>\n",
       "      <td>-88.0</td>\n",
       "      <td>NaN</td>\n",
       "    </tr>\n",
       "    <tr>\n",
       "      <th>3</th>\n",
       "      <td>0.0</td>\n",
       "      <td>300.0</td>\n",
       "      <td>1.000000</td>\n",
       "    </tr>\n",
       "    <tr>\n",
       "      <th>4</th>\n",
       "      <td>210.0</td>\n",
       "      <td>100.0</td>\n",
       "      <td>0.322581</td>\n",
       "    </tr>\n",
       "    <tr>\n",
       "      <th>5</th>\n",
       "      <td>200.0</td>\n",
       "      <td>200.0</td>\n",
       "      <td>0.500000</td>\n",
       "    </tr>\n",
       "    <tr>\n",
       "      <th>6</th>\n",
       "      <td>0.0</td>\n",
       "      <td>40.0</td>\n",
       "      <td>1.000000</td>\n",
       "    </tr>\n",
       "    <tr>\n",
       "      <th>7</th>\n",
       "      <td>0.0</td>\n",
       "      <td>800.0</td>\n",
       "      <td>1.000000</td>\n",
       "    </tr>\n",
       "    <tr>\n",
       "      <th>8</th>\n",
       "      <td>8.0</td>\n",
       "      <td>84.0</td>\n",
       "      <td>0.913043</td>\n",
       "    </tr>\n",
       "    <tr>\n",
       "      <th>9</th>\n",
       "      <td>25.0</td>\n",
       "      <td>120.0</td>\n",
       "      <td>0.827586</td>\n",
       "    </tr>\n",
       "    <tr>\n",
       "      <th>10</th>\n",
       "      <td>-99.0</td>\n",
       "      <td>-99.0</td>\n",
       "      <td>NaN</td>\n",
       "    </tr>\n",
       "    <tr>\n",
       "      <th>11</th>\n",
       "      <td>50.0</td>\n",
       "      <td>150.0</td>\n",
       "      <td>0.750000</td>\n",
       "    </tr>\n",
       "    <tr>\n",
       "      <th>12</th>\n",
       "      <td>20.0</td>\n",
       "      <td>300.0</td>\n",
       "      <td>0.937500</td>\n",
       "    </tr>\n",
       "    <tr>\n",
       "      <th>13</th>\n",
       "      <td>0.0</td>\n",
       "      <td>200.0</td>\n",
       "      <td>1.000000</td>\n",
       "    </tr>\n",
       "    <tr>\n",
       "      <th>14</th>\n",
       "      <td>0.0</td>\n",
       "      <td>200.0</td>\n",
       "      <td>1.000000</td>\n",
       "    </tr>\n",
       "    <tr>\n",
       "      <th>15</th>\n",
       "      <td>50.0</td>\n",
       "      <td>280.0</td>\n",
       "      <td>0.848485</td>\n",
       "    </tr>\n",
       "    <tr>\n",
       "      <th>16</th>\n",
       "      <td>0.0</td>\n",
       "      <td>150.0</td>\n",
       "      <td>1.000000</td>\n",
       "    </tr>\n",
       "    <tr>\n",
       "      <th>17</th>\n",
       "      <td>0.0</td>\n",
       "      <td>70.0</td>\n",
       "      <td>1.000000</td>\n",
       "    </tr>\n",
       "    <tr>\n",
       "      <th>18</th>\n",
       "      <td>250.0</td>\n",
       "      <td>90.0</td>\n",
       "      <td>0.264706</td>\n",
       "    </tr>\n",
       "    <tr>\n",
       "      <th>19</th>\n",
       "      <td>200.0</td>\n",
       "      <td>200.0</td>\n",
       "      <td>0.500000</td>\n",
       "    </tr>\n",
       "  </tbody>\n",
       "</table>\n",
       "</div>"
      ],
      "text/plain": [
       "    TSPNDPRPD  TSPNDFOOD  PROP_FOODSPEND_HOME\n",
       "0       -88.0      -88.0                  NaN\n",
       "1        50.0      200.0             0.800000\n",
       "2       -88.0      -88.0                  NaN\n",
       "3         0.0      300.0             1.000000\n",
       "4       210.0      100.0             0.322581\n",
       "5       200.0      200.0             0.500000\n",
       "6         0.0       40.0             1.000000\n",
       "7         0.0      800.0             1.000000\n",
       "8         8.0       84.0             0.913043\n",
       "9        25.0      120.0             0.827586\n",
       "10      -99.0      -99.0                  NaN\n",
       "11       50.0      150.0             0.750000\n",
       "12       20.0      300.0             0.937500\n",
       "13        0.0      200.0             1.000000\n",
       "14        0.0      200.0             1.000000\n",
       "15       50.0      280.0             0.848485\n",
       "16        0.0      150.0             1.000000\n",
       "17        0.0       70.0             1.000000\n",
       "18      250.0       90.0             0.264706\n",
       "19      200.0      200.0             0.500000"
      ]
     },
     "execution_count": 18,
     "metadata": {},
     "output_type": "execute_result"
    }
   ],
   "source": [
    "# merge results back into main df\n",
    "df = df.merge(right=ans['PROP_FOODSPEND_HOME'], how='left', \n",
    "         left_on=df.index, right_on=ans.index)\n",
    "\n",
    "df[['TSPNDPRPD','TSPNDFOOD','PROP_FOODSPEND_HOME']].head(20)"
   ]
  },
  {
   "cell_type": "code",
   "execution_count": 19,
   "metadata": {},
   "outputs": [],
   "source": [
    "# Insert appropriate -99 and -88 values, so can assess -88s in bulk\n",
    "# with other columns later\n",
    "df.loc[(df['TSPNDPRPD'] ==-88) & (df['TSPNDFOOD'] ==-88), 'PROP_FOODSPEND_HOME'] = -88\n",
    "df.loc[(df['TSPNDPRPD'] ==-99) & (df['TSPNDFOOD'] ==-99), 'PROP_FOODSPEND_HOME'] = -99"
   ]
  },
  {
   "cell_type": "code",
   "execution_count": 20,
   "metadata": {
    "scrolled": true
   },
   "outputs": [
    {
     "data": {
      "text/html": [
       "<div>\n",
       "<style scoped>\n",
       "    .dataframe tbody tr th:only-of-type {\n",
       "        vertical-align: middle;\n",
       "    }\n",
       "\n",
       "    .dataframe tbody tr th {\n",
       "        vertical-align: top;\n",
       "    }\n",
       "\n",
       "    .dataframe thead th {\n",
       "        text-align: right;\n",
       "    }\n",
       "</style>\n",
       "<table border=\"1\" class=\"dataframe\">\n",
       "  <thead>\n",
       "    <tr style=\"text-align: right;\">\n",
       "      <th></th>\n",
       "      <th>TSPNDPRPD</th>\n",
       "      <th>TSPNDFOOD</th>\n",
       "      <th>PROP_FOODSPEND_HOME</th>\n",
       "    </tr>\n",
       "  </thead>\n",
       "  <tbody>\n",
       "    <tr>\n",
       "      <th>64</th>\n",
       "      <td>0.0</td>\n",
       "      <td>0.0</td>\n",
       "      <td>NaN</td>\n",
       "    </tr>\n",
       "    <tr>\n",
       "      <th>191</th>\n",
       "      <td>0.0</td>\n",
       "      <td>-99.0</td>\n",
       "      <td>NaN</td>\n",
       "    </tr>\n",
       "    <tr>\n",
       "      <th>284</th>\n",
       "      <td>0.0</td>\n",
       "      <td>0.0</td>\n",
       "      <td>NaN</td>\n",
       "    </tr>\n",
       "    <tr>\n",
       "      <th>287</th>\n",
       "      <td>0.0</td>\n",
       "      <td>0.0</td>\n",
       "      <td>NaN</td>\n",
       "    </tr>\n",
       "    <tr>\n",
       "      <th>388</th>\n",
       "      <td>-88.0</td>\n",
       "      <td>-99.0</td>\n",
       "      <td>NaN</td>\n",
       "    </tr>\n",
       "    <tr>\n",
       "      <th>...</th>\n",
       "      <td>...</td>\n",
       "      <td>...</td>\n",
       "      <td>...</td>\n",
       "    </tr>\n",
       "    <tr>\n",
       "      <th>77416</th>\n",
       "      <td>0.0</td>\n",
       "      <td>0.0</td>\n",
       "      <td>NaN</td>\n",
       "    </tr>\n",
       "    <tr>\n",
       "      <th>77439</th>\n",
       "      <td>-88.0</td>\n",
       "      <td>-99.0</td>\n",
       "      <td>NaN</td>\n",
       "    </tr>\n",
       "    <tr>\n",
       "      <th>77656</th>\n",
       "      <td>-88.0</td>\n",
       "      <td>-99.0</td>\n",
       "      <td>NaN</td>\n",
       "    </tr>\n",
       "    <tr>\n",
       "      <th>77680</th>\n",
       "      <td>0.0</td>\n",
       "      <td>-99.0</td>\n",
       "      <td>NaN</td>\n",
       "    </tr>\n",
       "    <tr>\n",
       "      <th>77769</th>\n",
       "      <td>0.0</td>\n",
       "      <td>0.0</td>\n",
       "      <td>NaN</td>\n",
       "    </tr>\n",
       "  </tbody>\n",
       "</table>\n",
       "<p>1197 rows × 3 columns</p>\n",
       "</div>"
      ],
      "text/plain": [
       "       TSPNDPRPD  TSPNDFOOD  PROP_FOODSPEND_HOME\n",
       "64           0.0        0.0                  NaN\n",
       "191          0.0      -99.0                  NaN\n",
       "284          0.0        0.0                  NaN\n",
       "287          0.0        0.0                  NaN\n",
       "388        -88.0      -99.0                  NaN\n",
       "...          ...        ...                  ...\n",
       "77416        0.0        0.0                  NaN\n",
       "77439      -88.0      -99.0                  NaN\n",
       "77656      -88.0      -99.0                  NaN\n",
       "77680        0.0      -99.0                  NaN\n",
       "77769        0.0        0.0                  NaN\n",
       "\n",
       "[1197 rows x 3 columns]"
      ]
     },
     "execution_count": 20,
     "metadata": {},
     "output_type": "execute_result"
    }
   ],
   "source": [
    "df.loc[df['PROP_FOODSPEND_HOME'].isna(), ['TSPNDPRPD','TSPNDFOOD','PROP_FOODSPEND_HOME']]"
   ]
  },
  {
   "cell_type": "code",
   "execution_count": 21,
   "metadata": {},
   "outputs": [
    {
     "data": {
      "text/html": [
       "<div>\n",
       "<style scoped>\n",
       "    .dataframe tbody tr th:only-of-type {\n",
       "        vertical-align: middle;\n",
       "    }\n",
       "\n",
       "    .dataframe tbody tr th {\n",
       "        vertical-align: top;\n",
       "    }\n",
       "\n",
       "    .dataframe thead th {\n",
       "        text-align: right;\n",
       "    }\n",
       "</style>\n",
       "<table border=\"1\" class=\"dataframe\">\n",
       "  <thead>\n",
       "    <tr style=\"text-align: right;\">\n",
       "      <th></th>\n",
       "      <th>TSPNDPRPD</th>\n",
       "      <th>TSPNDFOOD</th>\n",
       "      <th>PROP_FOODSPEND_HOME</th>\n",
       "    </tr>\n",
       "  </thead>\n",
       "  <tbody>\n",
       "  </tbody>\n",
       "</table>\n",
       "</div>"
      ],
      "text/plain": [
       "Empty DataFrame\n",
       "Columns: [TSPNDPRPD, TSPNDFOOD, PROP_FOODSPEND_HOME]\n",
       "Index: []"
      ]
     },
     "execution_count": 21,
     "metadata": {},
     "output_type": "execute_result"
    }
   ],
   "source": [
    "# For the ones where people put 0 for both, going to fill in with 0\n",
    "df.loc[(df['TSPNDPRPD'] ==0) & (df['TSPNDFOOD'] ==0) & \n",
    "       (df['PROP_FOODSPEND_HOME'].isna()), 'PROP_FOODSPEND_HOME'] = 0\n",
    "\n",
    "# For the rest of the nas, put -99\n",
    "df.loc[df['PROP_FOODSPEND_HOME'].isna(), 'PROP_FOODSPEND_HOME'] = -99\n",
    "\n",
    "df.loc[df['PROP_FOODSPEND_HOME'].isna(), ['TSPNDPRPD','TSPNDFOOD','PROP_FOODSPEND_HOME']]"
   ]
  },
  {
   "cell_type": "code",
   "execution_count": 22,
   "metadata": {},
   "outputs": [
    {
     "data": {
      "text/plain": [
       "count    77825.000000\n",
       "mean       -15.693697\n",
       "std         35.134390\n",
       "min        -99.000000\n",
       "25%          0.462366\n",
       "50%          0.714286\n",
       "75%          0.877193\n",
       "max          1.000000\n",
       "Name: PROP_FOODSPEND_HOME, dtype: float64"
      ]
     },
     "execution_count": 22,
     "metadata": {},
     "output_type": "execute_result"
    }
   ],
   "source": [
    "df['PROP_FOODSPEND_HOME'].describe()"
   ]
  },
  {
   "cell_type": "code",
   "execution_count": 23,
   "metadata": {
    "scrolled": true
   },
   "outputs": [
    {
     "data": {
      "text/plain": [
       "0.0    51865\n",
       "1.0    25960\n",
       "Name: IN_METRO_AREA, dtype: int64"
      ]
     },
     "execution_count": 23,
     "metadata": {},
     "output_type": "execute_result"
    }
   ],
   "source": [
    "# Create column to represent whether household was in a metropolitan statistical\n",
    "# area or not\n",
    "\n",
    "df.loc[df['EST_MSA'] > 0, 'IN_METRO_AREA'] = 1\n",
    "df.loc[df['IN_METRO_AREA'].isna(), 'IN_METRO_AREA'] = 0\n",
    "\n",
    "df['IN_METRO_AREA'].value_counts()"
   ]
  },
  {
   "cell_type": "code",
   "execution_count": 24,
   "metadata": {
    "scrolled": false
   },
   "outputs": [
    {
     "data": {
      "text/html": [
       "<div>\n",
       "<style scoped>\n",
       "    .dataframe tbody tr th:only-of-type {\n",
       "        vertical-align: middle;\n",
       "    }\n",
       "\n",
       "    .dataframe tbody tr th {\n",
       "        vertical-align: top;\n",
       "    }\n",
       "\n",
       "    .dataframe thead th {\n",
       "        text-align: right;\n",
       "    }\n",
       "</style>\n",
       "<table border=\"1\" class=\"dataframe\">\n",
       "  <thead>\n",
       "    <tr style=\"text-align: right;\">\n",
       "      <th></th>\n",
       "      <th>SPNDSRC1</th>\n",
       "      <th>SPNDSRC2</th>\n",
       "      <th>SPNDSRC3</th>\n",
       "      <th>SPNDSRC4</th>\n",
       "      <th>SPNDSRC5</th>\n",
       "      <th>SPNDSRC6</th>\n",
       "      <th>SPNDSRC7</th>\n",
       "      <th>SPNDSRC8</th>\n",
       "      <th>CHNGHOW1</th>\n",
       "      <th>CHNGHOW2</th>\n",
       "      <th>CHNGHOW3</th>\n",
       "      <th>CHNGHOW4</th>\n",
       "      <th>CHNGHOW5</th>\n",
       "      <th>CHNGHOW6</th>\n",
       "      <th>CHNGHOW7</th>\n",
       "      <th>CHNGHOW8</th>\n",
       "      <th>CHNGHOW9</th>\n",
       "      <th>CHNGHOW10</th>\n",
       "      <th>CHNGHOW11</th>\n",
       "      <th>CHNGHOW12</th>\n",
       "    </tr>\n",
       "  </thead>\n",
       "  <tbody>\n",
       "    <tr>\n",
       "      <th>0</th>\n",
       "      <td>-88.0</td>\n",
       "      <td>-88.0</td>\n",
       "      <td>-88.0</td>\n",
       "      <td>-88.0</td>\n",
       "      <td>-88.0</td>\n",
       "      <td>-88.0</td>\n",
       "      <td>-88.0</td>\n",
       "      <td>-88.0</td>\n",
       "      <td>1.0</td>\n",
       "      <td>1.0</td>\n",
       "      <td>0.0</td>\n",
       "      <td>0.0</td>\n",
       "      <td>0.0</td>\n",
       "      <td>1.0</td>\n",
       "      <td>0.0</td>\n",
       "      <td>0.0</td>\n",
       "      <td>1.0</td>\n",
       "      <td>0.0</td>\n",
       "      <td>0.0</td>\n",
       "      <td>0.0</td>\n",
       "    </tr>\n",
       "    <tr>\n",
       "      <th>1</th>\n",
       "      <td>1.0</td>\n",
       "      <td>0.0</td>\n",
       "      <td>0.0</td>\n",
       "      <td>0.0</td>\n",
       "      <td>0.0</td>\n",
       "      <td>0.0</td>\n",
       "      <td>0.0</td>\n",
       "      <td>0.0</td>\n",
       "      <td>1.0</td>\n",
       "      <td>1.0</td>\n",
       "      <td>0.0</td>\n",
       "      <td>0.0</td>\n",
       "      <td>0.0</td>\n",
       "      <td>1.0</td>\n",
       "      <td>0.0</td>\n",
       "      <td>0.0</td>\n",
       "      <td>0.0</td>\n",
       "      <td>0.0</td>\n",
       "      <td>0.0</td>\n",
       "      <td>0.0</td>\n",
       "    </tr>\n",
       "    <tr>\n",
       "      <th>2</th>\n",
       "      <td>-88.0</td>\n",
       "      <td>-88.0</td>\n",
       "      <td>-88.0</td>\n",
       "      <td>-88.0</td>\n",
       "      <td>-88.0</td>\n",
       "      <td>-88.0</td>\n",
       "      <td>-88.0</td>\n",
       "      <td>-88.0</td>\n",
       "      <td>-88.0</td>\n",
       "      <td>-88.0</td>\n",
       "      <td>-88.0</td>\n",
       "      <td>-88.0</td>\n",
       "      <td>-88.0</td>\n",
       "      <td>-88.0</td>\n",
       "      <td>-88.0</td>\n",
       "      <td>-88.0</td>\n",
       "      <td>-88.0</td>\n",
       "      <td>-88.0</td>\n",
       "      <td>-88.0</td>\n",
       "      <td>-88.0</td>\n",
       "    </tr>\n",
       "    <tr>\n",
       "      <th>3</th>\n",
       "      <td>0.0</td>\n",
       "      <td>0.0</td>\n",
       "      <td>0.0</td>\n",
       "      <td>1.0</td>\n",
       "      <td>0.0</td>\n",
       "      <td>0.0</td>\n",
       "      <td>1.0</td>\n",
       "      <td>0.0</td>\n",
       "      <td>0.0</td>\n",
       "      <td>0.0</td>\n",
       "      <td>0.0</td>\n",
       "      <td>0.0</td>\n",
       "      <td>0.0</td>\n",
       "      <td>1.0</td>\n",
       "      <td>0.0</td>\n",
       "      <td>1.0</td>\n",
       "      <td>0.0</td>\n",
       "      <td>0.0</td>\n",
       "      <td>0.0</td>\n",
       "      <td>0.0</td>\n",
       "    </tr>\n",
       "    <tr>\n",
       "      <th>4</th>\n",
       "      <td>1.0</td>\n",
       "      <td>0.0</td>\n",
       "      <td>0.0</td>\n",
       "      <td>0.0</td>\n",
       "      <td>0.0</td>\n",
       "      <td>0.0</td>\n",
       "      <td>0.0</td>\n",
       "      <td>0.0</td>\n",
       "      <td>1.0</td>\n",
       "      <td>1.0</td>\n",
       "      <td>0.0</td>\n",
       "      <td>0.0</td>\n",
       "      <td>0.0</td>\n",
       "      <td>0.0</td>\n",
       "      <td>0.0</td>\n",
       "      <td>0.0</td>\n",
       "      <td>1.0</td>\n",
       "      <td>0.0</td>\n",
       "      <td>1.0</td>\n",
       "      <td>0.0</td>\n",
       "    </tr>\n",
       "    <tr>\n",
       "      <th>5</th>\n",
       "      <td>0.0</td>\n",
       "      <td>0.0</td>\n",
       "      <td>1.0</td>\n",
       "      <td>0.0</td>\n",
       "      <td>0.0</td>\n",
       "      <td>0.0</td>\n",
       "      <td>0.0</td>\n",
       "      <td>0.0</td>\n",
       "      <td>0.0</td>\n",
       "      <td>0.0</td>\n",
       "      <td>0.0</td>\n",
       "      <td>0.0</td>\n",
       "      <td>0.0</td>\n",
       "      <td>0.0</td>\n",
       "      <td>1.0</td>\n",
       "      <td>1.0</td>\n",
       "      <td>1.0</td>\n",
       "      <td>0.0</td>\n",
       "      <td>0.0</td>\n",
       "      <td>0.0</td>\n",
       "    </tr>\n",
       "    <tr>\n",
       "      <th>6</th>\n",
       "      <td>1.0</td>\n",
       "      <td>0.0</td>\n",
       "      <td>0.0</td>\n",
       "      <td>0.0</td>\n",
       "      <td>0.0</td>\n",
       "      <td>0.0</td>\n",
       "      <td>0.0</td>\n",
       "      <td>0.0</td>\n",
       "      <td>0.0</td>\n",
       "      <td>0.0</td>\n",
       "      <td>0.0</td>\n",
       "      <td>0.0</td>\n",
       "      <td>0.0</td>\n",
       "      <td>0.0</td>\n",
       "      <td>0.0</td>\n",
       "      <td>0.0</td>\n",
       "      <td>1.0</td>\n",
       "      <td>0.0</td>\n",
       "      <td>0.0</td>\n",
       "      <td>0.0</td>\n",
       "    </tr>\n",
       "    <tr>\n",
       "      <th>7</th>\n",
       "      <td>0.0</td>\n",
       "      <td>0.0</td>\n",
       "      <td>0.0</td>\n",
       "      <td>0.0</td>\n",
       "      <td>0.0</td>\n",
       "      <td>1.0</td>\n",
       "      <td>1.0</td>\n",
       "      <td>0.0</td>\n",
       "      <td>0.0</td>\n",
       "      <td>0.0</td>\n",
       "      <td>1.0</td>\n",
       "      <td>0.0</td>\n",
       "      <td>0.0</td>\n",
       "      <td>0.0</td>\n",
       "      <td>1.0</td>\n",
       "      <td>0.0</td>\n",
       "      <td>1.0</td>\n",
       "      <td>0.0</td>\n",
       "      <td>0.0</td>\n",
       "      <td>0.0</td>\n",
       "    </tr>\n",
       "    <tr>\n",
       "      <th>8</th>\n",
       "      <td>0.0</td>\n",
       "      <td>1.0</td>\n",
       "      <td>0.0</td>\n",
       "      <td>0.0</td>\n",
       "      <td>0.0</td>\n",
       "      <td>0.0</td>\n",
       "      <td>0.0</td>\n",
       "      <td>1.0</td>\n",
       "      <td>1.0</td>\n",
       "      <td>1.0</td>\n",
       "      <td>0.0</td>\n",
       "      <td>1.0</td>\n",
       "      <td>0.0</td>\n",
       "      <td>1.0</td>\n",
       "      <td>0.0</td>\n",
       "      <td>0.0</td>\n",
       "      <td>1.0</td>\n",
       "      <td>0.0</td>\n",
       "      <td>0.0</td>\n",
       "      <td>0.0</td>\n",
       "    </tr>\n",
       "    <tr>\n",
       "      <th>9</th>\n",
       "      <td>1.0</td>\n",
       "      <td>0.0</td>\n",
       "      <td>0.0</td>\n",
       "      <td>0.0</td>\n",
       "      <td>0.0</td>\n",
       "      <td>0.0</td>\n",
       "      <td>0.0</td>\n",
       "      <td>0.0</td>\n",
       "      <td>0.0</td>\n",
       "      <td>0.0</td>\n",
       "      <td>0.0</td>\n",
       "      <td>0.0</td>\n",
       "      <td>0.0</td>\n",
       "      <td>0.0</td>\n",
       "      <td>0.0</td>\n",
       "      <td>0.0</td>\n",
       "      <td>0.0</td>\n",
       "      <td>0.0</td>\n",
       "      <td>0.0</td>\n",
       "      <td>1.0</td>\n",
       "    </tr>\n",
       "    <tr>\n",
       "      <th>10</th>\n",
       "      <td>1.0</td>\n",
       "      <td>1.0</td>\n",
       "      <td>1.0</td>\n",
       "      <td>0.0</td>\n",
       "      <td>0.0</td>\n",
       "      <td>0.0</td>\n",
       "      <td>0.0</td>\n",
       "      <td>0.0</td>\n",
       "      <td>1.0</td>\n",
       "      <td>1.0</td>\n",
       "      <td>0.0</td>\n",
       "      <td>1.0</td>\n",
       "      <td>0.0</td>\n",
       "      <td>1.0</td>\n",
       "      <td>0.0</td>\n",
       "      <td>1.0</td>\n",
       "      <td>0.0</td>\n",
       "      <td>1.0</td>\n",
       "      <td>0.0</td>\n",
       "      <td>0.0</td>\n",
       "    </tr>\n",
       "    <tr>\n",
       "      <th>11</th>\n",
       "      <td>1.0</td>\n",
       "      <td>1.0</td>\n",
       "      <td>1.0</td>\n",
       "      <td>0.0</td>\n",
       "      <td>1.0</td>\n",
       "      <td>0.0</td>\n",
       "      <td>0.0</td>\n",
       "      <td>0.0</td>\n",
       "      <td>0.0</td>\n",
       "      <td>0.0</td>\n",
       "      <td>0.0</td>\n",
       "      <td>0.0</td>\n",
       "      <td>0.0</td>\n",
       "      <td>1.0</td>\n",
       "      <td>0.0</td>\n",
       "      <td>0.0</td>\n",
       "      <td>0.0</td>\n",
       "      <td>0.0</td>\n",
       "      <td>0.0</td>\n",
       "      <td>0.0</td>\n",
       "    </tr>\n",
       "    <tr>\n",
       "      <th>12</th>\n",
       "      <td>1.0</td>\n",
       "      <td>1.0</td>\n",
       "      <td>1.0</td>\n",
       "      <td>0.0</td>\n",
       "      <td>0.0</td>\n",
       "      <td>0.0</td>\n",
       "      <td>0.0</td>\n",
       "      <td>0.0</td>\n",
       "      <td>0.0</td>\n",
       "      <td>0.0</td>\n",
       "      <td>0.0</td>\n",
       "      <td>1.0</td>\n",
       "      <td>0.0</td>\n",
       "      <td>1.0</td>\n",
       "      <td>0.0</td>\n",
       "      <td>1.0</td>\n",
       "      <td>0.0</td>\n",
       "      <td>0.0</td>\n",
       "      <td>0.0</td>\n",
       "      <td>0.0</td>\n",
       "    </tr>\n",
       "    <tr>\n",
       "      <th>13</th>\n",
       "      <td>1.0</td>\n",
       "      <td>0.0</td>\n",
       "      <td>1.0</td>\n",
       "      <td>0.0</td>\n",
       "      <td>0.0</td>\n",
       "      <td>1.0</td>\n",
       "      <td>0.0</td>\n",
       "      <td>0.0</td>\n",
       "      <td>1.0</td>\n",
       "      <td>1.0</td>\n",
       "      <td>0.0</td>\n",
       "      <td>1.0</td>\n",
       "      <td>0.0</td>\n",
       "      <td>1.0</td>\n",
       "      <td>0.0</td>\n",
       "      <td>1.0</td>\n",
       "      <td>1.0</td>\n",
       "      <td>0.0</td>\n",
       "      <td>0.0</td>\n",
       "      <td>0.0</td>\n",
       "    </tr>\n",
       "    <tr>\n",
       "      <th>14</th>\n",
       "      <td>1.0</td>\n",
       "      <td>0.0</td>\n",
       "      <td>0.0</td>\n",
       "      <td>0.0</td>\n",
       "      <td>0.0</td>\n",
       "      <td>0.0</td>\n",
       "      <td>0.0</td>\n",
       "      <td>0.0</td>\n",
       "      <td>0.0</td>\n",
       "      <td>1.0</td>\n",
       "      <td>0.0</td>\n",
       "      <td>0.0</td>\n",
       "      <td>0.0</td>\n",
       "      <td>0.0</td>\n",
       "      <td>1.0</td>\n",
       "      <td>0.0</td>\n",
       "      <td>0.0</td>\n",
       "      <td>0.0</td>\n",
       "      <td>0.0</td>\n",
       "      <td>0.0</td>\n",
       "    </tr>\n",
       "    <tr>\n",
       "      <th>15</th>\n",
       "      <td>1.0</td>\n",
       "      <td>0.0</td>\n",
       "      <td>0.0</td>\n",
       "      <td>0.0</td>\n",
       "      <td>0.0</td>\n",
       "      <td>0.0</td>\n",
       "      <td>0.0</td>\n",
       "      <td>0.0</td>\n",
       "      <td>0.0</td>\n",
       "      <td>0.0</td>\n",
       "      <td>0.0</td>\n",
       "      <td>0.0</td>\n",
       "      <td>0.0</td>\n",
       "      <td>1.0</td>\n",
       "      <td>0.0</td>\n",
       "      <td>0.0</td>\n",
       "      <td>0.0</td>\n",
       "      <td>0.0</td>\n",
       "      <td>0.0</td>\n",
       "      <td>0.0</td>\n",
       "    </tr>\n",
       "    <tr>\n",
       "      <th>16</th>\n",
       "      <td>1.0</td>\n",
       "      <td>0.0</td>\n",
       "      <td>0.0</td>\n",
       "      <td>0.0</td>\n",
       "      <td>0.0</td>\n",
       "      <td>0.0</td>\n",
       "      <td>0.0</td>\n",
       "      <td>0.0</td>\n",
       "      <td>1.0</td>\n",
       "      <td>0.0</td>\n",
       "      <td>1.0</td>\n",
       "      <td>0.0</td>\n",
       "      <td>0.0</td>\n",
       "      <td>1.0</td>\n",
       "      <td>0.0</td>\n",
       "      <td>1.0</td>\n",
       "      <td>0.0</td>\n",
       "      <td>0.0</td>\n",
       "      <td>0.0</td>\n",
       "      <td>0.0</td>\n",
       "    </tr>\n",
       "    <tr>\n",
       "      <th>17</th>\n",
       "      <td>1.0</td>\n",
       "      <td>0.0</td>\n",
       "      <td>0.0</td>\n",
       "      <td>0.0</td>\n",
       "      <td>0.0</td>\n",
       "      <td>0.0</td>\n",
       "      <td>0.0</td>\n",
       "      <td>0.0</td>\n",
       "      <td>0.0</td>\n",
       "      <td>0.0</td>\n",
       "      <td>0.0</td>\n",
       "      <td>0.0</td>\n",
       "      <td>0.0</td>\n",
       "      <td>0.0</td>\n",
       "      <td>0.0</td>\n",
       "      <td>0.0</td>\n",
       "      <td>0.0</td>\n",
       "      <td>0.0</td>\n",
       "      <td>0.0</td>\n",
       "      <td>1.0</td>\n",
       "    </tr>\n",
       "    <tr>\n",
       "      <th>18</th>\n",
       "      <td>1.0</td>\n",
       "      <td>1.0</td>\n",
       "      <td>0.0</td>\n",
       "      <td>0.0</td>\n",
       "      <td>0.0</td>\n",
       "      <td>0.0</td>\n",
       "      <td>1.0</td>\n",
       "      <td>0.0</td>\n",
       "      <td>1.0</td>\n",
       "      <td>1.0</td>\n",
       "      <td>0.0</td>\n",
       "      <td>0.0</td>\n",
       "      <td>0.0</td>\n",
       "      <td>1.0</td>\n",
       "      <td>0.0</td>\n",
       "      <td>1.0</td>\n",
       "      <td>0.0</td>\n",
       "      <td>0.0</td>\n",
       "      <td>0.0</td>\n",
       "      <td>0.0</td>\n",
       "    </tr>\n",
       "    <tr>\n",
       "      <th>19</th>\n",
       "      <td>1.0</td>\n",
       "      <td>1.0</td>\n",
       "      <td>0.0</td>\n",
       "      <td>0.0</td>\n",
       "      <td>0.0</td>\n",
       "      <td>0.0</td>\n",
       "      <td>0.0</td>\n",
       "      <td>0.0</td>\n",
       "      <td>1.0</td>\n",
       "      <td>0.0</td>\n",
       "      <td>0.0</td>\n",
       "      <td>0.0</td>\n",
       "      <td>0.0</td>\n",
       "      <td>0.0</td>\n",
       "      <td>0.0</td>\n",
       "      <td>0.0</td>\n",
       "      <td>0.0</td>\n",
       "      <td>0.0</td>\n",
       "      <td>0.0</td>\n",
       "      <td>0.0</td>\n",
       "    </tr>\n",
       "  </tbody>\n",
       "</table>\n",
       "</div>"
      ],
      "text/plain": [
       "    SPNDSRC1  SPNDSRC2  SPNDSRC3  SPNDSRC4  SPNDSRC5  SPNDSRC6  SPNDSRC7  \\\n",
       "0      -88.0     -88.0     -88.0     -88.0     -88.0     -88.0     -88.0   \n",
       "1        1.0       0.0       0.0       0.0       0.0       0.0       0.0   \n",
       "2      -88.0     -88.0     -88.0     -88.0     -88.0     -88.0     -88.0   \n",
       "3        0.0       0.0       0.0       1.0       0.0       0.0       1.0   \n",
       "4        1.0       0.0       0.0       0.0       0.0       0.0       0.0   \n",
       "5        0.0       0.0       1.0       0.0       0.0       0.0       0.0   \n",
       "6        1.0       0.0       0.0       0.0       0.0       0.0       0.0   \n",
       "7        0.0       0.0       0.0       0.0       0.0       1.0       1.0   \n",
       "8        0.0       1.0       0.0       0.0       0.0       0.0       0.0   \n",
       "9        1.0       0.0       0.0       0.0       0.0       0.0       0.0   \n",
       "10       1.0       1.0       1.0       0.0       0.0       0.0       0.0   \n",
       "11       1.0       1.0       1.0       0.0       1.0       0.0       0.0   \n",
       "12       1.0       1.0       1.0       0.0       0.0       0.0       0.0   \n",
       "13       1.0       0.0       1.0       0.0       0.0       1.0       0.0   \n",
       "14       1.0       0.0       0.0       0.0       0.0       0.0       0.0   \n",
       "15       1.0       0.0       0.0       0.0       0.0       0.0       0.0   \n",
       "16       1.0       0.0       0.0       0.0       0.0       0.0       0.0   \n",
       "17       1.0       0.0       0.0       0.0       0.0       0.0       0.0   \n",
       "18       1.0       1.0       0.0       0.0       0.0       0.0       1.0   \n",
       "19       1.0       1.0       0.0       0.0       0.0       0.0       0.0   \n",
       "\n",
       "    SPNDSRC8  CHNGHOW1  CHNGHOW2  CHNGHOW3  CHNGHOW4  CHNGHOW5  CHNGHOW6  \\\n",
       "0      -88.0       1.0       1.0       0.0       0.0       0.0       1.0   \n",
       "1        0.0       1.0       1.0       0.0       0.0       0.0       1.0   \n",
       "2      -88.0     -88.0     -88.0     -88.0     -88.0     -88.0     -88.0   \n",
       "3        0.0       0.0       0.0       0.0       0.0       0.0       1.0   \n",
       "4        0.0       1.0       1.0       0.0       0.0       0.0       0.0   \n",
       "5        0.0       0.0       0.0       0.0       0.0       0.0       0.0   \n",
       "6        0.0       0.0       0.0       0.0       0.0       0.0       0.0   \n",
       "7        0.0       0.0       0.0       1.0       0.0       0.0       0.0   \n",
       "8        1.0       1.0       1.0       0.0       1.0       0.0       1.0   \n",
       "9        0.0       0.0       0.0       0.0       0.0       0.0       0.0   \n",
       "10       0.0       1.0       1.0       0.0       1.0       0.0       1.0   \n",
       "11       0.0       0.0       0.0       0.0       0.0       0.0       1.0   \n",
       "12       0.0       0.0       0.0       0.0       1.0       0.0       1.0   \n",
       "13       0.0       1.0       1.0       0.0       1.0       0.0       1.0   \n",
       "14       0.0       0.0       1.0       0.0       0.0       0.0       0.0   \n",
       "15       0.0       0.0       0.0       0.0       0.0       0.0       1.0   \n",
       "16       0.0       1.0       0.0       1.0       0.0       0.0       1.0   \n",
       "17       0.0       0.0       0.0       0.0       0.0       0.0       0.0   \n",
       "18       0.0       1.0       1.0       0.0       0.0       0.0       1.0   \n",
       "19       0.0       1.0       0.0       0.0       0.0       0.0       0.0   \n",
       "\n",
       "    CHNGHOW7  CHNGHOW8  CHNGHOW9  CHNGHOW10  CHNGHOW11  CHNGHOW12  \n",
       "0        0.0       0.0       1.0        0.0        0.0        0.0  \n",
       "1        0.0       0.0       0.0        0.0        0.0        0.0  \n",
       "2      -88.0     -88.0     -88.0      -88.0      -88.0      -88.0  \n",
       "3        0.0       1.0       0.0        0.0        0.0        0.0  \n",
       "4        0.0       0.0       1.0        0.0        1.0        0.0  \n",
       "5        1.0       1.0       1.0        0.0        0.0        0.0  \n",
       "6        0.0       0.0       1.0        0.0        0.0        0.0  \n",
       "7        1.0       0.0       1.0        0.0        0.0        0.0  \n",
       "8        0.0       0.0       1.0        0.0        0.0        0.0  \n",
       "9        0.0       0.0       0.0        0.0        0.0        1.0  \n",
       "10       0.0       1.0       0.0        1.0        0.0        0.0  \n",
       "11       0.0       0.0       0.0        0.0        0.0        0.0  \n",
       "12       0.0       1.0       0.0        0.0        0.0        0.0  \n",
       "13       0.0       1.0       1.0        0.0        0.0        0.0  \n",
       "14       1.0       0.0       0.0        0.0        0.0        0.0  \n",
       "15       0.0       0.0       0.0        0.0        0.0        0.0  \n",
       "16       0.0       1.0       0.0        0.0        0.0        0.0  \n",
       "17       0.0       0.0       0.0        0.0        0.0        1.0  \n",
       "18       0.0       1.0       0.0        0.0        0.0        0.0  \n",
       "19       0.0       0.0       0.0        0.0        0.0        0.0  "
      ]
     },
     "execution_count": 24,
     "metadata": {},
     "output_type": "execute_result"
    }
   ],
   "source": [
    "# convert -99 values to 0 in columns that represent checkboxes that are\n",
    "# part of a larger multiple choice question\n",
    "# This essentially OHE's them, except there are some values with -88\n",
    "# which appear to be mising across the board\n",
    "\n",
    "multichoice_cols = ['SPNDSRC1','SPNDSRC2','SPNDSRC3','SPNDSRC4','SPNDSRC5',\n",
    "                    'SPNDSRC6','SPNDSRC7','SPNDSRC8','CHNGHOW1','CHNGHOW2',\n",
    "                    'CHNGHOW3','CHNGHOW4','CHNGHOW5','CHNGHOW6','CHNGHOW7',\n",
    "                    'CHNGHOW8','CHNGHOW9','CHNGHOW10','CHNGHOW11','CHNGHOW12']\n",
    "\n",
    "for col in multichoice_cols:\n",
    "    df.loc[df[col] == -99, col] = 0\n",
    "    \n",
    "df[multichoice_cols].head(20)"
   ]
  },
  {
   "cell_type": "code",
   "execution_count": 25,
   "metadata": {
    "scrolled": true
   },
   "outputs": [
    {
     "data": {
      "text/plain": [
       "count    77825.000000\n",
       "mean        54.562159\n",
       "std         15.898557\n",
       "min         18.000000\n",
       "25%         42.000000\n",
       "50%         56.000000\n",
       "75%         67.000000\n",
       "max         88.000000\n",
       "Name: AGE, dtype: float64"
      ]
     },
     "execution_count": 25,
     "metadata": {},
     "output_type": "execute_result"
    }
   ],
   "source": [
    "# Convert birth year to age\n",
    "df['AGE'] = df['TBIRTH_YEAR'].map(lambda x: 2021-x)\n",
    "\n",
    "df['AGE'].describe()"
   ]
  },
  {
   "cell_type": "code",
   "execution_count": 26,
   "metadata": {},
   "outputs": [
    {
     "data": {
      "text/plain": [
       "0"
      ]
     },
     "execution_count": 26,
     "metadata": {},
     "output_type": "execute_result"
    }
   ],
   "source": [
    "df['AGE'].isna().sum()"
   ]
  },
  {
   "cell_type": "code",
   "execution_count": 27,
   "metadata": {},
   "outputs": [],
   "source": [
    "# Running list of the categorical and numeric column names, both engineered\n",
    "# and original\n",
    "\n",
    "cat_cols = ['HLTHINS', 'SCHOOL_KIDS', 'IN_METRO_AREA', 'ANXIOUS','ANYWORK',\n",
    "            'CHNGHOW1','CHNGHOW10','CHNGHOW11','CHNGHOW12','CHNGHOW2',\n",
    "            'CHNGHOW3','CHNGHOW4','CHNGHOW5','CHNGHOW6','CHNGHOW7','CHNGHOW8',\n",
    "            'CHNGHOW9','CURFOODSUF','DELAY','DOWN','EEDUC','EGENDER','EIP',\n",
    "            'EXPCTLOSS','EXPNS_DIF','FEWRTRANS','FEWRTRIPS','FREEFOOD',\n",
    "            'HADCOVID','INCOME','INTEREST','LIVQTR','MH_NOTGET','MH_SVCS',\n",
    "            'MS','NOTGET','PLNDTRIPS','PRESCRIPT','RHISPANIC','RRACE',\n",
    "            'SNAP_YN','SPNDSRC1','SPNDSRC2','SPNDSRC3','SPNDSRC4','SPNDSRC5',\n",
    "            'SPNDSRC6','SPNDSRC7','SPNDSRC8','SSA_APPLY','SSA_RECV','TENURE',\n",
    "            'TW_START','UI_APPLY','UI_RECV','WORRY','WRKLOSS']\n",
    "\n",
    "cat_cols.sort()\n",
    "\n",
    "num_cols = ['PROP_FOODSPEND_HOME', 'AGE', 'THHLD_NUMADLT','THHLD_NUMKID',\n",
    "            'TNUM_PS']\n",
    "\n"
   ]
  },
  {
   "cell_type": "code",
   "execution_count": 28,
   "metadata": {
    "scrolled": false
   },
   "outputs": [
    {
     "name": "stdout",
     "output_type": "stream",
     "text": [
      " 1.0     27320\n",
      " 2.0     20314\n",
      "-88.0    12614\n",
      " 4.0     10040\n",
      " 3.0      7173\n",
      "-99.0      364\n",
      "Name: ANXIOUS, dtype: int64\n",
      " 1.0     44266\n",
      " 2.0     33312\n",
      "-99.0      247\n",
      "Name: ANYWORK, dtype: int64\n",
      " 0.0     38740\n",
      " 1.0     34878\n",
      "-88.0     4207\n",
      "Name: CHNGHOW1, dtype: int64\n",
      " 0.0     68799\n",
      " 1.0      4819\n",
      "-88.0     4207\n",
      "Name: CHNGHOW10, dtype: int64\n",
      " 0.0     72049\n",
      "-88.0     4207\n",
      " 1.0      1569\n",
      "Name: CHNGHOW11, dtype: int64\n",
      " 0.0     54509\n",
      " 1.0     19109\n",
      "-88.0     4207\n",
      "Name: CHNGHOW12, dtype: int64\n",
      " 0.0     56443\n",
      " 1.0     17175\n",
      "-88.0     4207\n",
      "Name: CHNGHOW2, dtype: int64\n",
      " 0.0     67959\n",
      " 1.0      5659\n",
      "-88.0     4207\n",
      "Name: CHNGHOW3, dtype: int64\n",
      " 0.0     51444\n",
      " 1.0     22174\n",
      "-88.0     4207\n",
      "Name: CHNGHOW4, dtype: int64\n",
      " 0.0     71127\n",
      "-88.0     4207\n",
      " 1.0      2491\n",
      "Name: CHNGHOW5, dtype: int64\n",
      " 0.0     36929\n",
      " 1.0     36689\n",
      "-88.0     4207\n",
      "Name: CHNGHOW6, dtype: int64\n",
      " 0.0     67489\n",
      " 1.0      6129\n",
      "-88.0     4207\n",
      "Name: CHNGHOW7, dtype: int64\n",
      " 0.0     58778\n",
      " 1.0     14840\n",
      "-88.0     4207\n",
      "Name: CHNGHOW8, dtype: int64\n",
      " 0.0     56697\n",
      " 1.0     16921\n",
      "-88.0     4207\n",
      "Name: CHNGHOW9, dtype: int64\n",
      " 1.0     50871\n",
      " 2.0     14681\n",
      "-88.0     7771\n",
      " 3.0      3258\n",
      " 4.0       834\n",
      "-99.0      410\n",
      "Name: CURFOODSUF, dtype: int64\n",
      " 2.0     46448\n",
      " 1.0     17044\n",
      "-88.0    13906\n",
      "-99.0      427\n",
      "Name: DELAY, dtype: int64\n",
      " 1.0     34624\n",
      " 2.0     19040\n",
      "-88.0    12614\n",
      " 4.0      5657\n",
      " 3.0      5433\n",
      "-99.0      457\n",
      "Name: DOWN, dtype: int64\n",
      "6.0    22209\n",
      "7.0    19884\n",
      "4.0    16800\n",
      "3.0     9092\n",
      "5.0     8209\n",
      "2.0     1128\n",
      "1.0      503\n",
      "Name: EEDUC, dtype: int64\n",
      "2.0    46326\n",
      "1.0    31499\n",
      "Name: EGENDER, dtype: int64\n",
      " 4.0     49102\n",
      " 3.0     12221\n",
      " 1.0      7574\n",
      " 2.0      6201\n",
      "-88.0     2212\n",
      "-99.0      515\n",
      "Name: EIP, dtype: int64\n",
      " 2.0     66184\n",
      " 1.0     11349\n",
      "-99.0      292\n",
      "Name: EXPCTLOSS, dtype: int64\n",
      " 1.0     39916\n",
      " 2.0     16340\n",
      " 3.0     11246\n",
      " 4.0      6961\n",
      "-88.0     2915\n",
      "-99.0      447\n",
      "Name: EXPNS_DIF, dtype: int64\n",
      " 3.0     41270\n",
      " 1.0     19747\n",
      " 2.0      8917\n",
      "-88.0     7438\n",
      "-99.0      453\n",
      "Name: FEWRTRANS, dtype: int64\n",
      " 1.0     42247\n",
      " 2.0     27499\n",
      "-88.0     7438\n",
      "-99.0      641\n",
      "Name: FEWRTRIPS, dtype: int64\n",
      " 2.0     64839\n",
      "-88.0     8032\n",
      " 1.0      4592\n",
      "-99.0      362\n",
      "Name: FREEFOOD, dtype: int64\n",
      " 2.0     68660\n",
      " 1.0      8527\n",
      " 3.0       514\n",
      "-99.0      124\n",
      "Name: HADCOVID, dtype: int64\n",
      "1.0    61184\n",
      "0.0    16641\n",
      "Name: HLTHINS, dtype: int64\n",
      "-88.0    16311\n",
      " 6.0     10910\n",
      " 4.0     10697\n",
      " 5.0      8738\n",
      " 3.0      6464\n",
      " 8.0      6330\n",
      " 1.0      5810\n",
      " 7.0      5413\n",
      " 2.0      5067\n",
      "-99.0     2085\n",
      "Name: INCOME, dtype: int64\n",
      " 1.0     32950\n",
      " 2.0     19561\n",
      "-88.0    12614\n",
      " 3.0      6352\n",
      " 4.0      5827\n",
      "-99.0      521\n",
      "Name: INTEREST, dtype: int64\n",
      "0.0    51865\n",
      "1.0    25960\n",
      "Name: IN_METRO_AREA, dtype: int64\n",
      " 2.0     44955\n",
      "-88.0    14502\n",
      " 3.0      4975\n",
      " 9.0      2730\n",
      " 1.0      1921\n",
      " 6.0      1746\n",
      " 5.0      1729\n",
      " 7.0      1562\n",
      " 8.0      1479\n",
      " 4.0      1254\n",
      "-99.0      698\n",
      " 10.0      274\n",
      "Name: LIVQTR, dtype: int64\n",
      " 2.0     56873\n",
      "-88.0    13906\n",
      " 1.0      6658\n",
      "-99.0      388\n",
      "Name: MH_NOTGET, dtype: int64\n",
      " 2.0     56552\n",
      "-88.0    13906\n",
      " 1.0      6911\n",
      "-99.0      456\n",
      "Name: MH_SVCS, dtype: int64\n",
      " 1.0     45740\n",
      " 5.0     13762\n",
      " 3.0     11879\n",
      " 2.0      4637\n",
      " 4.0      1319\n",
      "-99.0      488\n",
      "Name: MS, dtype: int64\n",
      " 2.0     51332\n",
      "-88.0    13906\n",
      " 1.0     12182\n",
      "-99.0      405\n",
      "Name: NOTGET, dtype: int64\n",
      " 1.0     55601\n",
      " 2.0     14386\n",
      "-88.0     7438\n",
      "-99.0      400\n",
      "Name: PLNDTRIPS, dtype: int64\n",
      " 2.0     49248\n",
      " 1.0     14233\n",
      "-88.0    13906\n",
      "-99.0      438\n",
      "Name: PRESCRIPT, dtype: int64\n",
      "1.0    70428\n",
      "2.0     7397\n",
      "Name: RHISPANIC, dtype: int64\n",
      "1.0    64253\n",
      "2.0     6076\n",
      "3.0     3925\n",
      "4.0     3571\n",
      "Name: RRACE, dtype: int64\n",
      "0.0    63559\n",
      "1.0    14266\n",
      "Name: SCHOOL_KIDS, dtype: int64\n",
      " 2.0     64109\n",
      "-88.0     8195\n",
      " 1.0      4823\n",
      "-99.0      698\n",
      "Name: SNAP_YN, dtype: int64\n",
      " 1.0     54736\n",
      " 0.0     15651\n",
      "-88.0     7438\n",
      "Name: SPNDSRC1, dtype: int64\n",
      " 0.0     52945\n",
      " 1.0     17442\n",
      "-88.0     7438\n",
      "Name: SPNDSRC2, dtype: int64\n",
      " 0.0     54435\n",
      " 1.0     15952\n",
      "-88.0     7438\n",
      "Name: SPNDSRC3, dtype: int64\n",
      " 0.0     65301\n",
      "-88.0     7438\n",
      " 1.0      5086\n",
      "Name: SPNDSRC4, dtype: int64\n",
      " 0.0     65345\n",
      "-88.0     7438\n",
      " 1.0      5042\n",
      "Name: SPNDSRC5, dtype: int64\n",
      " 0.0     57171\n",
      " 1.0     13216\n",
      "-88.0     7438\n",
      "Name: SPNDSRC6, dtype: int64\n",
      " 0.0     67820\n",
      "-88.0     7438\n",
      " 1.0      2567\n",
      "Name: SPNDSRC7, dtype: int64\n",
      " 0.0     67205\n",
      "-88.0     7438\n",
      " 1.0      3182\n",
      "Name: SPNDSRC8, dtype: int64\n",
      " 2.0     73011\n",
      " 1.0      3343\n",
      "-88.0      795\n",
      "-99.0      676\n",
      "Name: SSA_APPLY, dtype: int64\n",
      " 2.0     51098\n",
      " 1.0     25757\n",
      "-88.0      519\n",
      "-99.0      451\n",
      "Name: SSA_RECV, dtype: int64\n",
      " 2.0     30796\n",
      " 1.0     17898\n",
      "-88.0    14502\n",
      " 3.0     13368\n",
      " 4.0       812\n",
      "-99.0      449\n",
      "Name: TENURE, dtype: int64\n",
      " 1.0     32097\n",
      " 2.0     29176\n",
      " 3.0     12833\n",
      "-99.0     3719\n",
      "Name: TW_START, dtype: int64\n",
      " 2.0     65536\n",
      " 1.0     11875\n",
      "-99.0      217\n",
      "-88.0      197\n",
      "Name: UI_APPLY, dtype: int64\n",
      "-88.0    65991\n",
      " 1.0      9481\n",
      " 2.0      2168\n",
      "-99.0      185\n",
      "Name: UI_RECV, dtype: int64\n",
      " 1.0     33379\n",
      " 2.0     18586\n",
      "-88.0    12614\n",
      " 4.0      6921\n",
      " 3.0      5847\n",
      "-99.0      478\n",
      "Name: WORRY, dtype: int64\n",
      " 2.0     48766\n",
      " 1.0     28874\n",
      "-99.0      185\n",
      "Name: WRKLOSS, dtype: int64\n"
     ]
    }
   ],
   "source": [
    "for col in cat_cols:\n",
    "    print(df[col].value_counts())"
   ]
  },
  {
   "cell_type": "code",
   "execution_count": 29,
   "metadata": {},
   "outputs": [
    {
     "name": "stdout",
     "output_type": "stream",
     "text": [
      "0\n",
      "count    77825.000000\n",
      "mean       -15.693697\n",
      "std         35.134390\n",
      "min        -99.000000\n",
      "25%          0.462366\n",
      "50%          0.714286\n",
      "75%          0.877193\n",
      "max          1.000000\n",
      "Name: PROP_FOODSPEND_HOME, dtype: float64\n",
      "0\n",
      "count    77825.000000\n",
      "mean        54.562159\n",
      "std         15.898557\n",
      "min         18.000000\n",
      "25%         42.000000\n",
      "50%         56.000000\n",
      "75%         67.000000\n",
      "max         88.000000\n",
      "Name: AGE, dtype: float64\n",
      "0\n",
      "count    77825.000000\n",
      "mean         2.122981\n",
      "std          0.966851\n",
      "min          1.000000\n",
      "25%          2.000000\n",
      "50%          2.000000\n",
      "75%          2.000000\n",
      "max         10.000000\n",
      "Name: THHLD_NUMADLT, dtype: float64\n",
      "0\n",
      "count    77825.000000\n",
      "mean         0.588024\n",
      "std          1.010032\n",
      "min          0.000000\n",
      "25%          0.000000\n",
      "50%          0.000000\n",
      "75%          1.000000\n",
      "max          5.000000\n",
      "Name: THHLD_NUMKID, dtype: float64\n",
      "0\n",
      "count    77825.000000\n",
      "mean       -19.387189\n",
      "std         37.068353\n",
      "min        -99.000000\n",
      "25%          0.000000\n",
      "50%          0.000000\n",
      "75%          0.000000\n",
      "max          3.000000\n",
      "Name: TNUM_PS, dtype: float64\n"
     ]
    }
   ],
   "source": [
    "for col in num_cols:\n",
    "    print(df[col].isna().sum())\n",
    "    print(df[col].describe())"
   ]
  },
  {
   "cell_type": "markdown",
   "metadata": {},
   "source": [
    "Of the columns I initially had listed as categorical, I used the value counts above, combined with reviewing the meanings of each label in the data dictionary, to make further decisions on each column.\n",
    "\n",
    "- Many of these columns are almost already OHE. There are already only 2 choices, mostly Yes/No answers, but a few others such as gender Male/Female. \n",
    "    - Many of the Yes/No questions actually have Yes encoded as 1 and No encoded as 2, so I'm going to mass replace those with 0 instead of 2 to be more consistent with how OHE typically works.\n",
    "    - A few can be turned into OHE columns if I combine rare labels.\n",
    "\n",
    "\n",
    "- A few categorical columns are suited to be left as ordinals and treated like numbers. These columns are:\n",
    "    - `ANXIOUS`, `DOWN`, `INTEREST` (lack of), and `WORRY`: as value increases, frequency of experiencing these feelings increases.\n",
    "    - `CURFOODSUF`: as value increases, food insecurity increases / food suffiency decreases.\n",
    "    - `EEDUC`: as value increases, education level represented by years of schooling required to obtain that level increases.\n",
    "    - `EXPNS_DIF`: as value increases, difficulty with expenses increases\n",
    "    - `INCOME`: as value increases, pre-tax income range increases\n",
    "    \n",
    "    \n",
    "- 6 categorical columns do need to be OHE because they have more than two choices that can't be combined without losing information.\n",
    "\n",
    "\n",
    "- I will drop `UI_RECV` because the vast majority of its values are -88 missing, so it has little to contribute in terms of actual answers the respondents provided.\n",
    "\n",
    "Almost all of the columns have -99 values that represent the respondent skipped the question, and -88 values that are simply missing with no explanation. Before accepting that I need to make 2 separate columns for every one of these (expanding my feature space by a lot) I'm going to map them using missingno and see if I can identify patterns. Maybe values that are -88 across multiple columns can be bundled together in fewer missing indicator columns.\n",
    "\n",
    "Of the numerical columns, I will turn `TNUM_PS` into a Yes/No categorical column, since it appears most households have no one who was planning on post-secondary education in fall 2021. I don't think the number of people will make a big difference."
   ]
  },
  {
   "cell_type": "code",
   "execution_count": 30,
   "metadata": {},
   "outputs": [
    {
     "name": "stdout",
     "output_type": "stream",
     "text": [
      " 1.0     44266\n",
      " 0.0     33312\n",
      "-99.0      247\n",
      "Name: ANYWORK, dtype: int64\n",
      " 0.0     46448\n",
      " 1.0     17044\n",
      "-88.0    13906\n",
      "-99.0      427\n",
      "Name: DELAY, dtype: int64\n",
      "0.0    46326\n",
      "1.0    31499\n",
      "Name: EGENDER, dtype: int64\n",
      " 0.0     66184\n",
      " 1.0     11349\n",
      "-99.0      292\n",
      "Name: EXPCTLOSS, dtype: int64\n",
      " 1.0     42247\n",
      " 0.0     27499\n",
      "-88.0     7438\n",
      "-99.0      641\n",
      "Name: FEWRTRIPS, dtype: int64\n",
      " 0.0     64839\n",
      "-88.0     8032\n",
      " 1.0      4592\n",
      "-99.0      362\n",
      "Name: FREEFOOD, dtype: int64\n",
      " 0.0     68660\n",
      " 1.0      8527\n",
      " 3.0       514\n",
      "-99.0      124\n",
      "Name: HADCOVID, dtype: int64\n",
      " 0.0     56873\n",
      "-88.0    13906\n",
      " 1.0      6658\n",
      "-99.0      388\n",
      "Name: MH_NOTGET, dtype: int64\n",
      " 0.0     56552\n",
      "-88.0    13906\n",
      " 1.0      6911\n",
      "-99.0      456\n",
      "Name: MH_SVCS, dtype: int64\n",
      " 0.0     51332\n",
      "-88.0    13906\n",
      " 1.0     12182\n",
      "-99.0      405\n",
      "Name: NOTGET, dtype: int64\n",
      " 1.0     55601\n",
      " 0.0     14386\n",
      "-88.0     7438\n",
      "-99.0      400\n",
      "Name: PLNDTRIPS, dtype: int64\n",
      " 0.0     49248\n",
      " 1.0     14233\n",
      "-88.0    13906\n",
      "-99.0      438\n",
      "Name: PRESCRIPT, dtype: int64\n",
      " 0.0     64109\n",
      "-88.0     8195\n",
      " 1.0      4823\n",
      "-99.0      698\n",
      "Name: SNAP_YN, dtype: int64\n",
      " 0.0     73011\n",
      " 1.0      3343\n",
      "-88.0      795\n",
      "-99.0      676\n",
      "Name: SSA_APPLY, dtype: int64\n",
      " 0.0     51098\n",
      " 1.0     25757\n",
      "-88.0      519\n",
      "-99.0      451\n",
      "Name: SSA_RECV, dtype: int64\n",
      " 0.0     65536\n",
      " 1.0     11875\n",
      "-99.0      217\n",
      "-88.0      197\n",
      "Name: UI_APPLY, dtype: int64\n",
      " 0.0     48766\n",
      " 1.0     28874\n",
      "-99.0      185\n",
      "Name: WRKLOSS, dtype: int64\n"
     ]
    }
   ],
   "source": [
    "# for columns that really only have 2 answers, most are 1 and 2. Leave 1 as Yes\n",
    "# and convert the 2s to 0s for Nos or second value.\n",
    "\n",
    "conv_2_to_0 = ['ANYWORK', 'DELAY', 'EGENDER', 'EXPCTLOSS', 'FEWRTRIPS', \n",
    "               'FREEFOOD', 'HADCOVID', 'MH_NOTGET', 'MH_SVCS', 'NOTGET', \n",
    "               'PLNDTRIPS','PRESCRIPT', 'SNAP_YN', 'SSA_APPLY', 'SSA_RECV', \n",
    "               'UI_APPLY', 'WRKLOSS']\n",
    "\n",
    "for col in conv_2_to_0:\n",
    "    df.loc[df[col] == 2, col] = 0\n",
    "    print(df[col].value_counts())"
   ]
  },
  {
   "cell_type": "code",
   "execution_count": 31,
   "metadata": {
    "scrolled": true
   },
   "outputs": [
    {
     "data": {
      "text/plain": [
       " 0.0     68660\n",
       " 1.0      8527\n",
       "-99.0      638\n",
       "Name: HADCOVID, dtype: int64"
      ]
     },
     "execution_count": 31,
     "metadata": {},
     "output_type": "execute_result"
    }
   ],
   "source": [
    "# OHE HADCOVID by combining rare label 3 - Not Sure with -99 No Answer\n",
    "df.loc[df['HADCOVID']==3, 'HADCOVID'] = -99\n",
    "df['HADCOVID'].value_counts()"
   ]
  },
  {
   "cell_type": "code",
   "execution_count": 32,
   "metadata": {},
   "outputs": [
    {
     "data": {
      "text/plain": [
       "0.0    70428\n",
       "1.0     7397\n",
       "Name: RHISPANIC, dtype: int64"
      ]
     },
     "execution_count": 32,
     "metadata": {},
     "output_type": "execute_result"
    }
   ],
   "source": [
    "# Make RHISPANIC consistent with 0=No, 1=Yes\n",
    "df.loc[df['RHISPANIC']==1, 'RHISPANIC'] = 0\n",
    "df.loc[df['RHISPANIC']==2, 'RHISPANIC'] = 1\n",
    "df['RHISPANIC'].value_counts()"
   ]
  },
  {
   "cell_type": "code",
   "execution_count": 33,
   "metadata": {
    "scrolled": true
   },
   "outputs": [
    {
     "data": {
      "text/plain": [
       " 0.0     42009\n",
       " 1.0     32097\n",
       "-99.0     3719\n",
       "Name: TW_START, dtype: int64"
      ]
     },
     "execution_count": 33,
     "metadata": {},
     "output_type": "execute_result"
    }
   ],
   "source": [
    "# TW_Start labels 2 and 3 are both no telework, so converting to 0\n",
    "df.loc[(df['TW_START']==2)|(df['TW_START']==3), 'TW_START'] = 0\n",
    "df['TW_START'].value_counts()"
   ]
  },
  {
   "cell_type": "code",
   "execution_count": 34,
   "metadata": {
    "scrolled": true
   },
   "outputs": [
    {
     "data": {
      "text/plain": [
       " 2.0     44955\n",
       "-88.0    14502\n",
       " 3.0      4975\n",
       " 9.0      2730\n",
       " 1.0      1921\n",
       " 6.0      1746\n",
       " 5.0      1729\n",
       " 7.0      1562\n",
       " 8.0      1479\n",
       " 4.0      1254\n",
       "-99.0      698\n",
       " 10.0      274\n",
       "Name: LIVQTR, dtype: int64"
      ]
     },
     "execution_count": 34,
     "metadata": {},
     "output_type": "execute_result"
    }
   ],
   "source": [
    "# LIVQTR will need to be OHE, but I can combine some labels and not lose\n",
    "# much information\n",
    "\n",
    "df['LIVQTR'].value_counts()"
   ]
  },
  {
   "cell_type": "markdown",
   "metadata": {},
   "source": [
    "Category labels from the data dictionary:\n",
    "1. A mobile home\n",
    "2. A one-family house detached from any other house\n",
    "3. A one-family house attached to one or more houses\n",
    "4. A building with 2 apartments\n",
    "5. A building with 3 or 4 apartment\n",
    "6. A building with 5 to 9 apartments\n",
    "7. A building with 10 to 19 apartments\n",
    "8. A building with 20 to 49 apartments \n",
    "9. A building with 50 or more apartments\n",
    "10. Boat, RV, van, etc.\n",
    "\n",
    "-99. Question seen but category not selected\n",
    "\n",
    "-88. Missing / Did not report\n",
    "\n",
    "I will combine these 10 categories into 3:\n",
    "- 1 and 10: Mobile home, Boat, RV, van, etc.\n",
    "- 2 and 3: House\n",
    "- 4 through 9: Apartment\n"
   ]
  },
  {
   "cell_type": "code",
   "execution_count": 35,
   "metadata": {},
   "outputs": [],
   "source": [
    "df.loc[df['LIVQTR']==10, 'LIVQTR'] = 1\n",
    "df.loc[df['LIVQTR']==3, 'LIVQTR'] = 2\n",
    "df.loc[df['LIVQTR'].isin([4,5,6,7,8,9]), 'LIVQTR'] = 3"
   ]
  },
  {
   "cell_type": "code",
   "execution_count": 36,
   "metadata": {},
   "outputs": [
    {
     "data": {
      "text/plain": [
       " 2.0     49930\n",
       "-88.0    14502\n",
       " 3.0     10500\n",
       " 1.0      2195\n",
       "-99.0      698\n",
       "Name: LIVQTR, dtype: int64"
      ]
     },
     "execution_count": 36,
     "metadata": {},
     "output_type": "execute_result"
    }
   ],
   "source": [
    "df['LIVQTR'].value_counts()"
   ]
  },
  {
   "cell_type": "code",
   "execution_count": 37,
   "metadata": {
    "scrolled": true
   },
   "outputs": [
    {
     "data": {
      "text/plain": [
       " 1.0     45740\n",
       " 2.0     17835\n",
       " 5.0     13762\n",
       "-99.0      488\n",
       "Name: MS, dtype: int64"
      ]
     },
     "execution_count": 37,
     "metadata": {},
     "output_type": "execute_result"
    }
   ],
   "source": [
    "# Combine a few rare Married Status labels\n",
    "# Adding 3 - divorced and 4 - separated into 2 - Widowed (all sound single now\n",
    "# but used to be married)\n",
    "# 1 is married, and 5 is never married\n",
    "\n",
    "df.loc[df['MS'].isin([3, 4]), 'MS'] = 2\n",
    "df['MS'].value_counts()"
   ]
  },
  {
   "cell_type": "code",
   "execution_count": 38,
   "metadata": {},
   "outputs": [
    {
     "data": {
      "text/plain": [
       " 0.0     45969\n",
       "-88.0    15652\n",
       " 1.0     10678\n",
       " 2.0      3138\n",
       "-99.0     1525\n",
       " 3.0       863\n",
       "Name: TNUM_PS, dtype: int64"
      ]
     },
     "execution_count": 38,
     "metadata": {},
     "output_type": "execute_result"
    }
   ],
   "source": [
    "# OHE TNUM_PS manually\n",
    "df['TNUM_PS'].value_counts()"
   ]
  },
  {
   "cell_type": "code",
   "execution_count": 39,
   "metadata": {
    "scrolled": true
   },
   "outputs": [
    {
     "data": {
      "text/plain": [
       " 0.0     45969\n",
       "-88.0    15652\n",
       " 1.0     14679\n",
       "-99.0     1525\n",
       "Name: TNUM_PS, dtype: int64"
      ]
     },
     "execution_count": 39,
     "metadata": {},
     "output_type": "execute_result"
    }
   ],
   "source": [
    "# These represent the number of people in the household who plan to go to\n",
    "# post-secondary classes in 2021. Since there aren't a lot of 2 and 3 values,\n",
    "# will combine them into 1 so it's just a Yes have people who plan to take\n",
    "# PS classes, or No have none in the household.\n",
    "df.loc[df['TNUM_PS'].isin([2, 3]), 'TNUM_PS'] = 1\n",
    "df['TNUM_PS'].value_counts()"
   ]
  },
  {
   "cell_type": "code",
   "execution_count": 40,
   "metadata": {
    "scrolled": true
   },
   "outputs": [
    {
     "data": {
      "text/plain": [
       "-88.0    0.847941\n",
       " 1.0     0.121825\n",
       " 2.0     0.027857\n",
       "-99.0    0.002377\n",
       "Name: UI_RECV, dtype: float64"
      ]
     },
     "execution_count": 40,
     "metadata": {},
     "output_type": "execute_result"
    }
   ],
   "source": [
    "# drop UI_RECV from cat_cols, as majority of values are -88 missing\n",
    "df['UI_RECV'].value_counts(normalize=True)"
   ]
  },
  {
   "cell_type": "code",
   "execution_count": 41,
   "metadata": {
    "scrolled": false
   },
   "outputs": [
    {
     "data": {
      "text/plain": [
       "['ANXIOUS',\n",
       " 'ANYWORK',\n",
       " 'CHNGHOW1',\n",
       " 'CHNGHOW10',\n",
       " 'CHNGHOW11',\n",
       " 'CHNGHOW12',\n",
       " 'CHNGHOW2',\n",
       " 'CHNGHOW3',\n",
       " 'CHNGHOW4',\n",
       " 'CHNGHOW5',\n",
       " 'CHNGHOW6',\n",
       " 'CHNGHOW7',\n",
       " 'CHNGHOW8',\n",
       " 'CHNGHOW9',\n",
       " 'CURFOODSUF',\n",
       " 'DELAY',\n",
       " 'DOWN',\n",
       " 'EEDUC',\n",
       " 'EGENDER',\n",
       " 'EIP',\n",
       " 'EXPCTLOSS',\n",
       " 'EXPNS_DIF',\n",
       " 'FEWRTRANS',\n",
       " 'FEWRTRIPS',\n",
       " 'FREEFOOD',\n",
       " 'HADCOVID',\n",
       " 'HLTHINS',\n",
       " 'INCOME',\n",
       " 'INTEREST',\n",
       " 'IN_METRO_AREA',\n",
       " 'LIVQTR',\n",
       " 'MH_NOTGET',\n",
       " 'MH_SVCS',\n",
       " 'MS',\n",
       " 'NOTGET',\n",
       " 'PLNDTRIPS',\n",
       " 'PRESCRIPT',\n",
       " 'RHISPANIC',\n",
       " 'RRACE',\n",
       " 'SCHOOL_KIDS',\n",
       " 'SNAP_YN',\n",
       " 'SPNDSRC1',\n",
       " 'SPNDSRC2',\n",
       " 'SPNDSRC3',\n",
       " 'SPNDSRC4',\n",
       " 'SPNDSRC5',\n",
       " 'SPNDSRC6',\n",
       " 'SPNDSRC7',\n",
       " 'SPNDSRC8',\n",
       " 'SSA_APPLY',\n",
       " 'SSA_RECV',\n",
       " 'TENURE',\n",
       " 'TW_START',\n",
       " 'UI_APPLY',\n",
       " 'WORRY',\n",
       " 'WRKLOSS']"
      ]
     },
     "execution_count": 41,
     "metadata": {},
     "output_type": "execute_result"
    }
   ],
   "source": [
    "cat_cols.remove('UI_RECV')\n",
    "cat_cols"
   ]
  },
  {
   "cell_type": "markdown",
   "metadata": {},
   "source": [
    "## Review Locations of -88 Missing\n",
    "There are some sets of predictor columns that seem to have the same number of -88 values. I have reached out to the Census team to determine what this indicates, but they have not yet responded.\n",
    "\n",
    "I will try to visualize these to see if there are patterns. Perhaps I can use combine missing indicator columns."
   ]
  },
  {
   "cell_type": "code",
   "execution_count": 42,
   "metadata": {},
   "outputs": [],
   "source": [
    "# columns, in question order\n",
    "\n",
    "q_order = ['TBIRTH_YEAR','EGENDER','RHISPANIC','RRACE','EEDUC','MS',\n",
    "           'THHLD_NUMKID','THHLD_NUMADLT','RECVDVACC','HADCOVID',\n",
    "           'WRKLOSS','EXPCTLOSS','ANYWORK','TW_START','UI_APPLY','UI_RECV',\n",
    "           'SSA_RECV','SSA_APPLY','EIP','EXPNS_DIF','SPNDSRC1',\n",
    "           'SPNDSRC2','SPNDSRC3','SPNDSRC4','SPNDSRC5','SPNDSRC6','SPNDSRC7',\n",
    "           'SPNDSRC8','FEWRTRIPS','FEWRTRANS','PLNDTRIPS','CURFOODSUF',\n",
    "           'FREEFOOD','SNAP_YN','TSPNDFOOD','TSPNDPRPD','ANXIOUS','WORRY',\n",
    "           'INTEREST','DOWN','DELAY','NOTGET','PRESCRIPT','MH_SVCS',\n",
    "           'MH_NOTGET','TENURE','LIVQTR','ENROLL1','ENROLL2','ENROLL3',\n",
    "           'TNUM_PS','INCOME']"
   ]
  },
  {
   "cell_type": "code",
   "execution_count": 43,
   "metadata": {},
   "outputs": [
    {
     "name": "stdout",
     "output_type": "stream",
     "text": [
      "[0, 0, 0, 0, 0, 0, 0, 0, 0, 0, 0, 0, 0, 0, 0, 0, 0, 0, 0, 0, 0, 0, 0, 0, 0, 0, 0, 0, 0, 0, 0, 0, 0, 0, 0, 0, 0, 0, 0, 0, 0, 0, 0, 0, 0, 0, 0, 0, 0, 0, 0, 0]\n"
     ]
    }
   ],
   "source": [
    "# create a copy of the columns so I can replace -88 with nulls and visualize\n",
    "all_preds = cat_cols + num_cols\n",
    "nan_viz = df[q_order].copy()\n",
    "print(list(nan_viz.isna().sum()))"
   ]
  },
  {
   "cell_type": "code",
   "execution_count": 44,
   "metadata": {
    "scrolled": true
   },
   "outputs": [
    {
     "name": "stdout",
     "output_type": "stream",
     "text": [
      "[0, 0, 0, 0, 0, 0, 0, 0, 0, 0, 0, 0, 0, 0, 197, 65991, 519, 795, 2212, 2915, 7438, 7438, 7438, 7438, 7438, 7438, 7438, 7438, 7438, 7438, 7438, 7771, 8032, 8195, 10775, 11054, 12614, 12614, 12614, 12614, 13906, 13906, 13906, 13906, 13906, 14502, 14502, 57437, 57437, 57437, 15652, 16311]\n"
     ]
    }
   ],
   "source": [
    "# replace -88s with nans\n",
    "nan_viz.replace(-88, np.nan, inplace=True)\n",
    "print(list(nan_viz.isna().sum()))"
   ]
  },
  {
   "cell_type": "code",
   "execution_count": 45,
   "metadata": {
    "scrolled": true
   },
   "outputs": [
    {
     "data": {
      "text/plain": [
       "<AxesSubplot:>"
      ]
     },
     "execution_count": 45,
     "metadata": {},
     "output_type": "execute_result"
    },
    {
     "data": {
      "image/png": "[encoded data removed]",
      "text/plain": [
       "<Figure size 1800x720 with 2 Axes>"
      ]
     },
     "metadata": {
      "needs_background": "light"
     },
     "output_type": "display_data"
    }
   ],
   "source": [
    "missingno.matrix(nan_viz)"
   ]
  },
  {
   "cell_type": "markdown",
   "metadata": {},
   "source": [
    "Hmm, when I look at them in the order the questions were presented, I see that with the exception of a few columns that have a lot of nans, once missing answers start showing up, the rest of that record has missing answers.\n",
    "\n",
    "**I suspect that the -88 Missing placeholder indicates that the respondent exited the questionnaire prematurely, and Census kept the incomplete answers in the sample.**\n",
    "\n",
    "After re-reviewing the technical documentation, I found this paragraph buried towards the end:\n",
    "\n",
    ">Responses are made up of complete interviews and sufficient partial interviews. A sufficient partial interview is an incomplete interview in which the household or person answered enough of the questionnaire to be considered a complete interview. Some remaining questions may have been edited or imputed to fill in missing values. Insufficient partial interviews are considered to be nonrespondents.\n",
    "\n",
    "But there are a few columns that stand out as having a lot of -88 values and aren't following this pattern. I would like to look further into those before deciding how to proceed."
   ]
  },
  {
   "cell_type": "code",
   "execution_count": 46,
   "metadata": {
    "scrolled": false
   },
   "outputs": [
    {
     "data": {
      "text/plain": [
       "TBIRTH_YEAR          0\n",
       "EGENDER              0\n",
       "RHISPANIC            0\n",
       "RRACE                0\n",
       "EEDUC                0\n",
       "MS                   0\n",
       "THHLD_NUMKID         0\n",
       "THHLD_NUMADLT        0\n",
       "RECVDVACC            0\n",
       "HADCOVID             0\n",
       "WRKLOSS              0\n",
       "EXPCTLOSS            0\n",
       "ANYWORK              0\n",
       "TW_START             0\n",
       "UI_APPLY           197\n",
       "UI_RECV          65991\n",
       "SSA_RECV           519\n",
       "SSA_APPLY          795\n",
       "EIP               2212\n",
       "EXPNS_DIF         2915\n",
       "SPNDSRC1          7438\n",
       "SPNDSRC2          7438\n",
       "SPNDSRC3          7438\n",
       "SPNDSRC4          7438\n",
       "SPNDSRC5          7438\n",
       "SPNDSRC6          7438\n",
       "SPNDSRC7          7438\n",
       "SPNDSRC8          7438\n",
       "FEWRTRIPS         7438\n",
       "FEWRTRANS         7438\n",
       "PLNDTRIPS         7438\n",
       "CURFOODSUF        7771\n",
       "FREEFOOD          8032\n",
       "SNAP_YN           8195\n",
       "TSPNDFOOD        10775\n",
       "TSPNDPRPD        11054\n",
       "ANXIOUS          12614\n",
       "WORRY            12614\n",
       "INTEREST         12614\n",
       "DOWN             12614\n",
       "DELAY            13906\n",
       "NOTGET           13906\n",
       "PRESCRIPT        13906\n",
       "MH_SVCS          13906\n",
       "MH_NOTGET        13906\n",
       "TENURE           14502\n",
       "LIVQTR           14502\n",
       "ENROLL1          57437\n",
       "ENROLL2          57437\n",
       "ENROLL3          57437\n",
       "TNUM_PS          15652\n",
       "INCOME           16311\n",
       "dtype: int64"
      ]
     },
     "execution_count": 46,
     "metadata": {},
     "output_type": "execute_result"
    }
   ],
   "source": [
    "missing_sum = nan_viz.isna().sum(axis=0)\n",
    "missing_sum.loc[q_order]"
   ]
  },
  {
   "cell_type": "markdown",
   "metadata": {},
   "source": [
    "It looks like the four columns that don't fit the pattern are `UI_RECV`, `ENROLL1`, `ENROLL2`, and `ENROLL1`.\n",
    "\n",
    "The data dictionary says that both of these questions were presented to everyone, but let me do some digging and see if perhaps the -88 count corresponds to the count of people who answered a certain way to a previous, related question."
   ]
  },
  {
   "cell_type": "code",
   "execution_count": 47,
   "metadata": {
    "scrolled": true
   },
   "outputs": [
    {
     "data": {
      "text/plain": [
       " 0.0     65536\n",
       " 1.0     11875\n",
       "-99.0      217\n",
       "-88.0      197\n",
       "Name: UI_APPLY, dtype: int64"
      ]
     },
     "execution_count": 47,
     "metadata": {},
     "output_type": "execute_result"
    }
   ],
   "source": [
    "df['UI_APPLY'].value_counts()"
   ]
  },
  {
   "cell_type": "code",
   "execution_count": 48,
   "metadata": {},
   "outputs": [
    {
     "data": {
      "text/plain": [
       "-88.0    65991\n",
       " 1.0      9481\n",
       " 2.0      2168\n",
       "-99.0      185\n",
       "Name: UI_RECV, dtype: int64"
      ]
     },
     "execution_count": 48,
     "metadata": {},
     "output_type": "execute_result"
    }
   ],
   "source": [
    "df['UI_RECV'].value_counts()"
   ]
  },
  {
   "cell_type": "code",
   "execution_count": 49,
   "metadata": {},
   "outputs": [
    {
     "name": "stdout",
     "output_type": "stream",
     "text": [
      "65950\n"
     ]
    }
   ],
   "source": [
    "# What is the sum of people who answered No (0) or didn't answer 'UI_APPLY'?\n",
    "print(65536 + 217 + 197)"
   ]
  },
  {
   "cell_type": "markdown",
   "metadata": {},
   "source": [
    "That's pretty darn close. I'm thinking 'UI_RECV' was only presented to people who said they actually applied for unemployment benefits."
   ]
  },
  {
   "cell_type": "code",
   "execution_count": 50,
   "metadata": {},
   "outputs": [
    {
     "name": "stdout",
     "output_type": "stream",
     "text": [
      "-88.0    57437\n",
      " 1.0     14266\n",
      "-99.0     6122\n",
      "Name: ENROLL1, dtype: int64\n",
      "-88.0    57437\n",
      "-99.0    18627\n",
      " 1.0      1761\n",
      "Name: ENROLL2, dtype: int64\n",
      "-88.0    57437\n",
      "-99.0    15644\n",
      " 1.0      4744\n",
      "Name: ENROLL3, dtype: int64\n"
     ]
    }
   ],
   "source": [
    "# ENROLL1, ENROLL2, and ENROLL1 would only apply to households who said they\n",
    "# had kids under 18\n",
    "print(df['ENROLL1'].value_counts())\n",
    "print(df['ENROLL2'].value_counts())\n",
    "print(df['ENROLL3'].value_counts())"
   ]
  },
  {
   "cell_type": "code",
   "execution_count": 51,
   "metadata": {
    "scrolled": true
   },
   "outputs": [
    {
     "data": {
      "text/plain": [
       "0.0    52672\n",
       "1.0    11499\n",
       "2.0     8853\n",
       "3.0     3195\n",
       "4.0     1057\n",
       "5.0      549\n",
       "Name: THHLD_NUMKID, dtype: int64"
      ]
     },
     "execution_count": 51,
     "metadata": {},
     "output_type": "execute_result"
    }
   ],
   "source": [
    "df['THHLD_NUMKID'].value_counts()"
   ]
  },
  {
   "cell_type": "markdown",
   "metadata": {},
   "source": [
    "There's some difference between the 52,672 people who said they didn't have kids in the household in question 8, and the 57,437 people who didn't answer the question about how their kids attended school in question 42. But it looks like a decent amount of people didn't make it that far in the questionnaire, so the ~5k differents could just be that."
   ]
  },
  {
   "cell_type": "markdown",
   "metadata": {},
   "source": [
    "## Strategy for Incomplete Questionnaires\n",
    "\n",
    "I found the section of the technical documentation that says there are incomplete questionnaires, and the patterns I can see in the responses matches that. Now I need to decide whether to simply drop these incomplete answers and use only the complete ones, or account for them in some way.\n",
    "\n",
    "To decide, I'll take a look at the class distribution for incomplete versus complete questionnaires and see if there appears to be a difference."
   ]
  },
  {
   "cell_type": "code",
   "execution_count": 52,
   "metadata": {},
   "outputs": [],
   "source": [
    "q_order.remove('ENROLL1')\n",
    "q_order.remove('ENROLL2')\n",
    "q_order.remove('ENROLL3')\n",
    "q_order.remove('UI_RECV')"
   ]
  },
  {
   "cell_type": "code",
   "execution_count": 53,
   "metadata": {
    "scrolled": true
   },
   "outputs": [
    {
     "data": {
      "text/plain": [
       "0        28\n",
       "1         0\n",
       "2        42\n",
       "3         0\n",
       "4         0\n",
       "         ..\n",
       "77820     0\n",
       "77821     0\n",
       "77822     0\n",
       "77823     0\n",
       "77824     0\n",
       "Name: incomplete, Length: 77825, dtype: int64"
      ]
     },
     "execution_count": 53,
     "metadata": {},
     "output_type": "execute_result"
    }
   ],
   "source": [
    "# populate incomplete column with sum of -88 values in top-level q columns\n",
    "def sum_neg88(row):\n",
    "    missing = row.isin([-88]).sum(axis=0)\n",
    "    return missing\n",
    "\n",
    "df['incomplete'] = df[all_preds].apply(sum_neg88, axis=1)\n",
    "\n",
    "df['incomplete']"
   ]
  },
  {
   "cell_type": "code",
   "execution_count": 54,
   "metadata": {
    "scrolled": false
   },
   "outputs": [
    {
     "name": "stdout",
     "output_type": "stream",
     "text": [
      "[-88.0, 1.0, -88.0, -88.0, -88.0, -88.0, -88.0, -88.0, -88.0, -88.0, -88.0, -88.0, -88.0, -88.0, -88.0, -88.0, -88.0, 6.0, 0.0, -88.0, 0.0, -88.0, -88.0, -88.0, -88.0, 1.0, 0.0, -88.0, -88.0, 0.0, -88.0, -88.0, -88.0, 1.0, -88.0, -88.0, -88.0, 0.0, 1.0, 0.0, -88.0, -88.0, -88.0, -88.0, -88.0, -88.0, -88.0, -88.0, -88.0, 0.0, 0.0, -88.0, 1.0, 0.0, -88.0, 0.0, -88.0, 60.0, 2.0, 0.0, -88.0]\n"
     ]
    }
   ],
   "source": [
    "print(list(df[all_preds].loc[2]))"
   ]
  },
  {
   "cell_type": "code",
   "execution_count": 55,
   "metadata": {
    "scrolled": false
   },
   "outputs": [
    {
     "data": {
      "text/plain": [
       "<AxesSubplot:xlabel='incomplete', ylabel='count'>"
      ]
     },
     "execution_count": 55,
     "metadata": {},
     "output_type": "execute_result"
    },
    {
     "data": {
      "image/png": "[encoded data removed]",
      "text/plain": [
       "<Figure size 576x576 with 1 Axes>"
      ]
     },
     "metadata": {
      "needs_background": "light"
     },
     "output_type": "display_data"
    }
   ],
   "source": [
    "# plot number of incomplete questionnaires against target\n",
    "fig, ax = plt.subplots(figsize=(8, 8))\n",
    "sns.countplot(x=df['incomplete'], hue=df['target'], ax=ax)"
   ]
  },
  {
   "cell_type": "markdown",
   "metadata": {},
   "source": [
    "Too difficult to tell. I will bin the incompletes into 0, 1-17, and 28-45, then chart them as a stacked bar chart showing the total percentage."
   ]
  },
  {
   "cell_type": "code",
   "execution_count": 56,
   "metadata": {},
   "outputs": [
    {
     "data": {
      "text/plain": [
       "0_None       61514\n",
       "1_1 to 17     8873\n",
       "2_Over 17     7438\n",
       "Name: inc_bin, dtype: int64"
      ]
     },
     "execution_count": 56,
     "metadata": {},
     "output_type": "execute_result"
    }
   ],
   "source": [
    "# bin the incompletes based on the natural cutoff points shown above\n",
    "df.loc[df['incomplete'] == 0, 'inc_bin'] = '0_None'\n",
    "df.loc[(df['incomplete'] > 0) & (df['incomplete'] <= 17), 'inc_bin'] = '1_1 to 17'\n",
    "df.loc[df['incomplete'] > 17, 'inc_bin'] = '2_Over 17'\n",
    "\n",
    "df['inc_bin'].value_counts()"
   ]
  },
  {
   "cell_type": "code",
   "execution_count": 57,
   "metadata": {
    "scrolled": true
   },
   "outputs": [
    {
     "data": {
      "text/html": [
       "<div>\n",
       "<style scoped>\n",
       "    .dataframe tbody tr th:only-of-type {\n",
       "        vertical-align: middle;\n",
       "    }\n",
       "\n",
       "    .dataframe tbody tr th {\n",
       "        vertical-align: top;\n",
       "    }\n",
       "\n",
       "    .dataframe thead th {\n",
       "        text-align: right;\n",
       "    }\n",
       "</style>\n",
       "<table border=\"1\" class=\"dataframe\">\n",
       "  <thead>\n",
       "    <tr style=\"text-align: right;\">\n",
       "      <th>target</th>\n",
       "      <th>0.0</th>\n",
       "      <th>1.0</th>\n",
       "    </tr>\n",
       "    <tr>\n",
       "      <th>inc_bin</th>\n",
       "      <th></th>\n",
       "      <th></th>\n",
       "    </tr>\n",
       "  </thead>\n",
       "  <tbody>\n",
       "    <tr>\n",
       "      <th>0_None</th>\n",
       "      <td>54463</td>\n",
       "      <td>7051</td>\n",
       "    </tr>\n",
       "    <tr>\n",
       "      <th>1_1 to 17</th>\n",
       "      <td>7542</td>\n",
       "      <td>1331</td>\n",
       "    </tr>\n",
       "    <tr>\n",
       "      <th>2_Over 17</th>\n",
       "      <td>6315</td>\n",
       "      <td>1123</td>\n",
       "    </tr>\n",
       "  </tbody>\n",
       "</table>\n",
       "</div>"
      ],
      "text/plain": [
       "target       0.0   1.0\n",
       "inc_bin               \n",
       "0_None     54463  7051\n",
       "1_1 to 17   7542  1331\n",
       "2_Over 17   6315  1123"
      ]
     },
     "execution_count": 57,
     "metadata": {},
     "output_type": "execute_result"
    }
   ],
   "source": [
    "inc = df.groupby(['inc_bin', 'target'])['target'].count().unstack()\n",
    "inc"
   ]
  },
  {
   "cell_type": "code",
   "execution_count": 58,
   "metadata": {
    "scrolled": true
   },
   "outputs": [
    {
     "data": {
      "text/html": [
       "<div>\n",
       "<style scoped>\n",
       "    .dataframe tbody tr th:only-of-type {\n",
       "        vertical-align: middle;\n",
       "    }\n",
       "\n",
       "    .dataframe tbody tr th {\n",
       "        vertical-align: top;\n",
       "    }\n",
       "\n",
       "    .dataframe thead th {\n",
       "        text-align: right;\n",
       "    }\n",
       "</style>\n",
       "<table border=\"1\" class=\"dataframe\">\n",
       "  <thead>\n",
       "    <tr style=\"text-align: right;\">\n",
       "      <th>target</th>\n",
       "      <th>0.0</th>\n",
       "      <th>1.0</th>\n",
       "      <th>prop_opt</th>\n",
       "      <th>prop_hes</th>\n",
       "      <th>prop_tot</th>\n",
       "    </tr>\n",
       "    <tr>\n",
       "      <th>inc_bin</th>\n",
       "      <th></th>\n",
       "      <th></th>\n",
       "      <th></th>\n",
       "      <th></th>\n",
       "      <th></th>\n",
       "    </tr>\n",
       "  </thead>\n",
       "  <tbody>\n",
       "    <tr>\n",
       "      <th>0_None</th>\n",
       "      <td>54463</td>\n",
       "      <td>7051</td>\n",
       "      <td>0.89</td>\n",
       "      <td>0.11</td>\n",
       "      <td>1.0</td>\n",
       "    </tr>\n",
       "    <tr>\n",
       "      <th>1_1 to 17</th>\n",
       "      <td>7542</td>\n",
       "      <td>1331</td>\n",
       "      <td>0.85</td>\n",
       "      <td>0.15</td>\n",
       "      <td>1.0</td>\n",
       "    </tr>\n",
       "    <tr>\n",
       "      <th>2_Over 17</th>\n",
       "      <td>6315</td>\n",
       "      <td>1123</td>\n",
       "      <td>0.85</td>\n",
       "      <td>0.15</td>\n",
       "      <td>1.0</td>\n",
       "    </tr>\n",
       "  </tbody>\n",
       "</table>\n",
       "</div>"
      ],
      "text/plain": [
       "target       0.0   1.0  prop_opt  prop_hes  prop_tot\n",
       "inc_bin                                             \n",
       "0_None     54463  7051      0.89      0.11       1.0\n",
       "1_1 to 17   7542  1331      0.85      0.15       1.0\n",
       "2_Over 17   6315  1123      0.85      0.15       1.0"
      ]
     },
     "execution_count": 58,
     "metadata": {},
     "output_type": "execute_result"
    }
   ],
   "source": [
    "for row in inc.index:\n",
    "    opt = inc.at[row, 0.0]\n",
    "    hes = inc.at[row, 1.0]\n",
    "    tot = opt + hes\n",
    "    #print(opt, pes, tot)\n",
    "    inc.loc[row, 'prop_opt'] = np.round(opt/tot, 2)\n",
    "    inc.loc[row, 'prop_hes'] = np.round(hes/tot, 2)\n",
    "    inc.loc[row, 'prop_tot'] = 1\n",
    "    \n",
    "inc "
   ]
  },
  {
   "cell_type": "code",
   "execution_count": 59,
   "metadata": {},
   "outputs": [
    {
     "data": {
      "image/png": "[encoded data removed]",
      "text/plain": [
       "<Figure size 576x432 with 1 Axes>"
      ]
     },
     "metadata": {
      "needs_background": "light"
     },
     "output_type": "display_data"
    }
   ],
   "source": [
    "# https://www.tutorialspoint.com/how-to-create-a-stacked-bar-chart-for-my-dataframe-using-seaborn-in-matplotlib\n",
    "\n",
    "fig, ax = plt.subplots(figsize=(8, 6))\n",
    "\n",
    "opt = sns.barplot(x=inc.index, y='prop_tot', data=inc, label=\"Optimistic\", color=\"green\")\n",
    "hes = sns.barplot(x=inc.index, y='prop_hes', data=inc, label=\"Hesitant\", color=\"red\")\n",
    "plt.legend(ncol=2, loc=\"upper right\", frameon=True)\n",
    "plt.show()"
   ]
  },
  {
   "cell_type": "markdown",
   "metadata": {},
   "source": [
    "Interesting, so it doesn't appear to make much difference how many incomplete questions were left (under 17 or over 17), in both cases the proportion of vaccine hesitants are 15%. This is compared to 11% vaccine hesitants in the population where people completed the whole thing.\n",
    "\n",
    "I will create a binary column for 'incomplete' to use as a predictor, which will stand in for all the -88 values in the top-level questions. This should cut down on my cardinality a lot, although I'll still have the -99 values that represent someone skipping a particular question.\n",
    "\n",
    "To make it easy to get rid of the -88 values I will set them equal to the 'first', or lowest value in the column, and when I use sklearn's OneHotEncoder, I will drop the first column.\n",
    "\n",
    "I will convert -88 to -2 so it will be 'first' and will convert -99, which represents someone viewing but skipping a particular question, as -1."
   ]
  },
  {
   "cell_type": "code",
   "execution_count": 60,
   "metadata": {},
   "outputs": [
    {
     "name": "stdout",
     "output_type": "stream",
     "text": [
      "[0, 0, 0, 0, 0, 0, 0, 0, 0, 0, 0, 0, 0, 0, 0, 0, 0, 0, 0, 0, 0, 0, 0, 0, 0, 0, 0, 0, 0, 0, 0, 0, 0, 0, 0, 0, 0, 0, 0, 0, 0, 0, 0, 0, 0, 0, 0, 0, 0, 0, 0, 0, 0, 0, 0, 0]\n"
     ]
    }
   ],
   "source": [
    "# replace -88 with -2 and -99 with -1 for all cat cols\n",
    "# I will still need to deal with some missing values in num cols\n",
    "\n",
    "for col in cat_cols:\n",
    "    df.loc[df[col] == -88, col] = -2\n",
    "    df.loc[df[col] == -99, col] = -1\n",
    "\n",
    "# check for remaining -88 and -99 values\n",
    "print(list(df[cat_cols].isin([-88, -99]).sum(axis=0)))"
   ]
  },
  {
   "cell_type": "code",
   "execution_count": 61,
   "metadata": {
    "scrolled": false
   },
   "outputs": [
    {
     "data": {
      "text/plain": [
       "PROP_FOODSPEND_HOME    14015\n",
       "AGE                        0\n",
       "THHLD_NUMADLT              0\n",
       "THHLD_NUMKID               0\n",
       "TNUM_PS                17177\n",
       "dtype: int64"
      ]
     },
     "execution_count": 61,
     "metadata": {},
     "output_type": "execute_result"
    }
   ],
   "source": [
    "# take a look at which num cols have -88 or -99 values\n",
    "df[num_cols].isin([-88, -99]).sum(axis=0)"
   ]
  },
  {
   "cell_type": "markdown",
   "metadata": {},
   "source": [
    "I will need to remember to do something else with these numerical values when I prepare the data for modeling, as they will need to be replaced with something. But for now, so I can chart the columns against the target, I will see if it's safe to assign -2 and -1 to my placeholders. I want to set them on a scale that will work well with the rest of the values when I chart them on a continuous x axis, but also be easy to single out for replacement with something else later."
   ]
  },
  {
   "cell_type": "code",
   "execution_count": 67,
   "metadata": {
    "scrolled": true
   },
   "outputs": [
    {
     "data": {
      "text/plain": [
       "PROP_FOODSPEND_HOME\n",
       "-88.0                  10775\n",
       "-99.0                   3240\n",
       "dtype: int64"
      ]
     },
     "execution_count": 67,
     "metadata": {},
     "output_type": "execute_result"
    }
   ],
   "source": [
    "# are there any values less than 0 other than -88 and -99?\n",
    "df.loc[df['PROP_FOODSPEND_HOME'] < 0, ['PROP_FOODSPEND_HOME']].value_counts()"
   ]
  },
  {
   "cell_type": "code",
   "execution_count": 68,
   "metadata": {},
   "outputs": [
    {
     "data": {
      "text/plain": [
       "TNUM_PS\n",
       "-88.0      15652\n",
       "-99.0       1525\n",
       "dtype: int64"
      ]
     },
     "execution_count": 68,
     "metadata": {},
     "output_type": "execute_result"
    }
   ],
   "source": [
    "# are there any values less than 0 other than -88 and -99?\n",
    "df.loc[df['TNUM_PS'] < 0, ['TNUM_PS']].value_counts()"
   ]
  },
  {
   "cell_type": "code",
   "execution_count": 69,
   "metadata": {},
   "outputs": [],
   "source": [
    "# Both columns look fine t replace with -2 and -1\n",
    "for col in ['TNUM_PS', 'PROP_FOODSPEND_HOME']:\n",
    "    df.loc[df[col] == -88, col] = -2\n",
    "    df.loc[df[col] == -99, col] = -1"
   ]
  },
  {
   "cell_type": "markdown",
   "metadata": {},
   "source": [
    "# EXPLORE"
   ]
  },
  {
   "cell_type": "code",
   "execution_count": null,
   "metadata": {},
   "outputs": [],
   "source": [
    "#class1 = df.loc[df['target']==1, ['target', 'EEDUC']]\n",
    "#class0 = df.loc[df['target']==0, ['target', 'EEDUC']]\n",
    "#sns.kdeplot(data=df, x='EEDUC', ax=ax, hue='target', common_norm=True, \n",
    "#            bw_adjust=2)\n",
    "\n",
    "#multiple='dodge', shrink=0.75,\n",
    "#,discrete=True, kde=True, kde_kws={}\n",
    "\n",
    "#df['MS'] = df['MS'].astype('category',copy=False)\n",
    "\n",
    "# this one worked, but not with categorical variables\n",
    "#sns.displot(df, x='MS', hue=\"target\", discrete=True, \n",
    "#            multiple='dodge', shrink=0.75, kde=True, \n",
    "#            kde_kws={'bw_adjust':3})"
   ]
  },
  {
   "cell_type": "code",
   "execution_count": 71,
   "metadata": {
    "scrolled": false
   },
   "outputs": [
    {
     "name": "stderr",
     "output_type": "stream",
     "text": [
      "<ipython-input-71-b9b54bf74269>:3: RuntimeWarning: More than 20 figures have been opened. Figures created through the pyplot interface (`matplotlib.pyplot.figure`) are retained until explicitly closed and may consume too much memory. (To control this warning, see the rcParam `figure.max_open_warning`).\n",
      "  fig, ax = plt.subplots(figsize=(8, 8))\n"
     ]
    },
    {
     "data": {
      "image/png": "[encoded data removed]",
      "text/plain": [
       "<Figure size 576x576 with 1 Axes>"
      ]
     },
     "metadata": {
      "needs_background": "light"
     },
     "output_type": "display_data"
    },
    {
     "data": {
      "image/png": "[encoded data removed]",
      "text/plain": [
       "<Figure size 576x576 with 1 Axes>"
      ]
     },
     "metadata": {
      "needs_background": "light"
     },
     "output_type": "display_data"
    },
    {
     "data": {
      "image/png": "[encoded data removed]",
      "text/plain": [
       "<Figure size 576x576 with 1 Axes>"
      ]
     },
     "metadata": {
      "needs_background": "light"
     },
     "output_type": "display_data"
    },
    {
     "data": {
      "image/png": "[encoded data removed]",
      "text/plain": [
       "<Figure size 576x576 with 1 Axes>"
      ]
     },
     "metadata": {
      "needs_background": "light"
     },
     "output_type": "display_data"
    },
    {
     "data": {
      "image/png": "[encoded data removed]",
      "text/plain": [
       "<Figure size 576x576 with 1 Axes>"
      ]
     },
     "metadata": {
      "needs_background": "light"
     },
     "output_type": "display_data"
    },
    {
     "data": {
      "image/png": "[encoded data removed]",
      "text/plain": [
       "<Figure size 576x576 with 1 Axes>"
      ]
     },
     "metadata": {
      "needs_background": "light"
     },
     "output_type": "display_data"
    },
    {
     "data": {
      "image/png": "[encoded data removed]",
      "text/plain": [
       "<Figure size 576x576 with 1 Axes>"
      ]
     },
     "metadata": {
      "needs_background": "light"
     },
     "output_type": "display_data"
    },
    {
     "data": {
      "image/png": "[encoded data removed]",
      "text/plain": [
       "<Figure size 576x576 with 1 Axes>"
      ]
     },
     "metadata": {
      "needs_background": "light"
     },
     "output_type": "display_data"
    },
    {
     "data": {
      "image/png": "[encoded data removed]",
      "text/plain": [
       "<Figure size 576x576 with 1 Axes>"
      ]
     },
     "metadata": {
      "needs_background": "light"
     },
     "output_type": "display_data"
    },
    {
     "data": {
      "image/png": "[encoded data removed]",
      "text/plain": [
       "<Figure size 576x576 with 1 Axes>"
      ]
     },
     "metadata": {
      "needs_background": "light"
     },
     "output_type": "display_data"
    },
    {
     "data": {
      "image/png": "[encoded data removed]",
      "text/plain": [
       "<Figure size 576x576 with 1 Axes>"
      ]
     },
     "metadata": {
      "needs_background": "light"
     },
     "output_type": "display_data"
    },
    {
     "data": {
      "image/png": "[encoded data removed]",
      "text/plain": [
       "<Figure size 576x576 with 1 Axes>"
      ]
     },
     "metadata": {
      "needs_background": "light"
     },
     "output_type": "display_data"
    },
    {
     "data": {
      "image/png": "[encoded data removed]",
      "text/plain": [
       "<Figure size 576x576 with 1 Axes>"
      ]
     },
     "metadata": {
      "needs_background": "light"
     },
     "output_type": "display_data"
    },
    {
     "data": {
      "image/png": "[encoded data removed]",
      "text/plain": [
       "<Figure size 576x576 with 1 Axes>"
      ]
     },
     "metadata": {
      "needs_background": "light"
     },
     "output_type": "display_data"
    },
    {
     "data": {
      "image/png": "[encoded data removed]",
      "text/plain": [
       "<Figure size 576x576 with 1 Axes>"
      ]
     },
     "metadata": {
      "needs_background": "light"
     },
     "output_type": "display_data"
    },
    {
     "data": {
      "image/png": "[encoded data removed]",
      "text/plain": [
       "<Figure size 576x576 with 1 Axes>"
      ]
     },
     "metadata": {
      "needs_background": "light"
     },
     "output_type": "display_data"
    },
    {
     "data": {
      "image/png": "[encoded data removed]",
      "text/plain": [
       "<Figure size 576x576 with 1 Axes>"
      ]
     },
     "metadata": {
      "needs_background": "light"
     },
     "output_type": "display_data"
    },
    {
     "data": {
      "image/png": "[encoded data removed]",
      "text/plain": [
       "<Figure size 576x576 with 1 Axes>"
      ]
     },
     "metadata": {
      "needs_background": "light"
     },
     "output_type": "display_data"
    },
    {
     "data": {
      "image/png": "[encoded data removed]",
      "text/plain": [
       "<Figure size 576x576 with 1 Axes>"
      ]
     },
     "metadata": {
      "needs_background": "light"
     },
     "output_type": "display_data"
    },
    {
     "data": {
      "image/png": "[encoded data removed]",
      "text/plain": [
       "<Figure size 576x576 with 1 Axes>"
      ]
     },
     "metadata": {
      "needs_background": "light"
     },
     "output_type": "display_data"
    },
    {
     "data": {
      "image/png": "[encoded data removed]",
      "text/plain": [
       "<Figure size 576x576 with 1 Axes>"
      ]
     },
     "metadata": {
      "needs_background": "light"
     },
     "output_type": "display_data"
    },
    {
     "data": {
      "image/png": "[encoded data removed]",
      "text/plain": [
       "<Figure size 576x576 with 1 Axes>"
      ]
     },
     "metadata": {
      "needs_background": "light"
     },
     "output_type": "display_data"
    },
    {
     "data": {
      "image/png": "[encoded data removed]",
      "text/plain": [
       "<Figure size 576x576 with 1 Axes>"
      ]
     },
     "metadata": {
      "needs_background": "light"
     },
     "output_type": "display_data"
    },
    {
     "data": {
      "image/png": "[encoded data removed]",
      "text/plain": [
       "<Figure size 576x576 with 1 Axes>"
      ]
     },
     "metadata": {
      "needs_background": "light"
     },
     "output_type": "display_data"
    },
    {
     "data": {
      "image/png": "[encoded data removed]",
      "text/plain": [
       "<Figure size 576x576 with 1 Axes>"
      ]
     },
     "metadata": {
      "needs_background": "light"
     },
     "output_type": "display_data"
    },
    {
     "data": {
      "image/png": "[encoded data removed]",
      "text/plain": [
       "<Figure size 576x576 with 1 Axes>"
      ]
     },
     "metadata": {
      "needs_background": "light"
     },
     "output_type": "display_data"
    },
    {
     "data": {
      "image/png": "[encoded data removed]",
      "text/plain": [
       "<Figure size 576x576 with 1 Axes>"
      ]
     },
     "metadata": {
      "needs_background": "light"
     },
     "output_type": "display_data"
    },
    {
     "data": {
      "image/png": "[encoded data removed]",
      "text/plain": [
       "<Figure size 576x576 with 1 Axes>"
      ]
     },
     "metadata": {
      "needs_background": "light"
     },
     "output_type": "display_data"
    },
    {
     "data": {
      "image/png": "[encoded data removed]",
      "text/plain": [
       "<Figure size 576x576 with 1 Axes>"
      ]
     },
     "metadata": {
      "needs_background": "light"
     },
     "output_type": "display_data"
    },
    {
     "data": {
      "image/png": "[encoded data removed]",
      "text/plain": [
       "<Figure size 576x576 with 1 Axes>"
      ]
     },
     "metadata": {
      "needs_background": "light"
     },
     "output_type": "display_data"
    },
    {
     "data": {
      "image/png": "[encoded data removed]",
      "text/plain": [
       "<Figure size 576x576 with 1 Axes>"
      ]
     },
     "metadata": {
      "needs_background": "light"
     },
     "output_type": "display_data"
    },
    {
     "data": {
      "image/png": "[encoded data removed]",
      "text/plain": [
       "<Figure size 576x576 with 1 Axes>"
      ]
     },
     "metadata": {
      "needs_background": "light"
     },
     "output_type": "display_data"
    },
    {
     "data": {
      "image/png": "[encoded data removed]",
      "text/plain": [
       "<Figure size 576x576 with 1 Axes>"
      ]
     },
     "metadata": {
      "needs_background": "light"
     },
     "output_type": "display_data"
    },
    {
     "data": {
      "image/png": "[encoded data removed]",
      "text/plain": [
       "<Figure size 576x576 with 1 Axes>"
      ]
     },
     "metadata": {
      "needs_background": "light"
     },
     "output_type": "display_data"
    },
    {
     "data": {
      "image/png": "[encoded data removed]",
      "text/plain": [
       "<Figure size 576x576 with 1 Axes>"
      ]
     },
     "metadata": {
      "needs_background": "light"
     },
     "output_type": "display_data"
    },
    {
     "data": {
      "image/png": "[encoded data removed]",
      "text/plain": [
       "<Figure size 576x576 with 1 Axes>"
      ]
     },
     "metadata": {
      "needs_background": "light"
     },
     "output_type": "display_data"
    },
    {
     "data": {
      "image/png": "[encoded data removed]",
      "text/plain": [
       "<Figure size 576x576 with 1 Axes>"
      ]
     },
     "metadata": {
      "needs_background": "light"
     },
     "output_type": "display_data"
    },
    {
     "data": {
      "image/png": "[encoded data removed]",
      "text/plain": [
       "<Figure size 576x576 with 1 Axes>"
      ]
     },
     "metadata": {
      "needs_background": "light"
     },
     "output_type": "display_data"
    },
    {
     "data": {
      "image/png": "[encoded data removed]",
      "text/plain": [
       "<Figure size 576x576 with 1 Axes>"
      ]
     },
     "metadata": {
      "needs_background": "light"
     },
     "output_type": "display_data"
    },
    {
     "data": {
      "image/png": "[encoded data removed]",
      "text/plain": [
       "<Figure size 576x576 with 1 Axes>"
      ]
     },
     "metadata": {
      "needs_background": "light"
     },
     "output_type": "display_data"
    },
    {
     "data": {
      "image/png": "[encoded data removed]",
      "text/plain": [
       "<Figure size 576x576 with 1 Axes>"
      ]
     },
     "metadata": {
      "needs_background": "light"
     },
     "output_type": "display_data"
    },
    {
     "data": {
      "image/png": "[encoded data removed]",
      "text/plain": [
       "<Figure size 576x576 with 1 Axes>"
      ]
     },
     "metadata": {
      "needs_background": "light"
     },
     "output_type": "display_data"
    },
    {
     "data": {
      "image/png": "[encoded data removed]",
      "text/plain": [
       "<Figure size 576x576 with 1 Axes>"
      ]
     },
     "metadata": {
      "needs_background": "light"
     },
     "output_type": "display_data"
    },
    {
     "data": {
      "image/png": "[encoded data removed]",
      "text/plain": [
       "<Figure size 576x576 with 1 Axes>"
      ]
     },
     "metadata": {
      "needs_background": "light"
     },
     "output_type": "display_data"
    },
    {
     "data": {
      "image/png": "[encoded data removed]",
      "text/plain": [
       "<Figure size 576x576 with 1 Axes>"
      ]
     },
     "metadata": {
      "needs_background": "light"
     },
     "output_type": "display_data"
    },
    {
     "data": {
      "image/png": "[encoded data removed]",
      "text/plain": [
       "<Figure size 576x576 with 1 Axes>"
      ]
     },
     "metadata": {
      "needs_background": "light"
     },
     "output_type": "display_data"
    },
    {
     "data": {
      "image/png": "[encoded data removed]",
      "text/plain": [
       "<Figure size 576x576 with 1 Axes>"
      ]
     },
     "metadata": {
      "needs_background": "light"
     },
     "output_type": "display_data"
    },
    {
     "data": {
      "image/png": "[encoded data removed]",
      "text/plain": [
       "<Figure size 576x576 with 1 Axes>"
      ]
     },
     "metadata": {
      "needs_background": "light"
     },
     "output_type": "display_data"
    },
    {
     "data": {
      "image/png": "[encoded data removed]",
      "text/plain": [
       "<Figure size 576x576 with 1 Axes>"
      ]
     },
     "metadata": {
      "needs_background": "light"
     },
     "output_type": "display_data"
    },
    {
     "data": {
      "image/png": "[encoded data removed]",
      "text/plain": [
       "<Figure size 576x576 with 1 Axes>"
      ]
     },
     "metadata": {
      "needs_background": "light"
     },
     "output_type": "display_data"
    },
    {
     "data": {
      "image/png": "[encoded data removed]",
      "text/plain": [
       "<Figure size 576x576 with 1 Axes>"
      ]
     },
     "metadata": {
      "needs_background": "light"
     },
     "output_type": "display_data"
    },
    {
     "data": {
      "image/png": "[encoded data removed]",
      "text/plain": [
       "<Figure size 576x576 with 1 Axes>"
      ]
     },
     "metadata": {
      "needs_background": "light"
     },
     "output_type": "display_data"
    },
    {
     "data": {
      "image/png": "[encoded data removed]",
      "text/plain": [
       "<Figure size 576x576 with 1 Axes>"
      ]
     },
     "metadata": {
      "needs_background": "light"
     },
     "output_type": "display_data"
    },
    {
     "data": {
      "image/png": "[encoded data removed]",
      "text/plain": [
       "<Figure size 576x576 with 1 Axes>"
      ]
     },
     "metadata": {
      "needs_background": "light"
     },
     "output_type": "display_data"
    },
    {
     "data": {
      "image/png": "[encoded data removed]",
      "text/plain": [
       "<Figure size 576x576 with 1 Axes>"
      ]
     },
     "metadata": {
      "needs_background": "light"
     },
     "output_type": "display_data"
    },
    {
     "data": {
      "image/png": "[encoded data removed]",
      "text/plain": [
       "<Figure size 576x576 with 1 Axes>"
      ]
     },
     "metadata": {
      "needs_background": "light"
     },
     "output_type": "display_data"
    }
   ],
   "source": [
    "# plot class distribution for each cat col and per target class\n",
    "for col in cat_cols:\n",
    "    fig, ax = plt.subplots(figsize=(8, 8))\n",
    "    sns.countplot(data=df, x=col, hue=\"target\", ax=ax)"
   ]
  },
  {
   "cell_type": "markdown",
   "metadata": {},
   "source": [
    "# MODEL"
   ]
  },
  {
   "cell_type": "markdown",
   "metadata": {},
   "source": [
    "## Data Modeling\n",
    "Describe and justify the process for analyzing or modeling the data.\n",
    "\n",
    "***\n",
    "Questions to consider:\n",
    "* How did you analyze or model the data?\n",
    "* How did you iterate on your initial approach to make it better?\n",
    "* Why are these choices appropriate given the data and the business problem?\n",
    "***"
   ]
  },
  {
   "cell_type": "code",
   "execution_count": null,
   "metadata": {},
   "outputs": [],
   "source": []
  },
  {
   "cell_type": "markdown",
   "metadata": {},
   "source": [
    "# iNTERPRET"
   ]
  },
  {
   "cell_type": "markdown",
   "metadata": {},
   "source": [
    "Evaluate how well your work solves the stated business problem.\n",
    "\n",
    "***\n",
    "Questions to consider:\n",
    "* How do you interpret the results?\n",
    "* How well does your model fit your data? How much better is this than your baseline model?\n",
    "* How confident are you that your results would generalize beyond the data you have?\n",
    "* How confident are you that this model would benefit the business if put into use?\n",
    "***"
   ]
  },
  {
   "cell_type": "code",
   "execution_count": null,
   "metadata": {},
   "outputs": [],
   "source": []
  },
  {
   "cell_type": "markdown",
   "metadata": {},
   "source": [
    "# CONCLUSIONS & RECOMMENDATIONS"
   ]
  },
  {
   "cell_type": "markdown",
   "metadata": {},
   "source": [
    "Provide your conclusions about the work you've done, including any limitations or next steps.\n",
    "\n",
    "***\n",
    "Questions to consider:\n",
    "* What would you recommend the business do as a result of this work?\n",
    "* What are some reasons why your analysis might not fully solve the business problem?\n",
    "* What else could you do in the future to improve this project?\n",
    "***"
   ]
  },
  {
   "cell_type": "code",
   "execution_count": null,
   "metadata": {},
   "outputs": [],
   "source": []
  }
 ],
 "metadata": {
  "kernelspec": {
   "display_name": "learn-env",
   "language": "python",
   "name": "learn-env"
  },
  "language_info": {
   "codemirror_mode": {
    "name": "ipython",
    "version": 3
   },
   "file_extension": ".py",
   "mimetype": "text/x-python",
   "name": "python",
   "nbconvert_exporter": "python",
   "pygments_lexer": "ipython3",
   "version": "3.8.5"
  },
  "toc": {
   "base_numbering": 1,
   "nav_menu": {},
   "number_sections": false,
   "sideBar": true,
   "skip_h1_title": false,
   "title_cell": "Table of Contents",
   "title_sidebar": "Contents",
   "toc_cell": false,
   "toc_position": {},
   "toc_section_display": true,
   "toc_window_display": true
  },
  "varInspector": {
   "cols": {
    "lenName": 16,
    "lenType": 16,
    "lenVar": 40
   },
   "kernels_config": {
    "python": {
     "delete_cmd_postfix": "",
     "delete_cmd_prefix": "del ",
     "library": "var_list.py",
     "varRefreshCmd": "print(var_dic_list())"
    },
    "r": {
     "delete_cmd_postfix": ") ",
     "delete_cmd_prefix": "rm(",
     "library": "var_list.r",
     "varRefreshCmd": "cat(var_dic_list()) "
    }
   },
   "types_to_exclude": [
    "module",
    "function",
    "builtin_function_or_method",
    "instance",
    "_Feature"
   ],
   "window_display": false
  }
 },
 "nbformat": 4,
 "nbformat_minor": 2
}
