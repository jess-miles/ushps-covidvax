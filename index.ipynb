{
 "cells": [
  {
   "cell_type": "markdown",
   "metadata": {},
   "source": [
    "## OVERVIEW OF OSEMiN"
   ]
  },
  {
   "cell_type": "markdown",
   "metadata": {},
   "source": [
    "<img src='https://raw.githubusercontent.com/jirvingphd/fsds_100719_cohort_notes/master/images/OSEMN.png' width=800>\n",
    "\n",
    "<center><a href=\"https://www.kdnuggets.com/2018/02/data-science-command-line-book-exploring-data.html\"> \n",
    "    </a></center>\n",
    "\n",
    "\n",
    "> <font size=2em>The Data Science Process we'll be using during this section--OSEMiN (pronounced \"OH-sum\", rhymes with \"possum\").  This is the most straightforward of the Data Science Processes discussed so far.  **Note that during this process, just like the others, the stages often blur together.***  It is completely acceptable (and ***often a best practice!) to float back and forth** between stages as you learn new things about your problem, dataset, requirements, etc.  \n",
    "It's quite common to get to the modeling step and realize that you need to scrub your data a bit more or engineer a different feature and jump back to the \"Scrub\" stage, or go all the way back to the \"Obtain\" stage when you realize your current data isn't sufficient to solve this problem. \n",
    "As with any of these frameworks, *OSEMiN is meant to be treated as guidelines, not law. \n",
    "</font>\n",
    "\n",
    "\n",
    "### OSEMN DETAILS\n",
    "\n",
    "**OBTAIN**\n",
    "\n",
    "- This step involves understanding stakeholder requirements, gathering information on the problem, and finally sourcing data that we think will be necessary for solving this problem. \n",
    "\n",
    "**SCRUB**\n",
    "\n",
    "- During this stage, we'll focus on preprocessing our data.  Important steps such as identifying and removing null values, dealing with outliers, normalizing data, and feature engineering/feature selection are handled around this stage.  The line with this stage really blurs with the _Explore_ stage, as it is common to only realize that certain columns require cleaning or preprocessing as a result of the visualzations and explorations done during Step 3.  \n",
    "\n",
    "- Note that although technically, categorical data should be one-hot encoded during this step, in practice, it's usually done after data exploration.  This is because it is much less time-consuming to visualize and explore a few columns containing categorical data than it is to explore many different dummy columns that have been one-hot encoded. \n",
    "\n",
    "**EXPLORE**\n",
    "\n",
    "- This step focuses on getting to know the dataset you're working with. As mentioned above, this step tends to blend with the _Scrub_ step mentioned above.  During this step, you'll create visualizations to really get a feel for your dataset.  You'll focus on things such as understanding the distribution of different columns, checking for multicollinearity, and other tasks liek that.  If your project is a classification task, you may check the balance of the different classes in your dataset.  If your problem is a regression task, you may check that the dataset meets the assumptions necessary for a regression task.  \n",
    "\n",
    "- At the end of this step, you should have a dataset ready for modeling that you've thoroughly explored and are extremely familiar with.  \n",
    "\n",
    "**MODEL**\n",
    "\n",
    "- This step, as with the last two frameworks, is also pretty self-explanatory. It consists of building and tuning models using all the tools you have in your data science toolbox.  In practice, this often means defining a threshold for success, selecting machine learning algorithms to test on the project, and tuning the ones that show promise to try and increase your results.  As with the other stages, it is both common and accepted to realize something, jump back to a previous stage like _Scrub_ or _Explore_, and make some changes to see how it affects the model.  \n",
    "\n",
    "**iNTERPRET**\n",
    "\n",
    "- During this step, you'll interpret the results of your model(s), and communicate results to stakeholders.  As with the other frameworks, communication is incredibily important! During this stage, you may come to realize that further investigation is needed, or more data.  That's totally fine--figure out what's needed, go get it, and start the process over! If your results are satisfactory to all stakeholders involved, you may also go from this stage right into productionizing your model and automating processes necessary to support it.  \n",
    "\n",
    "\n",
    "\n"
   ]
  },
  {
   "cell_type": "markdown",
   "metadata": {},
   "source": [
    "## PROCESS CHECKLIST\n"
   ]
  },
  {
   "cell_type": "markdown",
   "metadata": {},
   "source": [
    "> Keep in mind that it is normal to jump between the OSEMN phases and some of them will blend together, like SCRUB and EXPLORE."
   ]
  },
  {
   "cell_type": "markdown",
   "metadata": {},
   "source": [
    "1. **[OBTAIN](#OBTAIN)**\n",
    "    - Import data, inspect, check for datatypes to convert and null values\n",
    "    - Display header and info.\n",
    "    - Drop any unneeded columns, if known (`df.drop(['col1','col2'],axis=1,inplace=True`)\n",
    "    <br><br>\n",
    "\n",
    "\n",
    "2. **[SCRUB](#SCRUB)**\n",
    "    - Recast data types, identify outliers, check for multicollinearity, normalize data**\n",
    "    - Check and cast data types\n",
    "        - [ ] Check for #'s that are store as objects (`df.info()`,`df.describe()`)\n",
    "            - when converting to #'s, look for odd values (like many 0's), or strings that can't be converted.\n",
    "            - Decide how to deal weird/null values (`df.unique()`, `df.isna().sum()`)\n",
    "            - `df.fillna(subset=['col_with_nulls'],'fill_value')`, `df.replace()`\n",
    "        - [ ] Check for categorical variables stored as integers.\n",
    "            - May be easier to tell when you make a scatter plotm or `pd.plotting.scatter_matrix()`\n",
    "            \n",
    "    - [ ] Check for missing values  (df.isna().sum())\n",
    "        - Can drop rows or colums\n",
    "        - For missing numeric data with median or bin/convert to categorical\n",
    "        - For missing categorical data: make NaN own category OR replace with most common category\n",
    "    - [ ] Check for multicollinearity\n",
    "        - Use seaborn to make correlation matrix plot \n",
    "        - Good rule of thumb is anything over 0.75 corr is high, remove the variable that has the most correl with the largest # of variables\n",
    "    - [ ] Normalize data (may want to do after some exploring)\n",
    "        - Most popular is Z-scoring (but won't fix skew) \n",
    "        - Can log-transform to fix skewed data\n",
    "    \n",
    "    \n",
    "3. **[EXPLORE](#EXPLORE)**\n",
    "    - [ ] Check distributions, outliers, etc**\n",
    "    - [ ] Check scales, ranges (df.describe())\n",
    "    - [ ] Check histograms to get an idea of distributions (df.hist()) and data transformations to perform.\n",
    "        - Can also do kernel density estimates\n",
    "    - [ ] Use scatter plots to check for linearity and possible categorical variables (`df.plot(\"x\",\"y\")`)\n",
    "        - categoricals will look like vertical lines\n",
    "    - [ ] Use `pd.plotting.scatter_matrix(df)` to visualize possible relationships\n",
    "    - [ ] Check for linearity.\n",
    "   \n",
    "   \n",
    "4. **[MODEL](#MODEL)**\n",
    "\n",
    "    - **Fit an initial model:** \n",
    "        - Run an initial model and get results\n",
    "\n",
    "    - **Holdout validation / Train/test split**\n",
    "        - use sklearn `train_test_split`\n",
    "    \n",
    "    \n",
    "5. **[iNTERPRET](#iNTERPRET)**\n",
    "    - **Assessing the model:**\n",
    "        - Assess parameters (slope,intercept)\n",
    "        - Check if the model explains the variation in the data (RMSE, F, R_square)\n",
    "        - *Are the coeffs, slopes, intercepts in appropriate units?*\n",
    "        - *Whats the impact of collinearity? Can we ignore?*\n",
    "        <br><br>\n",
    "    - **Revise the fitted model**\n",
    "        - Multicollinearity is big issue for lin regression and cannot fully remove it\n",
    "        - Use the predictive ability of model to test it (like R2 and RMSE)\n",
    "        - Check for missed non-linearity\n",
    "        \n",
    "       \n",
    "6. **Interpret final model and draw >=3 conclusions and recommendations from dataset**"
   ]
  },
  {
   "cell_type": "markdown",
   "metadata": {
    "ExecuteTime": {
     "end_time": "2020-01-29T18:00:23.504059Z",
     "start_time": "2020-01-29T18:00:23.498461Z"
    }
   },
   "source": [
    "<div style=\"display:block;border-bottom:solid red 3px;padding:1.4em;color:red;font-size:30pt;display:inline-block;line-height:1.5em;\">\n",
    "DELETE THIS CELL AND EVERYTHING ABOVE FROM YOUR FINAL NOTEBOOK\n",
    "</div>"
   ]
  },
  {
   "cell_type": "markdown",
   "metadata": {},
   "source": [
    "# Final Project Submission"
   ]
  },
  {
   "cell_type": "markdown",
   "metadata": {},
   "source": [
    "Please fill out:\n",
    "* Student name: \n",
    "* Student pace: self paced / part time / full time:\n",
    "* Scheduled project review date/time: \n",
    "* Instructor name: \n",
    "* Blog post URL:\n",
    "* Video of 5-min Non-Technical Presentation:"
   ]
  },
  {
   "cell_type": "markdown",
   "metadata": {},
   "source": [
    "## TABLE OF CONTENTS "
   ]
  },
  {
   "cell_type": "markdown",
   "metadata": {},
   "source": [
    "*Click to jump to matching Markdown Header.*<br><br>\n",
    " \n",
    "- **[Introduction](#INTRODUCTION)<br>**\n",
    "- **[OBTAIN](#OBTAIN)**<br>\n",
    "- **[SCRUB](#SCRUB)**<br>\n",
    "- **[EXPLORE](#EXPLORE)**<br>\n",
    "- **[MODEL](#MODEL)**<br>\n",
    "- **[iNTERPRET](#iNTERPRET)**<br>\n",
    "- **[Conclusions/Recommendations](#CONCLUSIONS-&-RECOMMENDATIONS)<br>**\n",
    "___"
   ]
  },
  {
   "cell_type": "markdown",
   "metadata": {},
   "source": [
    "# INTRODUCTION"
   ]
  },
  {
   "cell_type": "markdown",
   "metadata": {},
   "source": [
    "\n",
    "## Business Problem\n",
    "\n",
    "COVID-19 vaccines became available to subsets of the American public at the end of 2020. States and cities differed in terms of which groups of people were eligible first, and the timeline by which they expanded eligibility, but [by April 19th](https://www.nytimes.com/2021/04/19/world/adults-eligible-covid-vaccine.html), all Americans over the age of 16 were eligible.\n",
    "\n",
    "Appointment availability was initially scarce in some places, but this very quickly shifted to a growing number of appointments going unfilled across the country. [Only 59% of adults have received at least one dose](https://covid.cdc.gov/covid-data-tracker/#datatracker-home) (as of this writing, on May 14th, 2021), so there are still plenty of people who haven't received any doses.\n",
    "\n",
    "Vaccination rate is an important metric being considered as state and local governments decide how and when to relax mask-wearing, occupancy, and other COVID restrictions. These entities are already wondering about the best methods to encourage their populations to get vaccinated. In order to develop effective strategies, state and local governments need to understand the factors that contribute to vaccine hesitancy. \n",
    "\n",
    "To aid in this understanding, I will build a predictive model to classify whether someone is likely to be vaccine optimistic, or vaccine hesitant, based on their other answers to the Household Pulse Survey that the US Census has been conducting bi-weekly during the pandemic. Interpreting the factors which are most important in predicting vaccine hesitancy among populations should provide insights that will allow state and local governments to develop effective outreach strategies.\n",
    "\n",
    "\n"
   ]
  },
  {
   "cell_type": "markdown",
   "metadata": {},
   "source": [
    "# OBTAIN"
   ]
  },
  {
   "cell_type": "markdown",
   "metadata": {},
   "source": [
    "## Data Understanding\n",
    "\n",
    "For this analysis, I will use a [publicly available microdata sample](https://www.census.gov/programs-surveys/household-pulse-survey/datasets.html) from the bi-weekly Household Pulse Surveys that the US Census has been conducting during the pandemic. Each observation represents an individual's anonymized response to the survey.\n",
    "\n",
    "Respondents were randomly sampled from all 50 states and the top 15 metropolitan areas, and asked to fill out the survey online. They were asked a variety of questions about their household, including whether they've received any doses of the vaccine, and if not, what their intent was to do so in the future. I will engineer these features into a binary target variable representing vaccine optimism versus vaccine hesitancy, and use each respondent's answers to other survey questions as the predictors.\n",
    "\n",
    "Some survey questions were only presented to the respondent if they answered a certain way to a prior question, such as only asking about intention to get a vaccine in the future if the respondent indicated they had not yet received any doses. I will carefully review the data dictionary provided by the Census team to understand these relationships, and  engineer features from the groups of questions as appropriate.\n",
    "\n",
    "I will use the most recent microdata file available as of this writing, May 14, 2021, which includes a sample of about 78,000 responses from Phase 3 of the survey, covering the timeframe of March 3 to March 15, 2021. This is referred to as the \"week 26\" period.  Note that the survey is ongoing and currently in Phase 3.1, but microdata is not yet available for the first week of Phase 3.1, so I will use the most recent data available.\n",
    "\n",
    "For more technical information on the sampling methodology and full questionnaire, [see here](https://www.census.gov/programs-surveys/household-pulse-survey/technical-documentation.html)."
   ]
  },
  {
   "cell_type": "code",
   "execution_count": 1,
   "metadata": {
    "ExecuteTime": {
     "end_time": "2021-05-19T23:38:49.699323Z",
     "start_time": "2021-05-19T23:38:48.964555Z"
    }
   },
   "outputs": [],
   "source": [
    "import pandas as pd\n",
    "import numpy as np\n",
    "import matplotlib.pyplot as plt\n",
    "%matplotlib inline\n",
    "\n",
    "import seaborn as sns\n",
    "import missingno\n",
    "import plotly.express as px\n",
    "import dstools\n",
    "\n",
    "pd.set_option('display.max_info_rows', 300)\n",
    "pd.set_option('display.max_info_columns', 300)\n",
    "\n",
    "%autoreload 2"
   ]
  },
  {
   "cell_type": "code",
   "execution_count": 2,
   "metadata": {
    "ExecuteTime": {
     "end_time": "2021-05-19T23:38:51.822543Z",
     "start_time": "2021-05-19T23:38:49.704916Z"
    },
    "scrolled": false
   },
   "outputs": [
    {
     "name": "stdout",
     "output_type": "stream",
     "text": [
      "<class 'pandas.core.frame.DataFrame'>\n",
      "RangeIndex: 78307 entries, 0 to 78306\n",
      "Data columns (total 204 columns):\n",
      " #   Column                  Dtype  \n",
      "---  ------                  -----  \n",
      " 0   ._pulse2021_puf_26.csv  object \n",
      " 1   WEEK                    float64\n",
      " 2   EST_ST                  float64\n",
      " 3   EST_MSA                 float64\n",
      " 4   REGION                  float64\n",
      " 5   HWEIGHT                 float64\n",
      " 6   PWEIGHT                 float64\n",
      " 7   TBIRTH_YEAR             float64\n",
      " 8   ABIRTH_YEAR             float64\n",
      " 9   EGENDER                 float64\n",
      " 10  AGENDER                 float64\n",
      " 11  RHISPANIC               float64\n",
      " 12  AHISPANIC               float64\n",
      " 13  RRACE                   float64\n",
      " 14  ARACE                   float64\n",
      " 15  EEDUC                   float64\n",
      " 16  AEDUC                   float64\n",
      " 17  MS                      float64\n",
      " 18  THHLD_NUMPER            float64\n",
      " 19  AHHLD_NUMPER            float64\n",
      " 20  THHLD_NUMKID            float64\n",
      " 21  AHHLD_NUMKID            float64\n",
      " 22  THHLD_NUMADLT           float64\n",
      " 23  RECVDVACC               float64\n",
      " 24  DOSES                   float64\n",
      " 25  GETVACC                 float64\n",
      " 26  WHYNOT1                 float64\n",
      " 27  WHYNOT2                 float64\n",
      " 28  WHYNOT3                 float64\n",
      " 29  WHYNOT4                 float64\n",
      " 30  WHYNOT5                 float64\n",
      " 31  WHYNOT6                 float64\n",
      " 32  WHYNOT7                 float64\n",
      " 33  WHYNOT8                 float64\n",
      " 34  WHYNOT9                 float64\n",
      " 35  WHYNOT10                float64\n",
      " 36  WHYNOT11                float64\n",
      " 37  WHYNOTB1                float64\n",
      " 38  WHYNOTB2                float64\n",
      " 39  WHYNOTB3                float64\n",
      " 40  WHYNOTB4                float64\n",
      " 41  WHYNOTB5                float64\n",
      " 42  WHYNOTB6                float64\n",
      " 43  HADCOVID                float64\n",
      " 44  WRKLOSS                 float64\n",
      " 45  EXPCTLOSS               float64\n",
      " 46  ANYWORK                 float64\n",
      " 47  KINDWORK                float64\n",
      " 48  RSNNOWRK                float64\n",
      " 49  TW_START                float64\n",
      " 50  UI_APPLY                float64\n",
      " 51  UI_RECV                 float64\n",
      " 52  SSA_RECV                float64\n",
      " 53  SSA_APPLY               float64\n",
      " 54  SSAPGM1                 float64\n",
      " 55  SSAPGM2                 float64\n",
      " 56  SSAPGM3                 float64\n",
      " 57  SSAPGM4                 float64\n",
      " 58  SSAPGM5                 float64\n",
      " 59  SSALIKELY               float64\n",
      " 60  SSAEXPCT1               float64\n",
      " 61  SSAEXPCT2               float64\n",
      " 62  SSAEXPCT3               float64\n",
      " 63  SSAEXPCT4               float64\n",
      " 64  SSAEXPCT5               float64\n",
      " 65  SSADECISN               float64\n",
      " 66  EIP                     float64\n",
      " 67  EIPSPND1                float64\n",
      " 68  EIPSPND2                float64\n",
      " 69  EIPSPND3                float64\n",
      " 70  EIPSPND4                float64\n",
      " 71  EIPSPND5                float64\n",
      " 72  EIPSPND6                float64\n",
      " 73  EIPSPND7                float64\n",
      " 74  EIPSPND8                float64\n",
      " 75  EIPSPND9                float64\n",
      " 76  EIPSPND10               float64\n",
      " 77  EIPSPND11               float64\n",
      " 78  EIPSPND12               float64\n",
      " 79  EIPSPND13               float64\n",
      " 80  EXPNS_DIF               float64\n",
      " 81  CHNGHOW1                float64\n",
      " 82  CHNGHOW2                float64\n",
      " 83  CHNGHOW3                float64\n",
      " 84  CHNGHOW4                float64\n",
      " 85  CHNGHOW5                float64\n",
      " 86  CHNGHOW6                float64\n",
      " 87  CHNGHOW7                float64\n",
      " 88  CHNGHOW8                float64\n",
      " 89  CHNGHOW9                float64\n",
      " 90  CHNGHOW10               float64\n",
      " 91  CHNGHOW11               float64\n",
      " 92  CHNGHOW12               float64\n",
      " 93  WHYCHNGD1               float64\n",
      " 94  WHYCHNGD2               float64\n",
      " 95  WHYCHNGD3               float64\n",
      " 96  WHYCHNGD4               float64\n",
      " 97  WHYCHNGD5               float64\n",
      " 98  WHYCHNGD6               float64\n",
      " 99  WHYCHNGD7               float64\n",
      " 100 WHYCHNGD8               float64\n",
      " 101 WHYCHNGD9               float64\n",
      " 102 WHYCHNGD10              float64\n",
      " 103 WHYCHNGD11              float64\n",
      " 104 WHYCHNGD12              float64\n",
      " 105 WHYCHNGD13              float64\n",
      " 106 SPNDSRC1                float64\n",
      " 107 SPNDSRC2                float64\n",
      " 108 SPNDSRC3                float64\n",
      " 109 SPNDSRC4                float64\n",
      " 110 SPNDSRC5                float64\n",
      " 111 SPNDSRC6                float64\n",
      " 112 SPNDSRC7                float64\n",
      " 113 SPNDSRC8                float64\n",
      " 114 FEWRTRIPS               float64\n",
      " 115 FEWRTRANS               float64\n",
      " 116 PLNDTRIPS               float64\n",
      " 117 CURFOODSUF              float64\n",
      " 118 CHILDFOOD               float64\n",
      " 119 FOODSUFRSN1             float64\n",
      " 120 FOODSUFRSN2             float64\n",
      " 121 FOODSUFRSN3             float64\n",
      " 122 FOODSUFRSN4             float64\n",
      " 123 FOODSUFRSN5             float64\n",
      " 124 FREEFOOD                float64\n",
      " 125 WHEREFREE1              float64\n",
      " 126 WHEREFREE2              float64\n",
      " 127 WHEREFREE3              float64\n",
      " 128 WHEREFREE4              float64\n",
      " 129 WHEREFREE5              float64\n",
      " 130 WHEREFREE6              float64\n",
      " 131 WHEREFREE7              float64\n",
      " 132 SNAP_YN                 float64\n",
      " 133 TSPNDFOOD               float64\n",
      " 134 TSPNDPRPD               float64\n",
      " 135 ANXIOUS                 float64\n",
      " 136 WORRY                   float64\n",
      " 137 INTEREST                float64\n",
      " 138 DOWN                    float64\n",
      " 139 HLTHINS1                float64\n",
      " 140 HLTHINS2                float64\n",
      " 141 HLTHINS3                float64\n",
      " 142 HLTHINS4                float64\n",
      " 143 HLTHINS5                float64\n",
      " 144 HLTHINS6                float64\n",
      " 145 HLTHINS7                float64\n",
      " 146 HLTHINS8                float64\n",
      " 147 PRIVHLTH                float64\n",
      " 148 PUBHLTH                 float64\n",
      " 149 DELAY                   float64\n",
      " 150 NOTGET                  float64\n",
      " 151 PRESCRIPT               float64\n",
      " 152 MH_SVCS                 float64\n",
      " 153 MH_NOTGET               float64\n",
      " 154 TENURE                  float64\n",
      " 155 LIVQTR                  float64\n",
      " 156 RENTCUR                 float64\n",
      " 157 MORTCUR                 float64\n",
      " 158 MORTCONF                float64\n",
      " 159 EVICT                   float64\n",
      " 160 FORCLOSE                float64\n",
      " 161 ENROLL1                 float64\n",
      " 162 ENROLL2                 float64\n",
      " 163 ENROLL3                 float64\n",
      " 164 TEACH1                  float64\n",
      " 165 TEACH2                  float64\n",
      " 166 TEACH3                  float64\n",
      " 167 TEACH4                  float64\n",
      " 168 TEACH5                  float64\n",
      " 169 COMPAVAIL               float64\n",
      " 170 COMP1                   float64\n",
      " 171 COMP2                   float64\n",
      " 172 COMP3                   float64\n",
      " 173 INTRNTAVAIL             float64\n",
      " 174 INTRNT1                 float64\n",
      " 175 INTRNT2                 float64\n",
      " 176 INTRNT3                 float64\n",
      " 177 SCHLHRS                 float64\n",
      " 178 TSTDY_HRS               float64\n",
      " 179 TCH_HRS                 float64\n",
      " 180 TNUM_PS                 float64\n",
      " 181 PSPLANS1                float64\n",
      " 182 PSPLANS2                float64\n",
      " 183 PSPLANS3                float64\n",
      " 184 PSPLANS4                float64\n",
      " 185 PSPLANS5                float64\n",
      " 186 PSPLANS6                float64\n",
      " 187 PSCHNG1                 float64\n",
      " 188 PSCHNG2                 float64\n",
      " 189 PSCHNG3                 float64\n",
      " 190 PSCHNG4                 float64\n",
      " 191 PSCHNG5                 float64\n",
      " 192 PSCHNG6                 float64\n",
      " 193 PSCHNG7                 float64\n",
      " 194 PSWHYCHG1               float64\n",
      " 195 PSWHYCHG2               float64\n",
      " 196 PSWHYCHG3               float64\n",
      " 197 PSWHYCHG4               float64\n",
      " 198 PSWHYCHG5               float64\n",
      " 199 PSWHYCHG6               float64\n",
      " 200 PSWHYCHG7               float64\n",
      " 201 PSWHYCHG8               float64\n",
      " 202 PSWHYCHG9               float64\n",
      " 203 INCOME                  float64\n",
      "dtypes: float64(203), object(1)\n",
      "memory usage: 121.9+ MB\n"
     ]
    }
   ],
   "source": [
    "# import data from downloaded CSV\n",
    "df = pd.read_csv(r\"data/pulse2021_puf_26.csv.tar.gz\")\n",
    "df.info()"
   ]
  },
  {
   "cell_type": "markdown",
   "metadata": {},
   "source": [
    "I will primarily use the data dictionary provided by the Census team to determine which fields to include in my initial model.\n",
    "\n",
    "Although all the data fields are stored as floats, based on the dictionary most of them are actually ordinally encoded categorical variables. I will need to combine them or convert them to text categories as appropriate."
   ]
  },
  {
   "cell_type": "markdown",
   "metadata": {},
   "source": [
    "# SCRUB"
   ]
  },
  {
   "cell_type": "markdown",
   "metadata": {},
   "source": [
    "I will need to engineer multiple features, including my target. As written and organized into a question per column, the data is not in ideal format for analysis due to the presence of main question and sub-question groups; some questions are conceptually spread across multiple columns.\n",
    "\n",
    "I will endeavor to balance reducing the feature space with keeping as much of the original information as possible.\n",
    "\n",
    "One notable challenge will be dealing with missing data. The data dictionary indicates that there are two placeholders that represent a non-answer: \n",
    "- -88: Missing / Did not report\n",
    "- -99: Question seen but category not selected\n",
    "\n",
    "The Census team provides no additional information about why a response might be missing and placed in the -88 category as opposed to the -99 category that represents a lack of a response from the respondent. I have reached out to them via email for explanation, but have not yet heard back. Although some instances appear to be filled in to account for the fact that a sub-question wasn't presented to a respondent because of how they answered a prior question, there are some columns with -88 placeholders that do not appear to be sub-questions, so in my understanding should have been presented to everyone. \n",
    "\n",
    "Since there are a significant number of these -88 placeholders in some top-level question columns, I will likely encode them as a separate category instead of dropping them or attempting to impute them."
   ]
  },
  {
   "cell_type": "markdown",
   "metadata": {},
   "source": [
    "## Target columns\n",
    "\n",
    "I want to create a binary target that represents a respondent's vaccine outlook: hesitant, or optimistic.\n",
    "\n",
    "I will need to engineer this target from two questions: \n",
    "- `RECVDVACC` asked the respondent whether they have received any doses of the COVID vaccine\n",
    "- `GETVACC` is a sub-question asked of the respondent if they said they had not received any doses. It asked about the respondent's intent to get a vaccine in the future. Choices include:\n",
    "\n",
    "1. Definitely get a vaccine\n",
    "2. Probably get a vaccine\n",
    "3. Probably NOT get a vaccine \n",
    "4. Definitely NOT get a vaccine\n",
    "\n",
    "At the time of the survey back in early March, only certain subsets of the population were eligible to make a vaccine appointment, based on state-specific criteria such as age, occupation, health risk indicators, and other factors. I want to make sure my class takes into account people who have been vaccinated but doesn't penalize people who have not yet been vaccinated yet, given there is no easy way to know if they were eligible for vaccination when they were surveyed. \n",
    "\n",
    "I will create the binary target by combining answers to these two questions in the following way:\n",
    "\n",
    "**Vaccine optimistic**\n",
    "- Has received at least one dose OR\n",
    "- Has not received any doses yet AND:\n",
    "    - Intends to Definitely get a vaccine OR\n",
    "    - Intends to Probably get a vaccine\n",
    "\n",
    "**Vaccine hesitant**\n",
    "- Has not received any doses yet AND:\n",
    "    - Intends to Probably NOT get a vaccine OR\n",
    "    - Intends to Definitely NOT get a vaccine\n"
   ]
  },
  {
   "cell_type": "code",
   "execution_count": 3,
   "metadata": {
    "ExecuteTime": {
     "end_time": "2021-05-19T23:38:51.880180Z",
     "start_time": "2021-05-19T23:38:51.826684Z"
    },
    "scrolled": false
   },
   "outputs": [
    {
     "data": {
      "text/plain": [
       " 2.0     42085\n",
       " 1.0     35840\n",
       "-99.0      381\n",
       "Name: RECVDVACC, dtype: int64"
      ]
     },
     "execution_count": 3,
     "metadata": {},
     "output_type": "execute_result"
    }
   ],
   "source": [
    "# First question asking whether they have received any doses\n",
    "df['RECVDVACC'].value_counts()"
   ]
  },
  {
   "cell_type": "code",
   "execution_count": 4,
   "metadata": {
    "ExecuteTime": {
     "end_time": "2021-05-19T23:38:51.935247Z",
     "start_time": "2021-05-19T23:38:51.884786Z"
    }
   },
   "outputs": [
    {
     "data": {
      "text/plain": [
       "1"
      ]
     },
     "execution_count": 4,
     "metadata": {},
     "output_type": "execute_result"
    }
   ],
   "source": [
    "df['RECVDVACC'].isna().sum()"
   ]
  },
  {
   "cell_type": "code",
   "execution_count": 5,
   "metadata": {
    "ExecuteTime": {
     "end_time": "2021-05-19T23:38:52.074562Z",
     "start_time": "2021-05-19T23:38:51.938123Z"
    },
    "scrolled": true
   },
   "outputs": [
    {
     "data": {
      "text/html": [
       "<div>\n",
       "<style scoped>\n",
       "    .dataframe tbody tr th:only-of-type {\n",
       "        vertical-align: middle;\n",
       "    }\n",
       "\n",
       "    .dataframe tbody tr th {\n",
       "        vertical-align: top;\n",
       "    }\n",
       "\n",
       "    .dataframe thead th {\n",
       "        text-align: right;\n",
       "    }\n",
       "</style>\n",
       "<table border=\"1\" class=\"dataframe\">\n",
       "  <thead>\n",
       "    <tr style=\"text-align: right;\">\n",
       "      <th></th>\n",
       "      <th>._pulse2021_puf_26.csv</th>\n",
       "      <th>WEEK</th>\n",
       "      <th>EST_ST</th>\n",
       "      <th>EST_MSA</th>\n",
       "      <th>REGION</th>\n",
       "      <th>HWEIGHT</th>\n",
       "      <th>PWEIGHT</th>\n",
       "      <th>TBIRTH_YEAR</th>\n",
       "      <th>ABIRTH_YEAR</th>\n",
       "      <th>EGENDER</th>\n",
       "      <th>...</th>\n",
       "      <th>PSWHYCHG1</th>\n",
       "      <th>PSWHYCHG2</th>\n",
       "      <th>PSWHYCHG3</th>\n",
       "      <th>PSWHYCHG4</th>\n",
       "      <th>PSWHYCHG5</th>\n",
       "      <th>PSWHYCHG6</th>\n",
       "      <th>PSWHYCHG7</th>\n",
       "      <th>PSWHYCHG8</th>\n",
       "      <th>PSWHYCHG9</th>\n",
       "      <th>INCOME</th>\n",
       "    </tr>\n",
       "  </thead>\n",
       "  <tbody>\n",
       "    <tr>\n",
       "      <th>78306</th>\n",
       "      <td>NaN</td>\n",
       "      <td>NaN</td>\n",
       "      <td>NaN</td>\n",
       "      <td>NaN</td>\n",
       "      <td>NaN</td>\n",
       "      <td>NaN</td>\n",
       "      <td>NaN</td>\n",
       "      <td>NaN</td>\n",
       "      <td>NaN</td>\n",
       "      <td>NaN</td>\n",
       "      <td>...</td>\n",
       "      <td>NaN</td>\n",
       "      <td>NaN</td>\n",
       "      <td>NaN</td>\n",
       "      <td>NaN</td>\n",
       "      <td>NaN</td>\n",
       "      <td>NaN</td>\n",
       "      <td>NaN</td>\n",
       "      <td>NaN</td>\n",
       "      <td>NaN</td>\n",
       "      <td>NaN</td>\n",
       "    </tr>\n",
       "  </tbody>\n",
       "</table>\n",
       "<p>1 rows × 204 columns</p>\n",
       "</div>"
      ],
      "text/plain": [
       "      ._pulse2021_puf_26.csv  WEEK  EST_ST  EST_MSA  REGION  HWEIGHT  PWEIGHT  \\\n",
       "78306                    NaN   NaN     NaN      NaN     NaN      NaN      NaN   \n",
       "\n",
       "       TBIRTH_YEAR  ABIRTH_YEAR  EGENDER  ...  PSWHYCHG1  PSWHYCHG2  \\\n",
       "78306          NaN          NaN      NaN  ...        NaN        NaN   \n",
       "\n",
       "       PSWHYCHG3  PSWHYCHG4  PSWHYCHG5  PSWHYCHG6  PSWHYCHG7  PSWHYCHG8  \\\n",
       "78306        NaN        NaN        NaN        NaN        NaN        NaN   \n",
       "\n",
       "       PSWHYCHG9  INCOME  \n",
       "78306        NaN     NaN  \n",
       "\n",
       "[1 rows x 204 columns]"
      ]
     },
     "execution_count": 5,
     "metadata": {},
     "output_type": "execute_result"
    }
   ],
   "source": [
    "df.loc[df['RECVDVACC'].isna()]"
   ]
  },
  {
   "cell_type": "markdown",
   "metadata": {},
   "source": [
    "- Value of 1 indicates Yes, at least one dose\n",
    "- Value of 2 indicates No, no doses yet\n",
    "- Value of -99 indicates the respondent did not answer the question\n",
    "\n",
    "I will drop the -99 values, since there are few of them and I wouldn't be comfortable imputing target variables."
   ]
  },
  {
   "cell_type": "code",
   "execution_count": 6,
   "metadata": {
    "ExecuteTime": {
     "end_time": "2021-05-19T23:38:52.261668Z",
     "start_time": "2021-05-19T23:38:52.077941Z"
    },
    "scrolled": true
   },
   "outputs": [
    {
     "data": {
      "text/plain": [
       "2.0    42085\n",
       "1.0    35840\n",
       "Name: RECVDVACC, dtype: int64"
      ]
     },
     "execution_count": 6,
     "metadata": {},
     "output_type": "execute_result"
    }
   ],
   "source": [
    "to_drop = df.loc[df['RECVDVACC'] == -99.0].index\n",
    "df.drop(index=to_drop, inplace=True)\n",
    "\n",
    "df['RECVDVACC'].value_counts()"
   ]
  },
  {
   "cell_type": "markdown",
   "metadata": {},
   "source": [
    "It looks like there was an extra blank line at the end of the file that is NaN for all values, so I'll remove that too."
   ]
  },
  {
   "cell_type": "code",
   "execution_count": 7,
   "metadata": {
    "ExecuteTime": {
     "end_time": "2021-05-19T23:38:52.485412Z",
     "start_time": "2021-05-19T23:38:52.272345Z"
    }
   },
   "outputs": [],
   "source": [
    "df.dropna(axis=0, how='all', inplace=True)"
   ]
  },
  {
   "cell_type": "code",
   "execution_count": 8,
   "metadata": {
    "ExecuteTime": {
     "end_time": "2021-05-19T23:38:52.555401Z",
     "start_time": "2021-05-19T23:38:52.492493Z"
    },
    "scrolled": false
   },
   "outputs": [
    {
     "data": {
      "text/plain": [
       "-88.0    35840\n",
       " 1.0     24576\n",
       " 2.0      7904\n",
       " 3.0      5271\n",
       " 4.0      4234\n",
       "-99.0      100\n",
       "Name: GETVACC, dtype: int64"
      ]
     },
     "execution_count": 8,
     "metadata": {},
     "output_type": "execute_result"
    }
   ],
   "source": [
    "df['GETVACC'].value_counts()"
   ]
  },
  {
   "cell_type": "code",
   "execution_count": 9,
   "metadata": {
    "ExecuteTime": {
     "end_time": "2021-05-19T23:38:52.611985Z",
     "start_time": "2021-05-19T23:38:52.561323Z"
    }
   },
   "outputs": [
    {
     "data": {
      "text/plain": [
       "0"
      ]
     },
     "execution_count": 9,
     "metadata": {},
     "output_type": "execute_result"
    }
   ],
   "source": [
    "df['GETVACC'].isna().sum()"
   ]
  },
  {
   "cell_type": "markdown",
   "metadata": {},
   "source": [
    "This question was only asked of respondents who said they had not received any doses yet.\n",
    "\n",
    "- Value of 1 indicates will Definitely get a vaccine\n",
    "- Value of 2 indicates will Probably get a vaccine\n",
    "- Value of 3 indicates will Probably NOT get a vaccine \n",
    "- Value of 4 indicates will Definitely NOT get a vaccine\n",
    "- Value of -99 indicates the respondent did not answer the question\n",
    "\n",
    "A value of -88 is described as simply missing in the data dictionary. In this case, we know that this question was asked of a subset of people who sad they hadn't received any doses, and the count of value -88 in this question matches the count of 1 - Yes in the previous question.\n",
    "\n",
    "I will confirm that these -88 placeholders represent people who received a dose of the vaccine."
   ]
  },
  {
   "cell_type": "code",
   "execution_count": 10,
   "metadata": {
    "ExecuteTime": {
     "end_time": "2021-05-19T23:38:52.736238Z",
     "start_time": "2021-05-19T23:38:52.614852Z"
    },
    "scrolled": true
   },
   "outputs": [
    {
     "data": {
      "text/plain": [
       "1.0    35840\n",
       "Name: RECVDVACC, dtype: int64"
      ]
     },
     "execution_count": 10,
     "metadata": {},
     "output_type": "execute_result"
    }
   ],
   "source": [
    "# Do 'GETVACC' values of -88 also have 'RECVDVACC' values of 1?\n",
    "df.loc[df['GETVACC'] == -88.0]['RECVDVACC'].value_counts()"
   ]
  },
  {
   "cell_type": "markdown",
   "metadata": {},
   "source": [
    "Yes, all the -88 values from the second question are people who answered Yes (1.0) in the first question.\n",
    "\n",
    "I will drop the -99 values to the second question since they are also very small in size. Then I will create a binary target based on the logic outlined in the header section above."
   ]
  },
  {
   "cell_type": "code",
   "execution_count": 11,
   "metadata": {
    "ExecuteTime": {
     "end_time": "2021-05-19T23:38:52.977690Z",
     "start_time": "2021-05-19T23:38:52.739346Z"
    },
    "scrolled": true
   },
   "outputs": [
    {
     "data": {
      "text/plain": [
       "0.0    68320\n",
       "1.0     9505\n",
       "Name: target, dtype: int64"
      ]
     },
     "execution_count": 11,
     "metadata": {},
     "output_type": "execute_result"
    }
   ],
   "source": [
    "# drop -99 values, where the respondent didn't answer the question\n",
    "to_drop = df.loc[df['GETVACC'] == -99.0].index\n",
    "df.drop(index=to_drop, inplace=True)\n",
    "\n",
    "# Target class 0 will be vaccine optimistic\n",
    "df.loc[(df['RECVDVACC'] == 1.0) | \n",
    "       (df['GETVACC'] == 1.0) | \n",
    "       (df['GETVACC'] == 2.0), 'target'] = 0\n",
    "\n",
    "# Target class 1 will be vaccine hesitant\n",
    "df.loc[(df['GETVACC'] == 3.0) | \n",
    "       (df['GETVACC'] == 4.0), 'target'] = 1\n",
    "\n",
    "df['target'].value_counts()"
   ]
  },
  {
   "cell_type": "code",
   "execution_count": 12,
   "metadata": {
    "ExecuteTime": {
     "end_time": "2021-05-19T23:38:53.034975Z",
     "start_time": "2021-05-19T23:38:52.980458Z"
    },
    "scrolled": true
   },
   "outputs": [
    {
     "data": {
      "text/plain": [
       "0.0    0.877867\n",
       "1.0    0.122133\n",
       "Name: target, dtype: float64"
      ]
     },
     "execution_count": 12,
     "metadata": {},
     "output_type": "execute_result"
    }
   ],
   "source": [
    "df['target'].value_counts(normalize=True)"
   ]
  },
  {
   "cell_type": "code",
   "execution_count": 13,
   "metadata": {
    "ExecuteTime": {
     "end_time": "2021-05-19T23:38:53.093003Z",
     "start_time": "2021-05-19T23:38:53.038068Z"
    },
    "scrolled": false
   },
   "outputs": [
    {
     "data": {
      "text/plain": [
       "0"
      ]
     },
     "execution_count": 13,
     "metadata": {},
     "output_type": "execute_result"
    }
   ],
   "source": [
    "df['target'].isna().sum()"
   ]
  },
  {
   "cell_type": "markdown",
   "metadata": {},
   "source": [
    "## Predictor Columns\n",
    "\n",
    "I used the data dictionary provided by the Census as the primary method of determining which columns were categorical versus numeric, and which I wanted to use versus leave out of the initial exploration. A copy of the data dictionary is provided in the data folder.\n",
    "\n",
    "Many of the questions asked in this survey involve potentially sensitive topics, such as race, financial circumstances, participation level in social assistance programs, household spending habits, aspects of mental health, etc. I will therefore do my utmost to apply consistent, objective criteria regarding which columns to include or remove in the model to avoid unintentional personal bias, and will provide detail regarding each of these tactical decisions."
   ]
  },
  {
   "cell_type": "markdown",
   "metadata": {},
   "source": [
    "### Initial Columns to Exclude\n",
    "\n",
    "As a first pass, I identified the following characteristics of columns in the data set that led me to decide to exclude them in the initial exploration and likely from the model."
   ]
  },
  {
   "cell_type": "markdown",
   "metadata": {},
   "source": [
    "#### Subquestions\n",
    "\n",
    "Certain questions were asked of respondents only if they answered in a certain way to a prior question. One example would be the set of `WHYCHNGD` subquestions asking WHY household spending had changed, which were only presented to respondents who said their household spending HAD changed.\n",
    "\n",
    "I think these subquestions will be very useful in understanding more nuance about the opinions and circumstances of households, if the primary question turns out to be an important predictor of vaccine hesitancy. However, I will include only the top-level questions in the modeling process.\n",
    "\n",
    "Fields that represent subquestions (based on the data dictionary), and will be excluded from initial analysis are:\n",
    "\n",
    "- WHYNOT1\n",
    "- WHYNOT2\n",
    "- WHYNOT3\n",
    "- WHYNOT4\n",
    "- WHYNOT5\n",
    "- WHYNOT6\n",
    "- WHYNOT7\n",
    "- WHYNOT8\n",
    "- WHYNOT9\n",
    "- WHYNOT10\n",
    "- WHYNOT11\n",
    "- WHYNOTB1\n",
    "- WHYNOTB2\n",
    "- WHYNOTB3\n",
    "- WHYNOTB4\n",
    "- WHYNOTB5\n",
    "- WHYNOTB6\n",
    "- RSNNOWRK\n",
    "- SSAPGM1\n",
    "- SSAPGM2\n",
    "- SSAPGM3\n",
    "- SSAPGM4\n",
    "- SSAPGM5\n",
    "- SSALIKELY\n",
    "- SSAEXPCT1\n",
    "- SSAEXPCT2\n",
    "- SSAEXPCT3\n",
    "- SSAEXPCT4\n",
    "- SSAEXPCT5\n",
    "- SSADECISN\n",
    "- EIPSPND1\n",
    "- EIPSPND2\n",
    "- EIPSPND3\n",
    "- EIPSPND4\n",
    "- EIPSPND5\n",
    "- EIPSPND6\n",
    "- EIPSPND7\n",
    "- EIPSPND8\n",
    "- EIPSPND9\n",
    "- EIPSPND10\n",
    "- EIPSPND11\n",
    "- EIPSPND12\n",
    "- EIPSPND13\n",
    "- WHYCHNGD1\n",
    "- WHYCHNGD2\n",
    "- WHYCHNGD3\n",
    "- WHYCHNGD4\n",
    "- WHYCHNGD5\n",
    "- WHYCHNGD6\n",
    "- WHYCHNGD7\n",
    "- WHYCHNGD8\n",
    "- WHYCHNGD9\n",
    "- WHYCHNGD10\n",
    "- WHYCHNGD11\n",
    "- WHYCHNGD12\n",
    "- WHYCHNGD13\n",
    "- CHILDFOOD\n",
    "- FOODSUFRSN1\n",
    "- FOODSUFRSN2\n",
    "- FOODSUFRSN3\n",
    "- FOODSUFRSN4\n",
    "- FOODSUFRSN5\n",
    "- WHEREFREE1\n",
    "- WHEREFREE2\n",
    "- WHEREFREE3\n",
    "- WHEREFREE4\n",
    "- WHEREFREE5\n",
    "- WHEREFREE6\n",
    "- WHEREFREE7\n",
    "- RENTCUR\n",
    "- MORTCUR\n",
    "- MORTCONF\n",
    "- EVICT\n",
    "- FORCLOSE\n",
    "- TEACH1\n",
    "- TEACH2\n",
    "- TEACH3\n",
    "- TEACH4\n",
    "- TEACH5\n",
    "- COMPAVAIL\n",
    "- COMP1\n",
    "- COMP2\n",
    "- COMP3\n",
    "- INTRNTAVAIL\n",
    "- INTRNT1\n",
    "- INTRNT2\n",
    "- INTRNT3\n",
    "- KINDWORK\n",
    "- SCHLHRS\n",
    "- TSTDY_HRS\n",
    "- TCH_HRS\n",
    "- PSPLANS1\n",
    "- PSPLANS2\n",
    "- PSPLANS3\n",
    "- PSPLANS4\n",
    "- PSPLANS5\n",
    "- PSPLANS6\n",
    "- PSCHNG1\n",
    "- PSCHNG2\n",
    "- PSCHNG3\n",
    "- PSCHNG4\n",
    "- PSCHNG5\n",
    "- PSCHNG6\n",
    "- PSCHNG7\n",
    "- PSWHYCHG1\n",
    "- PSWHYCHG2\n",
    "- PSWHYCHG3\n",
    "- PSWHYCHG4\n",
    "- PSWHYCHG5\n",
    "- PSWHYCHG6\n",
    "- PSWHYCHG7\n",
    "- PSWHYCHG8\n",
    "- PSWHYCHG9\n",
    "- DOSES"
   ]
  },
  {
   "cell_type": "markdown",
   "metadata": {},
   "source": [
    "#### Duplicates, Metadata, and Imputed values\n",
    "\n",
    "Several columns were already imputed into appropriate summary columns by the Census Bureau, which means the original columns are essentially duplicates:\n",
    "\n",
    "- THHLD_NUMPER\n",
    "- PRIVHLTH\n",
    "- PUBHLTH\n",
    "\n",
    "The REGION column will also not be included, as the dataset contains other columns that can be used to represent geographical characteristics, such as State and Metropolitan Area.\n",
    "\n",
    "A few columns represent metadata such as household identifier, and weight calculations to be used to generate population statistics:\n",
    "\n",
    "- SCRAM\n",
    "- PWEIGHT\n",
    "- HWEIGHT\n",
    "- WEEK\n",
    "\n",
    "The following columns are indicators that a value was imputed by the Census team:\n",
    "\n",
    "- ABIRTH_YEAR\n",
    "- AGENDER\n",
    "- AHISPANIC\n",
    "- ARACE\n",
    "- AEDUC\n",
    "- AHHLD_NUMPER\n",
    "- AHHLD_NUMKID"
   ]
  },
  {
   "cell_type": "markdown",
   "metadata": {},
   "source": [
    "### Categories to Engineer\n",
    "\n",
    "Some categorical columns are likely candidates to be engineered into a single column, such as reducing respondent's answers to different types of health insurance they have into a single column representing whether they have health insurance or not.\n",
    "\n",
    "I can't be sure yet whether these features will perform better in their original state, or if my engineer feature will capture the important information. I'll create them where they make sense for now, and will be able to model either or both versions."
   ]
  },
  {
   "cell_type": "code",
   "execution_count": 14,
   "metadata": {
    "ExecuteTime": {
     "end_time": "2021-05-19T23:38:53.183483Z",
     "start_time": "2021-05-19T23:38:53.095630Z"
    }
   },
   "outputs": [
    {
     "name": "stdout",
     "output_type": "stream",
     "text": [
      " 1.0     0.534623\n",
      " 2.0     0.262987\n",
      "-88.0    0.169663\n",
      "-99.0    0.032727\n",
      "Name: HLTHINS1, dtype: float64\n",
      " 2.0     0.537861\n",
      " 1.0     0.194064\n",
      "-88.0    0.169663\n",
      "-99.0    0.098413\n",
      "Name: HLTHINS2, dtype: float64\n",
      " 2.0     0.494982\n",
      " 1.0     0.257861\n",
      "-88.0    0.169663\n",
      "-99.0    0.077494\n",
      "Name: HLTHINS3, dtype: float64\n",
      " 2.0     0.626637\n",
      "-88.0    0.169663\n",
      "-99.0    0.118484\n",
      " 1.0     0.085217\n",
      "Name: HLTHINS4, dtype: float64\n",
      " 2.0     0.667086\n",
      "-88.0    0.169663\n",
      "-99.0    0.124664\n",
      " 1.0     0.038587\n",
      "Name: HLTHINS5, dtype: float64\n",
      " 2.0     0.661934\n",
      "-88.0    0.169663\n",
      "-99.0    0.129213\n",
      " 1.0     0.039190\n",
      "Name: HLTHINS6, dtype: float64\n",
      " 2.0     0.685744\n",
      "-88.0    0.169663\n",
      "-99.0    0.137347\n",
      " 1.0     0.007247\n",
      "Name: HLTHINS7, dtype: float64\n",
      " 2.0     0.628050\n",
      "-88.0    0.169663\n",
      "-99.0    0.163996\n",
      " 1.0     0.038291\n",
      "Name: HLTHINS8, dtype: float64\n"
     ]
    }
   ],
   "source": [
    "# See values in HLTHINS columns\n",
    "hlth_cols = ['HLTHINS1', 'HLTHINS2', 'HLTHINS3', 'HLTHINS4', 'HLTHINS5', \n",
    "             'HLTHINS6', 'HLTHINS7', 'HLTHINS8']\n",
    "\n",
    "for col in hlth_cols:\n",
    "    print(df[col].value_counts(1))"
   ]
  },
  {
   "cell_type": "code",
   "execution_count": 15,
   "metadata": {
    "ExecuteTime": {
     "end_time": "2021-05-19T23:38:53.539136Z",
     "start_time": "2021-05-19T23:38:53.186519Z"
    }
   },
   "outputs": [
    {
     "name": "stdout",
     "output_type": "stream",
     "text": [
      "451\n"
     ]
    },
    {
     "data": {
      "text/plain": [
       " 1.0     61184\n",
       "-88.0    13204\n",
       " 0.0      2653\n",
       "-99.0      333\n",
       "Name: HLTHINS, dtype: int64"
      ]
     },
     "execution_count": 15,
     "metadata": {},
     "output_type": "execute_result"
    }
   ],
   "source": [
    "# Combine HLTHINS multi-choice answers to represent has insurance or not\n",
    "\n",
    "# Assign 1 if any health insurance option chosen\n",
    "df.loc[(df['HLTHINS1']==1)|(df['HLTHINS2']==1)|(df['HLTHINS3']==1)|\n",
    "       (df['HLTHINS4']==1)|(df['HLTHINS5']==1)|(df['HLTHINS6']==1)|\n",
    "       (df['HLTHINS7']==1)|(df['HLTHINS8']==1), ['HLTHINS']] = 1\n",
    "\n",
    "# Assign 0 if No seleted for all\n",
    "df.loc[(df['HLTHINS1']==2)&(df['HLTHINS2']==2)&(df['HLTHINS3']==2)&\n",
    "       (df['HLTHINS4']==2)&(df['HLTHINS5']==2)&(df['HLTHINS6']==2)&\n",
    "       (df['HLTHINS7']==2)&(df['HLTHINS8']==2), ['HLTHINS']] = 0\n",
    "\n",
    "# Assign 0 if No seleted for all\n",
    "df.loc[(df['HLTHINS1']==-99)&(df['HLTHINS2']==-99)&(df['HLTHINS3']==-99)&\n",
    "       (df['HLTHINS4']==-99)&(df['HLTHINS5']==-99)&(df['HLTHINS6']==-99)&\n",
    "       (df['HLTHINS7']==-99)&(df['HLTHINS8']==-99), ['HLTHINS']] = -99\n",
    "\n",
    "# Assign 0 if No seleted for all\n",
    "df.loc[(df['HLTHINS1']==-88)&(df['HLTHINS2']==-88)&(df['HLTHINS3']==-88)&\n",
    "       (df['HLTHINS4']==-88)&(df['HLTHINS5']==-88)&(df['HLTHINS6']==-88)&\n",
    "       (df['HLTHINS7']==-88)&(df['HLTHINS8']==-88), ['HLTHINS']] = -88\n",
    "\n",
    "print(df['HLTHINS'].isna().sum())\n",
    "df['HLTHINS'].value_counts()"
   ]
  },
  {
   "cell_type": "code",
   "execution_count": 16,
   "metadata": {
    "ExecuteTime": {
     "end_time": "2021-05-19T23:38:53.613246Z",
     "start_time": "2021-05-19T23:38:53.544128Z"
    },
    "scrolled": true
   },
   "outputs": [
    {
     "data": {
      "text/html": [
       "<div>\n",
       "<style scoped>\n",
       "    .dataframe tbody tr th:only-of-type {\n",
       "        vertical-align: middle;\n",
       "    }\n",
       "\n",
       "    .dataframe tbody tr th {\n",
       "        vertical-align: top;\n",
       "    }\n",
       "\n",
       "    .dataframe thead th {\n",
       "        text-align: right;\n",
       "    }\n",
       "</style>\n",
       "<table border=\"1\" class=\"dataframe\">\n",
       "  <thead>\n",
       "    <tr style=\"text-align: right;\">\n",
       "      <th></th>\n",
       "      <th>HLTHINS1</th>\n",
       "      <th>HLTHINS2</th>\n",
       "      <th>HLTHINS3</th>\n",
       "      <th>HLTHINS4</th>\n",
       "      <th>HLTHINS5</th>\n",
       "      <th>HLTHINS6</th>\n",
       "      <th>HLTHINS7</th>\n",
       "      <th>HLTHINS8</th>\n",
       "    </tr>\n",
       "  </thead>\n",
       "  <tbody>\n",
       "    <tr>\n",
       "      <th>235</th>\n",
       "      <td>2.0</td>\n",
       "      <td>2.0</td>\n",
       "      <td>-99.0</td>\n",
       "      <td>-99.0</td>\n",
       "      <td>-99.0</td>\n",
       "      <td>-99.0</td>\n",
       "      <td>-99.0</td>\n",
       "      <td>-99.0</td>\n",
       "    </tr>\n",
       "    <tr>\n",
       "      <th>299</th>\n",
       "      <td>2.0</td>\n",
       "      <td>2.0</td>\n",
       "      <td>2.0</td>\n",
       "      <td>2.0</td>\n",
       "      <td>2.0</td>\n",
       "      <td>2.0</td>\n",
       "      <td>-99.0</td>\n",
       "      <td>-99.0</td>\n",
       "    </tr>\n",
       "    <tr>\n",
       "      <th>490</th>\n",
       "      <td>2.0</td>\n",
       "      <td>-99.0</td>\n",
       "      <td>-99.0</td>\n",
       "      <td>-99.0</td>\n",
       "      <td>-99.0</td>\n",
       "      <td>-99.0</td>\n",
       "      <td>-99.0</td>\n",
       "      <td>-99.0</td>\n",
       "    </tr>\n",
       "    <tr>\n",
       "      <th>558</th>\n",
       "      <td>2.0</td>\n",
       "      <td>2.0</td>\n",
       "      <td>2.0</td>\n",
       "      <td>2.0</td>\n",
       "      <td>2.0</td>\n",
       "      <td>2.0</td>\n",
       "      <td>2.0</td>\n",
       "      <td>-99.0</td>\n",
       "    </tr>\n",
       "    <tr>\n",
       "      <th>604</th>\n",
       "      <td>2.0</td>\n",
       "      <td>2.0</td>\n",
       "      <td>2.0</td>\n",
       "      <td>2.0</td>\n",
       "      <td>2.0</td>\n",
       "      <td>2.0</td>\n",
       "      <td>2.0</td>\n",
       "      <td>-99.0</td>\n",
       "    </tr>\n",
       "    <tr>\n",
       "      <th>...</th>\n",
       "      <td>...</td>\n",
       "      <td>...</td>\n",
       "      <td>...</td>\n",
       "      <td>...</td>\n",
       "      <td>...</td>\n",
       "      <td>...</td>\n",
       "      <td>...</td>\n",
       "      <td>...</td>\n",
       "    </tr>\n",
       "    <tr>\n",
       "      <th>77636</th>\n",
       "      <td>2.0</td>\n",
       "      <td>-99.0</td>\n",
       "      <td>-99.0</td>\n",
       "      <td>-99.0</td>\n",
       "      <td>-99.0</td>\n",
       "      <td>-99.0</td>\n",
       "      <td>-99.0</td>\n",
       "      <td>-99.0</td>\n",
       "    </tr>\n",
       "    <tr>\n",
       "      <th>77848</th>\n",
       "      <td>2.0</td>\n",
       "      <td>2.0</td>\n",
       "      <td>-99.0</td>\n",
       "      <td>-99.0</td>\n",
       "      <td>-99.0</td>\n",
       "      <td>-99.0</td>\n",
       "      <td>-99.0</td>\n",
       "      <td>-99.0</td>\n",
       "    </tr>\n",
       "    <tr>\n",
       "      <th>77877</th>\n",
       "      <td>2.0</td>\n",
       "      <td>-99.0</td>\n",
       "      <td>-99.0</td>\n",
       "      <td>-99.0</td>\n",
       "      <td>-99.0</td>\n",
       "      <td>-99.0</td>\n",
       "      <td>-99.0</td>\n",
       "      <td>-99.0</td>\n",
       "    </tr>\n",
       "    <tr>\n",
       "      <th>77976</th>\n",
       "      <td>-99.0</td>\n",
       "      <td>2.0</td>\n",
       "      <td>2.0</td>\n",
       "      <td>2.0</td>\n",
       "      <td>2.0</td>\n",
       "      <td>2.0</td>\n",
       "      <td>2.0</td>\n",
       "      <td>2.0</td>\n",
       "    </tr>\n",
       "    <tr>\n",
       "      <th>78048</th>\n",
       "      <td>2.0</td>\n",
       "      <td>-99.0</td>\n",
       "      <td>-99.0</td>\n",
       "      <td>-99.0</td>\n",
       "      <td>-99.0</td>\n",
       "      <td>-99.0</td>\n",
       "      <td>-99.0</td>\n",
       "      <td>-99.0</td>\n",
       "    </tr>\n",
       "  </tbody>\n",
       "</table>\n",
       "<p>451 rows × 8 columns</p>\n",
       "</div>"
      ],
      "text/plain": [
       "       HLTHINS1  HLTHINS2  HLTHINS3  HLTHINS4  HLTHINS5  HLTHINS6  HLTHINS7  \\\n",
       "235         2.0       2.0     -99.0     -99.0     -99.0     -99.0     -99.0   \n",
       "299         2.0       2.0       2.0       2.0       2.0       2.0     -99.0   \n",
       "490         2.0     -99.0     -99.0     -99.0     -99.0     -99.0     -99.0   \n",
       "558         2.0       2.0       2.0       2.0       2.0       2.0       2.0   \n",
       "604         2.0       2.0       2.0       2.0       2.0       2.0       2.0   \n",
       "...         ...       ...       ...       ...       ...       ...       ...   \n",
       "77636       2.0     -99.0     -99.0     -99.0     -99.0     -99.0     -99.0   \n",
       "77848       2.0       2.0     -99.0     -99.0     -99.0     -99.0     -99.0   \n",
       "77877       2.0     -99.0     -99.0     -99.0     -99.0     -99.0     -99.0   \n",
       "77976     -99.0       2.0       2.0       2.0       2.0       2.0       2.0   \n",
       "78048       2.0     -99.0     -99.0     -99.0     -99.0     -99.0     -99.0   \n",
       "\n",
       "       HLTHINS8  \n",
       "235       -99.0  \n",
       "299       -99.0  \n",
       "490       -99.0  \n",
       "558       -99.0  \n",
       "604       -99.0  \n",
       "...         ...  \n",
       "77636     -99.0  \n",
       "77848     -99.0  \n",
       "77877     -99.0  \n",
       "77976       2.0  \n",
       "78048     -99.0  \n",
       "\n",
       "[451 rows x 8 columns]"
      ]
     },
     "execution_count": 16,
     "metadata": {},
     "output_type": "execute_result"
    }
   ],
   "source": [
    "df.loc[df['HLTHINS'].isna(), hlth_cols]"
   ]
  },
  {
   "cell_type": "code",
   "execution_count": 17,
   "metadata": {
    "ExecuteTime": {
     "end_time": "2021-05-19T23:38:53.669905Z",
     "start_time": "2021-05-19T23:38:53.616321Z"
    }
   },
   "outputs": [],
   "source": [
    "# Assign the remaining records to 0, since it looks like respondents\n",
    "# started marking them all No but didn't mark each \n",
    "df.loc[df['HLTHINS'].isna(), 'HLTHINS'] = 0"
   ]
  },
  {
   "cell_type": "code",
   "execution_count": 18,
   "metadata": {
    "ExecuteTime": {
     "end_time": "2021-05-19T23:38:54.033397Z",
     "start_time": "2021-05-19T23:38:53.672396Z"
    }
   },
   "outputs": [
    {
     "data": {
      "text/plain": [
       "0.0    63559\n",
       "1.0    14266\n",
       "Name: SCHOOL_KIDS, dtype: int64"
      ]
     },
     "execution_count": 18,
     "metadata": {},
     "output_type": "execute_result"
    }
   ],
   "source": [
    "# Create a single categorical column for children enrolled in school outside\n",
    "# the home\n",
    "\n",
    "# Assign 1 if have any children enrolled in school outside the home\n",
    "df.loc[(df['ENROLL1']==1), ['SCHOOL_KIDS']] = 1\n",
    "\n",
    "# Assign 0 if have ONLY children who are being homeschooled\n",
    "df.loc[(df['ENROLL2']==1) & (df['SCHOOL_KIDS'].isna()), ['SCHOOL_KIDS']] = 0\n",
    "\n",
    "# Assign 3 if indicated did NOT have children enrolled in school\n",
    "df.loc[(df['ENROLL3']==1) & (df['SCHOOL_KIDS'].isna()), ['SCHOOL_KIDS']] = 0\n",
    "\n",
    "# Assign 0 if did not answer; assume this means they don't have kids of\n",
    "# school age\n",
    "df.loc[df['SCHOOL_KIDS'].isna(), ['SCHOOL_KIDS']] = 0\n",
    "\n",
    "df['SCHOOL_KIDS'].value_counts()"
   ]
  },
  {
   "cell_type": "code",
   "execution_count": 19,
   "metadata": {
    "ExecuteTime": {
     "end_time": "2021-05-19T23:38:54.187600Z",
     "start_time": "2021-05-19T23:38:54.038474Z"
    }
   },
   "outputs": [
    {
     "data": {
      "text/html": [
       "<div>\n",
       "<style scoped>\n",
       "    .dataframe tbody tr th:only-of-type {\n",
       "        vertical-align: middle;\n",
       "    }\n",
       "\n",
       "    .dataframe tbody tr th {\n",
       "        vertical-align: top;\n",
       "    }\n",
       "\n",
       "    .dataframe thead th {\n",
       "        text-align: right;\n",
       "    }\n",
       "</style>\n",
       "<table border=\"1\" class=\"dataframe\">\n",
       "  <thead>\n",
       "    <tr style=\"text-align: right;\">\n",
       "      <th></th>\n",
       "      <th>TSPNDPRPD</th>\n",
       "      <th>TSPNDFOOD</th>\n",
       "    </tr>\n",
       "  </thead>\n",
       "  <tbody>\n",
       "    <tr>\n",
       "      <th>1</th>\n",
       "      <td>50.0</td>\n",
       "      <td>200.0</td>\n",
       "    </tr>\n",
       "    <tr>\n",
       "      <th>3</th>\n",
       "      <td>0.0</td>\n",
       "      <td>300.0</td>\n",
       "    </tr>\n",
       "    <tr>\n",
       "      <th>4</th>\n",
       "      <td>210.0</td>\n",
       "      <td>100.0</td>\n",
       "    </tr>\n",
       "    <tr>\n",
       "      <th>5</th>\n",
       "      <td>200.0</td>\n",
       "      <td>200.0</td>\n",
       "    </tr>\n",
       "    <tr>\n",
       "      <th>6</th>\n",
       "      <td>0.0</td>\n",
       "      <td>40.0</td>\n",
       "    </tr>\n",
       "  </tbody>\n",
       "</table>\n",
       "</div>"
      ],
      "text/plain": [
       "   TSPNDPRPD  TSPNDFOOD\n",
       "1       50.0      200.0\n",
       "3        0.0      300.0\n",
       "4      210.0      100.0\n",
       "5      200.0      200.0\n",
       "6        0.0       40.0"
      ]
     },
     "execution_count": 19,
     "metadata": {},
     "output_type": "execute_result"
    }
   ],
   "source": [
    "# Combine TSPNDPRPD and TSPNDFOOD into a single column representing the\n",
    "# proportion of money spent on food that was on food to be eaten at home\n",
    "# TSPNDPRPD is amount spent on prepared meals\n",
    "# TSPNDFOOD is amount spent on food to be prepared at home\n",
    "\n",
    "# if respondent entered one food amount but not the other, assume they left\n",
    "# the other blank because it should be 0\n",
    "df.loc[(df['TSPNDPRPD'] < 0) & (df['TSPNDFOOD'] >0), 'TSPNDPRPD'] = 0\n",
    "df.loc[(df['TSPNDPRPD'] > 0) & (df['TSPNDFOOD'] <0), 'TSPNDFOOD'] = 0\n",
    "\n",
    "# Only calculate if respondent included an answer for one\n",
    "ans = df.loc[(df['TSPNDPRPD'] >0) | (df['TSPNDFOOD'] >0), ['TSPNDPRPD', 'TSPNDFOOD']]\n",
    "ans.head()"
   ]
  },
  {
   "cell_type": "code",
   "execution_count": 20,
   "metadata": {
    "ExecuteTime": {
     "end_time": "2021-05-19T23:39:03.206745Z",
     "start_time": "2021-05-19T23:38:54.191408Z"
    },
    "scrolled": true
   },
   "outputs": [
    {
     "data": {
      "text/html": [
       "<div>\n",
       "<style scoped>\n",
       "    .dataframe tbody tr th:only-of-type {\n",
       "        vertical-align: middle;\n",
       "    }\n",
       "\n",
       "    .dataframe tbody tr th {\n",
       "        vertical-align: top;\n",
       "    }\n",
       "\n",
       "    .dataframe thead th {\n",
       "        text-align: right;\n",
       "    }\n",
       "</style>\n",
       "<table border=\"1\" class=\"dataframe\">\n",
       "  <thead>\n",
       "    <tr style=\"text-align: right;\">\n",
       "      <th></th>\n",
       "      <th>TSPNDPRPD</th>\n",
       "      <th>TSPNDFOOD</th>\n",
       "      <th>PROP_FOODSPEND_HOME</th>\n",
       "    </tr>\n",
       "  </thead>\n",
       "  <tbody>\n",
       "    <tr>\n",
       "      <th>1</th>\n",
       "      <td>50.0</td>\n",
       "      <td>200.0</td>\n",
       "      <td>0.800000</td>\n",
       "    </tr>\n",
       "    <tr>\n",
       "      <th>3</th>\n",
       "      <td>0.0</td>\n",
       "      <td>300.0</td>\n",
       "      <td>1.000000</td>\n",
       "    </tr>\n",
       "    <tr>\n",
       "      <th>4</th>\n",
       "      <td>210.0</td>\n",
       "      <td>100.0</td>\n",
       "      <td>0.322581</td>\n",
       "    </tr>\n",
       "    <tr>\n",
       "      <th>5</th>\n",
       "      <td>200.0</td>\n",
       "      <td>200.0</td>\n",
       "      <td>0.500000</td>\n",
       "    </tr>\n",
       "    <tr>\n",
       "      <th>6</th>\n",
       "      <td>0.0</td>\n",
       "      <td>40.0</td>\n",
       "      <td>1.000000</td>\n",
       "    </tr>\n",
       "  </tbody>\n",
       "</table>\n",
       "</div>"
      ],
      "text/plain": [
       "   TSPNDPRPD  TSPNDFOOD  PROP_FOODSPEND_HOME\n",
       "1       50.0      200.0             0.800000\n",
       "3        0.0      300.0             1.000000\n",
       "4      210.0      100.0             0.322581\n",
       "5      200.0      200.0             0.500000\n",
       "6        0.0       40.0             1.000000"
      ]
     },
     "execution_count": 20,
     "metadata": {},
     "output_type": "execute_result"
    }
   ],
   "source": [
    "# Populate proportion of food spend that was on food to be prepared\n",
    "# at home\n",
    "ans['PROP_FOODSPEND_HOME'] = ans.apply(lambda x: x[1]/np.sum(x), axis=1)\n",
    "ans.head()"
   ]
  },
  {
   "cell_type": "code",
   "execution_count": 21,
   "metadata": {
    "ExecuteTime": {
     "end_time": "2021-05-19T23:39:03.752705Z",
     "start_time": "2021-05-19T23:39:03.209874Z"
    },
    "scrolled": true
   },
   "outputs": [
    {
     "data": {
      "text/html": [
       "<div>\n",
       "<style scoped>\n",
       "    .dataframe tbody tr th:only-of-type {\n",
       "        vertical-align: middle;\n",
       "    }\n",
       "\n",
       "    .dataframe tbody tr th {\n",
       "        vertical-align: top;\n",
       "    }\n",
       "\n",
       "    .dataframe thead th {\n",
       "        text-align: right;\n",
       "    }\n",
       "</style>\n",
       "<table border=\"1\" class=\"dataframe\">\n",
       "  <thead>\n",
       "    <tr style=\"text-align: right;\">\n",
       "      <th></th>\n",
       "      <th>TSPNDPRPD</th>\n",
       "      <th>TSPNDFOOD</th>\n",
       "      <th>PROP_FOODSPEND_HOME</th>\n",
       "    </tr>\n",
       "  </thead>\n",
       "  <tbody>\n",
       "    <tr>\n",
       "      <th>0</th>\n",
       "      <td>-88.0</td>\n",
       "      <td>-88.0</td>\n",
       "      <td>NaN</td>\n",
       "    </tr>\n",
       "    <tr>\n",
       "      <th>1</th>\n",
       "      <td>50.0</td>\n",
       "      <td>200.0</td>\n",
       "      <td>0.800000</td>\n",
       "    </tr>\n",
       "    <tr>\n",
       "      <th>2</th>\n",
       "      <td>-88.0</td>\n",
       "      <td>-88.0</td>\n",
       "      <td>NaN</td>\n",
       "    </tr>\n",
       "    <tr>\n",
       "      <th>3</th>\n",
       "      <td>0.0</td>\n",
       "      <td>300.0</td>\n",
       "      <td>1.000000</td>\n",
       "    </tr>\n",
       "    <tr>\n",
       "      <th>4</th>\n",
       "      <td>210.0</td>\n",
       "      <td>100.0</td>\n",
       "      <td>0.322581</td>\n",
       "    </tr>\n",
       "    <tr>\n",
       "      <th>5</th>\n",
       "      <td>200.0</td>\n",
       "      <td>200.0</td>\n",
       "      <td>0.500000</td>\n",
       "    </tr>\n",
       "    <tr>\n",
       "      <th>6</th>\n",
       "      <td>0.0</td>\n",
       "      <td>40.0</td>\n",
       "      <td>1.000000</td>\n",
       "    </tr>\n",
       "    <tr>\n",
       "      <th>7</th>\n",
       "      <td>0.0</td>\n",
       "      <td>800.0</td>\n",
       "      <td>1.000000</td>\n",
       "    </tr>\n",
       "    <tr>\n",
       "      <th>8</th>\n",
       "      <td>8.0</td>\n",
       "      <td>84.0</td>\n",
       "      <td>0.913043</td>\n",
       "    </tr>\n",
       "    <tr>\n",
       "      <th>9</th>\n",
       "      <td>25.0</td>\n",
       "      <td>120.0</td>\n",
       "      <td>0.827586</td>\n",
       "    </tr>\n",
       "    <tr>\n",
       "      <th>10</th>\n",
       "      <td>-99.0</td>\n",
       "      <td>-99.0</td>\n",
       "      <td>NaN</td>\n",
       "    </tr>\n",
       "    <tr>\n",
       "      <th>11</th>\n",
       "      <td>50.0</td>\n",
       "      <td>150.0</td>\n",
       "      <td>0.750000</td>\n",
       "    </tr>\n",
       "    <tr>\n",
       "      <th>12</th>\n",
       "      <td>20.0</td>\n",
       "      <td>300.0</td>\n",
       "      <td>0.937500</td>\n",
       "    </tr>\n",
       "    <tr>\n",
       "      <th>13</th>\n",
       "      <td>0.0</td>\n",
       "      <td>200.0</td>\n",
       "      <td>1.000000</td>\n",
       "    </tr>\n",
       "    <tr>\n",
       "      <th>14</th>\n",
       "      <td>0.0</td>\n",
       "      <td>200.0</td>\n",
       "      <td>1.000000</td>\n",
       "    </tr>\n",
       "    <tr>\n",
       "      <th>15</th>\n",
       "      <td>50.0</td>\n",
       "      <td>280.0</td>\n",
       "      <td>0.848485</td>\n",
       "    </tr>\n",
       "    <tr>\n",
       "      <th>16</th>\n",
       "      <td>0.0</td>\n",
       "      <td>150.0</td>\n",
       "      <td>1.000000</td>\n",
       "    </tr>\n",
       "    <tr>\n",
       "      <th>17</th>\n",
       "      <td>0.0</td>\n",
       "      <td>70.0</td>\n",
       "      <td>1.000000</td>\n",
       "    </tr>\n",
       "    <tr>\n",
       "      <th>18</th>\n",
       "      <td>250.0</td>\n",
       "      <td>90.0</td>\n",
       "      <td>0.264706</td>\n",
       "    </tr>\n",
       "    <tr>\n",
       "      <th>19</th>\n",
       "      <td>200.0</td>\n",
       "      <td>200.0</td>\n",
       "      <td>0.500000</td>\n",
       "    </tr>\n",
       "  </tbody>\n",
       "</table>\n",
       "</div>"
      ],
      "text/plain": [
       "    TSPNDPRPD  TSPNDFOOD  PROP_FOODSPEND_HOME\n",
       "0       -88.0      -88.0                  NaN\n",
       "1        50.0      200.0             0.800000\n",
       "2       -88.0      -88.0                  NaN\n",
       "3         0.0      300.0             1.000000\n",
       "4       210.0      100.0             0.322581\n",
       "5       200.0      200.0             0.500000\n",
       "6         0.0       40.0             1.000000\n",
       "7         0.0      800.0             1.000000\n",
       "8         8.0       84.0             0.913043\n",
       "9        25.0      120.0             0.827586\n",
       "10      -99.0      -99.0                  NaN\n",
       "11       50.0      150.0             0.750000\n",
       "12       20.0      300.0             0.937500\n",
       "13        0.0      200.0             1.000000\n",
       "14        0.0      200.0             1.000000\n",
       "15       50.0      280.0             0.848485\n",
       "16        0.0      150.0             1.000000\n",
       "17        0.0       70.0             1.000000\n",
       "18      250.0       90.0             0.264706\n",
       "19      200.0      200.0             0.500000"
      ]
     },
     "execution_count": 21,
     "metadata": {},
     "output_type": "execute_result"
    }
   ],
   "source": [
    "# merge results back into main df\n",
    "df = df.merge(right=ans['PROP_FOODSPEND_HOME'], how='left', \n",
    "         left_on=df.index, right_on=ans.index)\n",
    "\n",
    "df[['TSPNDPRPD','TSPNDFOOD','PROP_FOODSPEND_HOME']].head(20)"
   ]
  },
  {
   "cell_type": "code",
   "execution_count": 22,
   "metadata": {
    "ExecuteTime": {
     "end_time": "2021-05-19T23:39:03.825433Z",
     "start_time": "2021-05-19T23:39:03.759212Z"
    }
   },
   "outputs": [],
   "source": [
    "# Insert appropriate -99 and -88 values, so can assess -88s in bulk\n",
    "# with other columns later\n",
    "df.loc[(df['TSPNDPRPD'] ==-88) & (df['TSPNDFOOD'] ==-88), 'PROP_FOODSPEND_HOME'] = -88\n",
    "df.loc[(df['TSPNDPRPD'] ==-99) & (df['TSPNDFOOD'] ==-99), 'PROP_FOODSPEND_HOME'] = -99"
   ]
  },
  {
   "cell_type": "code",
   "execution_count": 23,
   "metadata": {
    "ExecuteTime": {
     "end_time": "2021-05-19T23:39:03.908127Z",
     "start_time": "2021-05-19T23:39:03.835007Z"
    },
    "scrolled": true
   },
   "outputs": [
    {
     "data": {
      "text/html": [
       "<div>\n",
       "<style scoped>\n",
       "    .dataframe tbody tr th:only-of-type {\n",
       "        vertical-align: middle;\n",
       "    }\n",
       "\n",
       "    .dataframe tbody tr th {\n",
       "        vertical-align: top;\n",
       "    }\n",
       "\n",
       "    .dataframe thead th {\n",
       "        text-align: right;\n",
       "    }\n",
       "</style>\n",
       "<table border=\"1\" class=\"dataframe\">\n",
       "  <thead>\n",
       "    <tr style=\"text-align: right;\">\n",
       "      <th></th>\n",
       "      <th>TSPNDPRPD</th>\n",
       "      <th>TSPNDFOOD</th>\n",
       "      <th>PROP_FOODSPEND_HOME</th>\n",
       "    </tr>\n",
       "  </thead>\n",
       "  <tbody>\n",
       "    <tr>\n",
       "      <th>64</th>\n",
       "      <td>0.0</td>\n",
       "      <td>0.0</td>\n",
       "      <td>NaN</td>\n",
       "    </tr>\n",
       "    <tr>\n",
       "      <th>191</th>\n",
       "      <td>0.0</td>\n",
       "      <td>-99.0</td>\n",
       "      <td>NaN</td>\n",
       "    </tr>\n",
       "    <tr>\n",
       "      <th>284</th>\n",
       "      <td>0.0</td>\n",
       "      <td>0.0</td>\n",
       "      <td>NaN</td>\n",
       "    </tr>\n",
       "    <tr>\n",
       "      <th>287</th>\n",
       "      <td>0.0</td>\n",
       "      <td>0.0</td>\n",
       "      <td>NaN</td>\n",
       "    </tr>\n",
       "    <tr>\n",
       "      <th>388</th>\n",
       "      <td>-88.0</td>\n",
       "      <td>-99.0</td>\n",
       "      <td>NaN</td>\n",
       "    </tr>\n",
       "    <tr>\n",
       "      <th>...</th>\n",
       "      <td>...</td>\n",
       "      <td>...</td>\n",
       "      <td>...</td>\n",
       "    </tr>\n",
       "    <tr>\n",
       "      <th>77416</th>\n",
       "      <td>0.0</td>\n",
       "      <td>0.0</td>\n",
       "      <td>NaN</td>\n",
       "    </tr>\n",
       "    <tr>\n",
       "      <th>77439</th>\n",
       "      <td>-88.0</td>\n",
       "      <td>-99.0</td>\n",
       "      <td>NaN</td>\n",
       "    </tr>\n",
       "    <tr>\n",
       "      <th>77656</th>\n",
       "      <td>-88.0</td>\n",
       "      <td>-99.0</td>\n",
       "      <td>NaN</td>\n",
       "    </tr>\n",
       "    <tr>\n",
       "      <th>77680</th>\n",
       "      <td>0.0</td>\n",
       "      <td>-99.0</td>\n",
       "      <td>NaN</td>\n",
       "    </tr>\n",
       "    <tr>\n",
       "      <th>77769</th>\n",
       "      <td>0.0</td>\n",
       "      <td>0.0</td>\n",
       "      <td>NaN</td>\n",
       "    </tr>\n",
       "  </tbody>\n",
       "</table>\n",
       "<p>1197 rows × 3 columns</p>\n",
       "</div>"
      ],
      "text/plain": [
       "       TSPNDPRPD  TSPNDFOOD  PROP_FOODSPEND_HOME\n",
       "64           0.0        0.0                  NaN\n",
       "191          0.0      -99.0                  NaN\n",
       "284          0.0        0.0                  NaN\n",
       "287          0.0        0.0                  NaN\n",
       "388        -88.0      -99.0                  NaN\n",
       "...          ...        ...                  ...\n",
       "77416        0.0        0.0                  NaN\n",
       "77439      -88.0      -99.0                  NaN\n",
       "77656      -88.0      -99.0                  NaN\n",
       "77680        0.0      -99.0                  NaN\n",
       "77769        0.0        0.0                  NaN\n",
       "\n",
       "[1197 rows x 3 columns]"
      ]
     },
     "execution_count": 23,
     "metadata": {},
     "output_type": "execute_result"
    }
   ],
   "source": [
    "df.loc[df['PROP_FOODSPEND_HOME'].isna(), ['TSPNDPRPD','TSPNDFOOD','PROP_FOODSPEND_HOME']]"
   ]
  },
  {
   "cell_type": "code",
   "execution_count": 24,
   "metadata": {
    "ExecuteTime": {
     "end_time": "2021-05-19T23:39:04.008316Z",
     "start_time": "2021-05-19T23:39:03.916828Z"
    }
   },
   "outputs": [
    {
     "data": {
      "text/html": [
       "<div>\n",
       "<style scoped>\n",
       "    .dataframe tbody tr th:only-of-type {\n",
       "        vertical-align: middle;\n",
       "    }\n",
       "\n",
       "    .dataframe tbody tr th {\n",
       "        vertical-align: top;\n",
       "    }\n",
       "\n",
       "    .dataframe thead th {\n",
       "        text-align: right;\n",
       "    }\n",
       "</style>\n",
       "<table border=\"1\" class=\"dataframe\">\n",
       "  <thead>\n",
       "    <tr style=\"text-align: right;\">\n",
       "      <th></th>\n",
       "      <th>TSPNDPRPD</th>\n",
       "      <th>TSPNDFOOD</th>\n",
       "      <th>PROP_FOODSPEND_HOME</th>\n",
       "    </tr>\n",
       "  </thead>\n",
       "  <tbody>\n",
       "  </tbody>\n",
       "</table>\n",
       "</div>"
      ],
      "text/plain": [
       "Empty DataFrame\n",
       "Columns: [TSPNDPRPD, TSPNDFOOD, PROP_FOODSPEND_HOME]\n",
       "Index: []"
      ]
     },
     "execution_count": 24,
     "metadata": {},
     "output_type": "execute_result"
    }
   ],
   "source": [
    "# For the ones where people put 0 for both, going to fill in with 0\n",
    "df.loc[(df['TSPNDPRPD'] ==0) & (df['TSPNDFOOD'] ==0) & \n",
    "       (df['PROP_FOODSPEND_HOME'].isna()), 'PROP_FOODSPEND_HOME'] = 0\n",
    "\n",
    "# For the rest of the nas, put -99\n",
    "df.loc[df['PROP_FOODSPEND_HOME'].isna(), 'PROP_FOODSPEND_HOME'] = -99\n",
    "\n",
    "df.loc[df['PROP_FOODSPEND_HOME'].isna(), ['TSPNDPRPD','TSPNDFOOD','PROP_FOODSPEND_HOME']]"
   ]
  },
  {
   "cell_type": "code",
   "execution_count": 25,
   "metadata": {
    "ExecuteTime": {
     "end_time": "2021-05-19T23:39:04.183570Z",
     "start_time": "2021-05-19T23:39:04.012429Z"
    }
   },
   "outputs": [
    {
     "data": {
      "text/plain": [
       "count    77825.000000\n",
       "mean       -15.693697\n",
       "std         35.134390\n",
       "min        -99.000000\n",
       "25%          0.462366\n",
       "50%          0.714286\n",
       "75%          0.877193\n",
       "max          1.000000\n",
       "Name: PROP_FOODSPEND_HOME, dtype: float64"
      ]
     },
     "execution_count": 25,
     "metadata": {},
     "output_type": "execute_result"
    }
   ],
   "source": [
    "df['PROP_FOODSPEND_HOME'].describe()"
   ]
  },
  {
   "cell_type": "code",
   "execution_count": 26,
   "metadata": {
    "ExecuteTime": {
     "end_time": "2021-05-19T23:39:04.622350Z",
     "start_time": "2021-05-19T23:39:04.194576Z"
    },
    "scrolled": true
   },
   "outputs": [
    {
     "name": "stdout",
     "output_type": "stream",
     "text": [
      "0\n"
     ]
    },
    {
     "data": {
      "text/plain": [
       "0.0    51865\n",
       "1.0    25960\n",
       "Name: IN_METRO_AREA, dtype: int64"
      ]
     },
     "execution_count": 26,
     "metadata": {},
     "output_type": "execute_result"
    }
   ],
   "source": [
    "# Create column to represent whether household was in a metropolitan statistical\n",
    "# area or not\n",
    "\n",
    "df.loc[df['EST_MSA'] > 0, 'IN_METRO_AREA'] = 1\n",
    "df.loc[df['IN_METRO_AREA'].isna(), 'IN_METRO_AREA'] = 0\n",
    "\n",
    "df.loc[df['EST_MSA'].isna(), 'EST_MSA'] = 0\n",
    "\n",
    "print(df['IN_METRO_AREA'].isna().sum())\n",
    "df['IN_METRO_AREA'].value_counts()"
   ]
  },
  {
   "cell_type": "code",
   "execution_count": 27,
   "metadata": {
    "ExecuteTime": {
     "end_time": "2021-05-19T23:39:04.765211Z",
     "start_time": "2021-05-19T23:39:04.625516Z"
    },
    "scrolled": false
   },
   "outputs": [
    {
     "data": {
      "text/html": [
       "<div>\n",
       "<style scoped>\n",
       "    .dataframe tbody tr th:only-of-type {\n",
       "        vertical-align: middle;\n",
       "    }\n",
       "\n",
       "    .dataframe tbody tr th {\n",
       "        vertical-align: top;\n",
       "    }\n",
       "\n",
       "    .dataframe thead th {\n",
       "        text-align: right;\n",
       "    }\n",
       "</style>\n",
       "<table border=\"1\" class=\"dataframe\">\n",
       "  <thead>\n",
       "    <tr style=\"text-align: right;\">\n",
       "      <th></th>\n",
       "      <th>SPNDSRC1</th>\n",
       "      <th>SPNDSRC2</th>\n",
       "      <th>SPNDSRC3</th>\n",
       "      <th>SPNDSRC4</th>\n",
       "      <th>SPNDSRC5</th>\n",
       "      <th>SPNDSRC6</th>\n",
       "      <th>SPNDSRC7</th>\n",
       "      <th>SPNDSRC8</th>\n",
       "      <th>CHNGHOW1</th>\n",
       "      <th>CHNGHOW2</th>\n",
       "      <th>CHNGHOW3</th>\n",
       "      <th>CHNGHOW4</th>\n",
       "      <th>CHNGHOW5</th>\n",
       "      <th>CHNGHOW6</th>\n",
       "      <th>CHNGHOW7</th>\n",
       "      <th>CHNGHOW8</th>\n",
       "      <th>CHNGHOW9</th>\n",
       "      <th>CHNGHOW10</th>\n",
       "      <th>CHNGHOW11</th>\n",
       "      <th>CHNGHOW12</th>\n",
       "    </tr>\n",
       "  </thead>\n",
       "  <tbody>\n",
       "    <tr>\n",
       "      <th>0</th>\n",
       "      <td>-88.0</td>\n",
       "      <td>-88.0</td>\n",
       "      <td>-88.0</td>\n",
       "      <td>-88.0</td>\n",
       "      <td>-88.0</td>\n",
       "      <td>-88.0</td>\n",
       "      <td>-88.0</td>\n",
       "      <td>-88.0</td>\n",
       "      <td>1.0</td>\n",
       "      <td>1.0</td>\n",
       "      <td>0.0</td>\n",
       "      <td>0.0</td>\n",
       "      <td>0.0</td>\n",
       "      <td>1.0</td>\n",
       "      <td>0.0</td>\n",
       "      <td>0.0</td>\n",
       "      <td>1.0</td>\n",
       "      <td>0.0</td>\n",
       "      <td>0.0</td>\n",
       "      <td>0.0</td>\n",
       "    </tr>\n",
       "    <tr>\n",
       "      <th>1</th>\n",
       "      <td>1.0</td>\n",
       "      <td>0.0</td>\n",
       "      <td>0.0</td>\n",
       "      <td>0.0</td>\n",
       "      <td>0.0</td>\n",
       "      <td>0.0</td>\n",
       "      <td>0.0</td>\n",
       "      <td>0.0</td>\n",
       "      <td>1.0</td>\n",
       "      <td>1.0</td>\n",
       "      <td>0.0</td>\n",
       "      <td>0.0</td>\n",
       "      <td>0.0</td>\n",
       "      <td>1.0</td>\n",
       "      <td>0.0</td>\n",
       "      <td>0.0</td>\n",
       "      <td>0.0</td>\n",
       "      <td>0.0</td>\n",
       "      <td>0.0</td>\n",
       "      <td>0.0</td>\n",
       "    </tr>\n",
       "    <tr>\n",
       "      <th>2</th>\n",
       "      <td>-88.0</td>\n",
       "      <td>-88.0</td>\n",
       "      <td>-88.0</td>\n",
       "      <td>-88.0</td>\n",
       "      <td>-88.0</td>\n",
       "      <td>-88.0</td>\n",
       "      <td>-88.0</td>\n",
       "      <td>-88.0</td>\n",
       "      <td>-88.0</td>\n",
       "      <td>-88.0</td>\n",
       "      <td>-88.0</td>\n",
       "      <td>-88.0</td>\n",
       "      <td>-88.0</td>\n",
       "      <td>-88.0</td>\n",
       "      <td>-88.0</td>\n",
       "      <td>-88.0</td>\n",
       "      <td>-88.0</td>\n",
       "      <td>-88.0</td>\n",
       "      <td>-88.0</td>\n",
       "      <td>-88.0</td>\n",
       "    </tr>\n",
       "    <tr>\n",
       "      <th>3</th>\n",
       "      <td>0.0</td>\n",
       "      <td>0.0</td>\n",
       "      <td>0.0</td>\n",
       "      <td>1.0</td>\n",
       "      <td>0.0</td>\n",
       "      <td>0.0</td>\n",
       "      <td>1.0</td>\n",
       "      <td>0.0</td>\n",
       "      <td>0.0</td>\n",
       "      <td>0.0</td>\n",
       "      <td>0.0</td>\n",
       "      <td>0.0</td>\n",
       "      <td>0.0</td>\n",
       "      <td>1.0</td>\n",
       "      <td>0.0</td>\n",
       "      <td>1.0</td>\n",
       "      <td>0.0</td>\n",
       "      <td>0.0</td>\n",
       "      <td>0.0</td>\n",
       "      <td>0.0</td>\n",
       "    </tr>\n",
       "    <tr>\n",
       "      <th>4</th>\n",
       "      <td>1.0</td>\n",
       "      <td>0.0</td>\n",
       "      <td>0.0</td>\n",
       "      <td>0.0</td>\n",
       "      <td>0.0</td>\n",
       "      <td>0.0</td>\n",
       "      <td>0.0</td>\n",
       "      <td>0.0</td>\n",
       "      <td>1.0</td>\n",
       "      <td>1.0</td>\n",
       "      <td>0.0</td>\n",
       "      <td>0.0</td>\n",
       "      <td>0.0</td>\n",
       "      <td>0.0</td>\n",
       "      <td>0.0</td>\n",
       "      <td>0.0</td>\n",
       "      <td>1.0</td>\n",
       "      <td>0.0</td>\n",
       "      <td>1.0</td>\n",
       "      <td>0.0</td>\n",
       "    </tr>\n",
       "    <tr>\n",
       "      <th>5</th>\n",
       "      <td>0.0</td>\n",
       "      <td>0.0</td>\n",
       "      <td>1.0</td>\n",
       "      <td>0.0</td>\n",
       "      <td>0.0</td>\n",
       "      <td>0.0</td>\n",
       "      <td>0.0</td>\n",
       "      <td>0.0</td>\n",
       "      <td>0.0</td>\n",
       "      <td>0.0</td>\n",
       "      <td>0.0</td>\n",
       "      <td>0.0</td>\n",
       "      <td>0.0</td>\n",
       "      <td>0.0</td>\n",
       "      <td>1.0</td>\n",
       "      <td>1.0</td>\n",
       "      <td>1.0</td>\n",
       "      <td>0.0</td>\n",
       "      <td>0.0</td>\n",
       "      <td>0.0</td>\n",
       "    </tr>\n",
       "    <tr>\n",
       "      <th>6</th>\n",
       "      <td>1.0</td>\n",
       "      <td>0.0</td>\n",
       "      <td>0.0</td>\n",
       "      <td>0.0</td>\n",
       "      <td>0.0</td>\n",
       "      <td>0.0</td>\n",
       "      <td>0.0</td>\n",
       "      <td>0.0</td>\n",
       "      <td>0.0</td>\n",
       "      <td>0.0</td>\n",
       "      <td>0.0</td>\n",
       "      <td>0.0</td>\n",
       "      <td>0.0</td>\n",
       "      <td>0.0</td>\n",
       "      <td>0.0</td>\n",
       "      <td>0.0</td>\n",
       "      <td>1.0</td>\n",
       "      <td>0.0</td>\n",
       "      <td>0.0</td>\n",
       "      <td>0.0</td>\n",
       "    </tr>\n",
       "    <tr>\n",
       "      <th>7</th>\n",
       "      <td>0.0</td>\n",
       "      <td>0.0</td>\n",
       "      <td>0.0</td>\n",
       "      <td>0.0</td>\n",
       "      <td>0.0</td>\n",
       "      <td>1.0</td>\n",
       "      <td>1.0</td>\n",
       "      <td>0.0</td>\n",
       "      <td>0.0</td>\n",
       "      <td>0.0</td>\n",
       "      <td>1.0</td>\n",
       "      <td>0.0</td>\n",
       "      <td>0.0</td>\n",
       "      <td>0.0</td>\n",
       "      <td>1.0</td>\n",
       "      <td>0.0</td>\n",
       "      <td>1.0</td>\n",
       "      <td>0.0</td>\n",
       "      <td>0.0</td>\n",
       "      <td>0.0</td>\n",
       "    </tr>\n",
       "    <tr>\n",
       "      <th>8</th>\n",
       "      <td>0.0</td>\n",
       "      <td>1.0</td>\n",
       "      <td>0.0</td>\n",
       "      <td>0.0</td>\n",
       "      <td>0.0</td>\n",
       "      <td>0.0</td>\n",
       "      <td>0.0</td>\n",
       "      <td>1.0</td>\n",
       "      <td>1.0</td>\n",
       "      <td>1.0</td>\n",
       "      <td>0.0</td>\n",
       "      <td>1.0</td>\n",
       "      <td>0.0</td>\n",
       "      <td>1.0</td>\n",
       "      <td>0.0</td>\n",
       "      <td>0.0</td>\n",
       "      <td>1.0</td>\n",
       "      <td>0.0</td>\n",
       "      <td>0.0</td>\n",
       "      <td>0.0</td>\n",
       "    </tr>\n",
       "    <tr>\n",
       "      <th>9</th>\n",
       "      <td>1.0</td>\n",
       "      <td>0.0</td>\n",
       "      <td>0.0</td>\n",
       "      <td>0.0</td>\n",
       "      <td>0.0</td>\n",
       "      <td>0.0</td>\n",
       "      <td>0.0</td>\n",
       "      <td>0.0</td>\n",
       "      <td>0.0</td>\n",
       "      <td>0.0</td>\n",
       "      <td>0.0</td>\n",
       "      <td>0.0</td>\n",
       "      <td>0.0</td>\n",
       "      <td>0.0</td>\n",
       "      <td>0.0</td>\n",
       "      <td>0.0</td>\n",
       "      <td>0.0</td>\n",
       "      <td>0.0</td>\n",
       "      <td>0.0</td>\n",
       "      <td>1.0</td>\n",
       "    </tr>\n",
       "    <tr>\n",
       "      <th>10</th>\n",
       "      <td>1.0</td>\n",
       "      <td>1.0</td>\n",
       "      <td>1.0</td>\n",
       "      <td>0.0</td>\n",
       "      <td>0.0</td>\n",
       "      <td>0.0</td>\n",
       "      <td>0.0</td>\n",
       "      <td>0.0</td>\n",
       "      <td>1.0</td>\n",
       "      <td>1.0</td>\n",
       "      <td>0.0</td>\n",
       "      <td>1.0</td>\n",
       "      <td>0.0</td>\n",
       "      <td>1.0</td>\n",
       "      <td>0.0</td>\n",
       "      <td>1.0</td>\n",
       "      <td>0.0</td>\n",
       "      <td>1.0</td>\n",
       "      <td>0.0</td>\n",
       "      <td>0.0</td>\n",
       "    </tr>\n",
       "    <tr>\n",
       "      <th>11</th>\n",
       "      <td>1.0</td>\n",
       "      <td>1.0</td>\n",
       "      <td>1.0</td>\n",
       "      <td>0.0</td>\n",
       "      <td>1.0</td>\n",
       "      <td>0.0</td>\n",
       "      <td>0.0</td>\n",
       "      <td>0.0</td>\n",
       "      <td>0.0</td>\n",
       "      <td>0.0</td>\n",
       "      <td>0.0</td>\n",
       "      <td>0.0</td>\n",
       "      <td>0.0</td>\n",
       "      <td>1.0</td>\n",
       "      <td>0.0</td>\n",
       "      <td>0.0</td>\n",
       "      <td>0.0</td>\n",
       "      <td>0.0</td>\n",
       "      <td>0.0</td>\n",
       "      <td>0.0</td>\n",
       "    </tr>\n",
       "    <tr>\n",
       "      <th>12</th>\n",
       "      <td>1.0</td>\n",
       "      <td>1.0</td>\n",
       "      <td>1.0</td>\n",
       "      <td>0.0</td>\n",
       "      <td>0.0</td>\n",
       "      <td>0.0</td>\n",
       "      <td>0.0</td>\n",
       "      <td>0.0</td>\n",
       "      <td>0.0</td>\n",
       "      <td>0.0</td>\n",
       "      <td>0.0</td>\n",
       "      <td>1.0</td>\n",
       "      <td>0.0</td>\n",
       "      <td>1.0</td>\n",
       "      <td>0.0</td>\n",
       "      <td>1.0</td>\n",
       "      <td>0.0</td>\n",
       "      <td>0.0</td>\n",
       "      <td>0.0</td>\n",
       "      <td>0.0</td>\n",
       "    </tr>\n",
       "    <tr>\n",
       "      <th>13</th>\n",
       "      <td>1.0</td>\n",
       "      <td>0.0</td>\n",
       "      <td>1.0</td>\n",
       "      <td>0.0</td>\n",
       "      <td>0.0</td>\n",
       "      <td>1.0</td>\n",
       "      <td>0.0</td>\n",
       "      <td>0.0</td>\n",
       "      <td>1.0</td>\n",
       "      <td>1.0</td>\n",
       "      <td>0.0</td>\n",
       "      <td>1.0</td>\n",
       "      <td>0.0</td>\n",
       "      <td>1.0</td>\n",
       "      <td>0.0</td>\n",
       "      <td>1.0</td>\n",
       "      <td>1.0</td>\n",
       "      <td>0.0</td>\n",
       "      <td>0.0</td>\n",
       "      <td>0.0</td>\n",
       "    </tr>\n",
       "    <tr>\n",
       "      <th>14</th>\n",
       "      <td>1.0</td>\n",
       "      <td>0.0</td>\n",
       "      <td>0.0</td>\n",
       "      <td>0.0</td>\n",
       "      <td>0.0</td>\n",
       "      <td>0.0</td>\n",
       "      <td>0.0</td>\n",
       "      <td>0.0</td>\n",
       "      <td>0.0</td>\n",
       "      <td>1.0</td>\n",
       "      <td>0.0</td>\n",
       "      <td>0.0</td>\n",
       "      <td>0.0</td>\n",
       "      <td>0.0</td>\n",
       "      <td>1.0</td>\n",
       "      <td>0.0</td>\n",
       "      <td>0.0</td>\n",
       "      <td>0.0</td>\n",
       "      <td>0.0</td>\n",
       "      <td>0.0</td>\n",
       "    </tr>\n",
       "    <tr>\n",
       "      <th>15</th>\n",
       "      <td>1.0</td>\n",
       "      <td>0.0</td>\n",
       "      <td>0.0</td>\n",
       "      <td>0.0</td>\n",
       "      <td>0.0</td>\n",
       "      <td>0.0</td>\n",
       "      <td>0.0</td>\n",
       "      <td>0.0</td>\n",
       "      <td>0.0</td>\n",
       "      <td>0.0</td>\n",
       "      <td>0.0</td>\n",
       "      <td>0.0</td>\n",
       "      <td>0.0</td>\n",
       "      <td>1.0</td>\n",
       "      <td>0.0</td>\n",
       "      <td>0.0</td>\n",
       "      <td>0.0</td>\n",
       "      <td>0.0</td>\n",
       "      <td>0.0</td>\n",
       "      <td>0.0</td>\n",
       "    </tr>\n",
       "    <tr>\n",
       "      <th>16</th>\n",
       "      <td>1.0</td>\n",
       "      <td>0.0</td>\n",
       "      <td>0.0</td>\n",
       "      <td>0.0</td>\n",
       "      <td>0.0</td>\n",
       "      <td>0.0</td>\n",
       "      <td>0.0</td>\n",
       "      <td>0.0</td>\n",
       "      <td>1.0</td>\n",
       "      <td>0.0</td>\n",
       "      <td>1.0</td>\n",
       "      <td>0.0</td>\n",
       "      <td>0.0</td>\n",
       "      <td>1.0</td>\n",
       "      <td>0.0</td>\n",
       "      <td>1.0</td>\n",
       "      <td>0.0</td>\n",
       "      <td>0.0</td>\n",
       "      <td>0.0</td>\n",
       "      <td>0.0</td>\n",
       "    </tr>\n",
       "    <tr>\n",
       "      <th>17</th>\n",
       "      <td>1.0</td>\n",
       "      <td>0.0</td>\n",
       "      <td>0.0</td>\n",
       "      <td>0.0</td>\n",
       "      <td>0.0</td>\n",
       "      <td>0.0</td>\n",
       "      <td>0.0</td>\n",
       "      <td>0.0</td>\n",
       "      <td>0.0</td>\n",
       "      <td>0.0</td>\n",
       "      <td>0.0</td>\n",
       "      <td>0.0</td>\n",
       "      <td>0.0</td>\n",
       "      <td>0.0</td>\n",
       "      <td>0.0</td>\n",
       "      <td>0.0</td>\n",
       "      <td>0.0</td>\n",
       "      <td>0.0</td>\n",
       "      <td>0.0</td>\n",
       "      <td>1.0</td>\n",
       "    </tr>\n",
       "    <tr>\n",
       "      <th>18</th>\n",
       "      <td>1.0</td>\n",
       "      <td>1.0</td>\n",
       "      <td>0.0</td>\n",
       "      <td>0.0</td>\n",
       "      <td>0.0</td>\n",
       "      <td>0.0</td>\n",
       "      <td>1.0</td>\n",
       "      <td>0.0</td>\n",
       "      <td>1.0</td>\n",
       "      <td>1.0</td>\n",
       "      <td>0.0</td>\n",
       "      <td>0.0</td>\n",
       "      <td>0.0</td>\n",
       "      <td>1.0</td>\n",
       "      <td>0.0</td>\n",
       "      <td>1.0</td>\n",
       "      <td>0.0</td>\n",
       "      <td>0.0</td>\n",
       "      <td>0.0</td>\n",
       "      <td>0.0</td>\n",
       "    </tr>\n",
       "    <tr>\n",
       "      <th>19</th>\n",
       "      <td>1.0</td>\n",
       "      <td>1.0</td>\n",
       "      <td>0.0</td>\n",
       "      <td>0.0</td>\n",
       "      <td>0.0</td>\n",
       "      <td>0.0</td>\n",
       "      <td>0.0</td>\n",
       "      <td>0.0</td>\n",
       "      <td>1.0</td>\n",
       "      <td>0.0</td>\n",
       "      <td>0.0</td>\n",
       "      <td>0.0</td>\n",
       "      <td>0.0</td>\n",
       "      <td>0.0</td>\n",
       "      <td>0.0</td>\n",
       "      <td>0.0</td>\n",
       "      <td>0.0</td>\n",
       "      <td>0.0</td>\n",
       "      <td>0.0</td>\n",
       "      <td>0.0</td>\n",
       "    </tr>\n",
       "  </tbody>\n",
       "</table>\n",
       "</div>"
      ],
      "text/plain": [
       "    SPNDSRC1  SPNDSRC2  SPNDSRC3  SPNDSRC4  SPNDSRC5  SPNDSRC6  SPNDSRC7  \\\n",
       "0      -88.0     -88.0     -88.0     -88.0     -88.0     -88.0     -88.0   \n",
       "1        1.0       0.0       0.0       0.0       0.0       0.0       0.0   \n",
       "2      -88.0     -88.0     -88.0     -88.0     -88.0     -88.0     -88.0   \n",
       "3        0.0       0.0       0.0       1.0       0.0       0.0       1.0   \n",
       "4        1.0       0.0       0.0       0.0       0.0       0.0       0.0   \n",
       "5        0.0       0.0       1.0       0.0       0.0       0.0       0.0   \n",
       "6        1.0       0.0       0.0       0.0       0.0       0.0       0.0   \n",
       "7        0.0       0.0       0.0       0.0       0.0       1.0       1.0   \n",
       "8        0.0       1.0       0.0       0.0       0.0       0.0       0.0   \n",
       "9        1.0       0.0       0.0       0.0       0.0       0.0       0.0   \n",
       "10       1.0       1.0       1.0       0.0       0.0       0.0       0.0   \n",
       "11       1.0       1.0       1.0       0.0       1.0       0.0       0.0   \n",
       "12       1.0       1.0       1.0       0.0       0.0       0.0       0.0   \n",
       "13       1.0       0.0       1.0       0.0       0.0       1.0       0.0   \n",
       "14       1.0       0.0       0.0       0.0       0.0       0.0       0.0   \n",
       "15       1.0       0.0       0.0       0.0       0.0       0.0       0.0   \n",
       "16       1.0       0.0       0.0       0.0       0.0       0.0       0.0   \n",
       "17       1.0       0.0       0.0       0.0       0.0       0.0       0.0   \n",
       "18       1.0       1.0       0.0       0.0       0.0       0.0       1.0   \n",
       "19       1.0       1.0       0.0       0.0       0.0       0.0       0.0   \n",
       "\n",
       "    SPNDSRC8  CHNGHOW1  CHNGHOW2  CHNGHOW3  CHNGHOW4  CHNGHOW5  CHNGHOW6  \\\n",
       "0      -88.0       1.0       1.0       0.0       0.0       0.0       1.0   \n",
       "1        0.0       1.0       1.0       0.0       0.0       0.0       1.0   \n",
       "2      -88.0     -88.0     -88.0     -88.0     -88.0     -88.0     -88.0   \n",
       "3        0.0       0.0       0.0       0.0       0.0       0.0       1.0   \n",
       "4        0.0       1.0       1.0       0.0       0.0       0.0       0.0   \n",
       "5        0.0       0.0       0.0       0.0       0.0       0.0       0.0   \n",
       "6        0.0       0.0       0.0       0.0       0.0       0.0       0.0   \n",
       "7        0.0       0.0       0.0       1.0       0.0       0.0       0.0   \n",
       "8        1.0       1.0       1.0       0.0       1.0       0.0       1.0   \n",
       "9        0.0       0.0       0.0       0.0       0.0       0.0       0.0   \n",
       "10       0.0       1.0       1.0       0.0       1.0       0.0       1.0   \n",
       "11       0.0       0.0       0.0       0.0       0.0       0.0       1.0   \n",
       "12       0.0       0.0       0.0       0.0       1.0       0.0       1.0   \n",
       "13       0.0       1.0       1.0       0.0       1.0       0.0       1.0   \n",
       "14       0.0       0.0       1.0       0.0       0.0       0.0       0.0   \n",
       "15       0.0       0.0       0.0       0.0       0.0       0.0       1.0   \n",
       "16       0.0       1.0       0.0       1.0       0.0       0.0       1.0   \n",
       "17       0.0       0.0       0.0       0.0       0.0       0.0       0.0   \n",
       "18       0.0       1.0       1.0       0.0       0.0       0.0       1.0   \n",
       "19       0.0       1.0       0.0       0.0       0.0       0.0       0.0   \n",
       "\n",
       "    CHNGHOW7  CHNGHOW8  CHNGHOW9  CHNGHOW10  CHNGHOW11  CHNGHOW12  \n",
       "0        0.0       0.0       1.0        0.0        0.0        0.0  \n",
       "1        0.0       0.0       0.0        0.0        0.0        0.0  \n",
       "2      -88.0     -88.0     -88.0      -88.0      -88.0      -88.0  \n",
       "3        0.0       1.0       0.0        0.0        0.0        0.0  \n",
       "4        0.0       0.0       1.0        0.0        1.0        0.0  \n",
       "5        1.0       1.0       1.0        0.0        0.0        0.0  \n",
       "6        0.0       0.0       1.0        0.0        0.0        0.0  \n",
       "7        1.0       0.0       1.0        0.0        0.0        0.0  \n",
       "8        0.0       0.0       1.0        0.0        0.0        0.0  \n",
       "9        0.0       0.0       0.0        0.0        0.0        1.0  \n",
       "10       0.0       1.0       0.0        1.0        0.0        0.0  \n",
       "11       0.0       0.0       0.0        0.0        0.0        0.0  \n",
       "12       0.0       1.0       0.0        0.0        0.0        0.0  \n",
       "13       0.0       1.0       1.0        0.0        0.0        0.0  \n",
       "14       1.0       0.0       0.0        0.0        0.0        0.0  \n",
       "15       0.0       0.0       0.0        0.0        0.0        0.0  \n",
       "16       0.0       1.0       0.0        0.0        0.0        0.0  \n",
       "17       0.0       0.0       0.0        0.0        0.0        1.0  \n",
       "18       0.0       1.0       0.0        0.0        0.0        0.0  \n",
       "19       0.0       0.0       0.0        0.0        0.0        0.0  "
      ]
     },
     "execution_count": 27,
     "metadata": {},
     "output_type": "execute_result"
    }
   ],
   "source": [
    "# convert -99 values to 0 in columns that represent checkboxes that are\n",
    "# part of a larger multiple choice question\n",
    "# This essentially OHE's them, except there are some values with -88\n",
    "# which appear to be mising across the board\n",
    "\n",
    "multichoice_cols = ['SPNDSRC1','SPNDSRC2','SPNDSRC3','SPNDSRC4','SPNDSRC5',\n",
    "                    'SPNDSRC6','SPNDSRC7','SPNDSRC8','CHNGHOW1','CHNGHOW2',\n",
    "                    'CHNGHOW3','CHNGHOW4','CHNGHOW5','CHNGHOW6','CHNGHOW7',\n",
    "                    'CHNGHOW8','CHNGHOW9','CHNGHOW10','CHNGHOW11','CHNGHOW12']\n",
    "\n",
    "for col in multichoice_cols:\n",
    "    df.loc[df[col] == -99, col] = 0\n",
    "    \n",
    "df[multichoice_cols].head(20)"
   ]
  },
  {
   "cell_type": "code",
   "execution_count": 28,
   "metadata": {
    "ExecuteTime": {
     "end_time": "2021-05-19T23:39:04.895875Z",
     "start_time": "2021-05-19T23:39:04.768033Z"
    },
    "scrolled": true
   },
   "outputs": [
    {
     "data": {
      "text/plain": [
       "count    77825.000000\n",
       "mean        54.562159\n",
       "std         15.898557\n",
       "min         18.000000\n",
       "25%         42.000000\n",
       "50%         56.000000\n",
       "75%         67.000000\n",
       "max         88.000000\n",
       "Name: AGE, dtype: float64"
      ]
     },
     "execution_count": 28,
     "metadata": {},
     "output_type": "execute_result"
    }
   ],
   "source": [
    "# Convert birth year to age\n",
    "df['AGE'] = df['TBIRTH_YEAR'].map(lambda x: 2021-x)\n",
    "\n",
    "df['AGE'].describe()"
   ]
  },
  {
   "cell_type": "code",
   "execution_count": 29,
   "metadata": {
    "ExecuteTime": {
     "end_time": "2021-05-19T23:39:05.012339Z",
     "start_time": "2021-05-19T23:39:04.929619Z"
    }
   },
   "outputs": [
    {
     "data": {
      "text/plain": [
       "0"
      ]
     },
     "execution_count": 29,
     "metadata": {},
     "output_type": "execute_result"
    }
   ],
   "source": [
    "df['AGE'].isna().sum()"
   ]
  },
  {
   "cell_type": "code",
   "execution_count": 30,
   "metadata": {
    "ExecuteTime": {
     "end_time": "2021-05-19T23:39:05.074948Z",
     "start_time": "2021-05-19T23:39:05.018112Z"
    }
   },
   "outputs": [],
   "source": [
    "# Running list of the categorical and numeric column names, both engineered\n",
    "# and original\n",
    "\n",
    "cat_cols = ['HLTHINS', 'SCHOOL_KIDS', 'IN_METRO_AREA', 'ANXIOUS','ANYWORK',\n",
    "            'CHNGHOW1','CHNGHOW10','CHNGHOW11','CHNGHOW12','CHNGHOW2',\n",
    "            'CHNGHOW3','CHNGHOW4','CHNGHOW5','CHNGHOW6','CHNGHOW7','CHNGHOW8',\n",
    "            'CHNGHOW9','CURFOODSUF','DELAY','DOWN','EEDUC','EGENDER','EIP',\n",
    "            'EXPCTLOSS','EXPNS_DIF','FEWRTRANS','FEWRTRIPS','FREEFOOD',\n",
    "            'HADCOVID','INCOME','INTEREST','LIVQTR','MH_NOTGET','MH_SVCS',\n",
    "            'MS','NOTGET','PLNDTRIPS','PRESCRIPT','RHISPANIC','RRACE',\n",
    "            'SNAP_YN','SPNDSRC1','SPNDSRC2','SPNDSRC3','SPNDSRC4','SPNDSRC5',\n",
    "            'SPNDSRC6','SPNDSRC7','SPNDSRC8','SSA_APPLY','SSA_RECV','TENURE',\n",
    "            'TW_START','UI_APPLY','UI_RECV','WORRY','WRKLOSS','HLTHINS1', \n",
    "            'HLTHINS2', 'HLTHINS3', 'HLTHINS4', 'HLTHINS5', 'HLTHINS6', \n",
    "            'HLTHINS7', 'HLTHINS8', 'ENROLL1', 'ENROLL2', 'ENROLL3', 'EST_MSA']\n",
    "\n",
    "cat_cols.sort()\n",
    "\n",
    "num_cols = ['PROP_FOODSPEND_HOME', 'AGE', 'THHLD_NUMADLT','THHLD_NUMKID',\n",
    "            'TNUM_PS']\n",
    "\n"
   ]
  },
  {
   "cell_type": "code",
   "execution_count": 31,
   "metadata": {
    "ExecuteTime": {
     "end_time": "2021-05-19T23:39:05.624323Z",
     "start_time": "2021-05-19T23:39:05.078770Z"
    },
    "scrolled": false
   },
   "outputs": [
    {
     "name": "stdout",
     "output_type": "stream",
     "text": [
      " 1.0     0.351044\n",
      " 2.0     0.261022\n",
      "-88.0    0.162082\n",
      " 4.0     0.129007\n",
      " 3.0     0.092168\n",
      "-99.0    0.004677\n",
      "Name: ANXIOUS, dtype: float64\n",
      " 1.0     0.568789\n",
      " 2.0     0.428037\n",
      "-99.0    0.003174\n",
      "Name: ANYWORK, dtype: float64\n",
      " 0.0     0.497783\n",
      " 1.0     0.448159\n",
      "-88.0    0.054057\n",
      "Name: CHNGHOW1, dtype: float64\n",
      " 0.0     0.884022\n",
      " 1.0     0.061921\n",
      "-88.0    0.054057\n",
      "Name: CHNGHOW10, dtype: float64\n",
      " 0.0     0.925782\n",
      "-88.0    0.054057\n",
      " 1.0     0.020161\n",
      "Name: CHNGHOW11, dtype: float64\n",
      " 0.0     0.700405\n",
      " 1.0     0.245538\n",
      "-88.0    0.054057\n",
      "Name: CHNGHOW12, dtype: float64\n",
      " 0.0     0.725255\n",
      " 1.0     0.220687\n",
      "-88.0    0.054057\n",
      "Name: CHNGHOW2, dtype: float64\n",
      " 0.0     0.873228\n",
      " 1.0     0.072714\n",
      "-88.0    0.054057\n",
      "Name: CHNGHOW3, dtype: float64\n",
      " 0.0     0.661022\n",
      " 1.0     0.284921\n",
      "-88.0    0.054057\n",
      "Name: CHNGHOW4, dtype: float64\n",
      " 0.0     0.913935\n",
      "-88.0    0.054057\n",
      " 1.0     0.032008\n",
      "Name: CHNGHOW5, dtype: float64\n",
      " 0.0     0.474513\n",
      " 1.0     0.471429\n",
      "-88.0    0.054057\n",
      "Name: CHNGHOW6, dtype: float64\n",
      " 0.0     0.867189\n",
      " 1.0     0.078754\n",
      "-88.0    0.054057\n",
      "Name: CHNGHOW7, dtype: float64\n",
      " 0.0     0.755259\n",
      " 1.0     0.190684\n",
      "-88.0    0.054057\n",
      "Name: CHNGHOW8, dtype: float64\n",
      " 0.0     0.728519\n",
      " 1.0     0.217424\n",
      "-88.0    0.054057\n",
      "Name: CHNGHOW9, dtype: float64\n",
      " 1.0     0.653659\n",
      " 2.0     0.188641\n",
      "-88.0    0.099852\n",
      " 3.0     0.041863\n",
      " 4.0     0.010716\n",
      "-99.0    0.005268\n",
      "Name: CURFOODSUF, dtype: float64\n",
      " 2.0     0.596826\n",
      " 1.0     0.219004\n",
      "-88.0    0.178683\n",
      "-99.0    0.005487\n",
      "Name: DELAY, dtype: float64\n",
      " 1.0     0.444896\n",
      " 2.0     0.244651\n",
      "-88.0    0.162082\n",
      " 4.0     0.072689\n",
      " 3.0     0.069810\n",
      "-99.0    0.005872\n",
      "Name: DOWN, dtype: float64\n",
      "6.0    0.285371\n",
      "7.0    0.255496\n",
      "4.0    0.215869\n",
      "3.0    0.116826\n",
      "5.0    0.105480\n",
      "2.0    0.014494\n",
      "1.0    0.006463\n",
      "Name: EEDUC, dtype: float64\n",
      "2.0    0.595259\n",
      "1.0    0.404741\n",
      "Name: EGENDER, dtype: float64\n",
      " 4.0     0.630928\n",
      " 3.0     0.157032\n",
      " 1.0     0.097321\n",
      " 2.0     0.079679\n",
      "-88.0    0.028423\n",
      "-99.0    0.006617\n",
      "Name: EIP, dtype: float64\n",
      "-88.0    0.738028\n",
      " 1.0     0.183309\n",
      "-99.0    0.078664\n",
      "Name: ENROLL1, dtype: float64\n",
      "-88.0    0.738028\n",
      "-99.0    0.239345\n",
      " 1.0     0.022628\n",
      "Name: ENROLL2, dtype: float64\n",
      "-88.0    0.738028\n",
      "-99.0    0.201015\n",
      " 1.0     0.060957\n",
      "Name: ENROLL3, dtype: float64\n",
      "0.0        0.666431\n",
      "47900.0    0.039190\n",
      "35620.0    0.027125\n",
      "37980.0    0.026611\n",
      "14460.0    0.025956\n",
      "42660.0    0.023746\n",
      "41860.0    0.023668\n",
      "31080.0    0.022499\n",
      "19100.0    0.021587\n",
      "16980.0    0.021574\n",
      "26420.0    0.020970\n",
      "38060.0    0.018362\n",
      "40140.0    0.015792\n",
      "19820.0    0.015702\n",
      "12060.0    0.015676\n",
      "33100.0    0.015111\n",
      "Name: EST_MSA, dtype: float64\n",
      " 2.0     0.850421\n",
      " 1.0     0.145827\n",
      "-99.0    0.003752\n",
      "Name: EXPCTLOSS, dtype: float64\n",
      " 1.0     0.512894\n",
      " 2.0     0.209958\n",
      " 3.0     0.144504\n",
      " 4.0     0.089444\n",
      "-88.0    0.037456\n",
      "-99.0    0.005744\n",
      "Name: EXPNS_DIF, dtype: float64\n",
      " 3.0     0.530292\n",
      " 1.0     0.253736\n",
      " 2.0     0.114578\n",
      "-88.0    0.095573\n",
      "-99.0    0.005821\n",
      "Name: FEWRTRANS, dtype: float64\n",
      " 1.0     0.542846\n",
      " 2.0     0.353344\n",
      "-88.0    0.095573\n",
      "-99.0    0.008236\n",
      "Name: FEWRTRIPS, dtype: float64\n",
      " 2.0     0.833138\n",
      "-88.0    0.103206\n",
      " 1.0     0.059004\n",
      "-99.0    0.004651\n",
      "Name: FREEFOOD, dtype: float64\n",
      " 2.0     0.882236\n",
      " 1.0     0.109566\n",
      " 3.0     0.006605\n",
      "-99.0    0.001593\n",
      "Name: HADCOVID, dtype: float64\n",
      " 1.0     0.786174\n",
      "-88.0    0.169663\n",
      " 0.0     0.039884\n",
      "-99.0    0.004279\n",
      "Name: HLTHINS, dtype: float64\n",
      " 1.0     0.534623\n",
      " 2.0     0.262987\n",
      "-88.0    0.169663\n",
      "-99.0    0.032727\n",
      "Name: HLTHINS1, dtype: float64\n",
      " 2.0     0.537861\n",
      " 1.0     0.194064\n",
      "-88.0    0.169663\n",
      "-99.0    0.098413\n",
      "Name: HLTHINS2, dtype: float64\n",
      " 2.0     0.494982\n",
      " 1.0     0.257861\n",
      "-88.0    0.169663\n",
      "-99.0    0.077494\n",
      "Name: HLTHINS3, dtype: float64\n",
      " 2.0     0.626637\n",
      "-88.0    0.169663\n",
      "-99.0    0.118484\n",
      " 1.0     0.085217\n",
      "Name: HLTHINS4, dtype: float64\n",
      " 2.0     0.667086\n",
      "-88.0    0.169663\n",
      "-99.0    0.124664\n",
      " 1.0     0.038587\n",
      "Name: HLTHINS5, dtype: float64\n",
      " 2.0     0.661934\n",
      "-88.0    0.169663\n",
      "-99.0    0.129213\n",
      " 1.0     0.039190\n",
      "Name: HLTHINS6, dtype: float64\n",
      " 2.0     0.685744\n",
      "-88.0    0.169663\n",
      "-99.0    0.137347\n",
      " 1.0     0.007247\n",
      "Name: HLTHINS7, dtype: float64\n",
      " 2.0     0.628050\n",
      "-88.0    0.169663\n",
      "-99.0    0.163996\n",
      " 1.0     0.038291\n",
      "Name: HLTHINS8, dtype: float64\n",
      "-88.0    0.209586\n",
      " 6.0     0.140186\n",
      " 4.0     0.137449\n",
      " 5.0     0.112278\n",
      " 3.0     0.083058\n",
      " 8.0     0.081336\n",
      " 1.0     0.074655\n",
      " 7.0     0.069553\n",
      " 2.0     0.065108\n",
      "-99.0    0.026791\n",
      "Name: INCOME, dtype: float64\n",
      " 1.0     0.423386\n",
      " 2.0     0.251346\n",
      "-88.0    0.162082\n",
      " 3.0     0.081619\n",
      " 4.0     0.074873\n",
      "-99.0    0.006695\n",
      "Name: INTEREST, dtype: float64\n",
      "0.0    0.666431\n",
      "1.0    0.333569\n",
      "Name: IN_METRO_AREA, dtype: float64\n",
      " 2.0     0.577642\n",
      "-88.0    0.186341\n",
      " 3.0     0.063925\n",
      " 9.0     0.035079\n",
      " 1.0     0.024684\n",
      " 6.0     0.022435\n",
      " 5.0     0.022217\n",
      " 7.0     0.020071\n",
      " 8.0     0.019004\n",
      " 4.0     0.016113\n",
      "-99.0    0.008969\n",
      " 10.0    0.003521\n",
      "Name: LIVQTR, dtype: float64\n",
      " 2.0     0.730781\n",
      "-88.0    0.178683\n",
      " 1.0     0.085551\n",
      "-99.0    0.004986\n",
      "Name: MH_NOTGET, dtype: float64\n",
      " 2.0     0.726656\n",
      "-88.0    0.178683\n",
      " 1.0     0.088802\n",
      "-99.0    0.005859\n",
      "Name: MH_SVCS, dtype: float64\n",
      " 1.0     0.587729\n",
      " 5.0     0.176833\n",
      " 3.0     0.152637\n",
      " 2.0     0.059582\n",
      " 4.0     0.016948\n",
      "-99.0    0.006270\n",
      "Name: MS, dtype: float64\n",
      " 2.0     0.659582\n",
      "-88.0    0.178683\n",
      " 1.0     0.156531\n",
      "-99.0    0.005204\n",
      "Name: NOTGET, dtype: float64\n",
      " 1.0     0.714436\n",
      " 2.0     0.184851\n",
      "-88.0    0.095573\n",
      "-99.0    0.005140\n",
      "Name: PLNDTRIPS, dtype: float64\n",
      " 2.0     0.632804\n",
      " 1.0     0.182885\n",
      "-88.0    0.178683\n",
      "-99.0    0.005628\n",
      "Name: PRESCRIPT, dtype: float64\n",
      "1.0    0.904953\n",
      "2.0    0.095047\n",
      "Name: RHISPANIC, dtype: float64\n",
      "1.0    0.825609\n",
      "2.0    0.078073\n",
      "3.0    0.050434\n",
      "4.0    0.045885\n",
      "Name: RRACE, dtype: float64\n",
      "0.0    0.816691\n",
      "1.0    0.183309\n",
      "Name: SCHOOL_KIDS, dtype: float64\n",
      " 2.0     0.823758\n",
      "-88.0    0.105300\n",
      " 1.0     0.061972\n",
      "-99.0    0.008969\n",
      "Name: SNAP_YN, dtype: float64\n",
      " 1.0     0.703322\n",
      " 0.0     0.201105\n",
      "-88.0    0.095573\n",
      "Name: SPNDSRC1, dtype: float64\n",
      " 0.0     0.680308\n",
      " 1.0     0.224118\n",
      "-88.0    0.095573\n",
      "Name: SPNDSRC2, dtype: float64\n",
      " 0.0     0.699454\n",
      " 1.0     0.204973\n",
      "-88.0    0.095573\n",
      "Name: SPNDSRC3, dtype: float64\n",
      " 0.0     0.839075\n",
      "-88.0    0.095573\n",
      " 1.0     0.065352\n",
      "Name: SPNDSRC4, dtype: float64\n",
      " 0.0     0.839640\n",
      "-88.0    0.095573\n",
      " 1.0     0.064786\n",
      "Name: SPNDSRC5, dtype: float64\n",
      " 0.0     0.734610\n",
      " 1.0     0.169817\n",
      "-88.0    0.095573\n",
      "Name: SPNDSRC6, dtype: float64\n",
      " 0.0     0.871442\n",
      "-88.0    0.095573\n",
      " 1.0     0.032984\n",
      "Name: SPNDSRC7, dtype: float64\n",
      " 0.0     0.863540\n",
      "-88.0    0.095573\n",
      " 1.0     0.040887\n",
      "Name: SPNDSRC8, dtype: float64\n",
      " 2.0     0.938143\n",
      " 1.0     0.042955\n",
      "-88.0    0.010215\n",
      "-99.0    0.008686\n",
      "Name: SSA_APPLY, dtype: float64\n",
      " 2.0     0.656576\n",
      " 1.0     0.330960\n",
      "-88.0    0.006669\n",
      "-99.0    0.005795\n",
      "Name: SSA_RECV, dtype: float64\n",
      " 2.0     0.395708\n",
      " 1.0     0.229978\n",
      "-88.0    0.186341\n",
      " 3.0     0.171770\n",
      " 4.0     0.010434\n",
      "-99.0    0.005769\n",
      "Name: TENURE, dtype: float64\n",
      " 1.0     0.412425\n",
      " 2.0     0.374892\n",
      " 3.0     0.164896\n",
      "-99.0    0.047787\n",
      "Name: TW_START, dtype: float64\n",
      " 2.0     0.842094\n",
      " 1.0     0.152586\n",
      "-99.0    0.002788\n",
      "-88.0    0.002531\n",
      "Name: UI_APPLY, dtype: float64\n",
      "-88.0    0.847941\n",
      " 1.0     0.121825\n",
      " 2.0     0.027857\n",
      "-99.0    0.002377\n",
      "Name: UI_RECV, dtype: float64\n",
      " 1.0     0.428898\n",
      " 2.0     0.238818\n",
      "-88.0    0.162082\n",
      " 4.0     0.088930\n",
      " 3.0     0.075130\n",
      "-99.0    0.006142\n",
      "Name: WORRY, dtype: float64\n",
      " 2.0     0.626611\n",
      " 1.0     0.371012\n",
      "-99.0    0.002377\n",
      "Name: WRKLOSS, dtype: float64\n"
     ]
    }
   ],
   "source": [
    "for col in cat_cols:\n",
    "    print(df[col].value_counts(1))"
   ]
  },
  {
   "cell_type": "code",
   "execution_count": 32,
   "metadata": {
    "ExecuteTime": {
     "end_time": "2021-05-19T23:39:05.738061Z",
     "start_time": "2021-05-19T23:39:05.626570Z"
    }
   },
   "outputs": [
    {
     "name": "stdout",
     "output_type": "stream",
     "text": [
      "0\n",
      "count    77825.000000\n",
      "mean       -15.693697\n",
      "std         35.134390\n",
      "min        -99.000000\n",
      "25%          0.462366\n",
      "50%          0.714286\n",
      "75%          0.877193\n",
      "max          1.000000\n",
      "Name: PROP_FOODSPEND_HOME, dtype: float64\n",
      "0\n",
      "count    77825.000000\n",
      "mean        54.562159\n",
      "std         15.898557\n",
      "min         18.000000\n",
      "25%         42.000000\n",
      "50%         56.000000\n",
      "75%         67.000000\n",
      "max         88.000000\n",
      "Name: AGE, dtype: float64\n",
      "0\n",
      "count    77825.000000\n",
      "mean         2.122981\n",
      "std          0.966851\n",
      "min          1.000000\n",
      "25%          2.000000\n",
      "50%          2.000000\n",
      "75%          2.000000\n",
      "max         10.000000\n",
      "Name: THHLD_NUMADLT, dtype: float64\n",
      "0\n",
      "count    77825.000000\n",
      "mean         0.588024\n",
      "std          1.010032\n",
      "min          0.000000\n",
      "25%          0.000000\n",
      "50%          0.000000\n",
      "75%          1.000000\n",
      "max          5.000000\n",
      "Name: THHLD_NUMKID, dtype: float64\n",
      "0\n",
      "count    77825.000000\n",
      "mean       -19.387189\n",
      "std         37.068353\n",
      "min        -99.000000\n",
      "25%          0.000000\n",
      "50%          0.000000\n",
      "75%          0.000000\n",
      "max          3.000000\n",
      "Name: TNUM_PS, dtype: float64\n"
     ]
    }
   ],
   "source": [
    "for col in num_cols:\n",
    "    print(df[col].isna().sum())\n",
    "    print(df[col].describe())"
   ]
  },
  {
   "cell_type": "markdown",
   "metadata": {},
   "source": [
    "Of the columns I initially had listed as categorical, I used the value counts above, combined with reviewing the meanings of each label in the data dictionary, to make further decisions on each column.\n",
    "\n",
    "- Many of these columns are almost already OHE. There are already only 2 choices, mostly Yes/No answers, but a few others such as gender Male/Female. \n",
    "    - Many of the Yes/No questions actually have Yes encoded as 1 and No encoded as 2, so I'm going to mass replace those with 0 instead of 2 to be more consistent with how OHE typically works.\n",
    "    - A few can be turned into OHE columns if I combine rare labels.\n",
    "\n",
    "\n",
    "- A few categorical columns are suited to be left as ordinals and treated like numbers. These columns are:\n",
    "    - `ANXIOUS`, `DOWN`, `INTEREST` (lack of), and `WORRY`: as value increases, frequency of experiencing these feelings increases.\n",
    "    - `CURFOODSUF`: as value increases, food insecurity increases / food suffiency decreases.\n",
    "    - `EEDUC`: as value increases, education level represented by years of schooling required to obtain that level increases.\n",
    "    - `EXPNS_DIF`: as value increases, difficulty with expenses increases\n",
    "    - `INCOME`: as value increases, pre-tax income range increases\n",
    "    \n",
    "    \n",
    "- Some categorical columns do need to be OHE because they have more than two choices that can't be combined without losing information.\n",
    "\n",
    "\n",
    "- I will drop `UI_RECV` because the vast majority of its values are -88 missing, so it has little to contribute in terms of actual answers the respondents provided.\n",
    "\n",
    "Almost all of the columns have -99 values that represent the respondent skipped the question, and -88 values that are simply missing with no explanation. Before accepting that I need to make 2 separate columns for every one of these (expanding my feature space by a lot) I'm going to map them using missingno and see if I can identify patterns. Maybe values that are -88 across multiple columns can be bundled together in fewer missing indicator columns.\n",
    "\n",
    "Of the numerical columns, I will turn `TNUM_PS` into a Yes/No categorical column, since it appears most households have no one who was planning on post-secondary education in fall 2021. I don't think the number of people will make a big difference."
   ]
  },
  {
   "cell_type": "code",
   "execution_count": 33,
   "metadata": {
    "ExecuteTime": {
     "end_time": "2021-05-19T23:39:06.352896Z",
     "start_time": "2021-05-19T23:39:05.745576Z"
    },
    "scrolled": false
   },
   "outputs": [
    {
     "name": "stdout",
     "output_type": "stream",
     "text": [
      " 1.0     44266\n",
      " 0.0     33312\n",
      "-99.0      247\n",
      "Name: ANYWORK, dtype: int64\n",
      " 0.0     46448\n",
      " 1.0     17044\n",
      "-88.0    13906\n",
      "-99.0      427\n",
      "Name: DELAY, dtype: int64\n",
      "0.0    46326\n",
      "1.0    31499\n",
      "Name: EGENDER, dtype: int64\n",
      " 0.0     66184\n",
      " 1.0     11349\n",
      "-99.0      292\n",
      "Name: EXPCTLOSS, dtype: int64\n",
      " 1.0     42247\n",
      " 0.0     27499\n",
      "-88.0     7438\n",
      "-99.0      641\n",
      "Name: FEWRTRIPS, dtype: int64\n",
      " 0.0     64839\n",
      "-88.0     8032\n",
      " 1.0      4592\n",
      "-99.0      362\n",
      "Name: FREEFOOD, dtype: int64\n",
      " 0.0     68660\n",
      " 1.0      8527\n",
      " 3.0       514\n",
      "-99.0      124\n",
      "Name: HADCOVID, dtype: int64\n",
      " 0.0     56873\n",
      "-88.0    13906\n",
      " 1.0      6658\n",
      "-99.0      388\n",
      "Name: MH_NOTGET, dtype: int64\n",
      " 0.0     56552\n",
      "-88.0    13906\n",
      " 1.0      6911\n",
      "-99.0      456\n",
      "Name: MH_SVCS, dtype: int64\n",
      " 0.0     51332\n",
      "-88.0    13906\n",
      " 1.0     12182\n",
      "-99.0      405\n",
      "Name: NOTGET, dtype: int64\n",
      " 1.0     55601\n",
      " 0.0     14386\n",
      "-88.0     7438\n",
      "-99.0      400\n",
      "Name: PLNDTRIPS, dtype: int64\n",
      " 0.0     49248\n",
      " 1.0     14233\n",
      "-88.0    13906\n",
      "-99.0      438\n",
      "Name: PRESCRIPT, dtype: int64\n",
      " 0.0     64109\n",
      "-88.0     8195\n",
      " 1.0      4823\n",
      "-99.0      698\n",
      "Name: SNAP_YN, dtype: int64\n",
      " 0.0     73011\n",
      " 1.0      3343\n",
      "-88.0      795\n",
      "-99.0      676\n",
      "Name: SSA_APPLY, dtype: int64\n",
      " 0.0     51098\n",
      " 1.0     25757\n",
      "-88.0      519\n",
      "-99.0      451\n",
      "Name: SSA_RECV, dtype: int64\n",
      " 0.0     65536\n",
      " 1.0     11875\n",
      "-99.0      217\n",
      "-88.0      197\n",
      "Name: UI_APPLY, dtype: int64\n",
      " 0.0     48766\n",
      " 1.0     28874\n",
      "-99.0      185\n",
      "Name: WRKLOSS, dtype: int64\n",
      " 1.0     41607\n",
      " 0.0     20467\n",
      "-88.0    13204\n",
      "-99.0     2547\n",
      "Name: HLTHINS1, dtype: int64\n",
      " 0.0     41859\n",
      " 1.0     15103\n",
      "-88.0    13204\n",
      "-99.0     7659\n",
      "Name: HLTHINS2, dtype: int64\n",
      " 0.0     38522\n",
      " 1.0     20068\n",
      "-88.0    13204\n",
      "-99.0     6031\n",
      "Name: HLTHINS3, dtype: int64\n",
      " 0.0     48768\n",
      "-88.0    13204\n",
      "-99.0     9221\n",
      " 1.0      6632\n",
      "Name: HLTHINS4, dtype: int64\n",
      " 0.0     51916\n",
      "-88.0    13204\n",
      "-99.0     9702\n",
      " 1.0      3003\n",
      "Name: HLTHINS5, dtype: int64\n",
      " 0.0     51515\n",
      "-88.0    13204\n",
      "-99.0    10056\n",
      " 1.0      3050\n",
      "Name: HLTHINS6, dtype: int64\n",
      " 0.0     53368\n",
      "-88.0    13204\n",
      "-99.0    10689\n",
      " 1.0       564\n",
      "Name: HLTHINS7, dtype: int64\n",
      " 0.0     48878\n",
      "-88.0    13204\n",
      "-99.0    12763\n",
      " 1.0      2980\n",
      "Name: HLTHINS8, dtype: int64\n"
     ]
    }
   ],
   "source": [
    "# for columns that really only have 2 answers, most are 1 and 2. Leave 1 as Yes\n",
    "# and convert the 2s to 0s for Nos or second value.\n",
    "\n",
    "conv_2_to_0 = ['ANYWORK', 'DELAY', 'EGENDER', 'EXPCTLOSS', 'FEWRTRIPS', \n",
    "               'FREEFOOD', 'HADCOVID', 'MH_NOTGET', 'MH_SVCS', 'NOTGET', \n",
    "               'PLNDTRIPS','PRESCRIPT', 'SNAP_YN', 'SSA_APPLY', 'SSA_RECV', \n",
    "               'UI_APPLY', 'WRKLOSS', 'HLTHINS1', 'HLTHINS2', 'HLTHINS3', \n",
    "               'HLTHINS4', 'HLTHINS5', 'HLTHINS6', 'HLTHINS7', 'HLTHINS8']\n",
    "\n",
    "for col in conv_2_to_0:\n",
    "    df.loc[df[col] == 2, col] = 0\n",
    "    print(df[col].value_counts())"
   ]
  },
  {
   "cell_type": "code",
   "execution_count": 34,
   "metadata": {
    "ExecuteTime": {
     "end_time": "2021-05-19T23:39:06.414483Z",
     "start_time": "2021-05-19T23:39:06.361303Z"
    },
    "scrolled": true
   },
   "outputs": [
    {
     "data": {
      "text/plain": [
       " 0.0     68660\n",
       " 1.0      8527\n",
       "-99.0      638\n",
       "Name: HADCOVID, dtype: int64"
      ]
     },
     "execution_count": 34,
     "metadata": {},
     "output_type": "execute_result"
    }
   ],
   "source": [
    "# OHE HADCOVID by combining rare label 3 - Not Sure with -99 No Answer\n",
    "df.loc[df['HADCOVID']==3, 'HADCOVID'] = -99\n",
    "df['HADCOVID'].value_counts()"
   ]
  },
  {
   "cell_type": "code",
   "execution_count": 35,
   "metadata": {
    "ExecuteTime": {
     "end_time": "2021-05-19T23:39:06.485164Z",
     "start_time": "2021-05-19T23:39:06.417887Z"
    }
   },
   "outputs": [
    {
     "data": {
      "text/plain": [
       "0.0    70428\n",
       "1.0     7397\n",
       "Name: RHISPANIC, dtype: int64"
      ]
     },
     "execution_count": 35,
     "metadata": {},
     "output_type": "execute_result"
    }
   ],
   "source": [
    "# Make RHISPANIC consistent with 0=No, 1=Yes\n",
    "df.loc[df['RHISPANIC']==1, 'RHISPANIC'] = 0\n",
    "df.loc[df['RHISPANIC']==2, 'RHISPANIC'] = 1\n",
    "df['RHISPANIC'].value_counts()"
   ]
  },
  {
   "cell_type": "code",
   "execution_count": 36,
   "metadata": {
    "ExecuteTime": {
     "end_time": "2021-05-19T23:39:06.608522Z",
     "start_time": "2021-05-19T23:39:06.491857Z"
    },
    "scrolled": false
   },
   "outputs": [
    {
     "data": {
      "text/plain": [
       " 0.0     42009\n",
       " 1.0     32097\n",
       "-99.0     3719\n",
       "Name: TW_START, dtype: int64"
      ]
     },
     "execution_count": 36,
     "metadata": {},
     "output_type": "execute_result"
    }
   ],
   "source": [
    "# TW_Start labels 2 and 3 are both no telework, so converting to 0\n",
    "df.loc[(df['TW_START']==2)|(df['TW_START']==3), 'TW_START'] = 0\n",
    "df['TW_START'].value_counts()"
   ]
  },
  {
   "cell_type": "code",
   "execution_count": 37,
   "metadata": {
    "ExecuteTime": {
     "end_time": "2021-05-19T23:39:09.251396Z",
     "start_time": "2021-05-19T23:39:06.614606Z"
    }
   },
   "outputs": [
    {
     "data": {
      "image/png": "[encoded data removed]",
      "text/plain": [
       "<Figure size 720x360 with 2 Axes>"
      ]
     },
     "metadata": {
      "needs_background": "light"
     },
     "output_type": "display_data"
    }
   ],
   "source": [
    "dstools.explore_data_catbin(['LIVQTR'], df, 'target')"
   ]
  },
  {
   "cell_type": "code",
   "execution_count": 38,
   "metadata": {
    "ExecuteTime": {
     "end_time": "2021-05-19T23:39:09.308253Z",
     "start_time": "2021-05-19T23:39:09.254818Z"
    },
    "scrolled": true
   },
   "outputs": [
    {
     "data": {
      "text/plain": [
       " 2.0     44955\n",
       "-88.0    14502\n",
       " 3.0      4975\n",
       " 9.0      2730\n",
       " 1.0      1921\n",
       " 6.0      1746\n",
       " 5.0      1729\n",
       " 7.0      1562\n",
       " 8.0      1479\n",
       " 4.0      1254\n",
       "-99.0      698\n",
       " 10.0      274\n",
       "Name: LIVQTR, dtype: int64"
      ]
     },
     "execution_count": 38,
     "metadata": {},
     "output_type": "execute_result"
    }
   ],
   "source": [
    "# LIVQTR will need to be OHE, but I can combine some labels and not lose\n",
    "# much information\n",
    "\n",
    "df['LIVQTR'].value_counts()"
   ]
  },
  {
   "cell_type": "markdown",
   "metadata": {},
   "source": [
    "Category labels from the data dictionary:\n",
    "1. A mobile home\n",
    "2. A one-family house detached from any other house\n",
    "3. A one-family house attached to one or more houses\n",
    "4. A building with 2 apartments\n",
    "5. A building with 3 or 4 apartment\n",
    "6. A building with 5 to 9 apartments\n",
    "7. A building with 10 to 19 apartments\n",
    "8. A building with 20 to 49 apartments \n",
    "9. A building with 50 or more apartments\n",
    "10. Boat, RV, van, etc.\n",
    "\n",
    "-99. Question seen but category not selected\n",
    "\n",
    "-88. Missing / Did not report\n",
    "\n",
    "I will combine these 10 categories into 4:\n",
    "- 1) Mobile home\n",
    "- 2 and 3 -> 2) House\n",
    "- 4 through 9 -> 3) Apartment\n",
    "- 10 -> 4) Boat, RV, van\n"
   ]
  },
  {
   "cell_type": "code",
   "execution_count": 39,
   "metadata": {
    "ExecuteTime": {
     "end_time": "2021-05-19T23:39:09.577580Z",
     "start_time": "2021-05-19T23:39:09.310956Z"
    }
   },
   "outputs": [],
   "source": [
    "df.loc[df['LIVQTR']==1, 'LIVQTR_2'] = 1\n",
    "df.loc[df['LIVQTR'].isin([2, 3]), 'LIVQTR_2'] = 2\n",
    "df.loc[df['LIVQTR'].isin([4,5,6,7,8,9]), 'LIVQTR_2'] = 3\n",
    "df.loc[df['LIVQTR']==10, 'LIVQTR_2'] = 4"
   ]
  },
  {
   "cell_type": "code",
   "execution_count": 40,
   "metadata": {
    "ExecuteTime": {
     "end_time": "2021-05-19T23:39:09.635291Z",
     "start_time": "2021-05-19T23:39:09.580116Z"
    },
    "scrolled": true
   },
   "outputs": [
    {
     "data": {
      "text/plain": [
       "2.0    49930\n",
       "3.0    10500\n",
       "1.0     1921\n",
       "4.0      274\n",
       "Name: LIVQTR_2, dtype: int64"
      ]
     },
     "execution_count": 40,
     "metadata": {},
     "output_type": "execute_result"
    }
   ],
   "source": [
    "df['LIVQTR_2'].value_counts()"
   ]
  },
  {
   "cell_type": "code",
   "execution_count": 41,
   "metadata": {
    "ExecuteTime": {
     "end_time": "2021-05-19T23:39:09.689135Z",
     "start_time": "2021-05-19T23:39:09.638390Z"
    }
   },
   "outputs": [
    {
     "data": {
      "text/plain": [
       "15200"
      ]
     },
     "execution_count": 41,
     "metadata": {},
     "output_type": "execute_result"
    }
   ],
   "source": [
    "df['LIVQTR_2'].isna().sum()"
   ]
  },
  {
   "cell_type": "code",
   "execution_count": 42,
   "metadata": {
    "ExecuteTime": {
     "end_time": "2021-05-19T23:39:09.751746Z",
     "start_time": "2021-05-19T23:39:09.691837Z"
    }
   },
   "outputs": [
    {
     "name": "stdout",
     "output_type": "stream",
     "text": [
      " 2.0     49930\n",
      "-88.0    14502\n",
      " 3.0     10500\n",
      " 1.0      1921\n",
      "-99.0      698\n",
      " 4.0       274\n",
      "Name: LIVQTR_2, dtype: int64\n"
     ]
    },
    {
     "data": {
      "text/plain": [
       "0"
      ]
     },
     "execution_count": 42,
     "metadata": {},
     "output_type": "execute_result"
    }
   ],
   "source": [
    "df.loc[df['LIVQTR']==-88, 'LIVQTR_2'] = -88\n",
    "df.loc[df['LIVQTR']==-99, 'LIVQTR_2'] = -99\n",
    "print(df['LIVQTR_2'].value_counts())\n",
    "df['LIVQTR_2'].isna().sum()"
   ]
  },
  {
   "cell_type": "code",
   "execution_count": 43,
   "metadata": {
    "ExecuteTime": {
     "end_time": "2021-05-19T23:39:10.085192Z",
     "start_time": "2021-05-19T23:39:09.754348Z"
    },
    "scrolled": true
   },
   "outputs": [
    {
     "name": "stdout",
     "output_type": "stream",
     "text": [
      " 1.0     45740\n",
      " 2.0     17835\n",
      " 3.0     13762\n",
      "-99.0      488\n",
      "Name: MS_2, dtype: int64\n"
     ]
    },
    {
     "data": {
      "text/plain": [
       "0"
      ]
     },
     "execution_count": 43,
     "metadata": {},
     "output_type": "execute_result"
    }
   ],
   "source": [
    "# Combine a few rare Married Status labels\n",
    "# Adding 3 - divorced and 4 - separated into 2 - Widowed (all sound single now\n",
    "# but used to be married)\n",
    "# 1 is married, and 5 is never married\n",
    "\n",
    "df.loc[df['MS']==1, 'MS_2'] = 1\n",
    "df.loc[df['MS'].isin([2, 3, 4]), 'MS_2'] = 2\n",
    "df.loc[df['MS']==5, 'MS_2'] = 3\n",
    "df.loc[df['MS']==-88, 'MS_2'] = -88\n",
    "df.loc[df['MS']==-99, 'MS_2'] = -99\n",
    "print(df['MS_2'].value_counts())\n",
    "df['MS_2'].isna().sum()"
   ]
  },
  {
   "cell_type": "code",
   "execution_count": 44,
   "metadata": {
    "ExecuteTime": {
     "end_time": "2021-05-19T23:39:10.155637Z",
     "start_time": "2021-05-19T23:39:10.090085Z"
    },
    "scrolled": true
   },
   "outputs": [
    {
     "data": {
      "text/plain": [
       " 0.0     45969\n",
       "-88.0    15652\n",
       " 1.0     10678\n",
       " 2.0      3138\n",
       "-99.0     1525\n",
       " 3.0       863\n",
       "Name: TNUM_PS, dtype: int64"
      ]
     },
     "execution_count": 44,
     "metadata": {},
     "output_type": "execute_result"
    }
   ],
   "source": [
    "# OHE TNUM_PS manually\n",
    "df['TNUM_PS'].value_counts()"
   ]
  },
  {
   "cell_type": "code",
   "execution_count": 45,
   "metadata": {
    "ExecuteTime": {
     "end_time": "2021-05-19T23:39:10.464294Z",
     "start_time": "2021-05-19T23:39:10.161202Z"
    },
    "scrolled": true
   },
   "outputs": [
    {
     "data": {
      "text/plain": [
       " 0.0     45969\n",
       "-88.0    15652\n",
       " 1.0     14679\n",
       "-99.0     1525\n",
       "Name: TNUM_PS_2, dtype: int64"
      ]
     },
     "execution_count": 45,
     "metadata": {},
     "output_type": "execute_result"
    }
   ],
   "source": [
    "# These represent the number of people in the household who plan to go to\n",
    "# post-secondary classes in 2021. Since there aren't a lot of 2 and 3 values,\n",
    "# will combine them into 1 so it's just a Yes have people who plan to take\n",
    "# PS classes, or No have none in the household.\n",
    "df['TNUM_PS_2'] = df['TNUM_PS']\n",
    "df.loc[df['TNUM_PS_2'].isin([2, 3]), 'TNUM_PS_2'] = 1\n",
    "\n",
    "df['TNUM_PS_2'].value_counts()"
   ]
  },
  {
   "cell_type": "code",
   "execution_count": 46,
   "metadata": {
    "ExecuteTime": {
     "end_time": "2021-05-19T23:39:10.607758Z",
     "start_time": "2021-05-19T23:39:10.473988Z"
    },
    "scrolled": true
   },
   "outputs": [
    {
     "data": {
      "text/plain": [
       "-88.0    0.847941\n",
       " 1.0     0.121825\n",
       " 2.0     0.027857\n",
       "-99.0    0.002377\n",
       "Name: UI_RECV, dtype: float64"
      ]
     },
     "execution_count": 46,
     "metadata": {},
     "output_type": "execute_result"
    }
   ],
   "source": [
    "# drop UI_RECV from cat_cols, as majority of values are -88 missing\n",
    "df['UI_RECV'].value_counts(normalize=True)"
   ]
  },
  {
   "cell_type": "code",
   "execution_count": 47,
   "metadata": {
    "ExecuteTime": {
     "end_time": "2021-05-19T23:39:10.705128Z",
     "start_time": "2021-05-19T23:39:10.615391Z"
    },
    "scrolled": false
   },
   "outputs": [],
   "source": [
    "cat_cols.remove('UI_RECV')\n",
    "\n",
    "cat_cols.append('MS_2')\n",
    "cat_cols.append('LIVQTR_2')\n",
    "cat_cols.append('TNUM_PS_2')"
   ]
  },
  {
   "cell_type": "markdown",
   "metadata": {},
   "source": [
    "## Review Locations of -88 Missing\n",
    "There are some sets of predictor columns that seem to have the same number of -88 values. I have reached out to the Census team to determine what this indicates, but they have not yet responded.\n",
    "\n",
    "I will try to visualize these to see if there are patterns. Perhaps I can use combine missing indicator columns."
   ]
  },
  {
   "cell_type": "code",
   "execution_count": 48,
   "metadata": {
    "ExecuteTime": {
     "end_time": "2021-05-19T23:39:10.816423Z",
     "start_time": "2021-05-19T23:39:10.710332Z"
    }
   },
   "outputs": [],
   "source": [
    "# columns, in question order\n",
    "\n",
    "q_order = ['TBIRTH_YEAR','EGENDER','RHISPANIC','RRACE','EEDUC','MS',\n",
    "           'THHLD_NUMKID','THHLD_NUMADLT','RECVDVACC','HADCOVID',\n",
    "           'WRKLOSS','EXPCTLOSS','ANYWORK','TW_START','UI_APPLY','UI_RECV',\n",
    "           'SSA_RECV','SSA_APPLY','EIP','EXPNS_DIF','SPNDSRC1',\n",
    "           'SPNDSRC2','SPNDSRC3','SPNDSRC4','SPNDSRC5','SPNDSRC6','SPNDSRC7',\n",
    "           'SPNDSRC8','FEWRTRIPS','FEWRTRANS','PLNDTRIPS','CURFOODSUF',\n",
    "           'FREEFOOD','SNAP_YN','TSPNDFOOD','TSPNDPRPD','ANXIOUS','WORRY',\n",
    "           'INTEREST','DOWN','HLTHINS1', 'HLTHINS2', 'HLTHINS3', 'HLTHINS4', \n",
    "           'HLTHINS5', 'HLTHINS6', 'HLTHINS7', 'HLTHINS8','DELAY','NOTGET',\n",
    "           'PRESCRIPT','MH_SVCS','MH_NOTGET','TENURE','LIVQTR','ENROLL1',\n",
    "           'ENROLL2','ENROLL3','TNUM_PS','INCOME']"
   ]
  },
  {
   "cell_type": "code",
   "execution_count": 49,
   "metadata": {
    "ExecuteTime": {
     "end_time": "2021-05-19T23:39:11.015574Z",
     "start_time": "2021-05-19T23:39:10.821666Z"
    }
   },
   "outputs": [
    {
     "name": "stdout",
     "output_type": "stream",
     "text": [
      "[0, 0, 0, 0, 0, 0, 0, 0, 0, 0, 0, 0, 0, 0, 0, 0, 0, 0, 0, 0, 0, 0, 0, 0, 0, 0, 0, 0, 0, 0, 0, 0, 0, 0, 0, 0, 0, 0, 0, 0, 0, 0, 0, 0, 0, 0, 0, 0, 0, 0, 0, 0, 0, 0, 0, 0, 0, 0, 0, 0]\n"
     ]
    }
   ],
   "source": [
    "# create a copy of the columns so I can replace -88 with nulls and visualize\n",
    "nan_viz = df[q_order].copy()\n",
    "print(list(nan_viz.isna().sum()))"
   ]
  },
  {
   "cell_type": "code",
   "execution_count": 50,
   "metadata": {
    "ExecuteTime": {
     "end_time": "2021-05-19T23:39:11.132071Z",
     "start_time": "2021-05-19T23:39:11.021968Z"
    },
    "scrolled": true
   },
   "outputs": [
    {
     "name": "stdout",
     "output_type": "stream",
     "text": [
      "[0, 0, 0, 0, 0, 0, 0, 0, 0, 0, 0, 0, 0, 0, 197, 65991, 519, 795, 2212, 2915, 7438, 7438, 7438, 7438, 7438, 7438, 7438, 7438, 7438, 7438, 7438, 7771, 8032, 8195, 10775, 11054, 12614, 12614, 12614, 12614, 13204, 13204, 13204, 13204, 13204, 13204, 13204, 13204, 13906, 13906, 13906, 13906, 13906, 14502, 14502, 57437, 57437, 57437, 15652, 16311]\n"
     ]
    }
   ],
   "source": [
    "# replace -88s with nans\n",
    "nan_viz.replace(-88, np.nan, inplace=True)\n",
    "print(list(nan_viz.isna().sum()))"
   ]
  },
  {
   "cell_type": "code",
   "execution_count": 51,
   "metadata": {
    "ExecuteTime": {
     "end_time": "2021-05-19T23:39:12.878256Z",
     "start_time": "2021-05-19T23:39:11.135756Z"
    },
    "scrolled": true
   },
   "outputs": [
    {
     "data": {
      "text/plain": [
       "<AxesSubplot:>"
      ]
     },
     "execution_count": 51,
     "metadata": {},
     "output_type": "execute_result"
    },
    {
     "data": {
      "image/png": "[encoded data removed]",
      "text/plain": [
       "<Figure size 1800x720 with 2 Axes>"
      ]
     },
     "metadata": {
      "needs_background": "light"
     },
     "output_type": "display_data"
    }
   ],
   "source": [
    "missingno.matrix(nan_viz)"
   ]
  },
  {
   "cell_type": "markdown",
   "metadata": {},
   "source": [
    "Hmm, when I look at them in the order the questions were presented, I see that with the exception of a few columns that have a lot of nans, once missing answers start showing up, the rest of that record has missing answers.\n",
    "\n",
    "**I suspect that the -88 Missing placeholder indicates that the respondent exited the questionnaire prematurely, and Census kept the incomplete answers in the sample.**\n",
    "\n",
    "After re-reviewing the technical documentation, I found this paragraph buried towards the end:\n",
    "\n",
    ">Responses are made up of complete interviews and sufficient partial interviews. A sufficient partial interview is an incomplete interview in which the household or person answered enough of the questionnaire to be considered a complete interview. Some remaining questions may have been edited or imputed to fill in missing values. Insufficient partial interviews are considered to be nonrespondents.\n",
    "\n",
    "But there are a few columns that stand out as having a lot of -88 values and aren't following this pattern. I would like to look further into those before deciding how to proceed."
   ]
  },
  {
   "cell_type": "code",
   "execution_count": 52,
   "metadata": {
    "ExecuteTime": {
     "end_time": "2021-05-19T23:39:12.963711Z",
     "start_time": "2021-05-19T23:39:12.883443Z"
    },
    "scrolled": false
   },
   "outputs": [
    {
     "data": {
      "text/plain": [
       "TBIRTH_YEAR          0\n",
       "EGENDER              0\n",
       "RHISPANIC            0\n",
       "RRACE                0\n",
       "EEDUC                0\n",
       "MS                   0\n",
       "THHLD_NUMKID         0\n",
       "THHLD_NUMADLT        0\n",
       "RECVDVACC            0\n",
       "HADCOVID             0\n",
       "WRKLOSS              0\n",
       "EXPCTLOSS            0\n",
       "ANYWORK              0\n",
       "TW_START             0\n",
       "UI_APPLY           197\n",
       "UI_RECV          65991\n",
       "SSA_RECV           519\n",
       "SSA_APPLY          795\n",
       "EIP               2212\n",
       "EXPNS_DIF         2915\n",
       "SPNDSRC1          7438\n",
       "SPNDSRC2          7438\n",
       "SPNDSRC3          7438\n",
       "SPNDSRC4          7438\n",
       "SPNDSRC5          7438\n",
       "SPNDSRC6          7438\n",
       "SPNDSRC7          7438\n",
       "SPNDSRC8          7438\n",
       "FEWRTRIPS         7438\n",
       "FEWRTRANS         7438\n",
       "PLNDTRIPS         7438\n",
       "CURFOODSUF        7771\n",
       "FREEFOOD          8032\n",
       "SNAP_YN           8195\n",
       "TSPNDFOOD        10775\n",
       "TSPNDPRPD        11054\n",
       "ANXIOUS          12614\n",
       "WORRY            12614\n",
       "INTEREST         12614\n",
       "DOWN             12614\n",
       "HLTHINS1         13204\n",
       "HLTHINS2         13204\n",
       "HLTHINS3         13204\n",
       "HLTHINS4         13204\n",
       "HLTHINS5         13204\n",
       "HLTHINS6         13204\n",
       "HLTHINS7         13204\n",
       "HLTHINS8         13204\n",
       "DELAY            13906\n",
       "NOTGET           13906\n",
       "PRESCRIPT        13906\n",
       "MH_SVCS          13906\n",
       "MH_NOTGET        13906\n",
       "TENURE           14502\n",
       "LIVQTR           14502\n",
       "ENROLL1          57437\n",
       "ENROLL2          57437\n",
       "ENROLL3          57437\n",
       "TNUM_PS          15652\n",
       "INCOME           16311\n",
       "dtype: int64"
      ]
     },
     "execution_count": 52,
     "metadata": {},
     "output_type": "execute_result"
    }
   ],
   "source": [
    "missing_sum = nan_viz.isna().sum(axis=0)\n",
    "missing_sum.loc[q_order]"
   ]
  },
  {
   "cell_type": "markdown",
   "metadata": {},
   "source": [
    "It looks like the four columns that don't fit the pattern are `UI_RECV`, `ENROLL1`, `ENROLL2`, and `ENROLL3`.\n",
    "\n",
    "The data dictionary says that both of these questions were presented to everyone, but let me do some digging and see if perhaps the -88 count corresponds to the count of people who answered a certain way to a previous, related question."
   ]
  },
  {
   "cell_type": "code",
   "execution_count": 53,
   "metadata": {
    "ExecuteTime": {
     "end_time": "2021-05-19T23:39:13.023915Z",
     "start_time": "2021-05-19T23:39:12.966971Z"
    },
    "scrolled": true
   },
   "outputs": [
    {
     "data": {
      "text/plain": [
       " 0.0     65536\n",
       " 1.0     11875\n",
       "-99.0      217\n",
       "-88.0      197\n",
       "Name: UI_APPLY, dtype: int64"
      ]
     },
     "execution_count": 53,
     "metadata": {},
     "output_type": "execute_result"
    }
   ],
   "source": [
    "df['UI_APPLY'].value_counts()"
   ]
  },
  {
   "cell_type": "code",
   "execution_count": 54,
   "metadata": {
    "ExecuteTime": {
     "end_time": "2021-05-19T23:39:13.080927Z",
     "start_time": "2021-05-19T23:39:13.027495Z"
    }
   },
   "outputs": [
    {
     "data": {
      "text/plain": [
       "-88.0    65991\n",
       " 1.0      9481\n",
       " 2.0      2168\n",
       "-99.0      185\n",
       "Name: UI_RECV, dtype: int64"
      ]
     },
     "execution_count": 54,
     "metadata": {},
     "output_type": "execute_result"
    }
   ],
   "source": [
    "df['UI_RECV'].value_counts()"
   ]
  },
  {
   "cell_type": "code",
   "execution_count": 55,
   "metadata": {
    "ExecuteTime": {
     "end_time": "2021-05-19T23:39:13.134258Z",
     "start_time": "2021-05-19T23:39:13.085505Z"
    }
   },
   "outputs": [
    {
     "name": "stdout",
     "output_type": "stream",
     "text": [
      "65950\n"
     ]
    }
   ],
   "source": [
    "# What is the sum of people who answered No (0) or didn't answer 'UI_APPLY'?\n",
    "print(65536 + 217 + 197)"
   ]
  },
  {
   "cell_type": "markdown",
   "metadata": {},
   "source": [
    "That's pretty darn close. I'm thinking 'UI_RECV' was only presented to people who said they actually applied for unemployment benefits."
   ]
  },
  {
   "cell_type": "code",
   "execution_count": 56,
   "metadata": {
    "ExecuteTime": {
     "end_time": "2021-05-19T23:39:13.221303Z",
     "start_time": "2021-05-19T23:39:13.138516Z"
    }
   },
   "outputs": [
    {
     "name": "stdout",
     "output_type": "stream",
     "text": [
      "-88.0    57437\n",
      " 1.0     14266\n",
      "-99.0     6122\n",
      "Name: ENROLL1, dtype: int64\n",
      "-88.0    57437\n",
      "-99.0    18627\n",
      " 1.0      1761\n",
      "Name: ENROLL2, dtype: int64\n",
      "-88.0    57437\n",
      "-99.0    15644\n",
      " 1.0      4744\n",
      "Name: ENROLL3, dtype: int64\n"
     ]
    }
   ],
   "source": [
    "# ENROLL1, ENROLL2, and ENROLL1 would only apply to households who said they\n",
    "# had kids under 18\n",
    "print(df['ENROLL1'].value_counts())\n",
    "print(df['ENROLL2'].value_counts())\n",
    "print(df['ENROLL3'].value_counts())"
   ]
  },
  {
   "cell_type": "code",
   "execution_count": 57,
   "metadata": {
    "ExecuteTime": {
     "end_time": "2021-05-19T23:39:13.292733Z",
     "start_time": "2021-05-19T23:39:13.225955Z"
    },
    "scrolled": true
   },
   "outputs": [
    {
     "data": {
      "text/plain": [
       "0.0    52672\n",
       "1.0    11499\n",
       "2.0     8853\n",
       "3.0     3195\n",
       "4.0     1057\n",
       "5.0      549\n",
       "Name: THHLD_NUMKID, dtype: int64"
      ]
     },
     "execution_count": 57,
     "metadata": {},
     "output_type": "execute_result"
    }
   ],
   "source": [
    "df['THHLD_NUMKID'].value_counts()"
   ]
  },
  {
   "cell_type": "markdown",
   "metadata": {},
   "source": [
    "There's some difference between the 52,672 people who said they didn't have kids in the household in question 8, and the 57,437 people who didn't answer the question about how their kids attended school in question 42. But it looks like a decent amount of people didn't make it that far in the questionnaire, so the ~5k differents could just be that."
   ]
  },
  {
   "cell_type": "markdown",
   "metadata": {},
   "source": [
    "## Strategy for Incomplete Questionnaires\n",
    "\n",
    "I found the section of the technical documentation that says there are incomplete questionnaires, and the patterns I can see in the responses matches that. Now I need to decide whether to simply drop these incomplete answers and use only the complete ones, or account for them in some way.\n",
    "\n",
    "To decide, I'll take a look at the class distribution for incomplete versus complete questionnaires and see if there appears to be a difference."
   ]
  },
  {
   "cell_type": "code",
   "execution_count": 58,
   "metadata": {
    "ExecuteTime": {
     "end_time": "2021-05-19T23:39:13.349348Z",
     "start_time": "2021-05-19T23:39:13.295819Z"
    }
   },
   "outputs": [],
   "source": [
    "q_order.remove('ENROLL1')\n",
    "q_order.remove('ENROLL2')\n",
    "q_order.remove('ENROLL3')\n",
    "q_order.remove('UI_RECV')"
   ]
  },
  {
   "cell_type": "code",
   "execution_count": 59,
   "metadata": {
    "ExecuteTime": {
     "end_time": "2021-05-19T23:39:33.353708Z",
     "start_time": "2021-05-19T23:39:13.355834Z"
    },
    "scrolled": true
   },
   "outputs": [
    {
     "data": {
      "text/plain": [
       "0        37\n",
       "1         0\n",
       "2        39\n",
       "3         0\n",
       "4         0\n",
       "         ..\n",
       "77820     0\n",
       "77821     0\n",
       "77822     0\n",
       "77823     0\n",
       "77824     0\n",
       "Name: incomplete, Length: 77825, dtype: int64"
      ]
     },
     "execution_count": 59,
     "metadata": {},
     "output_type": "execute_result"
    }
   ],
   "source": [
    "# populate incomplete column with sum of -88 values in top-level q columns\n",
    "def sum_neg88(row):\n",
    "    missing = row.isin([-88]).sum(axis=0)\n",
    "    return missing\n",
    "\n",
    "df['incomplete'] = df[q_order].apply(sum_neg88, axis=1)\n",
    "\n",
    "df['incomplete']"
   ]
  },
  {
   "cell_type": "code",
   "execution_count": 60,
   "metadata": {
    "ExecuteTime": {
     "end_time": "2021-05-19T23:39:33.425968Z",
     "start_time": "2021-05-19T23:39:33.356737Z"
    },
    "scrolled": true
   },
   "outputs": [
    {
     "name": "stdout",
     "output_type": "stream",
     "text": [
      "[1961.0, 0.0, 0.0, 1.0, 6.0, 1.0, 0.0, 2.0, 1.0, 1.0, 0.0, 0.0, 1.0, 1.0, 0.0, 0.0, 0.0, -88.0, -88.0, -88.0, -88.0, -88.0, -88.0, -88.0, -88.0, -88.0, -88.0, -88.0, -88.0, -88.0, -88.0, -88.0, -88.0, -88.0, -88.0, -88.0, -88.0, -88.0, -88.0, -88.0, -88.0, -88.0, -88.0, -88.0, -88.0, -88.0, -88.0, -88.0, -88.0, -88.0, -88.0, -88.0, -88.0, -88.0, -88.0, -88.0]\n"
     ]
    }
   ],
   "source": [
    "print(list(df[q_order].loc[2]))"
   ]
  },
  {
   "cell_type": "code",
   "execution_count": 61,
   "metadata": {
    "ExecuteTime": {
     "end_time": "2021-05-19T23:39:33.489010Z",
     "start_time": "2021-05-19T23:39:33.428880Z"
    }
   },
   "outputs": [],
   "source": [
    "# Add 'incomplete' to the list of cat_cols\n",
    "cat_cols.append('incomplete')"
   ]
  },
  {
   "cell_type": "code",
   "execution_count": 62,
   "metadata": {
    "ExecuteTime": {
     "end_time": "2021-05-19T23:39:35.418171Z",
     "start_time": "2021-05-19T23:39:33.501643Z"
    },
    "scrolled": false
   },
   "outputs": [
    {
     "data": {
      "image/png": "[encoded data removed]",
      "text/plain": [
       "<Figure size 720x360 with 2 Axes>"
      ]
     },
     "metadata": {
      "needs_background": "light"
     },
     "output_type": "display_data"
    }
   ],
   "source": [
    "# plot number of incomplete questionnaires against target\n",
    "dstools.explore_data_catbin(['incomplete'], df, 'target')"
   ]
  },
  {
   "cell_type": "markdown",
   "metadata": {},
   "source": [
    "Interesting, so there is some variability based on number of questions.\n",
    "\n",
    "I will create a binary column for 'incomplete' to use as a predictor, which will stand in for all the -88 values in the top-level questions. I'll also keep this numeric column and try both in my model to see which does better.\n",
    "\n",
    "To make it easy to get rid of the -88 values I will set them equal to the 'first', or lowest value in the column, and when I use sklearn's OneHotEncoder, I will drop the first column.\n",
    "\n",
    "I will convert -88 to -2 so it will be 'first' and will convert -99, which represents someone viewing but skipping a particular question, as -1."
   ]
  },
  {
   "cell_type": "code",
   "execution_count": 63,
   "metadata": {
    "ExecuteTime": {
     "end_time": "2021-05-19T23:39:35.708317Z",
     "start_time": "2021-05-19T23:39:35.420771Z"
    }
   },
   "outputs": [
    {
     "data": {
      "text/plain": [
       "0.0    61514\n",
       "1.0    16311\n",
       "Name: inc_binary, dtype: int64"
      ]
     },
     "execution_count": 63,
     "metadata": {},
     "output_type": "execute_result"
    }
   ],
   "source": [
    "# Create inc_binary column\n",
    "df.loc[df['incomplete'] == 0, 'inc_binary'] = 0\n",
    "df.loc[df['incomplete'] > 0, 'inc_binary'] = 1\n",
    "\n",
    "df['inc_binary'].value_counts()"
   ]
  },
  {
   "cell_type": "code",
   "execution_count": 64,
   "metadata": {
    "ExecuteTime": {
     "end_time": "2021-05-19T23:39:35.765841Z",
     "start_time": "2021-05-19T23:39:35.713221Z"
    },
    "scrolled": true
   },
   "outputs": [
    {
     "data": {
      "text/plain": [
       "0"
      ]
     },
     "execution_count": 64,
     "metadata": {},
     "output_type": "execute_result"
    }
   ],
   "source": [
    "df['inc_binary'].isna().sum()"
   ]
  },
  {
   "cell_type": "markdown",
   "metadata": {},
   "source": [
    "I'll do the same thing for -99 values. I'll create a numeric column to indicate the number of skipped questions based on -99, and will also OHE the -99 category for each categorical column so I can try modeling both ways and see which does better."
   ]
  },
  {
   "cell_type": "code",
   "execution_count": 65,
   "metadata": {
    "ExecuteTime": {
     "end_time": "2021-05-19T23:39:53.090429Z",
     "start_time": "2021-05-19T23:39:35.770460Z"
    },
    "scrolled": true
   },
   "outputs": [
    {
     "data": {
      "text/plain": [
       "0     54560\n",
       "1      8389\n",
       "7      4782\n",
       "2      2647\n",
       "6      2188\n",
       "3      1344\n",
       "5      1261\n",
       "4       920\n",
       "8       758\n",
       "9       345\n",
       "10      160\n",
       "11       70\n",
       "12       48\n",
       "13       34\n",
       "14       32\n",
       "23       27\n",
       "21       24\n",
       "29       23\n",
       "18       20\n",
       "17       18\n",
       "15       17\n",
       "16       16\n",
       "19       16\n",
       "20       15\n",
       "25       15\n",
       "22       15\n",
       "26       12\n",
       "27        9\n",
       "30        8\n",
       "24        7\n",
       "28        7\n",
       "39        6\n",
       "34        6\n",
       "32        6\n",
       "31        4\n",
       "33        3\n",
       "35        3\n",
       "36        3\n",
       "38        3\n",
       "37        2\n",
       "40        2\n",
       "Name: skipped, dtype: int64"
      ]
     },
     "execution_count": 65,
     "metadata": {},
     "output_type": "execute_result"
    }
   ],
   "source": [
    "# populate skipped column with sum of -88 values in top-level q columns\n",
    "def sum_neg99(row):\n",
    "    missing = row.isin([-99]).sum(axis=0)\n",
    "    return missing\n",
    "\n",
    "df['skipped'] = df[q_order].apply(sum_neg99, axis=1)\n",
    "\n",
    "df['skipped'].value_counts()"
   ]
  },
  {
   "cell_type": "code",
   "execution_count": 66,
   "metadata": {
    "ExecuteTime": {
     "end_time": "2021-05-19T23:39:53.150522Z",
     "start_time": "2021-05-19T23:39:53.094710Z"
    }
   },
   "outputs": [],
   "source": [
    "# add new columns to lists\n",
    "num_cols.append('incomplete')\n",
    "num_cols.append('skipped')\n",
    "cat_cols.append('inc_binary')"
   ]
  },
  {
   "cell_type": "code",
   "execution_count": 67,
   "metadata": {
    "ExecuteTime": {
     "end_time": "2021-05-19T23:39:53.826211Z",
     "start_time": "2021-05-19T23:39:53.160773Z"
    }
   },
   "outputs": [
    {
     "name": "stdout",
     "output_type": "stream",
     "text": [
      "[0, 0, 0, 0, 0, 0, 0, 0, 0, 0, 0, 0, 0, 0, 0, 0, 0, 0, 0, 0, 0, 0, 0, 0, 0, 0, 0, 0, 0, 0, 0, 0, 0, 0, 0, 0, 0, 0, 0, 0, 0, 0, 0, 0, 0, 0, 0, 0, 0, 0, 0, 0, 0, 0, 0, 0, 0, 0, 0, 0, 0, 0, 0, 0, 0, 0, 0, 0, 0, 0, 0, 0, 0]\n"
     ]
    }
   ],
   "source": [
    "# replace -88 with -2 and -99 with -1 for all cat cols\n",
    "# I will still need to deal with some missing values in num cols\n",
    "\n",
    "for col in cat_cols:\n",
    "    df.loc[df[col] == -88, col] = -2\n",
    "    df.loc[df[col] == -99, col] = -1\n",
    "\n",
    "# check for remaining -88 and -99 values\n",
    "print(list(df[cat_cols].isin([-88, -99]).sum(axis=0)))"
   ]
  },
  {
   "cell_type": "code",
   "execution_count": 68,
   "metadata": {
    "ExecuteTime": {
     "end_time": "2021-05-19T23:39:53.912128Z",
     "start_time": "2021-05-19T23:39:53.847110Z"
    },
    "scrolled": false
   },
   "outputs": [
    {
     "data": {
      "text/plain": [
       "PROP_FOODSPEND_HOME    14015\n",
       "AGE                        0\n",
       "THHLD_NUMADLT              0\n",
       "THHLD_NUMKID               0\n",
       "TNUM_PS                17177\n",
       "incomplete                 0\n",
       "skipped                    0\n",
       "dtype: int64"
      ]
     },
     "execution_count": 68,
     "metadata": {},
     "output_type": "execute_result"
    }
   ],
   "source": [
    "# take a look at which num cols have -88 or -99 values\n",
    "df[num_cols].isin([-88, -99]).sum(axis=0)"
   ]
  },
  {
   "cell_type": "markdown",
   "metadata": {},
   "source": [
    "I will need to remember to do something else with these numerical values when I prepare the data for modeling, as they will need to be replaced with something. But for now, so I can chart the columns against the target, I will see if it's safe to assign -2 and -1 to my placeholders. I want to set them on a scale that will work well with the rest of the values when I chart them on a continuous x axis, but also be easy to single out for replacement with something else later."
   ]
  },
  {
   "cell_type": "code",
   "execution_count": 69,
   "metadata": {
    "ExecuteTime": {
     "end_time": "2021-05-19T23:39:54.033126Z",
     "start_time": "2021-05-19T23:39:53.918532Z"
    },
    "scrolled": true
   },
   "outputs": [
    {
     "data": {
      "text/plain": [
       "PROP_FOODSPEND_HOME\n",
       "-88.0                  10775\n",
       "-99.0                   3240\n",
       "dtype: int64"
      ]
     },
     "execution_count": 69,
     "metadata": {},
     "output_type": "execute_result"
    }
   ],
   "source": [
    "# are there any values less than 0 other than -88 and -99?\n",
    "df.loc[df['PROP_FOODSPEND_HOME'] < 0, ['PROP_FOODSPEND_HOME']].value_counts()"
   ]
  },
  {
   "cell_type": "code",
   "execution_count": 70,
   "metadata": {
    "ExecuteTime": {
     "end_time": "2021-05-19T23:39:54.124218Z",
     "start_time": "2021-05-19T23:39:54.042935Z"
    }
   },
   "outputs": [
    {
     "data": {
      "text/plain": [
       "TNUM_PS\n",
       "-88.0      15652\n",
       "-99.0       1525\n",
       "dtype: int64"
      ]
     },
     "execution_count": 70,
     "metadata": {},
     "output_type": "execute_result"
    }
   ],
   "source": [
    "# are there any values less than 0 other than -88 and -99?\n",
    "df.loc[df['TNUM_PS'] < 0, ['TNUM_PS']].value_counts()"
   ]
  },
  {
   "cell_type": "code",
   "execution_count": 71,
   "metadata": {
    "ExecuteTime": {
     "end_time": "2021-05-19T23:39:54.215409Z",
     "start_time": "2021-05-19T23:39:54.128773Z"
    }
   },
   "outputs": [],
   "source": [
    "# Both columns look fine to replace with -2 and -1\n",
    "for col in ['TNUM_PS', 'PROP_FOODSPEND_HOME']:\n",
    "    df.loc[df[col] == -88, col] = -2\n",
    "    df.loc[df[col] == -99, col] = -1"
   ]
  },
  {
   "cell_type": "markdown",
   "metadata": {},
   "source": [
    "# EXPLORE\n",
    "Now I have my predictors fairly cleaned up: some rare labels combined, a better understanding of the -99 (now -1) and -88 (now -2) missing indicators, a few features engineered.\n",
    "\n",
    "I will visualize each variable's distribution and relationship to the target to see if any need further engineering."
   ]
  },
  {
   "cell_type": "code",
   "execution_count": 72,
   "metadata": {
    "ExecuteTime": {
     "end_time": "2021-05-19T23:39:54.290261Z",
     "start_time": "2021-05-19T23:39:54.224087Z"
    }
   },
   "outputs": [],
   "source": [
    "# reset my lists of categorical and numeric columns after engineering\n",
    "# I'll have a new ordinal list, because they will be treated differently\n",
    "# in preprocessing\n",
    "\n",
    "# These are the columns that only have one version\n",
    "cat_cols = ['ANYWORK','CHNGHOW1','CHNGHOW10','CHNGHOW11','CHNGHOW12',\n",
    "            'CHNGHOW2','CHNGHOW3','CHNGHOW4','CHNGHOW5','CHNGHOW6',\n",
    "            'CHNGHOW7','CHNGHOW8','CHNGHOW9','DELAY','EGENDER','EIP',\n",
    "            'EXPCTLOSS','FEWRTRANS','FEWRTRIPS','FREEFOOD','HADCOVID',\n",
    "            'MH_NOTGET', 'MH_SVCS','NOTGET','PLNDTRIPS','PRESCRIPT','RHISPANIC',\n",
    "            'RRACE','SNAP_YN','SPNDSRC1','SPNDSRC2','SPNDSRC3',\n",
    "            'SPNDSRC4','SPNDSRC5','SPNDSRC6','SPNDSRC7','SPNDSRC8',\n",
    "            'SSA_APPLY','SSA_RECV','TENURE','TW_START','UI_APPLY','WRKLOSS']\n",
    "\n",
    "# I engineered versions of these columns, but these are the originals\n",
    "# They have more rare labels, and provide more detail than the engineered \n",
    "# versions\n",
    "cat_cols_v1 = ['HLTHINS1', 'HLTHINS2', 'HLTHINS3', 'HLTHINS4', 'HLTHINS5', \n",
    "               'HLTHINS6', 'HLTHINS7', 'HLTHINS8', 'ENROLL1', 'ENROLL2', \n",
    "               'ENROLL3', 'EST_MSA', 'LIVQTR', 'MS']\n",
    "\n",
    "# These are the engineered versions of the columns that I can try if the\n",
    "# original versions don't perform well\n",
    "cat_cols_v2 = ['HLTHINS','inc_binary','IN_METRO_AREA', 'SCHOOL_KIDS', \n",
    "               'LIVQTR_2', 'MS_2', 'TNUM_PS_2']\n",
    "\n",
    "# These are the columns that are categorical, but I think can be treated as\n",
    "# numbers\n",
    "ord_cols = ['ANXIOUS','CURFOODSUF','DOWN','EEDUC','EXPNS_DIF','INCOME',\n",
    "            'INTEREST','WORRY']\n",
    "\n",
    "# Numeric columns to be run through the \n",
    "num_cols = ['THHLD_NUMADLT','THHLD_NUMKID','PROP_FOODSPEND_HOME','AGE', \n",
    "            'incomplete', 'TNUM_PS']\n",
    "\n",
    "# I can try out this column instead of OHE -99 as separate columns\n",
    "num_cols_v2 = ['skipped']\n",
    "\n"
   ]
  },
  {
   "cell_type": "code",
   "execution_count": 73,
   "metadata": {
    "ExecuteTime": {
     "end_time": "2021-05-19T23:39:54.357587Z",
     "start_time": "2021-05-19T23:39:54.294271Z"
    },
    "scrolled": true
   },
   "outputs": [
    {
     "name": "stdout",
     "output_type": "stream",
     "text": [
      "Column THHLD_NUMADLT has 10 values.\n",
      "Column THHLD_NUMKID has 6 values.\n",
      "Column PROP_FOODSPEND_HOME has 2097 values.\n",
      "Column AGE has 71 values.\n",
      "Column incomplete has 18 values.\n",
      "Column TNUM_PS has 6 values.\n"
     ]
    }
   ],
   "source": [
    "for col in num_cols:\n",
    "    print(f\"Column {col} has {len(df[col].value_counts())} values.\")"
   ]
  },
  {
   "cell_type": "markdown",
   "metadata": {},
   "source": [
    "I really only have 2 numeric values in terms of how I want to visualize them: `PROP_FOODSPEND_HOME` and `AGE`. The others are numbers but are discrete and have few values."
   ]
  },
  {
   "cell_type": "code",
   "execution_count": 74,
   "metadata": {
    "ExecuteTime": {
     "end_time": "2021-05-19T23:39:54.408215Z",
     "start_time": "2021-05-19T23:39:54.360423Z"
    },
    "scrolled": true
   },
   "outputs": [],
   "source": [
    "rerun_viz = False\n",
    "all_cats = cat_cols + cat_cols_v1 + cat_cols_v2\n",
    "\n",
    "if rerun_viz:\n",
    "    dstools.explore_data_catbin(all_cats, df, 'target')"
   ]
  },
  {
   "cell_type": "code",
   "execution_count": 75,
   "metadata": {
    "ExecuteTime": {
     "end_time": "2021-05-19T23:39:54.498022Z",
     "start_time": "2021-05-19T23:39:54.411321Z"
    },
    "scrolled": true
   },
   "outputs": [
    {
     "data": {
      "text/plain": [
       "1.0    0.825609\n",
       "2.0    0.078073\n",
       "3.0    0.050434\n",
       "4.0    0.045885\n",
       "Name: RRACE, dtype: float64"
      ]
     },
     "execution_count": 75,
     "metadata": {},
     "output_type": "execute_result"
    }
   ],
   "source": [
    "# RRACE category labels are:\n",
    "#1) White, Alone\n",
    "#2) Black, Alone\n",
    "#3) Asian, Alone\n",
    "#4) Any other race alone, or race in combination\n",
    "\n",
    "# Are the proportions of respondents similar to population proportions?\n",
    "df['RRACE'].value_counts(normalize=True)"
   ]
  },
  {
   "cell_type": "code",
   "execution_count": 76,
   "metadata": {
    "ExecuteTime": {
     "end_time": "2021-05-19T23:39:54.572245Z",
     "start_time": "2021-05-19T23:39:54.503369Z"
    }
   },
   "outputs": [
    {
     "data": {
      "text/plain": [
       "0.0    0.904953\n",
       "1.0    0.095047\n",
       "Name: RHISPANIC, dtype: float64"
      ]
     },
     "execution_count": 76,
     "metadata": {},
     "output_type": "execute_result"
    }
   ],
   "source": [
    "df['RHISPANIC'].value_counts(normalize=True)"
   ]
  },
  {
   "cell_type": "markdown",
   "metadata": {},
   "source": [
    "The [2020 Census statistics](https://www.census.gov/quickfacts/fact/table/US/PST045219) report that the US population is about 76% White, 13% Black, and about 6% Asian. About 18% of the population identifies as Hispanic or Latinx.\n",
    "\n",
    "In this data, White respondents are overrepresented, Black respondents are far underrepresented, Asian respondents are slightly underrepresented, and Hispanic/Latinx respondents are far underrepresented."
   ]
  },
  {
   "cell_type": "markdown",
   "metadata": {},
   "source": [
    "## Understanding Categorical Features\n",
    "Focusing on the actual answers (values of 0 and above):\n",
    "- Features that don't appear to make much difference on target mean include `SSA_APPLY`, `SPNDSRC` 2, 3, and 7.\n",
    "- I noticed that a `LVEQTR` value of 1 had a target mean more than double the population mean. I looked back and realized I had combined mobile home with boat/RV/van because both were somewhat rare features. Given how large of a target mean difference I saw, I went back and re-engineered that feature earlier in the notebook to keep them separate, so that 1 = mobile home, and 4 = boat/RV/van.\n",
    "- `RRACE` has few respondents who are not white. In this data, White respondents are overrepresented, Black and Hispanic/Latinx respondents are far underrepresented, and Asian respondents are slightly underrepresented.\n",
    "- `SPNDSRC8` value of 1 has a much higher target mean than the population. Looking at that question, it's related to whether the respondent used SNAP funds in the past 7 days. Since I already have a column to indicate SNAP participation, I'll drop this column.\n",
    "\n",
    "Focusing on the -2 and -1 answers, few respondents opted not to answer any given question. I'm considering whether to do something similar to what I did with Incomplete where I create a single column to represent whether the respondent skipped ANY questions.\n"
   ]
  },
  {
   "cell_type": "code",
   "execution_count": 77,
   "metadata": {
    "ExecuteTime": {
     "end_time": "2021-05-19T23:39:54.632128Z",
     "start_time": "2021-05-19T23:39:54.576188Z"
    }
   },
   "outputs": [],
   "source": [
    "cat_cols.remove('SPNDSRC8')"
   ]
  },
  {
   "cell_type": "code",
   "execution_count": 78,
   "metadata": {
    "ExecuteTime": {
     "end_time": "2021-05-19T23:39:54.692639Z",
     "start_time": "2021-05-19T23:39:54.637148Z"
    },
    "scrolled": true
   },
   "outputs": [],
   "source": [
    "# explore ordinal categorical columns\n",
    "if rerun_viz:\n",
    "    dstools.explore_data_catbin(ord_cols + ['THHLD_NUMADLT', 'THHLD_NUMKID'], \n",
    "                            df, 'target')"
   ]
  },
  {
   "cell_type": "markdown",
   "metadata": {},
   "source": [
    "## Understanding Ordinal Categorical Features\n",
    "Focusing on the actual answers (values of 0 and above):\n",
    "- `ANXIOUS`, `DOWN`, `INTEREST` and `WORRY` all share a similar pattern. \n",
    "    - Responses of 1 (Not at All) are fairly close to the population mean but a bit below\n",
    "    - Responses of 2 (Several Days) are well below population mean\n",
    "    - Responses of 3 (More than half the days) are again fairly close to the population mean but a bit above\n",
    "    - Responses of 4 (Nearly every day) are well above the population mean\n",
    "    \n",
    "    I'm not sure I can treat these as numbers, I think I have to OHE them.\n",
    "\n",
    "\n",
    "- `THHLD_NUMADLT` doesn't appear to have much of a linear relationship with target mean. Most values are pretty close to the mean, and those that appear to deviate have very few observations. I'm going to keep this column, but consolidate the number of adults above 3 with 3.\n",
    "\n",
    "\n",
    "- The rest of the features do show a linear relationship with the target mean, so I will treat them as numeric columns."
   ]
  },
  {
   "cell_type": "code",
   "execution_count": 79,
   "metadata": {
    "ExecuteTime": {
     "end_time": "2021-05-19T23:39:54.758062Z",
     "start_time": "2021-05-19T23:39:54.696143Z"
    }
   },
   "outputs": [
    {
     "data": {
      "text/plain": [
       "2.0    43223\n",
       "1.0    17308\n",
       "3.0    17294\n",
       "Name: THHLD_NUMADLT, dtype: int64"
      ]
     },
     "execution_count": 79,
     "metadata": {},
     "output_type": "execute_result"
    }
   ],
   "source": [
    "# Combine THHLD_NUMADLT > 3 with 3\n",
    "df.loc[df['THHLD_NUMADLT'] > 3, 'THHLD_NUMADLT'] = 3\n",
    "df['THHLD_NUMADLT'].value_counts()"
   ]
  },
  {
   "cell_type": "code",
   "execution_count": 80,
   "metadata": {
    "ExecuteTime": {
     "end_time": "2021-05-19T23:39:54.809694Z",
     "start_time": "2021-05-19T23:39:54.761075Z"
    },
    "scrolled": true
   },
   "outputs": [],
   "source": [
    "if rerun_viz:\n",
    "    dstools.explore_data_catbin(['THHLD_NUMADLT'], df, 'target')"
   ]
  },
  {
   "cell_type": "code",
   "execution_count": 81,
   "metadata": {
    "ExecuteTime": {
     "end_time": "2021-05-19T23:39:54.914871Z",
     "start_time": "2021-05-19T23:39:54.812691Z"
    }
   },
   "outputs": [
    {
     "name": "stdout",
     "output_type": "stream",
     "text": [
      "['ANYWORK', 'CHNGHOW1', 'CHNGHOW10', 'CHNGHOW11', 'CHNGHOW12', 'CHNGHOW2', 'CHNGHOW3', 'CHNGHOW4', 'CHNGHOW5', 'CHNGHOW6', 'CHNGHOW7', 'CHNGHOW8', 'CHNGHOW9', 'DELAY', 'EGENDER', 'EIP', 'EXPCTLOSS', 'FEWRTRANS', 'FEWRTRIPS', 'FREEFOOD', 'HADCOVID', 'MH_NOTGET', 'MH_SVCS', 'NOTGET', 'PLNDTRIPS', 'PRESCRIPT', 'RHISPANIC', 'RRACE', 'SNAP_YN', 'SPNDSRC1', 'SPNDSRC2', 'SPNDSRC3', 'SPNDSRC4', 'SPNDSRC5', 'SPNDSRC6', 'SPNDSRC7', 'SSA_APPLY', 'SSA_RECV', 'TENURE', 'TW_START', 'UI_APPLY', 'WRKLOSS', 'ANXIOUS', 'DOWN', 'INTEREST', 'WORRY', 'THHLD_NUMADLT']\n",
      "['CURFOODSUF', 'EEDUC', 'EXPNS_DIF', 'INCOME']\n",
      "['THHLD_NUMKID', 'PROP_FOODSPEND_HOME', 'AGE', 'incomplete', 'TNUM_PS']\n"
     ]
    }
   ],
   "source": [
    "# Reorganize my lists of columns by type, based on what I've learned and updated here\n",
    "cat_cols = cat_cols + ['ANXIOUS', 'DOWN', 'INTEREST', 'WORRY', 'THHLD_NUMADLT']\n",
    "\n",
    "for col in ['ANXIOUS', 'DOWN', 'INTEREST', 'WORRY']:\n",
    "    ord_cols.remove(col)\n",
    "    \n",
    "num_cols.remove('THHLD_NUMADLT')\n",
    "\n",
    "print(cat_cols)\n",
    "print(ord_cols)\n",
    "print(num_cols)"
   ]
  },
  {
   "cell_type": "code",
   "execution_count": 82,
   "metadata": {
    "ExecuteTime": {
     "end_time": "2021-05-19T23:39:54.968916Z",
     "start_time": "2021-05-19T23:39:54.917970Z"
    },
    "scrolled": true
   },
   "outputs": [],
   "source": [
    "if rerun_viz:\n",
    "    dstools.explore_data_catbin(num_cols + num_cols_v2, df, 'target', \n",
    "                            pred_type='cont')"
   ]
  },
  {
   "cell_type": "markdown",
   "metadata": {},
   "source": [
    "Looking at AGE, I see the histogram is not smooth, but rather appears to have spikes in certain areas. After reviewing the data dictionary again, I notice there are some columns indicating imputed values for some features. I'd like to understand the proportion of imputed values."
   ]
  },
  {
   "cell_type": "code",
   "execution_count": 83,
   "metadata": {
    "ExecuteTime": {
     "end_time": "2021-05-19T23:39:55.090480Z",
     "start_time": "2021-05-19T23:39:54.972324Z"
    },
    "scrolled": true
   },
   "outputs": [
    {
     "name": "stdout",
     "output_type": "stream",
     "text": [
      "2.0    99.5027\n",
      "1.0     0.4973\n",
      "Name: ABIRTH_YEAR, dtype: float64\n",
      "\n",
      "2.0    99.6646\n",
      "1.0     0.3354\n",
      "Name: AGENDER, dtype: float64\n",
      "\n",
      "2.0    97.8901\n",
      "1.0     2.1099\n",
      "Name: AHISPANIC, dtype: float64\n",
      "\n",
      "2.0    97.903\n",
      "1.0     2.097\n",
      "Name: ARACE, dtype: float64\n",
      "\n",
      "2.0    99.7019\n",
      "1.0     0.2981\n",
      "Name: AEDUC, dtype: float64\n",
      "\n",
      "2.0    96.6553\n",
      "1.0     3.3447\n",
      "Name: AHHLD_NUMPER, dtype: float64\n",
      "\n",
      "2.0    98.4041\n",
      "1.0     1.5959\n",
      "Name: AHHLD_NUMKID, dtype: float64\n",
      "\n"
     ]
    }
   ],
   "source": [
    "imputed_ind = ['ABIRTH_YEAR','AGENDER','AHISPANIC','ARACE','AEDUC',\n",
    "           'AHHLD_NUMPER','AHHLD_NUMKID']\n",
    "\n",
    "for col in imputed_ind:\n",
    "    print(np.round(df[col].value_counts(normalize=True) * 100, 4))\n",
    "    print()"
   ]
  },
  {
   "cell_type": "markdown",
   "metadata": {},
   "source": [
    "None of the percentages of imputed values look too large. I'm comfortable with this."
   ]
  },
  {
   "cell_type": "markdown",
   "metadata": {},
   "source": [
    "## Understanding Numeric Features\n",
    "Focusing on the actual answers (values of 0 and above):\n",
    "- I don't see much difference in feature distribution of `PROP_FOODSPEND_HOME` for the different target classes "
   ]
  },
  {
   "cell_type": "markdown",
   "metadata": {},
   "source": [
    "## Exploring States\n",
    "I initially chose to leave out the State, as it has a high cardinality. But perhaps a visualization will help me decide if I want to try to include it somehow.\n"
   ]
  },
  {
   "cell_type": "code",
   "execution_count": 84,
   "metadata": {
    "ExecuteTime": {
     "end_time": "2021-05-19T23:39:58.610585Z",
     "start_time": "2021-05-19T23:39:55.094949Z"
    }
   },
   "outputs": [
    {
     "data": {
      "image/png": "[encoded data removed]",
      "text/plain": [
       "<Figure size 2160x720 with 1 Axes>"
      ]
     },
     "metadata": {
      "needs_background": "light"
     },
     "output_type": "display_data"
    }
   ],
   "source": [
    "pop_mean = np.round(df['target'].mean(), 4)\n",
    "\n",
    "sns.set_context('poster')\n",
    "\n",
    "fig, ax = plt.subplots(figsize=(30, 10))\n",
    "\n",
    "sns.pointplot(data=df, x='EST_ST', y='target', \n",
    "              ci=68, ax=ax, join=False, scale=1, capsize=0.5)\n",
    "ax.set_title(\"Target Mean per Category\")\n",
    "ax.axhline(pop_mean, color='green', ls='dashed', label='population mean')\n",
    "ax.legend();"
   ]
  },
  {
   "cell_type": "code",
   "execution_count": 85,
   "metadata": {
    "ExecuteTime": {
     "end_time": "2021-05-19T23:39:59.117282Z",
     "start_time": "2021-05-19T23:39:58.624352Z"
    }
   },
   "outputs": [
    {
     "data": {
      "text/plain": [
       "Dem    45211\n",
       "Rep    32614\n",
       "Name: polit, dtype: int64"
      ]
     },
     "execution_count": 85,
     "metadata": {},
     "output_type": "execute_result"
    }
   ],
   "source": [
    "# using data from https://www.archives.gov/electoral-college/2020,\n",
    "# separate states based on the political party to which they allocated \n",
    "# the majority of their electoral college votes in the 2020 presidential \n",
    "# election\n",
    "dems = [4, 6, 8, 9, 10, 11, 13, 15, 17, 23, 24, 25, 26, 27, 32, 33, 34, 35, \n",
    "        36, 41, 42, 44, 50, 51, 53, 55]\n",
    "reps = [1, 2, 5, 12, 16, 18, 19, 20, 21, 22, 28, 29, 30, 31, 37, 38, 39, 40, \n",
    "        45, 46, 47, 48, 49, 54, 56]\n",
    "\n",
    "df.loc[df['EST_ST'].isin(dems), 'polit'] = 'Dem'\n",
    "df.loc[df['EST_ST'].isin(reps), 'polit'] = 'Rep'\n",
    "df['polit'].value_counts()"
   ]
  },
  {
   "cell_type": "code",
   "execution_count": 86,
   "metadata": {
    "ExecuteTime": {
     "end_time": "2021-05-19T23:40:03.028704Z",
     "start_time": "2021-05-19T23:39:59.123536Z"
    },
    "scrolled": false
   },
   "outputs": [
    {
     "data": {
      "image/png": "[encoded data removed]",
      "text/plain": [
       "<Figure size 2160x720 with 1 Axes>"
      ]
     },
     "metadata": {
      "needs_background": "light"
     },
     "output_type": "display_data"
    }
   ],
   "source": [
    "fig, ax = plt.subplots(figsize=(30, 10))\n",
    "\n",
    "sns.pointplot(data=df, x='EST_ST', y='target', hue='polit',\n",
    "              ci=68, ax=ax, join=False, scale=1, capsize=0.5)\n",
    "ax.set_title(\"Target Mean per Category\")\n",
    "ax.axhline(pop_mean, color='green', ls='dashed', label='population mean')\n",
    "ax.legend();"
   ]
  },
  {
   "cell_type": "markdown",
   "metadata": {},
   "source": [
    "It does look like all of the states that case the majority of their electoral college votes for the Republican candidate in the 2020 presidential election are at or above population mean, so they lean more towards vaccine hesitancy. \n",
    "\n",
    "Some of the majority Democratic states (orange) are at or above population mean too. But almost all of the states that are below population mean (lean more towards vaccine optimism) are Democratic majority.\n",
    "\n",
    "Much as I wanted to avoid playing up the perception of a political divide, it does appear to be supported by the data. I will OHE this already so I don't have to worry about dropping anything."
   ]
  },
  {
   "cell_type": "code",
   "execution_count": 87,
   "metadata": {
    "ExecuteTime": {
     "end_time": "2021-05-19T23:40:03.110597Z",
     "start_time": "2021-05-19T23:40:03.031490Z"
    },
    "scrolled": false
   },
   "outputs": [
    {
     "data": {
      "text/plain": [
       "0    45211\n",
       "1    32614\n",
       "Name: polit, dtype: int64"
      ]
     },
     "execution_count": 87,
     "metadata": {},
     "output_type": "execute_result"
    }
   ],
   "source": [
    "# Majority Democratic will be 0; majority Republican will be 1\n",
    "df.loc[df['EST_ST'].isin(dems), 'polit'] = 0\n",
    "df.loc[df['EST_ST'].isin(reps), 'polit'] = 1\n",
    "\n",
    "cat_cols.append('polit')\n",
    "\n",
    "df['polit'].value_counts()"
   ]
  },
  {
   "cell_type": "markdown",
   "metadata": {},
   "source": [
    "## Correlation Matrix"
   ]
  },
  {
   "cell_type": "code",
   "execution_count": 88,
   "metadata": {
    "ExecuteTime": {
     "end_time": "2021-05-19T23:40:03.191327Z",
     "start_time": "2021-05-19T23:40:03.113510Z"
    }
   },
   "outputs": [
    {
     "name": "stdout",
     "output_type": "stream",
     "text": [
      "79\n",
      "79\n"
     ]
    }
   ],
   "source": [
    "all_cols = cat_cols + cat_cols_v1 + cat_cols_v2 + ord_cols + num_cols + num_cols_v2\n",
    "\n",
    "print(len(all_cols))\n",
    "print(len(set(all_cols)))"
   ]
  },
  {
   "cell_type": "code",
   "execution_count": 89,
   "metadata": {
    "ExecuteTime": {
     "end_time": "2021-05-19T23:40:04.670352Z",
     "start_time": "2021-05-19T23:40:03.200415Z"
    }
   },
   "outputs": [
    {
     "data": {
      "text/html": [
       "<div>\n",
       "<style scoped>\n",
       "    .dataframe tbody tr th:only-of-type {\n",
       "        vertical-align: middle;\n",
       "    }\n",
       "\n",
       "    .dataframe tbody tr th {\n",
       "        vertical-align: top;\n",
       "    }\n",
       "\n",
       "    .dataframe thead th {\n",
       "        text-align: right;\n",
       "    }\n",
       "</style>\n",
       "<table border=\"1\" class=\"dataframe\">\n",
       "  <thead>\n",
       "    <tr style=\"text-align: right;\">\n",
       "      <th></th>\n",
       "      <th>level_0</th>\n",
       "      <th>level_1</th>\n",
       "      <th>0</th>\n",
       "    </tr>\n",
       "  </thead>\n",
       "  <tbody>\n",
       "    <tr>\n",
       "      <th>0</th>\n",
       "      <td>HLTHINS</td>\n",
       "      <td>incomplete</td>\n",
       "      <td>-0.939064</td>\n",
       "    </tr>\n",
       "    <tr>\n",
       "      <th>1</th>\n",
       "      <td>incomplete</td>\n",
       "      <td>HLTHINS</td>\n",
       "      <td>-0.939064</td>\n",
       "    </tr>\n",
       "    <tr>\n",
       "      <th>2</th>\n",
       "      <td>MH_NOTGET</td>\n",
       "      <td>incomplete</td>\n",
       "      <td>-0.891169</td>\n",
       "    </tr>\n",
       "    <tr>\n",
       "      <th>3</th>\n",
       "      <td>incomplete</td>\n",
       "      <td>MH_NOTGET</td>\n",
       "      <td>-0.891169</td>\n",
       "    </tr>\n",
       "    <tr>\n",
       "      <th>4</th>\n",
       "      <td>inc_binary</td>\n",
       "      <td>LIVQTR_2</td>\n",
       "      <td>-0.890951</td>\n",
       "    </tr>\n",
       "    <tr>\n",
       "      <th>...</th>\n",
       "      <td>...</td>\n",
       "      <td>...</td>\n",
       "      <td>...</td>\n",
       "    </tr>\n",
       "    <tr>\n",
       "      <th>6079</th>\n",
       "      <td>HLTHINS7</td>\n",
       "      <td>HLTHINS7</td>\n",
       "      <td>1.000000</td>\n",
       "    </tr>\n",
       "    <tr>\n",
       "      <th>6080</th>\n",
       "      <td>HLTHINS8</td>\n",
       "      <td>HLTHINS8</td>\n",
       "      <td>1.000000</td>\n",
       "    </tr>\n",
       "    <tr>\n",
       "      <th>6081</th>\n",
       "      <td>ENROLL1</td>\n",
       "      <td>ENROLL1</td>\n",
       "      <td>1.000000</td>\n",
       "    </tr>\n",
       "    <tr>\n",
       "      <th>6082</th>\n",
       "      <td>HLTHINS2</td>\n",
       "      <td>HLTHINS2</td>\n",
       "      <td>1.000000</td>\n",
       "    </tr>\n",
       "    <tr>\n",
       "      <th>6083</th>\n",
       "      <td>skipped</td>\n",
       "      <td>skipped</td>\n",
       "      <td>1.000000</td>\n",
       "    </tr>\n",
       "  </tbody>\n",
       "</table>\n",
       "<p>6084 rows × 3 columns</p>\n",
       "</div>"
      ],
      "text/plain": [
       "         level_0     level_1         0\n",
       "0        HLTHINS  incomplete -0.939064\n",
       "1     incomplete     HLTHINS -0.939064\n",
       "2      MH_NOTGET  incomplete -0.891169\n",
       "3     incomplete   MH_NOTGET -0.891169\n",
       "4     inc_binary    LIVQTR_2 -0.890951\n",
       "...          ...         ...       ...\n",
       "6079    HLTHINS7    HLTHINS7  1.000000\n",
       "6080    HLTHINS8    HLTHINS8  1.000000\n",
       "6081     ENROLL1     ENROLL1  1.000000\n",
       "6082    HLTHINS2    HLTHINS2  1.000000\n",
       "6083     skipped     skipped  1.000000\n",
       "\n",
       "[6084 rows x 3 columns]"
      ]
     },
     "execution_count": 89,
     "metadata": {},
     "output_type": "execute_result"
    }
   ],
   "source": [
    "# Create a correlation matrix\n",
    "corr = df[all_cols].corr()\n",
    "\n",
    "# Unstack the matrix and sort by values to get something I can filter\n",
    "corr2 = corr.unstack()\n",
    "sorted_corr = corr2.sort_values().reset_index()\n",
    "sorted_corr"
   ]
  },
  {
   "cell_type": "code",
   "execution_count": 90,
   "metadata": {
    "ExecuteTime": {
     "end_time": "2021-05-19T23:40:04.882008Z",
     "start_time": "2021-05-19T23:40:04.681799Z"
    }
   },
   "outputs": [
    {
     "data": {
      "text/html": [
       "<div>\n",
       "<style scoped>\n",
       "    .dataframe tbody tr th:only-of-type {\n",
       "        vertical-align: middle;\n",
       "    }\n",
       "\n",
       "    .dataframe tbody tr th {\n",
       "        vertical-align: top;\n",
       "    }\n",
       "\n",
       "    .dataframe thead th {\n",
       "        text-align: right;\n",
       "    }\n",
       "</style>\n",
       "<table border=\"1\" class=\"dataframe\">\n",
       "  <thead>\n",
       "    <tr style=\"text-align: right;\">\n",
       "      <th></th>\n",
       "      <th>level_0</th>\n",
       "      <th>level_1</th>\n",
       "      <th>0</th>\n",
       "      <th>combo</th>\n",
       "    </tr>\n",
       "  </thead>\n",
       "  <tbody>\n",
       "    <tr>\n",
       "      <th>0</th>\n",
       "      <td>HLTHINS</td>\n",
       "      <td>incomplete</td>\n",
       "      <td>-0.939064</td>\n",
       "      <td>HLTHINS / incomplete</td>\n",
       "    </tr>\n",
       "    <tr>\n",
       "      <th>2</th>\n",
       "      <td>MH_NOTGET</td>\n",
       "      <td>incomplete</td>\n",
       "      <td>-0.891169</td>\n",
       "      <td>MH_NOTGET / incomplete</td>\n",
       "    </tr>\n",
       "    <tr>\n",
       "      <th>4</th>\n",
       "      <td>inc_binary</td>\n",
       "      <td>LIVQTR_2</td>\n",
       "      <td>-0.890951</td>\n",
       "      <td>LIVQTR_2 / inc_binary</td>\n",
       "    </tr>\n",
       "    <tr>\n",
       "      <th>6</th>\n",
       "      <td>MH_SVCS</td>\n",
       "      <td>incomplete</td>\n",
       "      <td>-0.889066</td>\n",
       "      <td>MH_SVCS / incomplete</td>\n",
       "    </tr>\n",
       "    <tr>\n",
       "      <th>8</th>\n",
       "      <td>LIVQTR_2</td>\n",
       "      <td>incomplete</td>\n",
       "      <td>-0.887357</td>\n",
       "      <td>LIVQTR_2 / incomplete</td>\n",
       "    </tr>\n",
       "    <tr>\n",
       "      <th>...</th>\n",
       "      <td>...</td>\n",
       "      <td>...</td>\n",
       "      <td>...</td>\n",
       "      <td>...</td>\n",
       "    </tr>\n",
       "    <tr>\n",
       "      <th>5996</th>\n",
       "      <td>HLTHINS5</td>\n",
       "      <td>HLTHINS6</td>\n",
       "      <td>0.945932</td>\n",
       "      <td>HLTHINS5 / HLTHINS6</td>\n",
       "    </tr>\n",
       "    <tr>\n",
       "      <th>5998</th>\n",
       "      <td>HLTHINS7</td>\n",
       "      <td>HLTHINS6</td>\n",
       "      <td>0.947737</td>\n",
       "      <td>HLTHINS6 / HLTHINS7</td>\n",
       "    </tr>\n",
       "    <tr>\n",
       "      <th>6000</th>\n",
       "      <td>TNUM_PS_2</td>\n",
       "      <td>TNUM_PS</td>\n",
       "      <td>0.968248</td>\n",
       "      <td>TNUM_PS / TNUM_PS_2</td>\n",
       "    </tr>\n",
       "    <tr>\n",
       "      <th>6002</th>\n",
       "      <td>SCHOOL_KIDS</td>\n",
       "      <td>ENROLL1</td>\n",
       "      <td>0.972977</td>\n",
       "      <td>ENROLL1 / SCHOOL_KIDS</td>\n",
       "    </tr>\n",
       "    <tr>\n",
       "      <th>6004</th>\n",
       "      <td>MS_2</td>\n",
       "      <td>MS</td>\n",
       "      <td>0.980018</td>\n",
       "      <td>MS / MS_2</td>\n",
       "    </tr>\n",
       "  </tbody>\n",
       "</table>\n",
       "<p>3003 rows × 4 columns</p>\n",
       "</div>"
      ],
      "text/plain": [
       "          level_0     level_1         0                   combo\n",
       "0         HLTHINS  incomplete -0.939064    HLTHINS / incomplete\n",
       "2       MH_NOTGET  incomplete -0.891169  MH_NOTGET / incomplete\n",
       "4      inc_binary    LIVQTR_2 -0.890951   LIVQTR_2 / inc_binary\n",
       "6         MH_SVCS  incomplete -0.889066    MH_SVCS / incomplete\n",
       "8        LIVQTR_2  incomplete -0.887357   LIVQTR_2 / incomplete\n",
       "...           ...         ...       ...                     ...\n",
       "5996     HLTHINS5    HLTHINS6  0.945932     HLTHINS5 / HLTHINS6\n",
       "5998     HLTHINS7    HLTHINS6  0.947737     HLTHINS6 / HLTHINS7\n",
       "6000    TNUM_PS_2     TNUM_PS  0.968248     TNUM_PS / TNUM_PS_2\n",
       "6002  SCHOOL_KIDS     ENROLL1  0.972977   ENROLL1 / SCHOOL_KIDS\n",
       "6004         MS_2          MS  0.980018               MS / MS_2\n",
       "\n",
       "[3003 rows x 4 columns]"
      ]
     },
     "execution_count": 90,
     "metadata": {},
     "output_type": "execute_result"
    }
   ],
   "source": [
    "# Remove duplicates where a feature is correlated against itself\n",
    "to_drop = sorted_corr.loc[sorted_corr['level_0'] == sorted_corr['level_1']].index\n",
    "sorted_corr.drop(index=to_drop, inplace=True)\n",
    "\n",
    "# Remove the second copy of each correlated pair by combining them in sorted \n",
    "# order into a new column\n",
    "def combine_cols(x):\n",
    "    combo = [x['level_0'], x['level_1']]\n",
    "    combo.sort()\n",
    "    return ' / '.join(combo)\n",
    "\n",
    "sorted_corr['combo'] = sorted_corr.apply(combine_cols, axis=1)\n",
    "\n",
    "# Drop duplicates based on combo column\n",
    "sorted_corr.drop_duplicates(subset='combo', inplace=True)\n",
    "sorted_corr"
   ]
  },
  {
   "cell_type": "code",
   "execution_count": 91,
   "metadata": {
    "ExecuteTime": {
     "end_time": "2021-05-19T23:40:04.972910Z",
     "start_time": "2021-05-19T23:40:04.886252Z"
    },
    "scrolled": true
   },
   "outputs": [
    {
     "data": {
      "text/html": [
       "<div>\n",
       "<style scoped>\n",
       "    .dataframe tbody tr th:only-of-type {\n",
       "        vertical-align: middle;\n",
       "    }\n",
       "\n",
       "    .dataframe tbody tr th {\n",
       "        vertical-align: top;\n",
       "    }\n",
       "\n",
       "    .dataframe thead th {\n",
       "        text-align: right;\n",
       "    }\n",
       "</style>\n",
       "<table border=\"1\" class=\"dataframe\">\n",
       "  <thead>\n",
       "    <tr style=\"text-align: right;\">\n",
       "      <th></th>\n",
       "      <th>combo</th>\n",
       "      <th>0</th>\n",
       "    </tr>\n",
       "  </thead>\n",
       "  <tbody>\n",
       "    <tr>\n",
       "      <th>0</th>\n",
       "      <td>HLTHINS / incomplete</td>\n",
       "      <td>-0.939064</td>\n",
       "    </tr>\n",
       "    <tr>\n",
       "      <th>2</th>\n",
       "      <td>MH_NOTGET / incomplete</td>\n",
       "      <td>-0.891169</td>\n",
       "    </tr>\n",
       "    <tr>\n",
       "      <th>4</th>\n",
       "      <td>LIVQTR_2 / inc_binary</td>\n",
       "      <td>-0.890951</td>\n",
       "    </tr>\n",
       "    <tr>\n",
       "      <th>6</th>\n",
       "      <td>MH_SVCS / incomplete</td>\n",
       "      <td>-0.889066</td>\n",
       "    </tr>\n",
       "    <tr>\n",
       "      <th>8</th>\n",
       "      <td>LIVQTR_2 / incomplete</td>\n",
       "      <td>-0.887357</td>\n",
       "    </tr>\n",
       "    <tr>\n",
       "      <th>10</th>\n",
       "      <td>PROP_FOODSPEND_HOME / incomplete</td>\n",
       "      <td>-0.875832</td>\n",
       "    </tr>\n",
       "    <tr>\n",
       "      <th>12</th>\n",
       "      <td>TNUM_PS_2 / inc_binary</td>\n",
       "      <td>-0.874383</td>\n",
       "    </tr>\n",
       "    <tr>\n",
       "      <th>14</th>\n",
       "      <td>NOTGET / incomplete</td>\n",
       "      <td>-0.867114</td>\n",
       "    </tr>\n",
       "    <tr>\n",
       "      <th>16</th>\n",
       "      <td>HLTHINS / inc_binary</td>\n",
       "      <td>-0.866056</td>\n",
       "    </tr>\n",
       "    <tr>\n",
       "      <th>18</th>\n",
       "      <td>PRESCRIPT / incomplete</td>\n",
       "      <td>-0.860997</td>\n",
       "    </tr>\n",
       "    <tr>\n",
       "      <th>20</th>\n",
       "      <td>MH_NOTGET / inc_binary</td>\n",
       "      <td>-0.855147</td>\n",
       "    </tr>\n",
       "    <tr>\n",
       "      <th>22</th>\n",
       "      <td>DELAY / incomplete</td>\n",
       "      <td>-0.854871</td>\n",
       "    </tr>\n",
       "    <tr>\n",
       "      <th>24</th>\n",
       "      <td>HLTHINS7 / incomplete</td>\n",
       "      <td>-0.854851</td>\n",
       "    </tr>\n",
       "    <tr>\n",
       "      <th>26</th>\n",
       "      <td>MH_SVCS / inc_binary</td>\n",
       "      <td>-0.853588</td>\n",
       "    </tr>\n",
       "    <tr>\n",
       "      <th>28</th>\n",
       "      <td>HLTHINS1 / incomplete</td>\n",
       "      <td>-0.848859</td>\n",
       "    </tr>\n",
       "    <tr>\n",
       "      <th>30</th>\n",
       "      <td>TENURE / incomplete</td>\n",
       "      <td>-0.844004</td>\n",
       "    </tr>\n",
       "    <tr>\n",
       "      <th>32</th>\n",
       "      <td>TENURE / inc_binary</td>\n",
       "      <td>-0.841198</td>\n",
       "    </tr>\n",
       "    <tr>\n",
       "      <th>34</th>\n",
       "      <td>SPNDSRC7 / incomplete</td>\n",
       "      <td>-0.840271</td>\n",
       "    </tr>\n",
       "    <tr>\n",
       "      <th>36</th>\n",
       "      <td>HLTHINS5 / incomplete</td>\n",
       "      <td>-0.840113</td>\n",
       "    </tr>\n",
       "    <tr>\n",
       "      <th>38</th>\n",
       "      <td>HLTHINS6 / incomplete</td>\n",
       "      <td>-0.836671</td>\n",
       "    </tr>\n",
       "    <tr>\n",
       "      <th>40</th>\n",
       "      <td>NOTGET / inc_binary</td>\n",
       "      <td>-0.832015</td>\n",
       "    </tr>\n",
       "    <tr>\n",
       "      <th>42</th>\n",
       "      <td>FREEFOOD / incomplete</td>\n",
       "      <td>-0.829973</td>\n",
       "    </tr>\n",
       "    <tr>\n",
       "      <th>44</th>\n",
       "      <td>PRESCRIPT / inc_binary</td>\n",
       "      <td>-0.827205</td>\n",
       "    </tr>\n",
       "    <tr>\n",
       "      <th>46</th>\n",
       "      <td>SNAP_YN / incomplete</td>\n",
       "      <td>-0.825567</td>\n",
       "    </tr>\n",
       "    <tr>\n",
       "      <th>48</th>\n",
       "      <td>DELAY / inc_binary</td>\n",
       "      <td>-0.819805</td>\n",
       "    </tr>\n",
       "    <tr>\n",
       "      <th>50</th>\n",
       "      <td>HLTHINS4 / incomplete</td>\n",
       "      <td>-0.818103</td>\n",
       "    </tr>\n",
       "    <tr>\n",
       "      <th>52</th>\n",
       "      <td>HLTHINS8 / incomplete</td>\n",
       "      <td>-0.816226</td>\n",
       "    </tr>\n",
       "    <tr>\n",
       "      <th>54</th>\n",
       "      <td>SPNDSRC5 / incomplete</td>\n",
       "      <td>-0.813986</td>\n",
       "    </tr>\n",
       "    <tr>\n",
       "      <th>56</th>\n",
       "      <td>SPNDSRC4 / incomplete</td>\n",
       "      <td>-0.809890</td>\n",
       "    </tr>\n",
       "    <tr>\n",
       "      <th>58</th>\n",
       "      <td>TNUM_PS / inc_binary</td>\n",
       "      <td>-0.808028</td>\n",
       "    </tr>\n",
       "    <tr>\n",
       "      <th>60</th>\n",
       "      <td>TNUM_PS_2 / incomplete</td>\n",
       "      <td>-0.807106</td>\n",
       "    </tr>\n",
       "    <tr>\n",
       "      <th>62</th>\n",
       "      <td>DOWN / incomplete</td>\n",
       "      <td>-0.804815</td>\n",
       "    </tr>\n",
       "    <tr>\n",
       "      <th>64</th>\n",
       "      <td>HLTHINS3 / incomplete</td>\n",
       "      <td>-0.804270</td>\n",
       "    </tr>\n",
       "    <tr>\n",
       "      <th>66</th>\n",
       "      <td>INTEREST / incomplete</td>\n",
       "      <td>-0.803593</td>\n",
       "    </tr>\n",
       "    <tr>\n",
       "      <th>68</th>\n",
       "      <td>SPNDSRC1 / incomplete</td>\n",
       "      <td>-0.802982</td>\n",
       "    </tr>\n",
       "    <tr>\n",
       "      <th>70</th>\n",
       "      <td>PLNDTRIPS / incomplete</td>\n",
       "      <td>-0.802740</td>\n",
       "    </tr>\n",
       "    <tr>\n",
       "      <th>5750</th>\n",
       "      <td>HLTHINS / INTEREST</td>\n",
       "      <td>0.800233</td>\n",
       "    </tr>\n",
       "    <tr>\n",
       "      <th>5752</th>\n",
       "      <td>DOWN / HLTHINS</td>\n",
       "      <td>0.800392</td>\n",
       "    </tr>\n",
       "    <tr>\n",
       "      <th>5754</th>\n",
       "      <td>HLTHINS5 / LIVQTR_2</td>\n",
       "      <td>0.800819</td>\n",
       "    </tr>\n",
       "    <tr>\n",
       "      <th>5756</th>\n",
       "      <td>FEWRTRIPS / SPNDSRC4</td>\n",
       "      <td>0.801106</td>\n",
       "    </tr>\n",
       "    <tr>\n",
       "      <th>5758</th>\n",
       "      <td>HLTHINS7 / NOTGET</td>\n",
       "      <td>0.801587</td>\n",
       "    </tr>\n",
       "    <tr>\n",
       "      <th>5760</th>\n",
       "      <td>CURFOODSUF / SNAP_YN</td>\n",
       "      <td>0.803827</td>\n",
       "    </tr>\n",
       "    <tr>\n",
       "      <th>5762</th>\n",
       "      <td>CURFOODSUF / FREEFOOD</td>\n",
       "      <td>0.804116</td>\n",
       "    </tr>\n",
       "    <tr>\n",
       "      <th>5764</th>\n",
       "      <td>HLTHINS1 / LIVQTR_2</td>\n",
       "      <td>0.805091</td>\n",
       "    </tr>\n",
       "    <tr>\n",
       "      <th>5766</th>\n",
       "      <td>HLTHINS2 / HLTHINS4</td>\n",
       "      <td>0.805122</td>\n",
       "    </tr>\n",
       "    <tr>\n",
       "      <th>5768</th>\n",
       "      <td>HLTHINS / TNUM_PS_2</td>\n",
       "      <td>0.805345</td>\n",
       "    </tr>\n",
       "    <tr>\n",
       "      <th>5770</th>\n",
       "      <td>HLTHINS6 / MH_SVCS</td>\n",
       "      <td>0.805763</td>\n",
       "    </tr>\n",
       "    <tr>\n",
       "      <th>5772</th>\n",
       "      <td>HLTHINS2 / HLTHINS8</td>\n",
       "      <td>0.806143</td>\n",
       "    </tr>\n",
       "    <tr>\n",
       "      <th>5774</th>\n",
       "      <td>ANXIOUS / MH_NOTGET</td>\n",
       "      <td>0.806178</td>\n",
       "    </tr>\n",
       "    <tr>\n",
       "      <th>5776</th>\n",
       "      <td>HLTHINS6 / MH_NOTGET</td>\n",
       "      <td>0.806721</td>\n",
       "    </tr>\n",
       "    <tr>\n",
       "      <th>5778</th>\n",
       "      <td>MH_SVCS / TNUM_PS_2</td>\n",
       "      <td>0.807566</td>\n",
       "    </tr>\n",
       "    <tr>\n",
       "      <th>5780</th>\n",
       "      <td>FREEFOOD / PLNDTRIPS</td>\n",
       "      <td>0.807739</td>\n",
       "    </tr>\n",
       "    <tr>\n",
       "      <th>5782</th>\n",
       "      <td>HLTHINS3 / HLTHINS6</td>\n",
       "      <td>0.807803</td>\n",
       "    </tr>\n",
       "    <tr>\n",
       "      <th>5784</th>\n",
       "      <td>HLTHINS5 / MH_SVCS</td>\n",
       "      <td>0.807923</td>\n",
       "    </tr>\n",
       "    <tr>\n",
       "      <th>5786</th>\n",
       "      <td>MH_NOTGET / WORRY</td>\n",
       "      <td>0.808497</td>\n",
       "    </tr>\n",
       "    <tr>\n",
       "      <th>5788</th>\n",
       "      <td>TENURE / TNUM_PS_2</td>\n",
       "      <td>0.808898</td>\n",
       "    </tr>\n",
       "    <tr>\n",
       "      <th>5790</th>\n",
       "      <td>HLTHINS5 / MH_NOTGET</td>\n",
       "      <td>0.809547</td>\n",
       "    </tr>\n",
       "    <tr>\n",
       "      <th>5792</th>\n",
       "      <td>HLTHINS3 / HLTHINS5</td>\n",
       "      <td>0.809857</td>\n",
       "    </tr>\n",
       "    <tr>\n",
       "      <th>5794</th>\n",
       "      <td>CURFOODSUF / SPNDSRC7</td>\n",
       "      <td>0.811223</td>\n",
       "    </tr>\n",
       "    <tr>\n",
       "      <th>5796</th>\n",
       "      <td>HLTHINS1 / MH_NOTGET</td>\n",
       "      <td>0.812213</td>\n",
       "    </tr>\n",
       "    <tr>\n",
       "      <th>5798</th>\n",
       "      <td>INTEREST / MH_NOTGET</td>\n",
       "      <td>0.812284</td>\n",
       "    </tr>\n",
       "    <tr>\n",
       "      <th>5800</th>\n",
       "      <td>HLTHINS3 / HLTHINS7</td>\n",
       "      <td>0.813224</td>\n",
       "    </tr>\n",
       "    <tr>\n",
       "      <th>5802</th>\n",
       "      <td>SPNDSRC2 / SPNDSRC4</td>\n",
       "      <td>0.813834</td>\n",
       "    </tr>\n",
       "    <tr>\n",
       "      <th>5804</th>\n",
       "      <td>MH_NOTGET / TNUM_PS_2</td>\n",
       "      <td>0.814322</td>\n",
       "    </tr>\n",
       "    <tr>\n",
       "      <th>5806</th>\n",
       "      <td>HLTHINS1 / MH_SVCS</td>\n",
       "      <td>0.815026</td>\n",
       "    </tr>\n",
       "    <tr>\n",
       "      <th>5808</th>\n",
       "      <td>CHNGHOW5 / CHNGHOW7</td>\n",
       "      <td>0.816143</td>\n",
       "    </tr>\n",
       "    <tr>\n",
       "      <th>5810</th>\n",
       "      <td>HLTHINS7 / LIVQTR_2</td>\n",
       "      <td>0.816262</td>\n",
       "    </tr>\n",
       "    <tr>\n",
       "      <th>5812</th>\n",
       "      <td>SPNDSRC3 / SPNDSRC5</td>\n",
       "      <td>0.816265</td>\n",
       "    </tr>\n",
       "    <tr>\n",
       "      <th>5814</th>\n",
       "      <td>FEWRTRIPS / SPNDSRC7</td>\n",
       "      <td>0.817083</td>\n",
       "    </tr>\n",
       "    <tr>\n",
       "      <th>5816</th>\n",
       "      <td>SPNDSRC3 / SPNDSRC4</td>\n",
       "      <td>0.818821</td>\n",
       "    </tr>\n",
       "    <tr>\n",
       "      <th>5818</th>\n",
       "      <td>DOWN / MH_NOTGET</td>\n",
       "      <td>0.819701</td>\n",
       "    </tr>\n",
       "    <tr>\n",
       "      <th>5820</th>\n",
       "      <td>DELAY / TENURE</td>\n",
       "      <td>0.820259</td>\n",
       "    </tr>\n",
       "    <tr>\n",
       "      <th>5822</th>\n",
       "      <td>HLTHINS1 / HLTHINS7</td>\n",
       "      <td>0.821292</td>\n",
       "    </tr>\n",
       "    <tr>\n",
       "      <th>5824</th>\n",
       "      <td>PLNDTRIPS / SPNDSRC4</td>\n",
       "      <td>0.821744</td>\n",
       "    </tr>\n",
       "    <tr>\n",
       "      <th>5826</th>\n",
       "      <td>HLTHINS7 / MH_SVCS</td>\n",
       "      <td>0.822319</td>\n",
       "    </tr>\n",
       "    <tr>\n",
       "      <th>5828</th>\n",
       "      <td>HLTHINS7 / MH_NOTGET</td>\n",
       "      <td>0.825906</td>\n",
       "    </tr>\n",
       "    <tr>\n",
       "      <th>5830</th>\n",
       "      <td>HLTHINS2 / HLTHINS5</td>\n",
       "      <td>0.825915</td>\n",
       "    </tr>\n",
       "    <tr>\n",
       "      <th>5832</th>\n",
       "      <td>HLTHINS2 / HLTHINS6</td>\n",
       "      <td>0.827238</td>\n",
       "    </tr>\n",
       "    <tr>\n",
       "      <th>5834</th>\n",
       "      <td>SPNDSRC2 / SPNDSRC7</td>\n",
       "      <td>0.827705</td>\n",
       "    </tr>\n",
       "    <tr>\n",
       "      <th>5836</th>\n",
       "      <td>PRESCRIPT / TENURE</td>\n",
       "      <td>0.827765</td>\n",
       "    </tr>\n",
       "    <tr>\n",
       "      <th>5838</th>\n",
       "      <td>SPNDSRC4 / SPNDSRC6</td>\n",
       "      <td>0.828003</td>\n",
       "    </tr>\n",
       "    <tr>\n",
       "      <th>5840</th>\n",
       "      <td>HLTHINS / HLTHINS2</td>\n",
       "      <td>0.829094</td>\n",
       "    </tr>\n",
       "    <tr>\n",
       "      <th>5842</th>\n",
       "      <td>SNAP_YN / SPNDSRC5</td>\n",
       "      <td>0.830463</td>\n",
       "    </tr>\n",
       "    <tr>\n",
       "      <th>5844</th>\n",
       "      <td>PLNDTRIPS / SPNDSRC5</td>\n",
       "      <td>0.831203</td>\n",
       "    </tr>\n",
       "    <tr>\n",
       "      <th>5846</th>\n",
       "      <td>NOTGET / TENURE</td>\n",
       "      <td>0.831329</td>\n",
       "    </tr>\n",
       "    <tr>\n",
       "      <th>5848</th>\n",
       "      <td>PLNDTRIPS / SPNDSRC1</td>\n",
       "      <td>0.833057</td>\n",
       "    </tr>\n",
       "    <tr>\n",
       "      <th>5850</th>\n",
       "      <td>CHNGHOW10 / CHNGHOW5</td>\n",
       "      <td>0.835148</td>\n",
       "    </tr>\n",
       "    <tr>\n",
       "      <th>5852</th>\n",
       "      <td>HLTHINS / PROP_FOODSPEND_HOME</td>\n",
       "      <td>0.835205</td>\n",
       "    </tr>\n",
       "    <tr>\n",
       "      <th>5854</th>\n",
       "      <td>SPNDSRC3 / SPNDSRC7</td>\n",
       "      <td>0.835218</td>\n",
       "    </tr>\n",
       "    <tr>\n",
       "      <th>5856</th>\n",
       "      <td>FREEFOOD / SPNDSRC5</td>\n",
       "      <td>0.836790</td>\n",
       "    </tr>\n",
       "    <tr>\n",
       "      <th>5858</th>\n",
       "      <td>SNAP_YN / SPNDSRC4</td>\n",
       "      <td>0.837246</td>\n",
       "    </tr>\n",
       "    <tr>\n",
       "      <th>5860</th>\n",
       "      <td>CHNGHOW3 / CHNGHOW5</td>\n",
       "      <td>0.837972</td>\n",
       "    </tr>\n",
       "    <tr>\n",
       "      <th>5862</th>\n",
       "      <td>LIVQTR_2 / TNUM_PS_2</td>\n",
       "      <td>0.838320</td>\n",
       "    </tr>\n",
       "    <tr>\n",
       "      <th>5864</th>\n",
       "      <td>HLTHINS / HLTHINS3</td>\n",
       "      <td>0.838490</td>\n",
       "    </tr>\n",
       "    <tr>\n",
       "      <th>5866</th>\n",
       "      <td>SPNDSRC5 / SPNDSRC6</td>\n",
       "      <td>0.838855</td>\n",
       "    </tr>\n",
       "    <tr>\n",
       "      <th>5868</th>\n",
       "      <td>HLTHINS / HLTHINS8</td>\n",
       "      <td>0.839671</td>\n",
       "    </tr>\n",
       "    <tr>\n",
       "      <th>5870</th>\n",
       "      <td>CURFOODSUF / SPNDSRC4</td>\n",
       "      <td>0.841274</td>\n",
       "    </tr>\n",
       "    <tr>\n",
       "      <th>5872</th>\n",
       "      <td>FREEFOOD / SPNDSRC4</td>\n",
       "      <td>0.841874</td>\n",
       "    </tr>\n",
       "    <tr>\n",
       "      <th>5874</th>\n",
       "      <td>SNAP_YN / SPNDSRC7</td>\n",
       "      <td>0.842033</td>\n",
       "    </tr>\n",
       "    <tr>\n",
       "      <th>5876</th>\n",
       "      <td>CHNGHOW11 / CHNGHOW3</td>\n",
       "      <td>0.842099</td>\n",
       "    </tr>\n",
       "    <tr>\n",
       "      <th>5878</th>\n",
       "      <td>HLTHINS / TENURE</td>\n",
       "      <td>0.843450</td>\n",
       "    </tr>\n",
       "    <tr>\n",
       "      <th>5880</th>\n",
       "      <td>HLTHINS / HLTHINS4</td>\n",
       "      <td>0.845359</td>\n",
       "    </tr>\n",
       "    <tr>\n",
       "      <th>5882</th>\n",
       "      <td>SPNDSRC6 / SPNDSRC7</td>\n",
       "      <td>0.845394</td>\n",
       "    </tr>\n",
       "    <tr>\n",
       "      <th>5884</th>\n",
       "      <td>CHNGHOW11 / CHNGHOW7</td>\n",
       "      <td>0.846387</td>\n",
       "    </tr>\n",
       "    <tr>\n",
       "      <th>5886</th>\n",
       "      <td>DELAY / PRESCRIPT</td>\n",
       "      <td>0.847117</td>\n",
       "    </tr>\n",
       "    <tr>\n",
       "      <th>5888</th>\n",
       "      <td>HLTHINS2 / HLTHINS7</td>\n",
       "      <td>0.850156</td>\n",
       "    </tr>\n",
       "    <tr>\n",
       "      <th>5890</th>\n",
       "      <td>SPNDSRC1 / SPNDSRC7</td>\n",
       "      <td>0.852712</td>\n",
       "    </tr>\n",
       "    <tr>\n",
       "      <th>5892</th>\n",
       "      <td>DELAY / LIVQTR_2</td>\n",
       "      <td>0.852932</td>\n",
       "    </tr>\n",
       "    <tr>\n",
       "      <th>5894</th>\n",
       "      <td>CHNGHOW10 / CHNGHOW11</td>\n",
       "      <td>0.852978</td>\n",
       "    </tr>\n",
       "    <tr>\n",
       "      <th>5896</th>\n",
       "      <td>LIVQTR / LIVQTR_2</td>\n",
       "      <td>0.853149</td>\n",
       "    </tr>\n",
       "    <tr>\n",
       "      <th>5898</th>\n",
       "      <td>MH_SVCS / TENURE</td>\n",
       "      <td>0.854581</td>\n",
       "    </tr>\n",
       "    <tr>\n",
       "      <th>5900</th>\n",
       "      <td>LIVQTR_2 / PRESCRIPT</td>\n",
       "      <td>0.859692</td>\n",
       "    </tr>\n",
       "    <tr>\n",
       "      <th>5902</th>\n",
       "      <td>MH_NOTGET / TENURE</td>\n",
       "      <td>0.860032</td>\n",
       "    </tr>\n",
       "    <tr>\n",
       "      <th>5904</th>\n",
       "      <td>NOTGET / PRESCRIPT</td>\n",
       "      <td>0.860194</td>\n",
       "    </tr>\n",
       "    <tr>\n",
       "      <th>5906</th>\n",
       "      <td>FREEFOOD / SPNDSRC7</td>\n",
       "      <td>0.860270</td>\n",
       "    </tr>\n",
       "    <tr>\n",
       "      <th>5908</th>\n",
       "      <td>HLTHINS / HLTHINS6</td>\n",
       "      <td>0.861410</td>\n",
       "    </tr>\n",
       "    <tr>\n",
       "      <th>5910</th>\n",
       "      <td>PLNDTRIPS / SPNDSRC7</td>\n",
       "      <td>0.861737</td>\n",
       "    </tr>\n",
       "    <tr>\n",
       "      <th>5912</th>\n",
       "      <td>DELAY / HLTHINS</td>\n",
       "      <td>0.863583</td>\n",
       "    </tr>\n",
       "    <tr>\n",
       "      <th>5914</th>\n",
       "      <td>LIVQTR_2 / NOTGET</td>\n",
       "      <td>0.863594</td>\n",
       "    </tr>\n",
       "    <tr>\n",
       "      <th>5916</th>\n",
       "      <td>HLTHINS / HLTHINS5</td>\n",
       "      <td>0.864799</td>\n",
       "    </tr>\n",
       "    <tr>\n",
       "      <th>5918</th>\n",
       "      <td>HLTHINS4 / HLTHINS8</td>\n",
       "      <td>0.865867</td>\n",
       "    </tr>\n",
       "    <tr>\n",
       "      <th>5920</th>\n",
       "      <td>DELAY / MH_SVCS</td>\n",
       "      <td>0.867026</td>\n",
       "    </tr>\n",
       "    <tr>\n",
       "      <th>5922</th>\n",
       "      <td>inc_binary / incomplete</td>\n",
       "      <td>0.870442</td>\n",
       "    </tr>\n",
       "    <tr>\n",
       "      <th>5924</th>\n",
       "      <td>HLTHINS / PRESCRIPT</td>\n",
       "      <td>0.873191</td>\n",
       "    </tr>\n",
       "    <tr>\n",
       "      <th>5926</th>\n",
       "      <td>SPNDSRC4 / SPNDSRC5</td>\n",
       "      <td>0.874892</td>\n",
       "    </tr>\n",
       "    <tr>\n",
       "      <th>5928</th>\n",
       "      <td>HLTHINS / NOTGET</td>\n",
       "      <td>0.875086</td>\n",
       "    </tr>\n",
       "    <tr>\n",
       "      <th>5930</th>\n",
       "      <td>HLTHINS / HLTHINS7</td>\n",
       "      <td>0.877849</td>\n",
       "    </tr>\n",
       "    <tr>\n",
       "      <th>5932</th>\n",
       "      <td>MH_SVCS / NOTGET</td>\n",
       "      <td>0.878281</td>\n",
       "    </tr>\n",
       "    <tr>\n",
       "      <th>5934</th>\n",
       "      <td>DELAY / MH_NOTGET</td>\n",
       "      <td>0.883626</td>\n",
       "    </tr>\n",
       "    <tr>\n",
       "      <th>5936</th>\n",
       "      <td>FREEFOOD / SNAP_YN</td>\n",
       "      <td>0.884421</td>\n",
       "    </tr>\n",
       "    <tr>\n",
       "      <th>5938</th>\n",
       "      <td>HLTHINS4 / HLTHINS6</td>\n",
       "      <td>0.887795</td>\n",
       "    </tr>\n",
       "    <tr>\n",
       "      <th>5940</th>\n",
       "      <td>LIVQTR_2 / MH_SVCS</td>\n",
       "      <td>0.889689</td>\n",
       "    </tr>\n",
       "    <tr>\n",
       "      <th>5942</th>\n",
       "      <td>HLTHINS4 / HLTHINS5</td>\n",
       "      <td>0.889988</td>\n",
       "    </tr>\n",
       "    <tr>\n",
       "      <th>5944</th>\n",
       "      <td>MH_NOTGET / PRESCRIPT</td>\n",
       "      <td>0.890400</td>\n",
       "    </tr>\n",
       "    <tr>\n",
       "      <th>5946</th>\n",
       "      <td>LIVQTR_2 / MH_NOTGET</td>\n",
       "      <td>0.891364</td>\n",
       "    </tr>\n",
       "    <tr>\n",
       "      <th>5948</th>\n",
       "      <td>HLTHINS5 / HLTHINS8</td>\n",
       "      <td>0.891617</td>\n",
       "    </tr>\n",
       "    <tr>\n",
       "      <th>5950</th>\n",
       "      <td>HLTHINS / LIVQTR_2</td>\n",
       "      <td>0.894044</td>\n",
       "    </tr>\n",
       "    <tr>\n",
       "      <th>5952</th>\n",
       "      <td>HLTHINS6 / HLTHINS8</td>\n",
       "      <td>0.894760</td>\n",
       "    </tr>\n",
       "    <tr>\n",
       "      <th>5954</th>\n",
       "      <td>MH_NOTGET / NOTGET</td>\n",
       "      <td>0.896153</td>\n",
       "    </tr>\n",
       "    <tr>\n",
       "      <th>5956</th>\n",
       "      <td>SPNDSRC5 / SPNDSRC7</td>\n",
       "      <td>0.896261</td>\n",
       "    </tr>\n",
       "    <tr>\n",
       "      <th>5958</th>\n",
       "      <td>CHNGHOW11 / CHNGHOW5</td>\n",
       "      <td>0.896272</td>\n",
       "    </tr>\n",
       "    <tr>\n",
       "      <th>5960</th>\n",
       "      <td>HLTHINS / HLTHINS1</td>\n",
       "      <td>0.896954</td>\n",
       "    </tr>\n",
       "    <tr>\n",
       "      <th>5962</th>\n",
       "      <td>SPNDSRC4 / SPNDSRC7</td>\n",
       "      <td>0.897058</td>\n",
       "    </tr>\n",
       "    <tr>\n",
       "      <th>5964</th>\n",
       "      <td>HLTHINS / MH_NOTGET</td>\n",
       "      <td>0.897643</td>\n",
       "    </tr>\n",
       "    <tr>\n",
       "      <th>5966</th>\n",
       "      <td>ANXIOUS / INTEREST</td>\n",
       "      <td>0.897864</td>\n",
       "    </tr>\n",
       "    <tr>\n",
       "      <th>5968</th>\n",
       "      <td>HLTHINS / MH_SVCS</td>\n",
       "      <td>0.900562</td>\n",
       "    </tr>\n",
       "    <tr>\n",
       "      <th>5970</th>\n",
       "      <td>MH_NOTGET / MH_SVCS</td>\n",
       "      <td>0.900754</td>\n",
       "    </tr>\n",
       "    <tr>\n",
       "      <th>5972</th>\n",
       "      <td>INTEREST / WORRY</td>\n",
       "      <td>0.906451</td>\n",
       "    </tr>\n",
       "    <tr>\n",
       "      <th>5974</th>\n",
       "      <td>MH_SVCS / PRESCRIPT</td>\n",
       "      <td>0.908525</td>\n",
       "    </tr>\n",
       "    <tr>\n",
       "      <th>5976</th>\n",
       "      <td>ANXIOUS / DOWN</td>\n",
       "      <td>0.910264</td>\n",
       "    </tr>\n",
       "    <tr>\n",
       "      <th>5978</th>\n",
       "      <td>HLTHINS4 / HLTHINS7</td>\n",
       "      <td>0.914759</td>\n",
       "    </tr>\n",
       "    <tr>\n",
       "      <th>5980</th>\n",
       "      <td>EST_MSA / IN_METRO_AREA</td>\n",
       "      <td>0.915026</td>\n",
       "    </tr>\n",
       "    <tr>\n",
       "      <th>5982</th>\n",
       "      <td>DOWN / WORRY</td>\n",
       "      <td>0.917946</td>\n",
       "    </tr>\n",
       "    <tr>\n",
       "      <th>5984</th>\n",
       "      <td>LIVQTR_2 / TENURE</td>\n",
       "      <td>0.919417</td>\n",
       "    </tr>\n",
       "    <tr>\n",
       "      <th>5986</th>\n",
       "      <td>HLTHINS7 / HLTHINS8</td>\n",
       "      <td>0.931807</td>\n",
       "    </tr>\n",
       "    <tr>\n",
       "      <th>5988</th>\n",
       "      <td>DELAY / NOTGET</td>\n",
       "      <td>0.934874</td>\n",
       "    </tr>\n",
       "    <tr>\n",
       "      <th>5990</th>\n",
       "      <td>DOWN / INTEREST</td>\n",
       "      <td>0.938447</td>\n",
       "    </tr>\n",
       "    <tr>\n",
       "      <th>5992</th>\n",
       "      <td>ANXIOUS / WORRY</td>\n",
       "      <td>0.942617</td>\n",
       "    </tr>\n",
       "    <tr>\n",
       "      <th>5994</th>\n",
       "      <td>HLTHINS5 / HLTHINS7</td>\n",
       "      <td>0.943560</td>\n",
       "    </tr>\n",
       "    <tr>\n",
       "      <th>5996</th>\n",
       "      <td>HLTHINS5 / HLTHINS6</td>\n",
       "      <td>0.945932</td>\n",
       "    </tr>\n",
       "    <tr>\n",
       "      <th>5998</th>\n",
       "      <td>HLTHINS6 / HLTHINS7</td>\n",
       "      <td>0.947737</td>\n",
       "    </tr>\n",
       "    <tr>\n",
       "      <th>6000</th>\n",
       "      <td>TNUM_PS / TNUM_PS_2</td>\n",
       "      <td>0.968248</td>\n",
       "    </tr>\n",
       "    <tr>\n",
       "      <th>6002</th>\n",
       "      <td>ENROLL1 / SCHOOL_KIDS</td>\n",
       "      <td>0.972977</td>\n",
       "    </tr>\n",
       "    <tr>\n",
       "      <th>6004</th>\n",
       "      <td>MS / MS_2</td>\n",
       "      <td>0.980018</td>\n",
       "    </tr>\n",
       "  </tbody>\n",
       "</table>\n",
       "</div>"
      ],
      "text/plain": [
       "                                 combo         0\n",
       "0                 HLTHINS / incomplete -0.939064\n",
       "2               MH_NOTGET / incomplete -0.891169\n",
       "4                LIVQTR_2 / inc_binary -0.890951\n",
       "6                 MH_SVCS / incomplete -0.889066\n",
       "8                LIVQTR_2 / incomplete -0.887357\n",
       "10    PROP_FOODSPEND_HOME / incomplete -0.875832\n",
       "12              TNUM_PS_2 / inc_binary -0.874383\n",
       "14                 NOTGET / incomplete -0.867114\n",
       "16                HLTHINS / inc_binary -0.866056\n",
       "18              PRESCRIPT / incomplete -0.860997\n",
       "20              MH_NOTGET / inc_binary -0.855147\n",
       "22                  DELAY / incomplete -0.854871\n",
       "24               HLTHINS7 / incomplete -0.854851\n",
       "26                MH_SVCS / inc_binary -0.853588\n",
       "28               HLTHINS1 / incomplete -0.848859\n",
       "30                 TENURE / incomplete -0.844004\n",
       "32                 TENURE / inc_binary -0.841198\n",
       "34               SPNDSRC7 / incomplete -0.840271\n",
       "36               HLTHINS5 / incomplete -0.840113\n",
       "38               HLTHINS6 / incomplete -0.836671\n",
       "40                 NOTGET / inc_binary -0.832015\n",
       "42               FREEFOOD / incomplete -0.829973\n",
       "44              PRESCRIPT / inc_binary -0.827205\n",
       "46                SNAP_YN / incomplete -0.825567\n",
       "48                  DELAY / inc_binary -0.819805\n",
       "50               HLTHINS4 / incomplete -0.818103\n",
       "52               HLTHINS8 / incomplete -0.816226\n",
       "54               SPNDSRC5 / incomplete -0.813986\n",
       "56               SPNDSRC4 / incomplete -0.809890\n",
       "58                TNUM_PS / inc_binary -0.808028\n",
       "60              TNUM_PS_2 / incomplete -0.807106\n",
       "62                   DOWN / incomplete -0.804815\n",
       "64               HLTHINS3 / incomplete -0.804270\n",
       "66               INTEREST / incomplete -0.803593\n",
       "68               SPNDSRC1 / incomplete -0.802982\n",
       "70              PLNDTRIPS / incomplete -0.802740\n",
       "5750                HLTHINS / INTEREST  0.800233\n",
       "5752                    DOWN / HLTHINS  0.800392\n",
       "5754               HLTHINS5 / LIVQTR_2  0.800819\n",
       "5756              FEWRTRIPS / SPNDSRC4  0.801106\n",
       "5758                 HLTHINS7 / NOTGET  0.801587\n",
       "5760              CURFOODSUF / SNAP_YN  0.803827\n",
       "5762             CURFOODSUF / FREEFOOD  0.804116\n",
       "5764               HLTHINS1 / LIVQTR_2  0.805091\n",
       "5766               HLTHINS2 / HLTHINS4  0.805122\n",
       "5768               HLTHINS / TNUM_PS_2  0.805345\n",
       "5770                HLTHINS6 / MH_SVCS  0.805763\n",
       "5772               HLTHINS2 / HLTHINS8  0.806143\n",
       "5774               ANXIOUS / MH_NOTGET  0.806178\n",
       "5776              HLTHINS6 / MH_NOTGET  0.806721\n",
       "5778               MH_SVCS / TNUM_PS_2  0.807566\n",
       "5780              FREEFOOD / PLNDTRIPS  0.807739\n",
       "5782               HLTHINS3 / HLTHINS6  0.807803\n",
       "5784                HLTHINS5 / MH_SVCS  0.807923\n",
       "5786                 MH_NOTGET / WORRY  0.808497\n",
       "5788                TENURE / TNUM_PS_2  0.808898\n",
       "5790              HLTHINS5 / MH_NOTGET  0.809547\n",
       "5792               HLTHINS3 / HLTHINS5  0.809857\n",
       "5794             CURFOODSUF / SPNDSRC7  0.811223\n",
       "5796              HLTHINS1 / MH_NOTGET  0.812213\n",
       "5798              INTEREST / MH_NOTGET  0.812284\n",
       "5800               HLTHINS3 / HLTHINS7  0.813224\n",
       "5802               SPNDSRC2 / SPNDSRC4  0.813834\n",
       "5804             MH_NOTGET / TNUM_PS_2  0.814322\n",
       "5806                HLTHINS1 / MH_SVCS  0.815026\n",
       "5808               CHNGHOW5 / CHNGHOW7  0.816143\n",
       "5810               HLTHINS7 / LIVQTR_2  0.816262\n",
       "5812               SPNDSRC3 / SPNDSRC5  0.816265\n",
       "5814              FEWRTRIPS / SPNDSRC7  0.817083\n",
       "5816               SPNDSRC3 / SPNDSRC4  0.818821\n",
       "5818                  DOWN / MH_NOTGET  0.819701\n",
       "5820                    DELAY / TENURE  0.820259\n",
       "5822               HLTHINS1 / HLTHINS7  0.821292\n",
       "5824              PLNDTRIPS / SPNDSRC4  0.821744\n",
       "5826                HLTHINS7 / MH_SVCS  0.822319\n",
       "5828              HLTHINS7 / MH_NOTGET  0.825906\n",
       "5830               HLTHINS2 / HLTHINS5  0.825915\n",
       "5832               HLTHINS2 / HLTHINS6  0.827238\n",
       "5834               SPNDSRC2 / SPNDSRC7  0.827705\n",
       "5836                PRESCRIPT / TENURE  0.827765\n",
       "5838               SPNDSRC4 / SPNDSRC6  0.828003\n",
       "5840                HLTHINS / HLTHINS2  0.829094\n",
       "5842                SNAP_YN / SPNDSRC5  0.830463\n",
       "5844              PLNDTRIPS / SPNDSRC5  0.831203\n",
       "5846                   NOTGET / TENURE  0.831329\n",
       "5848              PLNDTRIPS / SPNDSRC1  0.833057\n",
       "5850              CHNGHOW10 / CHNGHOW5  0.835148\n",
       "5852     HLTHINS / PROP_FOODSPEND_HOME  0.835205\n",
       "5854               SPNDSRC3 / SPNDSRC7  0.835218\n",
       "5856               FREEFOOD / SPNDSRC5  0.836790\n",
       "5858                SNAP_YN / SPNDSRC4  0.837246\n",
       "5860               CHNGHOW3 / CHNGHOW5  0.837972\n",
       "5862              LIVQTR_2 / TNUM_PS_2  0.838320\n",
       "5864                HLTHINS / HLTHINS3  0.838490\n",
       "5866               SPNDSRC5 / SPNDSRC6  0.838855\n",
       "5868                HLTHINS / HLTHINS8  0.839671\n",
       "5870             CURFOODSUF / SPNDSRC4  0.841274\n",
       "5872               FREEFOOD / SPNDSRC4  0.841874\n",
       "5874                SNAP_YN / SPNDSRC7  0.842033\n",
       "5876              CHNGHOW11 / CHNGHOW3  0.842099\n",
       "5878                  HLTHINS / TENURE  0.843450\n",
       "5880                HLTHINS / HLTHINS4  0.845359\n",
       "5882               SPNDSRC6 / SPNDSRC7  0.845394\n",
       "5884              CHNGHOW11 / CHNGHOW7  0.846387\n",
       "5886                 DELAY / PRESCRIPT  0.847117\n",
       "5888               HLTHINS2 / HLTHINS7  0.850156\n",
       "5890               SPNDSRC1 / SPNDSRC7  0.852712\n",
       "5892                  DELAY / LIVQTR_2  0.852932\n",
       "5894             CHNGHOW10 / CHNGHOW11  0.852978\n",
       "5896                 LIVQTR / LIVQTR_2  0.853149\n",
       "5898                  MH_SVCS / TENURE  0.854581\n",
       "5900              LIVQTR_2 / PRESCRIPT  0.859692\n",
       "5902                MH_NOTGET / TENURE  0.860032\n",
       "5904                NOTGET / PRESCRIPT  0.860194\n",
       "5906               FREEFOOD / SPNDSRC7  0.860270\n",
       "5908                HLTHINS / HLTHINS6  0.861410\n",
       "5910              PLNDTRIPS / SPNDSRC7  0.861737\n",
       "5912                   DELAY / HLTHINS  0.863583\n",
       "5914                 LIVQTR_2 / NOTGET  0.863594\n",
       "5916                HLTHINS / HLTHINS5  0.864799\n",
       "5918               HLTHINS4 / HLTHINS8  0.865867\n",
       "5920                   DELAY / MH_SVCS  0.867026\n",
       "5922           inc_binary / incomplete  0.870442\n",
       "5924               HLTHINS / PRESCRIPT  0.873191\n",
       "5926               SPNDSRC4 / SPNDSRC5  0.874892\n",
       "5928                  HLTHINS / NOTGET  0.875086\n",
       "5930                HLTHINS / HLTHINS7  0.877849\n",
       "5932                  MH_SVCS / NOTGET  0.878281\n",
       "5934                 DELAY / MH_NOTGET  0.883626\n",
       "5936                FREEFOOD / SNAP_YN  0.884421\n",
       "5938               HLTHINS4 / HLTHINS6  0.887795\n",
       "5940                LIVQTR_2 / MH_SVCS  0.889689\n",
       "5942               HLTHINS4 / HLTHINS5  0.889988\n",
       "5944             MH_NOTGET / PRESCRIPT  0.890400\n",
       "5946              LIVQTR_2 / MH_NOTGET  0.891364\n",
       "5948               HLTHINS5 / HLTHINS8  0.891617\n",
       "5950                HLTHINS / LIVQTR_2  0.894044\n",
       "5952               HLTHINS6 / HLTHINS8  0.894760\n",
       "5954                MH_NOTGET / NOTGET  0.896153\n",
       "5956               SPNDSRC5 / SPNDSRC7  0.896261\n",
       "5958              CHNGHOW11 / CHNGHOW5  0.896272\n",
       "5960                HLTHINS / HLTHINS1  0.896954\n",
       "5962               SPNDSRC4 / SPNDSRC7  0.897058\n",
       "5964               HLTHINS / MH_NOTGET  0.897643\n",
       "5966                ANXIOUS / INTEREST  0.897864\n",
       "5968                 HLTHINS / MH_SVCS  0.900562\n",
       "5970               MH_NOTGET / MH_SVCS  0.900754\n",
       "5972                  INTEREST / WORRY  0.906451\n",
       "5974               MH_SVCS / PRESCRIPT  0.908525\n",
       "5976                    ANXIOUS / DOWN  0.910264\n",
       "5978               HLTHINS4 / HLTHINS7  0.914759\n",
       "5980           EST_MSA / IN_METRO_AREA  0.915026\n",
       "5982                      DOWN / WORRY  0.917946\n",
       "5984                 LIVQTR_2 / TENURE  0.919417\n",
       "5986               HLTHINS7 / HLTHINS8  0.931807\n",
       "5988                    DELAY / NOTGET  0.934874\n",
       "5990                   DOWN / INTEREST  0.938447\n",
       "5992                   ANXIOUS / WORRY  0.942617\n",
       "5994               HLTHINS5 / HLTHINS7  0.943560\n",
       "5996               HLTHINS5 / HLTHINS6  0.945932\n",
       "5998               HLTHINS6 / HLTHINS7  0.947737\n",
       "6000               TNUM_PS / TNUM_PS_2  0.968248\n",
       "6002             ENROLL1 / SCHOOL_KIDS  0.972977\n",
       "6004                         MS / MS_2  0.980018"
      ]
     },
     "metadata": {},
     "output_type": "display_data"
    }
   ],
   "source": [
    "# Filter features with pearson R greater than 0.8\n",
    "\n",
    "with pd.option_context('display.max_rows', 200):\n",
    "    display(sorted_corr.loc[(sorted_corr[0] > 0.8)|(sorted_corr[0] < -0.8), \n",
    "                            ['combo', 0]])"
   ]
  },
  {
   "cell_type": "markdown",
   "metadata": {},
   "source": [
    "So I definitely have some multicollinearity going on here with my categorical variables, and not only the ones that are naturally related or represent features I engineered.\n",
    "\n",
    "Many of these seem to be around health insurance, healthcare received or not received, and feelings of anxiety, worry, down, or lost interest.\n",
    "\n",
    "I'm not sure to what extent these will cause a problem. To start with, I'm going to create a baseline model using the original versions of the features where possible, and I'll see what I get. I can always substitute some of the engineered features."
   ]
  },
  {
   "cell_type": "markdown",
   "metadata": {},
   "source": [
    "## Plan to deal with missing values in preprocessing\n",
    "\n",
    "I need to decide how each set of columns will be preprocessed. Categorical columns will be OHE and I can drop a label or not. Numeric columns will be standardized, but I need to decide how to deal with placeholders and impute values."
   ]
  },
  {
   "cell_type": "markdown",
   "metadata": {},
   "source": [
    "### Categorical Columns\n",
    "Some of my categorical columns have -2 values, which I will want to drop during OHE and will be replaced with the engineered 'incomplete' column. I need to separate these from the categorical columns which do NOT have -2 values, because I won't drop anything from those."
   ]
  },
  {
   "cell_type": "code",
   "execution_count": 92,
   "metadata": {
    "ExecuteTime": {
     "end_time": "2021-05-19T23:40:05.091526Z",
     "start_time": "2021-05-19T23:40:04.976951Z"
    },
    "scrolled": false
   },
   "outputs": [
    {
     "data": {
      "text/html": [
       "<div>\n",
       "<style scoped>\n",
       "    .dataframe tbody tr th:only-of-type {\n",
       "        vertical-align: middle;\n",
       "    }\n",
       "\n",
       "    .dataframe tbody tr th {\n",
       "        vertical-align: top;\n",
       "    }\n",
       "\n",
       "    .dataframe thead th {\n",
       "        text-align: right;\n",
       "    }\n",
       "</style>\n",
       "<table border=\"1\" class=\"dataframe\">\n",
       "  <thead>\n",
       "    <tr style=\"text-align: right;\">\n",
       "      <th></th>\n",
       "      <th>ANYWORK</th>\n",
       "      <th>CHNGHOW1</th>\n",
       "      <th>CHNGHOW10</th>\n",
       "      <th>CHNGHOW11</th>\n",
       "      <th>CHNGHOW12</th>\n",
       "      <th>CHNGHOW2</th>\n",
       "      <th>CHNGHOW3</th>\n",
       "      <th>CHNGHOW4</th>\n",
       "      <th>CHNGHOW5</th>\n",
       "      <th>CHNGHOW6</th>\n",
       "      <th>...</th>\n",
       "      <th>CURFOODSUF</th>\n",
       "      <th>EEDUC</th>\n",
       "      <th>EXPNS_DIF</th>\n",
       "      <th>INCOME</th>\n",
       "      <th>THHLD_NUMKID</th>\n",
       "      <th>PROP_FOODSPEND_HOME</th>\n",
       "      <th>AGE</th>\n",
       "      <th>incomplete</th>\n",
       "      <th>TNUM_PS</th>\n",
       "      <th>skipped</th>\n",
       "    </tr>\n",
       "  </thead>\n",
       "  <tbody>\n",
       "    <tr>\n",
       "      <th>0</th>\n",
       "      <td>0.0</td>\n",
       "      <td>1.0</td>\n",
       "      <td>0.0</td>\n",
       "      <td>0.0</td>\n",
       "      <td>0.0</td>\n",
       "      <td>1.0</td>\n",
       "      <td>0.0</td>\n",
       "      <td>0.0</td>\n",
       "      <td>0.0</td>\n",
       "      <td>1.0</td>\n",
       "      <td>...</td>\n",
       "      <td>-2.0</td>\n",
       "      <td>4.0</td>\n",
       "      <td>1.0</td>\n",
       "      <td>-2.0</td>\n",
       "      <td>0.0</td>\n",
       "      <td>-2.000000</td>\n",
       "      <td>65.0</td>\n",
       "      <td>37</td>\n",
       "      <td>-2.0</td>\n",
       "      <td>0</td>\n",
       "    </tr>\n",
       "    <tr>\n",
       "      <th>1</th>\n",
       "      <td>1.0</td>\n",
       "      <td>1.0</td>\n",
       "      <td>0.0</td>\n",
       "      <td>0.0</td>\n",
       "      <td>0.0</td>\n",
       "      <td>1.0</td>\n",
       "      <td>0.0</td>\n",
       "      <td>0.0</td>\n",
       "      <td>0.0</td>\n",
       "      <td>1.0</td>\n",
       "      <td>...</td>\n",
       "      <td>1.0</td>\n",
       "      <td>5.0</td>\n",
       "      <td>3.0</td>\n",
       "      <td>6.0</td>\n",
       "      <td>1.0</td>\n",
       "      <td>0.800000</td>\n",
       "      <td>26.0</td>\n",
       "      <td>0</td>\n",
       "      <td>0.0</td>\n",
       "      <td>0</td>\n",
       "    </tr>\n",
       "    <tr>\n",
       "      <th>2</th>\n",
       "      <td>1.0</td>\n",
       "      <td>-2.0</td>\n",
       "      <td>-2.0</td>\n",
       "      <td>-2.0</td>\n",
       "      <td>-2.0</td>\n",
       "      <td>-2.0</td>\n",
       "      <td>-2.0</td>\n",
       "      <td>-2.0</td>\n",
       "      <td>-2.0</td>\n",
       "      <td>-2.0</td>\n",
       "      <td>...</td>\n",
       "      <td>-2.0</td>\n",
       "      <td>6.0</td>\n",
       "      <td>-2.0</td>\n",
       "      <td>-2.0</td>\n",
       "      <td>0.0</td>\n",
       "      <td>-2.000000</td>\n",
       "      <td>60.0</td>\n",
       "      <td>39</td>\n",
       "      <td>-2.0</td>\n",
       "      <td>0</td>\n",
       "    </tr>\n",
       "    <tr>\n",
       "      <th>3</th>\n",
       "      <td>1.0</td>\n",
       "      <td>0.0</td>\n",
       "      <td>0.0</td>\n",
       "      <td>0.0</td>\n",
       "      <td>0.0</td>\n",
       "      <td>0.0</td>\n",
       "      <td>0.0</td>\n",
       "      <td>0.0</td>\n",
       "      <td>0.0</td>\n",
       "      <td>1.0</td>\n",
       "      <td>...</td>\n",
       "      <td>4.0</td>\n",
       "      <td>4.0</td>\n",
       "      <td>4.0</td>\n",
       "      <td>3.0</td>\n",
       "      <td>0.0</td>\n",
       "      <td>1.000000</td>\n",
       "      <td>50.0</td>\n",
       "      <td>0</td>\n",
       "      <td>0.0</td>\n",
       "      <td>0</td>\n",
       "    </tr>\n",
       "    <tr>\n",
       "      <th>4</th>\n",
       "      <td>0.0</td>\n",
       "      <td>1.0</td>\n",
       "      <td>0.0</td>\n",
       "      <td>1.0</td>\n",
       "      <td>0.0</td>\n",
       "      <td>1.0</td>\n",
       "      <td>0.0</td>\n",
       "      <td>0.0</td>\n",
       "      <td>0.0</td>\n",
       "      <td>0.0</td>\n",
       "      <td>...</td>\n",
       "      <td>1.0</td>\n",
       "      <td>6.0</td>\n",
       "      <td>2.0</td>\n",
       "      <td>4.0</td>\n",
       "      <td>1.0</td>\n",
       "      <td>0.322581</td>\n",
       "      <td>80.0</td>\n",
       "      <td>0</td>\n",
       "      <td>0.0</td>\n",
       "      <td>2</td>\n",
       "    </tr>\n",
       "  </tbody>\n",
       "</table>\n",
       "<p>5 rows × 79 columns</p>\n",
       "</div>"
      ],
      "text/plain": [
       "   ANYWORK  CHNGHOW1  CHNGHOW10  CHNGHOW11  CHNGHOW12  CHNGHOW2  CHNGHOW3  \\\n",
       "0      0.0       1.0        0.0        0.0        0.0       1.0       0.0   \n",
       "1      1.0       1.0        0.0        0.0        0.0       1.0       0.0   \n",
       "2      1.0      -2.0       -2.0       -2.0       -2.0      -2.0      -2.0   \n",
       "3      1.0       0.0        0.0        0.0        0.0       0.0       0.0   \n",
       "4      0.0       1.0        0.0        1.0        0.0       1.0       0.0   \n",
       "\n",
       "   CHNGHOW4  CHNGHOW5  CHNGHOW6  ...  CURFOODSUF  EEDUC  EXPNS_DIF  INCOME  \\\n",
       "0       0.0       0.0       1.0  ...        -2.0    4.0        1.0    -2.0   \n",
       "1       0.0       0.0       1.0  ...         1.0    5.0        3.0     6.0   \n",
       "2      -2.0      -2.0      -2.0  ...        -2.0    6.0       -2.0    -2.0   \n",
       "3       0.0       0.0       1.0  ...         4.0    4.0        4.0     3.0   \n",
       "4       0.0       0.0       0.0  ...         1.0    6.0        2.0     4.0   \n",
       "\n",
       "   THHLD_NUMKID  PROP_FOODSPEND_HOME   AGE  incomplete  TNUM_PS  skipped  \n",
       "0           0.0            -2.000000  65.0          37     -2.0        0  \n",
       "1           1.0             0.800000  26.0           0      0.0        0  \n",
       "2           0.0            -2.000000  60.0          39     -2.0        0  \n",
       "3           0.0             1.000000  50.0           0      0.0        0  \n",
       "4           1.0             0.322581  80.0           0      0.0        2  \n",
       "\n",
       "[5 rows x 79 columns]"
      ]
     },
     "execution_count": 92,
     "metadata": {},
     "output_type": "execute_result"
    }
   ],
   "source": [
    "# Create new dataframe including only the features I'll want to try out\n",
    "# in my initial models\n",
    "X = df[all_cols].copy()\n",
    "y = df['target'].copy()\n",
    "\n",
    "X.head()"
   ]
  },
  {
   "cell_type": "code",
   "execution_count": 93,
   "metadata": {
    "ExecuteTime": {
     "end_time": "2021-05-19T23:40:05.240826Z",
     "start_time": "2021-05-19T23:40:05.094747Z"
    },
    "scrolled": false
   },
   "outputs": [],
   "source": [
    "# Loop through categorical columns and determine which have -2 and will need\n",
    "# to have their first label dropped\n",
    "\n",
    "all_cats = cat_cols + cat_cols_v1 + cat_cols_v2\n",
    "\n",
    "cat_drop_first = []\n",
    "cat_drop_none = []\n",
    "\n",
    "for col in all_cats:\n",
    "    if len(X.loc[X[col]==-2, col]) > 0:\n",
    "        cat_drop_first.append(col)\n",
    "    else:\n",
    "        cat_drop_none.append(col)"
   ]
  },
  {
   "cell_type": "code",
   "execution_count": 94,
   "metadata": {
    "ExecuteTime": {
     "end_time": "2021-05-19T23:40:05.499560Z",
     "start_time": "2021-05-19T23:40:05.243196Z"
    },
    "scrolled": true
   },
   "outputs": [
    {
     "name": "stdout",
     "output_type": "stream",
     "text": [
      " 0.0    38740\n",
      " 1.0    34878\n",
      "-2.0     4207\n",
      "Name: CHNGHOW1, dtype: int64\n",
      " 0.0    68799\n",
      " 1.0     4819\n",
      "-2.0     4207\n",
      "Name: CHNGHOW10, dtype: int64\n",
      " 0.0    72049\n",
      "-2.0     4207\n",
      " 1.0     1569\n",
      "Name: CHNGHOW11, dtype: int64\n",
      " 0.0    54509\n",
      " 1.0    19109\n",
      "-2.0     4207\n",
      "Name: CHNGHOW12, dtype: int64\n",
      " 0.0    56443\n",
      " 1.0    17175\n",
      "-2.0     4207\n",
      "Name: CHNGHOW2, dtype: int64\n",
      " 0.0    67959\n",
      " 1.0     5659\n",
      "-2.0     4207\n",
      "Name: CHNGHOW3, dtype: int64\n",
      " 0.0    51444\n",
      " 1.0    22174\n",
      "-2.0     4207\n",
      "Name: CHNGHOW4, dtype: int64\n",
      " 0.0    71127\n",
      "-2.0     4207\n",
      " 1.0     2491\n",
      "Name: CHNGHOW5, dtype: int64\n",
      " 0.0    36929\n",
      " 1.0    36689\n",
      "-2.0     4207\n",
      "Name: CHNGHOW6, dtype: int64\n",
      " 0.0    67489\n",
      " 1.0     6129\n",
      "-2.0     4207\n",
      "Name: CHNGHOW7, dtype: int64\n",
      " 0.0    58778\n",
      " 1.0    14840\n",
      "-2.0     4207\n",
      "Name: CHNGHOW8, dtype: int64\n",
      " 0.0    56697\n",
      " 1.0    16921\n",
      "-2.0     4207\n",
      "Name: CHNGHOW9, dtype: int64\n",
      " 0.0    46448\n",
      " 1.0    17044\n",
      "-2.0    13906\n",
      "-1.0      427\n",
      "Name: DELAY, dtype: int64\n",
      " 4.0    49102\n",
      " 3.0    12221\n",
      " 1.0     7574\n",
      " 2.0     6201\n",
      "-2.0     2212\n",
      "-1.0      515\n",
      "Name: EIP, dtype: int64\n",
      " 3.0    41270\n",
      " 1.0    19747\n",
      " 2.0     8917\n",
      "-2.0     7438\n",
      "-1.0      453\n",
      "Name: FEWRTRANS, dtype: int64\n",
      " 1.0    42247\n",
      " 0.0    27499\n",
      "-2.0     7438\n",
      "-1.0      641\n",
      "Name: FEWRTRIPS, dtype: int64\n",
      " 0.0    64839\n",
      "-2.0     8032\n",
      " 1.0     4592\n",
      "-1.0      362\n",
      "Name: FREEFOOD, dtype: int64\n",
      " 0.0    56873\n",
      "-2.0    13906\n",
      " 1.0     6658\n",
      "-1.0      388\n",
      "Name: MH_NOTGET, dtype: int64\n",
      " 0.0    56552\n",
      "-2.0    13906\n",
      " 1.0     6911\n",
      "-1.0      456\n",
      "Name: MH_SVCS, dtype: int64\n",
      " 0.0    51332\n",
      "-2.0    13906\n",
      " 1.0    12182\n",
      "-1.0      405\n",
      "Name: NOTGET, dtype: int64\n",
      " 1.0    55601\n",
      " 0.0    14386\n",
      "-2.0     7438\n",
      "-1.0      400\n",
      "Name: PLNDTRIPS, dtype: int64\n",
      " 0.0    49248\n",
      " 1.0    14233\n",
      "-2.0    13906\n",
      "-1.0      438\n",
      "Name: PRESCRIPT, dtype: int64\n",
      " 0.0    64109\n",
      "-2.0     8195\n",
      " 1.0     4823\n",
      "-1.0      698\n",
      "Name: SNAP_YN, dtype: int64\n",
      " 1.0    54736\n",
      " 0.0    15651\n",
      "-2.0     7438\n",
      "Name: SPNDSRC1, dtype: int64\n",
      " 0.0    52945\n",
      " 1.0    17442\n",
      "-2.0     7438\n",
      "Name: SPNDSRC2, dtype: int64\n",
      " 0.0    54435\n",
      " 1.0    15952\n",
      "-2.0     7438\n",
      "Name: SPNDSRC3, dtype: int64\n",
      " 0.0    65301\n",
      "-2.0     7438\n",
      " 1.0     5086\n",
      "Name: SPNDSRC4, dtype: int64\n",
      " 0.0    65345\n",
      "-2.0     7438\n",
      " 1.0     5042\n",
      "Name: SPNDSRC5, dtype: int64\n",
      " 0.0    57171\n",
      " 1.0    13216\n",
      "-2.0     7438\n",
      "Name: SPNDSRC6, dtype: int64\n",
      " 0.0    67820\n",
      "-2.0     7438\n",
      " 1.0     2567\n",
      "Name: SPNDSRC7, dtype: int64\n",
      " 0.0    73011\n",
      " 1.0     3343\n",
      "-2.0      795\n",
      "-1.0      676\n",
      "Name: SSA_APPLY, dtype: int64\n",
      " 0.0    51098\n",
      " 1.0    25757\n",
      "-2.0      519\n",
      "-1.0      451\n",
      "Name: SSA_RECV, dtype: int64\n",
      " 2.0    30796\n",
      " 1.0    17898\n",
      "-2.0    14502\n",
      " 3.0    13368\n",
      " 4.0      812\n",
      "-1.0      449\n",
      "Name: TENURE, dtype: int64\n",
      " 0.0    65536\n",
      " 1.0    11875\n",
      "-1.0      217\n",
      "-2.0      197\n",
      "Name: UI_APPLY, dtype: int64\n",
      " 1.0    27320\n",
      " 2.0    20314\n",
      "-2.0    12614\n",
      " 4.0    10040\n",
      " 3.0     7173\n",
      "-1.0      364\n",
      "Name: ANXIOUS, dtype: int64\n",
      " 1.0    34624\n",
      " 2.0    19040\n",
      "-2.0    12614\n",
      " 4.0     5657\n",
      " 3.0     5433\n",
      "-1.0      457\n",
      "Name: DOWN, dtype: int64\n",
      " 1.0    32950\n",
      " 2.0    19561\n",
      "-2.0    12614\n",
      " 3.0     6352\n",
      " 4.0     5827\n",
      "-1.0      521\n",
      "Name: INTEREST, dtype: int64\n",
      " 1.0    33379\n",
      " 2.0    18586\n",
      "-2.0    12614\n",
      " 4.0     6921\n",
      " 3.0     5847\n",
      "-1.0      478\n",
      "Name: WORRY, dtype: int64\n",
      " 1.0    41607\n",
      " 0.0    20467\n",
      "-2.0    13204\n",
      "-1.0     2547\n",
      "Name: HLTHINS1, dtype: int64\n",
      " 0.0    41859\n",
      " 1.0    15103\n",
      "-2.0    13204\n",
      "-1.0     7659\n",
      "Name: HLTHINS2, dtype: int64\n",
      " 0.0    38522\n",
      " 1.0    20068\n",
      "-2.0    13204\n",
      "-1.0     6031\n",
      "Name: HLTHINS3, dtype: int64\n",
      " 0.0    48768\n",
      "-2.0    13204\n",
      "-1.0     9221\n",
      " 1.0     6632\n",
      "Name: HLTHINS4, dtype: int64\n",
      " 0.0    51916\n",
      "-2.0    13204\n",
      "-1.0     9702\n",
      " 1.0     3003\n",
      "Name: HLTHINS5, dtype: int64\n",
      " 0.0    51515\n",
      "-2.0    13204\n",
      "-1.0    10056\n",
      " 1.0     3050\n",
      "Name: HLTHINS6, dtype: int64\n",
      " 0.0    53368\n",
      "-2.0    13204\n",
      "-1.0    10689\n",
      " 1.0      564\n",
      "Name: HLTHINS7, dtype: int64\n",
      " 0.0    48878\n",
      "-2.0    13204\n",
      "-1.0    12763\n",
      " 1.0     2980\n",
      "Name: HLTHINS8, dtype: int64\n",
      "-2.0    57437\n",
      " 1.0    14266\n",
      "-1.0     6122\n",
      "Name: ENROLL1, dtype: int64\n",
      "-2.0    57437\n",
      "-1.0    18627\n",
      " 1.0     1761\n",
      "Name: ENROLL2, dtype: int64\n",
      "-2.0    57437\n",
      "-1.0    15644\n",
      " 1.0     4744\n",
      "Name: ENROLL3, dtype: int64\n",
      " 2.0     44955\n",
      "-2.0     14502\n",
      " 3.0      4975\n",
      " 9.0      2730\n",
      " 1.0      1921\n",
      " 6.0      1746\n",
      " 5.0      1729\n",
      " 7.0      1562\n",
      " 8.0      1479\n",
      " 4.0      1254\n",
      "-1.0       698\n",
      " 10.0      274\n",
      "Name: LIVQTR, dtype: int64\n",
      " 1.0    61184\n",
      "-2.0    13204\n",
      " 0.0     3104\n",
      "-1.0      333\n",
      "Name: HLTHINS, dtype: int64\n",
      " 2.0    49930\n",
      "-2.0    14502\n",
      " 3.0    10500\n",
      " 1.0     1921\n",
      "-1.0      698\n",
      " 4.0      274\n",
      "Name: LIVQTR_2, dtype: int64\n",
      " 0.0    45969\n",
      "-2.0    15652\n",
      " 1.0    14679\n",
      "-1.0     1525\n",
      "Name: TNUM_PS_2, dtype: int64\n"
     ]
    }
   ],
   "source": [
    "# Loop through lists to confirm results\n",
    "for col in cat_drop_first:\n",
    "    print(X[col].value_counts())"
   ]
  },
  {
   "cell_type": "code",
   "execution_count": 95,
   "metadata": {
    "ExecuteTime": {
     "end_time": "2021-05-19T23:40:05.596929Z",
     "start_time": "2021-05-19T23:40:05.503979Z"
    },
    "scrolled": true
   },
   "outputs": [
    {
     "name": "stdout",
     "output_type": "stream",
     "text": [
      " 1.0    44266\n",
      " 0.0    33312\n",
      "-1.0      247\n",
      "Name: ANYWORK, dtype: int64\n",
      "0.0    46326\n",
      "1.0    31499\n",
      "Name: EGENDER, dtype: int64\n",
      " 0.0    66184\n",
      " 1.0    11349\n",
      "-1.0      292\n",
      "Name: EXPCTLOSS, dtype: int64\n",
      " 0.0    68660\n",
      " 1.0     8527\n",
      "-1.0      638\n",
      "Name: HADCOVID, dtype: int64\n",
      "0.0    70428\n",
      "1.0     7397\n",
      "Name: RHISPANIC, dtype: int64\n",
      "1.0    64253\n",
      "2.0     6076\n",
      "3.0     3925\n",
      "4.0     3571\n",
      "Name: RRACE, dtype: int64\n",
      " 0.0    42009\n",
      " 1.0    32097\n",
      "-1.0     3719\n",
      "Name: TW_START, dtype: int64\n",
      " 0.0    48766\n",
      " 1.0    28874\n",
      "-1.0      185\n",
      "Name: WRKLOSS, dtype: int64\n",
      "2.0    43223\n",
      "1.0    17308\n",
      "3.0    17294\n",
      "Name: THHLD_NUMADLT, dtype: int64\n",
      "0    45211\n",
      "1    32614\n",
      "Name: polit, dtype: int64\n",
      "0.0        51865\n",
      "47900.0     3050\n",
      "35620.0     2111\n",
      "37980.0     2071\n",
      "14460.0     2020\n",
      "42660.0     1848\n",
      "41860.0     1842\n",
      "31080.0     1751\n",
      "19100.0     1680\n",
      "16980.0     1679\n",
      "26420.0     1632\n",
      "38060.0     1429\n",
      "40140.0     1229\n",
      "19820.0     1222\n",
      "12060.0     1220\n",
      "33100.0     1176\n",
      "Name: EST_MSA, dtype: int64\n",
      " 1.0    45740\n",
      " 5.0    13762\n",
      " 3.0    11879\n",
      " 2.0     4637\n",
      " 4.0     1319\n",
      "-1.0      488\n",
      "Name: MS, dtype: int64\n",
      "0.0    61514\n",
      "1.0    16311\n",
      "Name: inc_binary, dtype: int64\n",
      "0.0    51865\n",
      "1.0    25960\n",
      "Name: IN_METRO_AREA, dtype: int64\n",
      "0.0    63559\n",
      "1.0    14266\n",
      "Name: SCHOOL_KIDS, dtype: int64\n",
      " 1.0    45740\n",
      " 2.0    17835\n",
      " 3.0    13762\n",
      "-1.0      488\n",
      "Name: MS_2, dtype: int64\n"
     ]
    }
   ],
   "source": [
    "# Loop through lists to confirm results\n",
    "for col in cat_drop_none:\n",
    "    print(X[col].value_counts())"
   ]
  },
  {
   "cell_type": "markdown",
   "metadata": {},
   "source": [
    "### Numeric and Ordinal columns\n",
    "Now I have the numeric and ordinal columns which I will treat as numeric.\n",
    "\n",
    "These will not be OHE, they will be standardized. I will need to determine the best way to remove the missing placeholders and impute them. \n",
    "\n",
    "I think I will want to simply nullify and impute the -2 values, since their info will be covered by the 'incomplete' column. But for -1 values indicating someone skipped just that question, I will probably want to create another column to indicate the respondent skipped that particular question."
   ]
  },
  {
   "cell_type": "code",
   "execution_count": 96,
   "metadata": {
    "ExecuteTime": {
     "end_time": "2021-05-19T23:40:05.744931Z",
     "start_time": "2021-05-19T23:40:05.599987Z"
    },
    "scrolled": true
   },
   "outputs": [
    {
     "name": "stdout",
     "output_type": "stream",
     "text": [
      "0.0    52672\n",
      "1.0    11499\n",
      "2.0     8853\n",
      "3.0     3195\n",
      "4.0     1057\n",
      "5.0      549\n",
      "Name: THHLD_NUMKID, dtype: int64\n",
      " 1.000000    13938\n",
      "-2.000000    10775\n",
      " 0.666667     4761\n",
      " 0.500000     4201\n",
      "-1.000000     3240\n",
      "             ...  \n",
      " 0.559387        1\n",
      " 0.949657        1\n",
      " 0.699422        1\n",
      " 0.440559        1\n",
      " 0.946502        1\n",
      "Name: PROP_FOODSPEND_HOME, Length: 2097, dtype: int64\n",
      "67.0    1967\n",
      "66.0    1957\n",
      "69.0    1916\n",
      "65.0    1853\n",
      "68.0    1813\n",
      "        ... \n",
      "19.0     239\n",
      "85.0     203\n",
      "86.0     166\n",
      "18.0     154\n",
      "87.0     134\n",
      "Name: AGE, Length: 71, dtype: int64\n",
      "0     61514\n",
      "37     4523\n",
      "23     2580\n",
      "21     1560\n",
      "39     1417\n",
      "2      1150\n",
      "38      703\n",
      "9       702\n",
      "1       659\n",
      "4       596\n",
      "17      590\n",
      "26      333\n",
      "41      322\n",
      "22      279\n",
      "40      276\n",
      "25      261\n",
      "42      197\n",
      "24      163\n",
      "Name: incomplete, dtype: int64\n",
      " 0.0    45969\n",
      "-2.0    15652\n",
      " 1.0    10678\n",
      " 2.0     3138\n",
      "-1.0     1525\n",
      " 3.0      863\n",
      "Name: TNUM_PS, dtype: int64\n",
      " 1.0    50871\n",
      " 2.0    14681\n",
      "-2.0     7771\n",
      " 3.0     3258\n",
      " 4.0      834\n",
      "-1.0      410\n",
      "Name: CURFOODSUF, dtype: int64\n",
      "6.0    22209\n",
      "7.0    19884\n",
      "4.0    16800\n",
      "3.0     9092\n",
      "5.0     8209\n",
      "2.0     1128\n",
      "1.0      503\n",
      "Name: EEDUC, dtype: int64\n",
      " 1.0    39916\n",
      " 2.0    16340\n",
      " 3.0    11246\n",
      " 4.0     6961\n",
      "-2.0     2915\n",
      "-1.0      447\n",
      "Name: EXPNS_DIF, dtype: int64\n",
      "-2.0    16311\n",
      " 6.0    10910\n",
      " 4.0    10697\n",
      " 5.0     8738\n",
      " 3.0     6464\n",
      " 8.0     6330\n",
      " 1.0     5810\n",
      " 7.0     5413\n",
      " 2.0     5067\n",
      "-1.0     2085\n",
      "Name: INCOME, dtype: int64\n",
      "0     54560\n",
      "1      8389\n",
      "7      4782\n",
      "2      2647\n",
      "6      2188\n",
      "3      1344\n",
      "5      1261\n",
      "4       920\n",
      "8       758\n",
      "9       345\n",
      "10      160\n",
      "11       70\n",
      "12       48\n",
      "13       34\n",
      "14       32\n",
      "23       27\n",
      "21       24\n",
      "29       23\n",
      "18       20\n",
      "17       18\n",
      "15       17\n",
      "16       16\n",
      "19       16\n",
      "20       15\n",
      "25       15\n",
      "22       15\n",
      "26       12\n",
      "27        9\n",
      "30        8\n",
      "24        7\n",
      "28        7\n",
      "39        6\n",
      "34        6\n",
      "32        6\n",
      "31        4\n",
      "33        3\n",
      "35        3\n",
      "36        3\n",
      "38        3\n",
      "37        2\n",
      "40        2\n",
      "Name: skipped, dtype: int64\n"
     ]
    }
   ],
   "source": [
    "for col in num_cols + ord_cols + num_cols_v2:\n",
    "    print(X[col].value_counts())"
   ]
  },
  {
   "cell_type": "code",
   "execution_count": 97,
   "metadata": {
    "ExecuteTime": {
     "end_time": "2021-05-19T23:40:05.815105Z",
     "start_time": "2021-05-19T23:40:05.751221Z"
    }
   },
   "outputs": [],
   "source": [
    "def missingind_prep(df, col, dummy_val=-1):\n",
    "    \"\"\"Prepares numeric columns that have placeholders for modeling.\n",
    "    \n",
    "    Create a separate missing indicator column where col is populated\n",
    "    with `dummy_val`.\n",
    "    \n",
    "    Replace all values less than 0 with np.nan, since these numbers represent\n",
    "    placeholders in this dataset.\n",
    "    \n",
    "    Graph the distribution to help me decide which statistic would be \n",
    "    appropriate for imputing missing values.\n",
    "    \"\"\"\n",
    "    skipped = col + '_skipped'\n",
    "    \n",
    "    # Create missing indicator column\n",
    "    df.loc[df[col]==dummy_val, skipped] = 1\n",
    "    df.loc[df[skipped].isna(), skipped] = 0\n",
    "\n",
    "    # Nullify the -2 and -1 values to see the proportion distribution\n",
    "    df.loc[df[col]<0, col] = np.nan\n",
    "\n",
    "    # print descriptive statistics\n",
    "    print(df[col].describe())\n",
    "\n",
    "    #chart histogram\n",
    "    fig, ax = plt.subplots()\n",
    "    sns.histplot(df[col])\n",
    "    plt.show();\n",
    "    \n",
    "    return df, skipped"
   ]
  },
  {
   "cell_type": "code",
   "execution_count": 98,
   "metadata": {
    "ExecuteTime": {
     "end_time": "2021-05-19T23:40:05.880967Z",
     "start_time": "2021-05-19T23:40:05.817621Z"
    }
   },
   "outputs": [],
   "source": [
    "# These are the cols that don't need to be imputed since they have no nulls\n",
    "num_cols_filled = ['THHLD_NUMKID','AGE','incomplete','EEDUC']"
   ]
  },
  {
   "cell_type": "code",
   "execution_count": 99,
   "metadata": {
    "ExecuteTime": {
     "end_time": "2021-05-19T23:40:08.423858Z",
     "start_time": "2021-05-19T23:40:05.883510Z"
    },
    "scrolled": true
   },
   "outputs": [
    {
     "name": "stdout",
     "output_type": "stream",
     "text": [
      "count    63810.000000\n",
      "mean         0.745933\n",
      "std          0.225950\n",
      "min          0.000000\n",
      "25%          0.636364\n",
      "50%          0.769231\n",
      "75%          0.923077\n",
      "max          1.000000\n",
      "Name: PROP_FOODSPEND_HOME, dtype: float64\n"
     ]
    },
    {
     "data": {
      "image/png": "[encoded data removed]",
      "text/plain": [
       "<Figure size 432x288 with 1 Axes>"
      ]
     },
     "metadata": {
      "needs_background": "light"
     },
     "output_type": "display_data"
    },
    {
     "name": "stdout",
     "output_type": "stream",
     "text": [
      "count    60648.000000\n",
      "mean         0.322237\n",
      "std          0.638175\n",
      "min          0.000000\n",
      "25%          0.000000\n",
      "50%          0.000000\n",
      "75%          0.000000\n",
      "max          3.000000\n",
      "Name: TNUM_PS, dtype: float64\n"
     ]
    },
    {
     "data": {
      "image/png": "[encoded data removed]",
      "text/plain": [
       "<Figure size 432x288 with 1 Axes>"
      ]
     },
     "metadata": {
      "needs_background": "light"
     },
     "output_type": "display_data"
    },
    {
     "name": "stdout",
     "output_type": "stream",
     "text": [
      "count    69644.000000\n",
      "mean         1.340288\n",
      "std          0.624428\n",
      "min          1.000000\n",
      "25%          1.000000\n",
      "50%          1.000000\n",
      "75%          2.000000\n",
      "max          4.000000\n",
      "Name: CURFOODSUF, dtype: float64\n"
     ]
    },
    {
     "data": {
      "image/png": "[encoded data removed]",
      "text/plain": [
       "<Figure size 432x288 with 1 Axes>"
      ]
     },
     "metadata": {
      "needs_background": "light"
     },
     "output_type": "display_data"
    },
    {
     "name": "stdout",
     "output_type": "stream",
     "text": [
      "count    74463.000000\n",
      "mean         1.801942\n",
      "std          1.010840\n",
      "min          1.000000\n",
      "25%          1.000000\n",
      "50%          1.000000\n",
      "75%          2.000000\n",
      "max          4.000000\n",
      "Name: EXPNS_DIF, dtype: float64\n"
     ]
    },
    {
     "data": {
      "image/png": "[encoded data removed]",
      "text/plain": [
       "<Figure size 432x288 with 1 Axes>"
      ]
     },
     "metadata": {
      "needs_background": "light"
     },
     "output_type": "display_data"
    },
    {
     "name": "stdout",
     "output_type": "stream",
     "text": [
      "count    59429.000000\n",
      "mean         4.640916\n",
      "std          2.079498\n",
      "min          1.000000\n",
      "25%          3.000000\n",
      "50%          5.000000\n",
      "75%          6.000000\n",
      "max          8.000000\n",
      "Name: INCOME, dtype: float64\n"
     ]
    },
    {
     "data": {
      "image/png": "[encoded data removed]",
      "text/plain": [
       "<Figure size 432x288 with 1 Axes>"
      ]
     },
     "metadata": {
      "needs_background": "light"
     },
     "output_type": "display_data"
    },
    {
     "data": {
      "text/plain": [
       "['PROP_FOODSPEND_HOME_skipped',\n",
       " 'TNUM_PS_skipped',\n",
       " 'CURFOODSUF_skipped',\n",
       " 'EXPNS_DIF_skipped',\n",
       " 'INCOME_skipped']"
      ]
     },
     "execution_count": 99,
     "metadata": {},
     "output_type": "execute_result"
    }
   ],
   "source": [
    "# These columns need to have missing placeholders dropped and values imputed\n",
    "# The rest are fully filled out\n",
    "to_impute = ['PROP_FOODSPEND_HOME', 'TNUM_PS', 'CURFOODSUF', 'EXPNS_DIF', \n",
    "             'INCOME']\n",
    "\n",
    "missing_inds = []\n",
    "\n",
    "sns.set_context('notebook')\n",
    "\n",
    "for col in to_impute:\n",
    "    # Create a missing indicator for -1 values\n",
    "    X, ind_col = missingind_prep(X, col)\n",
    "    missing_inds.append(ind_col)\n",
    "    \n",
    "missing_inds"
   ]
  },
  {
   "cell_type": "markdown",
   "metadata": {},
   "source": [
    "PROP_FOODSPEND_HOME\n",
    "- Represents the proportion of food spend that went towards food to be prepared at home versus food that already was prepared.\n",
    "- By far the most common value is 1. Mean and median are around 0.75. I think the best bet is to impute this with mode.\n",
    "\n",
    "TNUM_PS\n",
    "- Represents the number of people in the household who plan to attend post-secondary classes.\n",
    "- 0 is by far the most common, so will impute with mode.\n",
    "\n",
    "CURFOODSUF\n",
    "- Represents the level of food insufficiency in the past 7 days.\n",
    "- 1 is by far the most common, so will impute with mode.\n",
    "\n",
    "EXPNS_DIF\n",
    "- Represents degree of difficulty meeting expenses\n",
    "- Median and mode are both 1, but mean is significantly higher at 1.8 I think imputing with mean here is most representative.\n",
    "\n",
    "INCOME\n",
    "- Ordinally encoded income range pre-tax\n",
    "- Mean seems like the most representative statistic to impute here.\n",
    "\n"
   ]
  },
  {
   "cell_type": "code",
   "execution_count": 100,
   "metadata": {
    "ExecuteTime": {
     "end_time": "2021-05-19T23:40:08.500798Z",
     "start_time": "2021-05-19T23:40:08.427236Z"
    }
   },
   "outputs": [],
   "source": [
    "# append missing indicator columns to cat_col lists\n",
    "cat_cols = cat_cols + missing_inds\n",
    "cat_drop_none = cat_drop_none + missing_inds\n",
    "\n",
    "num_cols_mode = ['PROP_FOODSPEND_HOME', 'TNUM_PS', 'CURFOODSUF']\n",
    "\n",
    "num_cols_mean = ['EXPNS_DIF', 'INCOME']"
   ]
  },
  {
   "cell_type": "markdown",
   "metadata": {},
   "source": [
    "## Summary of Explore\n",
    "\n",
    "During the Explore phase, I reviewed distributions of the original and engineered features. I also visualized the impact of each feature on the target, focusing on the target mean for categorical variables. Since target is binary, the mean of the target for each feature class is a representation of the proportion of vaccine hesitant respondents in that feature class.\n",
    "\n",
    "There were a handful of features that didn't appear to have much impact on target mean, but at this point I'm not removing anything. I will model all of the features in their near-original forms first to get a baseline, and will iterate to remove features or substitute engineered versions of features to improve performance.\n",
    "\n",
    "Going into the modeling phase, I have several lists of feature columns which have been split up based on how I intend to preprocess them, and whether they are the 'original' or more engineered features:\n",
    "\n",
    "- **cat_drop_none**:\n",
    "    - All categorical features, both original and engineered\n",
    "    - Did not have any respondents who didn't answer because they prematurely exited the questionnaire. If -1 values exist indicating the respondent didn't answer that particular question only, these will be dummied in initial model.\n",
    "    \n",
    "- **cat_drop_first**:\n",
    "    - All categorical features, both original and engineered\n",
    "    - Had some respondents who didn't answer because they prematurely exited the questionnaire. These have value -2, so will drop first. If -1 values exist indicating the respondent didn't answer that particular question only, these will be dummied in initial model.\n",
    "    \n",
    "- **num_cols_mode**:\n",
    "    - (almost) Original numeric features where values of -2 and -1 have been nullified\n",
    "    - These will be scaled, since they're numeric\n",
    "    - Null values to be imputed with mode\n",
    "    \n",
    "- **num_cols_mean**:\n",
    "    - (almost) Original numeric features where values of -2 and -1 have been nullified\n",
    "    - These will be scaled, since they're numeric\n",
    "    - Null values to be imputed with mean\n",
    "\n",
    "- **num_cols_filled**:\n",
    "    - Numeric features I will include in my first model and that do not need to be imputed.\n",
    "\n",
    "- **cat_cols**:\n",
    "    - Categorical features that I didn't engineer anything additional for. These don't have a corresponding eng feature I can substitute.\n",
    "    \n",
    "- **cat_cols_v1**:\n",
    "    - Original version of the categorical features that I did engineer. I will try these first, but am keeping a separate list so I can easily switch the engineered versions for these.\n",
    "    \n",
    "- **cat_cols_v2**:\n",
    "    - Engineered versions of categorical features. These will not be included in initial model, but I'll transform them and keep them around so I can test them out if the original features don't perform too well.\n",
    "    \n",
    "- **num_cols_v2**:\n",
    "    - Engineered versions of numeric features, which at this point is actually only the 'skipped' feature. Depending on how the OHE -1 dummy columns and numeric \"_skipped\" columns perform, I can substitute those for this one."
   ]
  },
  {
   "cell_type": "markdown",
   "metadata": {},
   "source": [
    "# MODEL"
   ]
  },
  {
   "cell_type": "markdown",
   "metadata": {},
   "source": [
    "Since I have so many categorical columns, I'm thinking I want to try K-nearest Neighbors and Decision Tree classification types.\n",
    "\n",
    "Also because I have so many categorical features which will be dummied into one-hot columns, and the spread of my numeric features isn't too wide, I will use a Min-Max scaler instead of Standard scaler, because there will be more consistency between categorical and numeric that way."
   ]
  },
  {
   "cell_type": "code",
   "execution_count": 101,
   "metadata": {
    "ExecuteTime": {
     "end_time": "2021-05-19T23:40:08.891058Z",
     "start_time": "2021-05-19T23:40:08.513819Z"
    }
   },
   "outputs": [],
   "source": [
    "from sklearn.preprocessing import OneHotEncoder, MinMaxScaler\n",
    "from sklearn.impute import SimpleImputer\n",
    "from sklearn.neighbors import KNeighborsClassifier\n",
    "from sklearn.tree import DecisionTreeClassifier, plot_tree\n",
    "from sklearn.ensemble import AdaBoostClassifier, GradientBoostingRegressor, \\\n",
    "    RandomForestClassifier, VotingClassifier\n",
    "from sklearn.model_selection import train_test_split, cross_validate, \\\n",
    "    cross_val_predict, cross_val_score, GridSearchCV\n",
    "import sklearn.metrics as metrics\n",
    "from sklearn.dummy import DummyClassifier\n",
    "from sklearn.compose import ColumnTransformer\n",
    "from sklearn.pipeline import Pipeline"
   ]
  },
  {
   "cell_type": "markdown",
   "metadata": {},
   "source": [
    "## Initial Preprocessing"
   ]
  },
  {
   "cell_type": "markdown",
   "metadata": {},
   "source": [
    "### Train-Test-Split"
   ]
  },
  {
   "cell_type": "code",
   "execution_count": 102,
   "metadata": {
    "ExecuteTime": {
     "end_time": "2021-05-19T23:40:09.231569Z",
     "start_time": "2021-05-19T23:40:08.915390Z"
    }
   },
   "outputs": [
    {
     "data": {
      "text/html": [
       "<div>\n",
       "<style scoped>\n",
       "    .dataframe tbody tr th:only-of-type {\n",
       "        vertical-align: middle;\n",
       "    }\n",
       "\n",
       "    .dataframe tbody tr th {\n",
       "        vertical-align: top;\n",
       "    }\n",
       "\n",
       "    .dataframe thead th {\n",
       "        text-align: right;\n",
       "    }\n",
       "</style>\n",
       "<table border=\"1\" class=\"dataframe\">\n",
       "  <thead>\n",
       "    <tr style=\"text-align: right;\">\n",
       "      <th></th>\n",
       "      <th>ANYWORK</th>\n",
       "      <th>CHNGHOW1</th>\n",
       "      <th>CHNGHOW10</th>\n",
       "      <th>CHNGHOW11</th>\n",
       "      <th>CHNGHOW12</th>\n",
       "      <th>CHNGHOW2</th>\n",
       "      <th>CHNGHOW3</th>\n",
       "      <th>CHNGHOW4</th>\n",
       "      <th>CHNGHOW5</th>\n",
       "      <th>CHNGHOW6</th>\n",
       "      <th>...</th>\n",
       "      <th>PROP_FOODSPEND_HOME</th>\n",
       "      <th>AGE</th>\n",
       "      <th>incomplete</th>\n",
       "      <th>TNUM_PS</th>\n",
       "      <th>skipped</th>\n",
       "      <th>PROP_FOODSPEND_HOME_skipped</th>\n",
       "      <th>TNUM_PS_skipped</th>\n",
       "      <th>CURFOODSUF_skipped</th>\n",
       "      <th>EXPNS_DIF_skipped</th>\n",
       "      <th>INCOME_skipped</th>\n",
       "    </tr>\n",
       "  </thead>\n",
       "  <tbody>\n",
       "    <tr>\n",
       "      <th>29019</th>\n",
       "      <td>1.0</td>\n",
       "      <td>1.0</td>\n",
       "      <td>1.0</td>\n",
       "      <td>0.0</td>\n",
       "      <td>0.0</td>\n",
       "      <td>1.0</td>\n",
       "      <td>0.0</td>\n",
       "      <td>1.0</td>\n",
       "      <td>0.0</td>\n",
       "      <td>1.0</td>\n",
       "      <td>...</td>\n",
       "      <td>NaN</td>\n",
       "      <td>45.0</td>\n",
       "      <td>37</td>\n",
       "      <td>NaN</td>\n",
       "      <td>0</td>\n",
       "      <td>0.0</td>\n",
       "      <td>0.0</td>\n",
       "      <td>0.0</td>\n",
       "      <td>0.0</td>\n",
       "      <td>0.0</td>\n",
       "    </tr>\n",
       "    <tr>\n",
       "      <th>5621</th>\n",
       "      <td>1.0</td>\n",
       "      <td>0.0</td>\n",
       "      <td>0.0</td>\n",
       "      <td>0.0</td>\n",
       "      <td>0.0</td>\n",
       "      <td>0.0</td>\n",
       "      <td>0.0</td>\n",
       "      <td>0.0</td>\n",
       "      <td>0.0</td>\n",
       "      <td>0.0</td>\n",
       "      <td>...</td>\n",
       "      <td>0.862069</td>\n",
       "      <td>58.0</td>\n",
       "      <td>0</td>\n",
       "      <td>0.0</td>\n",
       "      <td>0</td>\n",
       "      <td>0.0</td>\n",
       "      <td>0.0</td>\n",
       "      <td>0.0</td>\n",
       "      <td>0.0</td>\n",
       "      <td>0.0</td>\n",
       "    </tr>\n",
       "    <tr>\n",
       "      <th>67031</th>\n",
       "      <td>0.0</td>\n",
       "      <td>0.0</td>\n",
       "      <td>0.0</td>\n",
       "      <td>0.0</td>\n",
       "      <td>1.0</td>\n",
       "      <td>0.0</td>\n",
       "      <td>0.0</td>\n",
       "      <td>0.0</td>\n",
       "      <td>0.0</td>\n",
       "      <td>0.0</td>\n",
       "      <td>...</td>\n",
       "      <td>0.400000</td>\n",
       "      <td>67.0</td>\n",
       "      <td>0</td>\n",
       "      <td>0.0</td>\n",
       "      <td>7</td>\n",
       "      <td>0.0</td>\n",
       "      <td>0.0</td>\n",
       "      <td>0.0</td>\n",
       "      <td>0.0</td>\n",
       "      <td>0.0</td>\n",
       "    </tr>\n",
       "    <tr>\n",
       "      <th>1855</th>\n",
       "      <td>0.0</td>\n",
       "      <td>0.0</td>\n",
       "      <td>0.0</td>\n",
       "      <td>0.0</td>\n",
       "      <td>1.0</td>\n",
       "      <td>0.0</td>\n",
       "      <td>0.0</td>\n",
       "      <td>0.0</td>\n",
       "      <td>0.0</td>\n",
       "      <td>0.0</td>\n",
       "      <td>...</td>\n",
       "      <td>0.800000</td>\n",
       "      <td>61.0</td>\n",
       "      <td>0</td>\n",
       "      <td>0.0</td>\n",
       "      <td>1</td>\n",
       "      <td>0.0</td>\n",
       "      <td>0.0</td>\n",
       "      <td>0.0</td>\n",
       "      <td>0.0</td>\n",
       "      <td>0.0</td>\n",
       "    </tr>\n",
       "    <tr>\n",
       "      <th>4408</th>\n",
       "      <td>1.0</td>\n",
       "      <td>1.0</td>\n",
       "      <td>0.0</td>\n",
       "      <td>0.0</td>\n",
       "      <td>0.0</td>\n",
       "      <td>0.0</td>\n",
       "      <td>0.0</td>\n",
       "      <td>0.0</td>\n",
       "      <td>0.0</td>\n",
       "      <td>0.0</td>\n",
       "      <td>...</td>\n",
       "      <td>NaN</td>\n",
       "      <td>34.0</td>\n",
       "      <td>0</td>\n",
       "      <td>0.0</td>\n",
       "      <td>2</td>\n",
       "      <td>1.0</td>\n",
       "      <td>0.0</td>\n",
       "      <td>0.0</td>\n",
       "      <td>0.0</td>\n",
       "      <td>0.0</td>\n",
       "    </tr>\n",
       "  </tbody>\n",
       "</table>\n",
       "<p>5 rows × 84 columns</p>\n",
       "</div>"
      ],
      "text/plain": [
       "       ANYWORK  CHNGHOW1  CHNGHOW10  CHNGHOW11  CHNGHOW12  CHNGHOW2  CHNGHOW3  \\\n",
       "29019      1.0       1.0        1.0        0.0        0.0       1.0       0.0   \n",
       "5621       1.0       0.0        0.0        0.0        0.0       0.0       0.0   \n",
       "67031      0.0       0.0        0.0        0.0        1.0       0.0       0.0   \n",
       "1855       0.0       0.0        0.0        0.0        1.0       0.0       0.0   \n",
       "4408       1.0       1.0        0.0        0.0        0.0       0.0       0.0   \n",
       "\n",
       "       CHNGHOW4  CHNGHOW5  CHNGHOW6  ...  PROP_FOODSPEND_HOME   AGE  \\\n",
       "29019       1.0       0.0       1.0  ...                  NaN  45.0   \n",
       "5621        0.0       0.0       0.0  ...             0.862069  58.0   \n",
       "67031       0.0       0.0       0.0  ...             0.400000  67.0   \n",
       "1855        0.0       0.0       0.0  ...             0.800000  61.0   \n",
       "4408        0.0       0.0       0.0  ...                  NaN  34.0   \n",
       "\n",
       "       incomplete  TNUM_PS  skipped  PROP_FOODSPEND_HOME_skipped  \\\n",
       "29019          37      NaN        0                          0.0   \n",
       "5621            0      0.0        0                          0.0   \n",
       "67031           0      0.0        7                          0.0   \n",
       "1855            0      0.0        1                          0.0   \n",
       "4408            0      0.0        2                          1.0   \n",
       "\n",
       "       TNUM_PS_skipped  CURFOODSUF_skipped  EXPNS_DIF_skipped  INCOME_skipped  \n",
       "29019              0.0                 0.0                0.0             0.0  \n",
       "5621               0.0                 0.0                0.0             0.0  \n",
       "67031              0.0                 0.0                0.0             0.0  \n",
       "1855               0.0                 0.0                0.0             0.0  \n",
       "4408               0.0                 0.0                0.0             0.0  \n",
       "\n",
       "[5 rows x 84 columns]"
      ]
     },
     "execution_count": 102,
     "metadata": {},
     "output_type": "execute_result"
    }
   ],
   "source": [
    "# Perform train test split\n",
    "X_train, X_test, y_train, y_test = train_test_split(X, y, test_size=0.25, \n",
    "                                                    random_state=42)\n",
    "\n",
    "X_train.head()"
   ]
  },
  {
   "cell_type": "code",
   "execution_count": 103,
   "metadata": {
    "ExecuteTime": {
     "end_time": "2021-05-19T23:40:09.430539Z",
     "start_time": "2021-05-19T23:40:09.238713Z"
    },
    "scrolled": true
   },
   "outputs": [
    {
     "name": "stdout",
     "output_type": "stream",
     "text": [
      "0.0    0.878615\n",
      "1.0    0.121385\n",
      "Name: target, dtype: float64\n"
     ]
    },
    {
     "data": {
      "text/plain": [
       "0.0    51283\n",
       "1.0     7085\n",
       "Name: target, dtype: int64"
      ]
     },
     "execution_count": 103,
     "metadata": {},
     "output_type": "execute_result"
    }
   ],
   "source": [
    "print(y_train.value_counts(1))\n",
    "y_train.value_counts()"
   ]
  },
  {
   "cell_type": "markdown",
   "metadata": {
    "ExecuteTime": {
     "end_time": "2021-05-19T14:52:13.626115Z",
     "start_time": "2021-05-19T14:52:13.549995Z"
    }
   },
   "source": [
    "My target exhibits class imbalance.\n",
    "\n",
    "The classification models I intend to test are:\n",
    "- KNN <-- Does NOT have a class_weight parameter\n",
    "- Decision Tree <-- has a class_weight parameter\n",
    "- Random Forest <-- has a class_weight parameter\n",
    "\n",
    "I can try to play with the `weights` parameter in KNN to account for class imbalance, but I'm not sure how well it will do. I will use SMOTE to resample my data and create a version of X_train that is resampled, so I can test its performance versus not adjusting and using class_weight=balanced."
   ]
  },
  {
   "cell_type": "markdown",
   "metadata": {},
   "source": [
    "### Impute, OHE, Scale"
   ]
  },
  {
   "cell_type": "markdown",
   "metadata": {},
   "source": [
    "Before I can resample to address class imbalance using SMOTE, I need to impute null values, since SMOTE doesn't like null values.\n",
    "\n",
    "I may as well just build a column transformer of pipelines."
   ]
  },
  {
   "cell_type": "code",
   "execution_count": 104,
   "metadata": {
    "ExecuteTime": {
     "end_time": "2021-05-19T23:40:09.520035Z",
     "start_time": "2021-05-19T23:40:09.436781Z"
    }
   },
   "outputs": [],
   "source": [
    "# Pipeline for numeric columns imputing the mean\n",
    "num_tf_mean = Pipeline(steps=[\n",
    "    ('imputer', SimpleImputer(strategy='mean')),\n",
    "    ('scaler', MinMaxScaler())\n",
    "    ])\n",
    "\n",
    "# Pipeline for numeric columns imputing the mode\n",
    "num_tf_mode = Pipeline(steps=[\n",
    "    ('imputer', SimpleImputer(strategy='most_frequent')),\n",
    "    ('scaler', MinMaxScaler())\n",
    "    ])\n",
    "\n",
    "# Pipeline for categorical columns where the first label will be dropped\n",
    "cat_tf_dfirst = Pipeline(steps=[\n",
    "    ('encoder', OneHotEncoder(sparse=False, drop='first'))\n",
    "    ])\n",
    "\n",
    "# Pipeline for categorical columns where the no label will be dropped\n",
    "cat_tf_dnone = Pipeline(steps=[\n",
    "    ('encoder', OneHotEncoder(sparse=False))\n",
    "    ])\n",
    "\n",
    "# create column transformer to do all the transformations\n",
    "\n",
    "# Transforming and scaling all my X_train data, including some columns\n",
    "# I may or may not end up using. This will avoid having to do it again later.\n",
    "\n",
    "# Note that I'm adding num_cols_v2 with the mean transformer just to get it\n",
    "# scaled somewhere; it has no missing values to be imputed\n",
    "\n",
    "col_trans = ColumnTransformer(transformers=[\n",
    "    ('num_mean', num_tf_mean, num_cols_mean + num_cols_v2 + num_cols_filled),\n",
    "    ('num_mode', num_tf_mode, num_cols_mode),\n",
    "    ('cat_dfirst', cat_tf_dfirst, cat_drop_first),\n",
    "    ('cat_dnone', cat_tf_dnone, cat_drop_none)\n",
    "    ])"
   ]
  },
  {
   "cell_type": "code",
   "execution_count": 105,
   "metadata": {
    "ExecuteTime": {
     "end_time": "2021-05-19T23:40:09.806555Z",
     "start_time": "2021-05-19T23:40:09.525249Z"
    },
    "scrolled": true
   },
   "outputs": [
    {
     "data": {
      "text/html": [
       "<style>div.sk-top-container {color: black;background-color: white;}div.sk-toggleable {background-color: white;}label.sk-toggleable__label {cursor: pointer;display: block;width: 100%;margin-bottom: 0;padding: 0.2em 0.3em;box-sizing: border-box;text-align: center;}div.sk-toggleable__content {max-height: 0;max-width: 0;overflow: hidden;text-align: left;background-color: #f0f8ff;}div.sk-toggleable__content pre {margin: 0.2em;color: black;border-radius: 0.25em;background-color: #f0f8ff;}input.sk-toggleable__control:checked~div.sk-toggleable__content {max-height: 200px;max-width: 100%;overflow: auto;}div.sk-estimator input.sk-toggleable__control:checked~label.sk-toggleable__label {background-color: #d4ebff;}div.sk-label input.sk-toggleable__control:checked~label.sk-toggleable__label {background-color: #d4ebff;}input.sk-hidden--visually {border: 0;clip: rect(1px 1px 1px 1px);clip: rect(1px, 1px, 1px, 1px);height: 1px;margin: -1px;overflow: hidden;padding: 0;position: absolute;width: 1px;}div.sk-estimator {font-family: monospace;background-color: #f0f8ff;margin: 0.25em 0.25em;border: 1px dotted black;border-radius: 0.25em;box-sizing: border-box;}div.sk-estimator:hover {background-color: #d4ebff;}div.sk-parallel-item::after {content: \"\";width: 100%;border-bottom: 1px solid gray;flex-grow: 1;}div.sk-label:hover label.sk-toggleable__label {background-color: #d4ebff;}div.sk-serial::before {content: \"\";position: absolute;border-left: 1px solid gray;box-sizing: border-box;top: 2em;bottom: 0;left: 50%;}div.sk-serial {display: flex;flex-direction: column;align-items: center;background-color: white;}div.sk-item {z-index: 1;}div.sk-parallel {display: flex;align-items: stretch;justify-content: center;background-color: white;}div.sk-parallel-item {display: flex;flex-direction: column;position: relative;background-color: white;}div.sk-parallel-item:first-child::after {align-self: flex-end;width: 50%;}div.sk-parallel-item:last-child::after {align-self: flex-start;width: 50%;}div.sk-parallel-item:only-child::after {width: 0;}div.sk-dashed-wrapped {border: 1px dashed gray;margin: 0.2em;box-sizing: border-box;padding-bottom: 0.1em;background-color: white;position: relative;}div.sk-label label {font-family: monospace;font-weight: bold;background-color: white;display: inline-block;line-height: 1.2em;}div.sk-label-container {position: relative;z-index: 2;text-align: center;}div.sk-container {display: inline-block;position: relative;}</style><div class=\"sk-top-container\"><div class=\"sk-container\"><div class=\"sk-item sk-dashed-wrapped\"><div class=\"sk-label-container\"><div class=\"sk-label sk-toggleable\"><input class=\"sk-toggleable__control sk-hidden--visually\" id=\"f32ed2ae-9846-40ac-aaa3-52afb314fdf9\" type=\"checkbox\" ><label class=\"sk-toggleable__label\" for=\"f32ed2ae-9846-40ac-aaa3-52afb314fdf9\">ColumnTransformer</label><div class=\"sk-toggleable__content\"><pre>ColumnTransformer(transformers=[('num_mean',\n",
       "                                 Pipeline(steps=[('imputer', SimpleImputer()),\n",
       "                                                 ('scaler', MinMaxScaler())]),\n",
       "                                 ['EXPNS_DIF', 'INCOME', 'skipped',\n",
       "                                  'THHLD_NUMKID', 'AGE', 'incomplete',\n",
       "                                  'EEDUC']),\n",
       "                                ('num_mode',\n",
       "                                 Pipeline(steps=[('imputer',\n",
       "                                                  SimpleImputer(strategy='most_frequent')),\n",
       "                                                 ('scaler', MinMaxScaler())]),\n",
       "                                 ['PROP_FOODSPEND_HOME', 'TNUM_PS',\n",
       "                                  'CURFOODSUF']),\n",
       "                                ('...\n",
       "                                ('cat_dnone',\n",
       "                                 Pipeline(steps=[('encoder',\n",
       "                                                  OneHotEncoder(sparse=False))]),\n",
       "                                 ['ANYWORK', 'EGENDER', 'EXPCTLOSS', 'HADCOVID',\n",
       "                                  'RHISPANIC', 'RRACE', 'TW_START', 'WRKLOSS',\n",
       "                                  'THHLD_NUMADLT', 'polit', 'EST_MSA', 'MS',\n",
       "                                  'inc_binary', 'IN_METRO_AREA', 'SCHOOL_KIDS',\n",
       "                                  'MS_2', 'PROP_FOODSPEND_HOME_skipped',\n",
       "                                  'TNUM_PS_skipped', 'CURFOODSUF_skipped',\n",
       "                                  'EXPNS_DIF_skipped', 'INCOME_skipped'])])</pre></div></div></div><div class=\"sk-parallel\"><div class=\"sk-parallel-item\"><div class=\"sk-item\"><div class=\"sk-label-container\"><div class=\"sk-label sk-toggleable\"><input class=\"sk-toggleable__control sk-hidden--visually\" id=\"5be70aec-07ca-44f4-891d-98fa5f682def\" type=\"checkbox\" ><label class=\"sk-toggleable__label\" for=\"5be70aec-07ca-44f4-891d-98fa5f682def\">num_mean</label><div class=\"sk-toggleable__content\"><pre>['EXPNS_DIF', 'INCOME', 'skipped', 'THHLD_NUMKID', 'AGE', 'incomplete', 'EEDUC']</pre></div></div></div><div class=\"sk-serial\"><div class=\"sk-item\"><div class=\"sk-serial\"><div class=\"sk-item\"><div class=\"sk-estimator sk-toggleable\"><input class=\"sk-toggleable__control sk-hidden--visually\" id=\"0ea89abc-d055-4397-adb4-c1aa0832ce50\" type=\"checkbox\" ><label class=\"sk-toggleable__label\" for=\"0ea89abc-d055-4397-adb4-c1aa0832ce50\">SimpleImputer</label><div class=\"sk-toggleable__content\"><pre>SimpleImputer()</pre></div></div></div><div class=\"sk-item\"><div class=\"sk-estimator sk-toggleable\"><input class=\"sk-toggleable__control sk-hidden--visually\" id=\"334237ba-3d73-4563-b713-ef693c5d661b\" type=\"checkbox\" ><label class=\"sk-toggleable__label\" for=\"334237ba-3d73-4563-b713-ef693c5d661b\">MinMaxScaler</label><div class=\"sk-toggleable__content\"><pre>MinMaxScaler()</pre></div></div></div></div></div></div></div></div><div class=\"sk-parallel-item\"><div class=\"sk-item\"><div class=\"sk-label-container\"><div class=\"sk-label sk-toggleable\"><input class=\"sk-toggleable__control sk-hidden--visually\" id=\"cede0e15-c8e7-45ba-b1a6-82b7bee4f9b7\" type=\"checkbox\" ><label class=\"sk-toggleable__label\" for=\"cede0e15-c8e7-45ba-b1a6-82b7bee4f9b7\">num_mode</label><div class=\"sk-toggleable__content\"><pre>['PROP_FOODSPEND_HOME', 'TNUM_PS', 'CURFOODSUF']</pre></div></div></div><div class=\"sk-serial\"><div class=\"sk-item\"><div class=\"sk-serial\"><div class=\"sk-item\"><div class=\"sk-estimator sk-toggleable\"><input class=\"sk-toggleable__control sk-hidden--visually\" id=\"c3c91f03-964d-469c-a70d-8b65ba471b80\" type=\"checkbox\" ><label class=\"sk-toggleable__label\" for=\"c3c91f03-964d-469c-a70d-8b65ba471b80\">SimpleImputer</label><div class=\"sk-toggleable__content\"><pre>SimpleImputer(strategy='most_frequent')</pre></div></div></div><div class=\"sk-item\"><div class=\"sk-estimator sk-toggleable\"><input class=\"sk-toggleable__control sk-hidden--visually\" id=\"597b8bf7-32fc-4a85-9567-178aff1578e5\" type=\"checkbox\" ><label class=\"sk-toggleable__label\" for=\"597b8bf7-32fc-4a85-9567-178aff1578e5\">MinMaxScaler</label><div class=\"sk-toggleable__content\"><pre>MinMaxScaler()</pre></div></div></div></div></div></div></div></div><div class=\"sk-parallel-item\"><div class=\"sk-item\"><div class=\"sk-label-container\"><div class=\"sk-label sk-toggleable\"><input class=\"sk-toggleable__control sk-hidden--visually\" id=\"91e9603c-ccf8-4ba3-8876-c7da81dce3cb\" type=\"checkbox\" ><label class=\"sk-toggleable__label\" for=\"91e9603c-ccf8-4ba3-8876-c7da81dce3cb\">cat_dfirst</label><div class=\"sk-toggleable__content\"><pre>['CHNGHOW1', 'CHNGHOW10', 'CHNGHOW11', 'CHNGHOW12', 'CHNGHOW2', 'CHNGHOW3', 'CHNGHOW4', 'CHNGHOW5', 'CHNGHOW6', 'CHNGHOW7', 'CHNGHOW8', 'CHNGHOW9', 'DELAY', 'EIP', 'FEWRTRANS', 'FEWRTRIPS', 'FREEFOOD', 'MH_NOTGET', 'MH_SVCS', 'NOTGET', 'PLNDTRIPS', 'PRESCRIPT', 'SNAP_YN', 'SPNDSRC1', 'SPNDSRC2', 'SPNDSRC3', 'SPNDSRC4', 'SPNDSRC5', 'SPNDSRC6', 'SPNDSRC7', 'SSA_APPLY', 'SSA_RECV', 'TENURE', 'UI_APPLY', 'ANXIOUS', 'DOWN', 'INTEREST', 'WORRY', 'HLTHINS1', 'HLTHINS2', 'HLTHINS3', 'HLTHINS4', 'HLTHINS5', 'HLTHINS6', 'HLTHINS7', 'HLTHINS8', 'ENROLL1', 'ENROLL2', 'ENROLL3', 'LIVQTR', 'HLTHINS', 'LIVQTR_2', 'TNUM_PS_2']</pre></div></div></div><div class=\"sk-serial\"><div class=\"sk-item\"><div class=\"sk-serial\"><div class=\"sk-item\"><div class=\"sk-estimator sk-toggleable\"><input class=\"sk-toggleable__control sk-hidden--visually\" id=\"c11c565f-c61e-4248-a268-47bcb568af84\" type=\"checkbox\" ><label class=\"sk-toggleable__label\" for=\"c11c565f-c61e-4248-a268-47bcb568af84\">OneHotEncoder</label><div class=\"sk-toggleable__content\"><pre>OneHotEncoder(drop='first', sparse=False)</pre></div></div></div></div></div></div></div></div><div class=\"sk-parallel-item\"><div class=\"sk-item\"><div class=\"sk-label-container\"><div class=\"sk-label sk-toggleable\"><input class=\"sk-toggleable__control sk-hidden--visually\" id=\"c899e133-a568-4e19-938a-4342cd13db15\" type=\"checkbox\" ><label class=\"sk-toggleable__label\" for=\"c899e133-a568-4e19-938a-4342cd13db15\">cat_dnone</label><div class=\"sk-toggleable__content\"><pre>['ANYWORK', 'EGENDER', 'EXPCTLOSS', 'HADCOVID', 'RHISPANIC', 'RRACE', 'TW_START', 'WRKLOSS', 'THHLD_NUMADLT', 'polit', 'EST_MSA', 'MS', 'inc_binary', 'IN_METRO_AREA', 'SCHOOL_KIDS', 'MS_2', 'PROP_FOODSPEND_HOME_skipped', 'TNUM_PS_skipped', 'CURFOODSUF_skipped', 'EXPNS_DIF_skipped', 'INCOME_skipped']</pre></div></div></div><div class=\"sk-serial\"><div class=\"sk-item\"><div class=\"sk-serial\"><div class=\"sk-item\"><div class=\"sk-estimator sk-toggleable\"><input class=\"sk-toggleable__control sk-hidden--visually\" id=\"35819fb6-00da-4d57-b991-11f83a531086\" type=\"checkbox\" ><label class=\"sk-toggleable__label\" for=\"35819fb6-00da-4d57-b991-11f83a531086\">OneHotEncoder</label><div class=\"sk-toggleable__content\"><pre>OneHotEncoder(sparse=False)</pre></div></div></div></div></div></div></div></div></div></div></div></div>"
      ],
      "text/plain": [
       "ColumnTransformer(transformers=[('num_mean',\n",
       "                                 Pipeline(steps=[('imputer', SimpleImputer()),\n",
       "                                                 ('scaler', MinMaxScaler())]),\n",
       "                                 ['EXPNS_DIF', 'INCOME', 'skipped',\n",
       "                                  'THHLD_NUMKID', 'AGE', 'incomplete',\n",
       "                                  'EEDUC']),\n",
       "                                ('num_mode',\n",
       "                                 Pipeline(steps=[('imputer',\n",
       "                                                  SimpleImputer(strategy='most_frequent')),\n",
       "                                                 ('scaler', MinMaxScaler())]),\n",
       "                                 ['PROP_FOODSPEND_HOME', 'TNUM_PS',\n",
       "                                  'CURFOODSUF']),\n",
       "                                ('...\n",
       "                                ('cat_dnone',\n",
       "                                 Pipeline(steps=[('encoder',\n",
       "                                                  OneHotEncoder(sparse=False))]),\n",
       "                                 ['ANYWORK', 'EGENDER', 'EXPCTLOSS', 'HADCOVID',\n",
       "                                  'RHISPANIC', 'RRACE', 'TW_START', 'WRKLOSS',\n",
       "                                  'THHLD_NUMADLT', 'polit', 'EST_MSA', 'MS',\n",
       "                                  'inc_binary', 'IN_METRO_AREA', 'SCHOOL_KIDS',\n",
       "                                  'MS_2', 'PROP_FOODSPEND_HOME_skipped',\n",
       "                                  'TNUM_PS_skipped', 'CURFOODSUF_skipped',\n",
       "                                  'EXPNS_DIF_skipped', 'INCOME_skipped'])])"
      ]
     },
     "execution_count": 105,
     "metadata": {},
     "output_type": "execute_result"
    }
   ],
   "source": [
    "from sklearn import set_config\n",
    "set_config(display='diagram')\n",
    "\n",
    "col_trans"
   ]
  },
  {
   "cell_type": "code",
   "execution_count": 106,
   "metadata": {
    "ExecuteTime": {
     "end_time": "2021-05-19T23:40:11.452765Z",
     "start_time": "2021-05-19T23:40:09.814284Z"
    }
   },
   "outputs": [],
   "source": [
    "# transform training data\n",
    "X_train_tf = col_trans.fit_transform(X_train)\n",
    "X_test_tf = col_trans.transform(X_test)"
   ]
  },
  {
   "cell_type": "code",
   "execution_count": 107,
   "metadata": {
    "ExecuteTime": {
     "end_time": "2021-05-19T23:40:11.528413Z",
     "start_time": "2021-05-19T23:40:11.455203Z"
    },
    "scrolled": true
   },
   "outputs": [
    {
     "name": "stdout",
     "output_type": "stream",
     "text": [
      "(58368, 240)\n",
      "(19457, 240)\n"
     ]
    }
   ],
   "source": [
    "# Do X_train and X_test have the same number of columns? They might not\n",
    "# if I had rare columns in train but not test\n",
    "print(X_train_tf.shape)\n",
    "print(X_test_tf.shape)"
   ]
  },
  {
   "cell_type": "code",
   "execution_count": 108,
   "metadata": {
    "ExecuteTime": {
     "end_time": "2021-05-19T23:40:11.683443Z",
     "start_time": "2021-05-19T23:40:11.531693Z"
    },
    "scrolled": false
   },
   "outputs": [
    {
     "data": {
      "text/html": [
       "<div>\n",
       "<style scoped>\n",
       "    .dataframe tbody tr th:only-of-type {\n",
       "        vertical-align: middle;\n",
       "    }\n",
       "\n",
       "    .dataframe tbody tr th {\n",
       "        vertical-align: top;\n",
       "    }\n",
       "\n",
       "    .dataframe thead th {\n",
       "        text-align: right;\n",
       "    }\n",
       "</style>\n",
       "<table border=\"1\" class=\"dataframe\">\n",
       "  <thead>\n",
       "    <tr style=\"text-align: right;\">\n",
       "      <th></th>\n",
       "      <th>EXPNS_DIF</th>\n",
       "      <th>INCOME</th>\n",
       "      <th>skipped</th>\n",
       "      <th>THHLD_NUMKID</th>\n",
       "      <th>AGE</th>\n",
       "      <th>incomplete</th>\n",
       "      <th>EEDUC</th>\n",
       "      <th>PROP_FOODSPEND_HOME</th>\n",
       "      <th>TNUM_PS</th>\n",
       "      <th>CURFOODSUF</th>\n",
       "      <th>...</th>\n",
       "      <th>PROP_FOODSPEND_HOME_skipped_0.0</th>\n",
       "      <th>PROP_FOODSPEND_HOME_skipped_1.0</th>\n",
       "      <th>TNUM_PS_skipped_0.0</th>\n",
       "      <th>TNUM_PS_skipped_1.0</th>\n",
       "      <th>CURFOODSUF_skipped_0.0</th>\n",
       "      <th>CURFOODSUF_skipped_1.0</th>\n",
       "      <th>EXPNS_DIF_skipped_0.0</th>\n",
       "      <th>EXPNS_DIF_skipped_1.0</th>\n",
       "      <th>INCOME_skipped_0.0</th>\n",
       "      <th>INCOME_skipped_1.0</th>\n",
       "    </tr>\n",
       "  </thead>\n",
       "  <tbody>\n",
       "    <tr>\n",
       "      <th>29019</th>\n",
       "      <td>0.000000</td>\n",
       "      <td>0.520189</td>\n",
       "      <td>0.000</td>\n",
       "      <td>0.4</td>\n",
       "      <td>0.385714</td>\n",
       "      <td>0.880952</td>\n",
       "      <td>1.000000</td>\n",
       "      <td>1.000000</td>\n",
       "      <td>0.0</td>\n",
       "      <td>0.000000</td>\n",
       "      <td>...</td>\n",
       "      <td>1.0</td>\n",
       "      <td>0.0</td>\n",
       "      <td>1.0</td>\n",
       "      <td>0.0</td>\n",
       "      <td>1.0</td>\n",
       "      <td>0.0</td>\n",
       "      <td>1.0</td>\n",
       "      <td>0.0</td>\n",
       "      <td>1.0</td>\n",
       "      <td>0.0</td>\n",
       "    </tr>\n",
       "    <tr>\n",
       "      <th>5621</th>\n",
       "      <td>0.666667</td>\n",
       "      <td>0.714286</td>\n",
       "      <td>0.000</td>\n",
       "      <td>0.0</td>\n",
       "      <td>0.571429</td>\n",
       "      <td>0.000000</td>\n",
       "      <td>0.500000</td>\n",
       "      <td>0.862069</td>\n",
       "      <td>0.0</td>\n",
       "      <td>0.333333</td>\n",
       "      <td>...</td>\n",
       "      <td>1.0</td>\n",
       "      <td>0.0</td>\n",
       "      <td>1.0</td>\n",
       "      <td>0.0</td>\n",
       "      <td>1.0</td>\n",
       "      <td>0.0</td>\n",
       "      <td>1.0</td>\n",
       "      <td>0.0</td>\n",
       "      <td>1.0</td>\n",
       "      <td>0.0</td>\n",
       "    </tr>\n",
       "    <tr>\n",
       "      <th>67031</th>\n",
       "      <td>0.000000</td>\n",
       "      <td>1.000000</td>\n",
       "      <td>0.175</td>\n",
       "      <td>0.0</td>\n",
       "      <td>0.700000</td>\n",
       "      <td>0.000000</td>\n",
       "      <td>1.000000</td>\n",
       "      <td>0.400000</td>\n",
       "      <td>0.0</td>\n",
       "      <td>0.000000</td>\n",
       "      <td>...</td>\n",
       "      <td>1.0</td>\n",
       "      <td>0.0</td>\n",
       "      <td>1.0</td>\n",
       "      <td>0.0</td>\n",
       "      <td>1.0</td>\n",
       "      <td>0.0</td>\n",
       "      <td>1.0</td>\n",
       "      <td>0.0</td>\n",
       "      <td>1.0</td>\n",
       "      <td>0.0</td>\n",
       "    </tr>\n",
       "    <tr>\n",
       "      <th>1855</th>\n",
       "      <td>0.000000</td>\n",
       "      <td>0.571429</td>\n",
       "      <td>0.025</td>\n",
       "      <td>0.2</td>\n",
       "      <td>0.614286</td>\n",
       "      <td>0.000000</td>\n",
       "      <td>0.666667</td>\n",
       "      <td>0.800000</td>\n",
       "      <td>0.0</td>\n",
       "      <td>0.000000</td>\n",
       "      <td>...</td>\n",
       "      <td>1.0</td>\n",
       "      <td>0.0</td>\n",
       "      <td>1.0</td>\n",
       "      <td>0.0</td>\n",
       "      <td>1.0</td>\n",
       "      <td>0.0</td>\n",
       "      <td>1.0</td>\n",
       "      <td>0.0</td>\n",
       "      <td>1.0</td>\n",
       "      <td>0.0</td>\n",
       "    </tr>\n",
       "    <tr>\n",
       "      <th>4408</th>\n",
       "      <td>0.333333</td>\n",
       "      <td>0.571429</td>\n",
       "      <td>0.050</td>\n",
       "      <td>0.0</td>\n",
       "      <td>0.228571</td>\n",
       "      <td>0.000000</td>\n",
       "      <td>0.500000</td>\n",
       "      <td>1.000000</td>\n",
       "      <td>0.0</td>\n",
       "      <td>0.333333</td>\n",
       "      <td>...</td>\n",
       "      <td>0.0</td>\n",
       "      <td>1.0</td>\n",
       "      <td>1.0</td>\n",
       "      <td>0.0</td>\n",
       "      <td>1.0</td>\n",
       "      <td>0.0</td>\n",
       "      <td>1.0</td>\n",
       "      <td>0.0</td>\n",
       "      <td>1.0</td>\n",
       "      <td>0.0</td>\n",
       "    </tr>\n",
       "  </tbody>\n",
       "</table>\n",
       "<p>5 rows × 240 columns</p>\n",
       "</div>"
      ],
      "text/plain": [
       "       EXPNS_DIF    INCOME  skipped  THHLD_NUMKID       AGE  incomplete  \\\n",
       "29019   0.000000  0.520189    0.000           0.4  0.385714    0.880952   \n",
       "5621    0.666667  0.714286    0.000           0.0  0.571429    0.000000   \n",
       "67031   0.000000  1.000000    0.175           0.0  0.700000    0.000000   \n",
       "1855    0.000000  0.571429    0.025           0.2  0.614286    0.000000   \n",
       "4408    0.333333  0.571429    0.050           0.0  0.228571    0.000000   \n",
       "\n",
       "          EEDUC  PROP_FOODSPEND_HOME  TNUM_PS  CURFOODSUF  ...  \\\n",
       "29019  1.000000             1.000000      0.0    0.000000  ...   \n",
       "5621   0.500000             0.862069      0.0    0.333333  ...   \n",
       "67031  1.000000             0.400000      0.0    0.000000  ...   \n",
       "1855   0.666667             0.800000      0.0    0.000000  ...   \n",
       "4408   0.500000             1.000000      0.0    0.333333  ...   \n",
       "\n",
       "       PROP_FOODSPEND_HOME_skipped_0.0  PROP_FOODSPEND_HOME_skipped_1.0  \\\n",
       "29019                              1.0                              0.0   \n",
       "5621                               1.0                              0.0   \n",
       "67031                              1.0                              0.0   \n",
       "1855                               1.0                              0.0   \n",
       "4408                               0.0                              1.0   \n",
       "\n",
       "       TNUM_PS_skipped_0.0  TNUM_PS_skipped_1.0  CURFOODSUF_skipped_0.0  \\\n",
       "29019                  1.0                  0.0                     1.0   \n",
       "5621                   1.0                  0.0                     1.0   \n",
       "67031                  1.0                  0.0                     1.0   \n",
       "1855                   1.0                  0.0                     1.0   \n",
       "4408                   1.0                  0.0                     1.0   \n",
       "\n",
       "       CURFOODSUF_skipped_1.0  EXPNS_DIF_skipped_0.0  EXPNS_DIF_skipped_1.0  \\\n",
       "29019                     0.0                    1.0                    0.0   \n",
       "5621                      0.0                    1.0                    0.0   \n",
       "67031                     0.0                    1.0                    0.0   \n",
       "1855                      0.0                    1.0                    0.0   \n",
       "4408                      0.0                    1.0                    0.0   \n",
       "\n",
       "       INCOME_skipped_0.0  INCOME_skipped_1.0  \n",
       "29019                 1.0                 0.0  \n",
       "5621                  1.0                 0.0  \n",
       "67031                 1.0                 0.0  \n",
       "1855                  1.0                 0.0  \n",
       "4408                  1.0                 0.0  \n",
       "\n",
       "[5 rows x 240 columns]"
      ]
     },
     "metadata": {},
     "output_type": "display_data"
    },
    {
     "data": {
      "text/html": [
       "<div>\n",
       "<style scoped>\n",
       "    .dataframe tbody tr th:only-of-type {\n",
       "        vertical-align: middle;\n",
       "    }\n",
       "\n",
       "    .dataframe tbody tr th {\n",
       "        vertical-align: top;\n",
       "    }\n",
       "\n",
       "    .dataframe thead th {\n",
       "        text-align: right;\n",
       "    }\n",
       "</style>\n",
       "<table border=\"1\" class=\"dataframe\">\n",
       "  <thead>\n",
       "    <tr style=\"text-align: right;\">\n",
       "      <th></th>\n",
       "      <th>EXPNS_DIF</th>\n",
       "      <th>INCOME</th>\n",
       "      <th>skipped</th>\n",
       "      <th>THHLD_NUMKID</th>\n",
       "      <th>AGE</th>\n",
       "      <th>incomplete</th>\n",
       "      <th>EEDUC</th>\n",
       "      <th>PROP_FOODSPEND_HOME</th>\n",
       "      <th>TNUM_PS</th>\n",
       "      <th>CURFOODSUF</th>\n",
       "      <th>...</th>\n",
       "      <th>PROP_FOODSPEND_HOME_skipped_0.0</th>\n",
       "      <th>PROP_FOODSPEND_HOME_skipped_1.0</th>\n",
       "      <th>TNUM_PS_skipped_0.0</th>\n",
       "      <th>TNUM_PS_skipped_1.0</th>\n",
       "      <th>CURFOODSUF_skipped_0.0</th>\n",
       "      <th>CURFOODSUF_skipped_1.0</th>\n",
       "      <th>EXPNS_DIF_skipped_0.0</th>\n",
       "      <th>EXPNS_DIF_skipped_1.0</th>\n",
       "      <th>INCOME_skipped_0.0</th>\n",
       "      <th>INCOME_skipped_1.0</th>\n",
       "    </tr>\n",
       "  </thead>\n",
       "  <tbody>\n",
       "    <tr>\n",
       "      <th>47933</th>\n",
       "      <td>0.333333</td>\n",
       "      <td>0.285714</td>\n",
       "      <td>0.05</td>\n",
       "      <td>0.0</td>\n",
       "      <td>0.714286</td>\n",
       "      <td>0.0</td>\n",
       "      <td>0.666667</td>\n",
       "      <td>1.0</td>\n",
       "      <td>0.000000</td>\n",
       "      <td>0.333333</td>\n",
       "      <td>...</td>\n",
       "      <td>1.0</td>\n",
       "      <td>0.0</td>\n",
       "      <td>1.0</td>\n",
       "      <td>0.0</td>\n",
       "      <td>1.0</td>\n",
       "      <td>0.0</td>\n",
       "      <td>1.0</td>\n",
       "      <td>0.0</td>\n",
       "      <td>1.0</td>\n",
       "      <td>0.0</td>\n",
       "    </tr>\n",
       "    <tr>\n",
       "      <th>14435</th>\n",
       "      <td>0.000000</td>\n",
       "      <td>0.285714</td>\n",
       "      <td>0.05</td>\n",
       "      <td>0.0</td>\n",
       "      <td>0.842857</td>\n",
       "      <td>0.0</td>\n",
       "      <td>1.000000</td>\n",
       "      <td>1.0</td>\n",
       "      <td>0.000000</td>\n",
       "      <td>0.000000</td>\n",
       "      <td>...</td>\n",
       "      <td>0.0</td>\n",
       "      <td>1.0</td>\n",
       "      <td>1.0</td>\n",
       "      <td>0.0</td>\n",
       "      <td>1.0</td>\n",
       "      <td>0.0</td>\n",
       "      <td>1.0</td>\n",
       "      <td>0.0</td>\n",
       "      <td>1.0</td>\n",
       "      <td>0.0</td>\n",
       "    </tr>\n",
       "    <tr>\n",
       "      <th>77494</th>\n",
       "      <td>1.000000</td>\n",
       "      <td>0.285714</td>\n",
       "      <td>0.00</td>\n",
       "      <td>0.2</td>\n",
       "      <td>0.414286</td>\n",
       "      <td>0.0</td>\n",
       "      <td>0.500000</td>\n",
       "      <td>1.0</td>\n",
       "      <td>0.666667</td>\n",
       "      <td>1.000000</td>\n",
       "      <td>...</td>\n",
       "      <td>1.0</td>\n",
       "      <td>0.0</td>\n",
       "      <td>1.0</td>\n",
       "      <td>0.0</td>\n",
       "      <td>1.0</td>\n",
       "      <td>0.0</td>\n",
       "      <td>1.0</td>\n",
       "      <td>0.0</td>\n",
       "      <td>1.0</td>\n",
       "      <td>0.0</td>\n",
       "    </tr>\n",
       "    <tr>\n",
       "      <th>50202</th>\n",
       "      <td>0.000000</td>\n",
       "      <td>0.571429</td>\n",
       "      <td>0.00</td>\n",
       "      <td>0.0</td>\n",
       "      <td>0.542857</td>\n",
       "      <td>0.0</td>\n",
       "      <td>0.833333</td>\n",
       "      <td>1.0</td>\n",
       "      <td>0.000000</td>\n",
       "      <td>0.000000</td>\n",
       "      <td>...</td>\n",
       "      <td>1.0</td>\n",
       "      <td>0.0</td>\n",
       "      <td>1.0</td>\n",
       "      <td>0.0</td>\n",
       "      <td>1.0</td>\n",
       "      <td>0.0</td>\n",
       "      <td>1.0</td>\n",
       "      <td>0.0</td>\n",
       "      <td>1.0</td>\n",
       "      <td>0.0</td>\n",
       "    </tr>\n",
       "    <tr>\n",
       "      <th>35105</th>\n",
       "      <td>0.333333</td>\n",
       "      <td>0.428571</td>\n",
       "      <td>0.00</td>\n",
       "      <td>0.0</td>\n",
       "      <td>0.685714</td>\n",
       "      <td>0.0</td>\n",
       "      <td>0.666667</td>\n",
       "      <td>0.8</td>\n",
       "      <td>0.000000</td>\n",
       "      <td>0.000000</td>\n",
       "      <td>...</td>\n",
       "      <td>1.0</td>\n",
       "      <td>0.0</td>\n",
       "      <td>1.0</td>\n",
       "      <td>0.0</td>\n",
       "      <td>1.0</td>\n",
       "      <td>0.0</td>\n",
       "      <td>1.0</td>\n",
       "      <td>0.0</td>\n",
       "      <td>1.0</td>\n",
       "      <td>0.0</td>\n",
       "    </tr>\n",
       "  </tbody>\n",
       "</table>\n",
       "<p>5 rows × 240 columns</p>\n",
       "</div>"
      ],
      "text/plain": [
       "       EXPNS_DIF    INCOME  skipped  THHLD_NUMKID       AGE  incomplete  \\\n",
       "47933   0.333333  0.285714     0.05           0.0  0.714286         0.0   \n",
       "14435   0.000000  0.285714     0.05           0.0  0.842857         0.0   \n",
       "77494   1.000000  0.285714     0.00           0.2  0.414286         0.0   \n",
       "50202   0.000000  0.571429     0.00           0.0  0.542857         0.0   \n",
       "35105   0.333333  0.428571     0.00           0.0  0.685714         0.0   \n",
       "\n",
       "          EEDUC  PROP_FOODSPEND_HOME   TNUM_PS  CURFOODSUF  ...  \\\n",
       "47933  0.666667                  1.0  0.000000    0.333333  ...   \n",
       "14435  1.000000                  1.0  0.000000    0.000000  ...   \n",
       "77494  0.500000                  1.0  0.666667    1.000000  ...   \n",
       "50202  0.833333                  1.0  0.000000    0.000000  ...   \n",
       "35105  0.666667                  0.8  0.000000    0.000000  ...   \n",
       "\n",
       "       PROP_FOODSPEND_HOME_skipped_0.0  PROP_FOODSPEND_HOME_skipped_1.0  \\\n",
       "47933                              1.0                              0.0   \n",
       "14435                              0.0                              1.0   \n",
       "77494                              1.0                              0.0   \n",
       "50202                              1.0                              0.0   \n",
       "35105                              1.0                              0.0   \n",
       "\n",
       "       TNUM_PS_skipped_0.0  TNUM_PS_skipped_1.0  CURFOODSUF_skipped_0.0  \\\n",
       "47933                  1.0                  0.0                     1.0   \n",
       "14435                  1.0                  0.0                     1.0   \n",
       "77494                  1.0                  0.0                     1.0   \n",
       "50202                  1.0                  0.0                     1.0   \n",
       "35105                  1.0                  0.0                     1.0   \n",
       "\n",
       "       CURFOODSUF_skipped_1.0  EXPNS_DIF_skipped_0.0  EXPNS_DIF_skipped_1.0  \\\n",
       "47933                     0.0                    1.0                    0.0   \n",
       "14435                     0.0                    1.0                    0.0   \n",
       "77494                     0.0                    1.0                    0.0   \n",
       "50202                     0.0                    1.0                    0.0   \n",
       "35105                     0.0                    1.0                    0.0   \n",
       "\n",
       "       INCOME_skipped_0.0  INCOME_skipped_1.0  \n",
       "47933                 1.0                 0.0  \n",
       "14435                 1.0                 0.0  \n",
       "77494                 1.0                 0.0  \n",
       "50202                 1.0                 0.0  \n",
       "35105                 1.0                 0.0  \n",
       "\n",
       "[5 rows x 240 columns]"
      ]
     },
     "metadata": {},
     "output_type": "display_data"
    }
   ],
   "source": [
    "# Turn the X dfs into dataframes\n",
    "nums = num_cols_mean + num_cols_v2 + num_cols_filled + num_cols_mode\n",
    "\n",
    "# I'm assuming here that we had the same categories in X_test and X_train\n",
    "ohe1 = list(col_trans.named_transformers_['cat_dfirst'].\\\n",
    "            named_steps['encoder'].get_feature_names(cat_drop_first))\n",
    "ohe2 = list(col_trans.named_transformers_['cat_dnone'].\\\n",
    "            named_steps['encoder'].get_feature_names(cat_drop_none))\n",
    "\n",
    "all_x_cols = nums + ohe1 + ohe2\n",
    "\n",
    "X_train_df = pd.DataFrame(X_train_tf, columns=all_x_cols, index=X_train.index)\n",
    "X_test_df = pd.DataFrame(X_test_tf, columns=all_x_cols, index=X_test.index)\n",
    "\n",
    "display(X_train_df.head())\n",
    "display(X_test_df.head())"
   ]
  },
  {
   "cell_type": "code",
   "execution_count": 109,
   "metadata": {
    "ExecuteTime": {
     "end_time": "2021-05-19T23:40:11.790558Z",
     "start_time": "2021-05-19T23:40:11.688024Z"
    }
   },
   "outputs": [
    {
     "data": {
      "text/plain": [
       "['DELAY_-1.0',\n",
       " 'EIP_-1.0',\n",
       " 'FEWRTRANS_-1.0',\n",
       " 'FEWRTRIPS_-1.0',\n",
       " 'FREEFOOD_-1.0',\n",
       " 'MH_NOTGET_-1.0',\n",
       " 'MH_SVCS_-1.0',\n",
       " 'NOTGET_-1.0',\n",
       " 'PLNDTRIPS_-1.0',\n",
       " 'PRESCRIPT_-1.0',\n",
       " 'SNAP_YN_-1.0',\n",
       " 'SSA_APPLY_-1.0',\n",
       " 'SSA_RECV_-1.0',\n",
       " 'TENURE_-1.0',\n",
       " 'UI_APPLY_-1.0',\n",
       " 'ANXIOUS_-1.0',\n",
       " 'DOWN_-1.0',\n",
       " 'INTEREST_-1.0',\n",
       " 'WORRY_-1.0',\n",
       " 'HLTHINS1_-1.0',\n",
       " 'HLTHINS2_-1.0',\n",
       " 'HLTHINS3_-1.0',\n",
       " 'HLTHINS4_-1.0',\n",
       " 'HLTHINS5_-1.0',\n",
       " 'HLTHINS6_-1.0',\n",
       " 'HLTHINS7_-1.0',\n",
       " 'HLTHINS8_-1.0',\n",
       " 'ENROLL1_-1.0',\n",
       " 'ENROLL2_-1.0',\n",
       " 'ENROLL3_-1.0',\n",
       " 'LIVQTR_-1.0',\n",
       " 'HLTHINS_-1.0',\n",
       " 'LIVQTR_2_-1.0',\n",
       " 'TNUM_PS_2_-1.0',\n",
       " 'ANYWORK_-1.0',\n",
       " 'EXPCTLOSS_-1.0',\n",
       " 'HADCOVID_-1.0',\n",
       " 'TW_START_-1.0',\n",
       " 'WRKLOSS_-1.0',\n",
       " 'MS_-1.0',\n",
       " 'MS_2_-1.0']"
      ]
     },
     "execution_count": 109,
     "metadata": {},
     "output_type": "execute_result"
    }
   ],
   "source": [
    "# How many -1 skipped question columns do I have now?\n",
    "cols_skipped = list(filter(lambda x: x.endswith('-1.0'), \n",
    "                           list(X_train_df.columns)))\n",
    "cols_skipped"
   ]
  },
  {
   "cell_type": "markdown",
   "metadata": {},
   "source": [
    "### SMOTE"
   ]
  },
  {
   "cell_type": "code",
   "execution_count": 110,
   "metadata": {
    "ExecuteTime": {
     "end_time": "2021-05-19T23:40:11.982725Z",
     "start_time": "2021-05-19T23:40:11.795999Z"
    }
   },
   "outputs": [],
   "source": [
    "from imblearn.over_sampling import SMOTENC"
   ]
  },
  {
   "cell_type": "code",
   "execution_count": 111,
   "metadata": {
    "ExecuteTime": {
     "end_time": "2021-05-19T23:40:12.039629Z",
     "start_time": "2021-05-19T23:40:11.985541Z"
    },
    "scrolled": true
   },
   "outputs": [
    {
     "data": {
      "text/plain": [
       "['EXPNS_DIF',\n",
       " 'INCOME',\n",
       " 'skipped',\n",
       " 'THHLD_NUMKID',\n",
       " 'AGE',\n",
       " 'incomplete',\n",
       " 'EEDUC',\n",
       " 'PROP_FOODSPEND_HOME',\n",
       " 'TNUM_PS',\n",
       " 'CURFOODSUF',\n",
       " 'CHNGHOW1_0.0',\n",
       " 'CHNGHOW1_1.0',\n",
       " 'CHNGHOW10_0.0',\n",
       " 'CHNGHOW10_1.0',\n",
       " 'CHNGHOW11_0.0',\n",
       " 'CHNGHOW11_1.0',\n",
       " 'CHNGHOW12_0.0',\n",
       " 'CHNGHOW12_1.0',\n",
       " 'CHNGHOW2_0.0',\n",
       " 'CHNGHOW2_1.0',\n",
       " 'CHNGHOW3_0.0',\n",
       " 'CHNGHOW3_1.0',\n",
       " 'CHNGHOW4_0.0',\n",
       " 'CHNGHOW4_1.0',\n",
       " 'CHNGHOW5_0.0',\n",
       " 'CHNGHOW5_1.0',\n",
       " 'CHNGHOW6_0.0',\n",
       " 'CHNGHOW6_1.0',\n",
       " 'CHNGHOW7_0.0',\n",
       " 'CHNGHOW7_1.0',\n",
       " 'CHNGHOW8_0.0',\n",
       " 'CHNGHOW8_1.0',\n",
       " 'CHNGHOW9_0.0',\n",
       " 'CHNGHOW9_1.0',\n",
       " 'DELAY_-1.0',\n",
       " 'DELAY_0.0',\n",
       " 'DELAY_1.0',\n",
       " 'EIP_-1.0',\n",
       " 'EIP_1.0',\n",
       " 'EIP_2.0',\n",
       " 'EIP_3.0',\n",
       " 'EIP_4.0',\n",
       " 'FEWRTRANS_-1.0',\n",
       " 'FEWRTRANS_1.0',\n",
       " 'FEWRTRANS_2.0',\n",
       " 'FEWRTRANS_3.0',\n",
       " 'FEWRTRIPS_-1.0',\n",
       " 'FEWRTRIPS_0.0',\n",
       " 'FEWRTRIPS_1.0',\n",
       " 'FREEFOOD_-1.0',\n",
       " 'FREEFOOD_0.0',\n",
       " 'FREEFOOD_1.0',\n",
       " 'MH_NOTGET_-1.0',\n",
       " 'MH_NOTGET_0.0',\n",
       " 'MH_NOTGET_1.0',\n",
       " 'MH_SVCS_-1.0',\n",
       " 'MH_SVCS_0.0',\n",
       " 'MH_SVCS_1.0',\n",
       " 'NOTGET_-1.0',\n",
       " 'NOTGET_0.0',\n",
       " 'NOTGET_1.0',\n",
       " 'PLNDTRIPS_-1.0',\n",
       " 'PLNDTRIPS_0.0',\n",
       " 'PLNDTRIPS_1.0',\n",
       " 'PRESCRIPT_-1.0',\n",
       " 'PRESCRIPT_0.0',\n",
       " 'PRESCRIPT_1.0',\n",
       " 'SNAP_YN_-1.0',\n",
       " 'SNAP_YN_0.0',\n",
       " 'SNAP_YN_1.0',\n",
       " 'SPNDSRC1_0.0',\n",
       " 'SPNDSRC1_1.0',\n",
       " 'SPNDSRC2_0.0',\n",
       " 'SPNDSRC2_1.0',\n",
       " 'SPNDSRC3_0.0',\n",
       " 'SPNDSRC3_1.0',\n",
       " 'SPNDSRC4_0.0',\n",
       " 'SPNDSRC4_1.0',\n",
       " 'SPNDSRC5_0.0',\n",
       " 'SPNDSRC5_1.0',\n",
       " 'SPNDSRC6_0.0',\n",
       " 'SPNDSRC6_1.0',\n",
       " 'SPNDSRC7_0.0',\n",
       " 'SPNDSRC7_1.0',\n",
       " 'SSA_APPLY_-1.0',\n",
       " 'SSA_APPLY_0.0',\n",
       " 'SSA_APPLY_1.0',\n",
       " 'SSA_RECV_-1.0',\n",
       " 'SSA_RECV_0.0',\n",
       " 'SSA_RECV_1.0',\n",
       " 'TENURE_-1.0',\n",
       " 'TENURE_1.0',\n",
       " 'TENURE_2.0',\n",
       " 'TENURE_3.0',\n",
       " 'TENURE_4.0',\n",
       " 'UI_APPLY_-1.0',\n",
       " 'UI_APPLY_0.0',\n",
       " 'UI_APPLY_1.0',\n",
       " 'ANXIOUS_-1.0',\n",
       " 'ANXIOUS_1.0',\n",
       " 'ANXIOUS_2.0',\n",
       " 'ANXIOUS_3.0',\n",
       " 'ANXIOUS_4.0',\n",
       " 'DOWN_-1.0',\n",
       " 'DOWN_1.0',\n",
       " 'DOWN_2.0',\n",
       " 'DOWN_3.0',\n",
       " 'DOWN_4.0',\n",
       " 'INTEREST_-1.0',\n",
       " 'INTEREST_1.0',\n",
       " 'INTEREST_2.0',\n",
       " 'INTEREST_3.0',\n",
       " 'INTEREST_4.0',\n",
       " 'WORRY_-1.0',\n",
       " 'WORRY_1.0',\n",
       " 'WORRY_2.0',\n",
       " 'WORRY_3.0',\n",
       " 'WORRY_4.0',\n",
       " 'HLTHINS1_-1.0',\n",
       " 'HLTHINS1_0.0',\n",
       " 'HLTHINS1_1.0',\n",
       " 'HLTHINS2_-1.0',\n",
       " 'HLTHINS2_0.0',\n",
       " 'HLTHINS2_1.0',\n",
       " 'HLTHINS3_-1.0',\n",
       " 'HLTHINS3_0.0',\n",
       " 'HLTHINS3_1.0',\n",
       " 'HLTHINS4_-1.0',\n",
       " 'HLTHINS4_0.0',\n",
       " 'HLTHINS4_1.0',\n",
       " 'HLTHINS5_-1.0',\n",
       " 'HLTHINS5_0.0',\n",
       " 'HLTHINS5_1.0',\n",
       " 'HLTHINS6_-1.0',\n",
       " 'HLTHINS6_0.0',\n",
       " 'HLTHINS6_1.0',\n",
       " 'HLTHINS7_-1.0',\n",
       " 'HLTHINS7_0.0',\n",
       " 'HLTHINS7_1.0',\n",
       " 'HLTHINS8_-1.0',\n",
       " 'HLTHINS8_0.0',\n",
       " 'HLTHINS8_1.0',\n",
       " 'ENROLL1_-1.0',\n",
       " 'ENROLL1_1.0',\n",
       " 'ENROLL2_-1.0',\n",
       " 'ENROLL2_1.0',\n",
       " 'ENROLL3_-1.0',\n",
       " 'ENROLL3_1.0',\n",
       " 'LIVQTR_-1.0',\n",
       " 'LIVQTR_1.0',\n",
       " 'LIVQTR_2.0',\n",
       " 'LIVQTR_3.0',\n",
       " 'LIVQTR_4.0',\n",
       " 'LIVQTR_5.0',\n",
       " 'LIVQTR_6.0',\n",
       " 'LIVQTR_7.0',\n",
       " 'LIVQTR_8.0',\n",
       " 'LIVQTR_9.0',\n",
       " 'LIVQTR_10.0',\n",
       " 'HLTHINS_-1.0',\n",
       " 'HLTHINS_0.0',\n",
       " 'HLTHINS_1.0',\n",
       " 'LIVQTR_2_-1.0',\n",
       " 'LIVQTR_2_1.0',\n",
       " 'LIVQTR_2_2.0',\n",
       " 'LIVQTR_2_3.0',\n",
       " 'LIVQTR_2_4.0',\n",
       " 'TNUM_PS_2_-1.0',\n",
       " 'TNUM_PS_2_0.0',\n",
       " 'TNUM_PS_2_1.0',\n",
       " 'ANYWORK_-1.0',\n",
       " 'ANYWORK_0.0',\n",
       " 'ANYWORK_1.0',\n",
       " 'EGENDER_0.0',\n",
       " 'EGENDER_1.0',\n",
       " 'EXPCTLOSS_-1.0',\n",
       " 'EXPCTLOSS_0.0',\n",
       " 'EXPCTLOSS_1.0',\n",
       " 'HADCOVID_-1.0',\n",
       " 'HADCOVID_0.0',\n",
       " 'HADCOVID_1.0',\n",
       " 'RHISPANIC_0.0',\n",
       " 'RHISPANIC_1.0',\n",
       " 'RRACE_1.0',\n",
       " 'RRACE_2.0',\n",
       " 'RRACE_3.0',\n",
       " 'RRACE_4.0',\n",
       " 'TW_START_-1.0',\n",
       " 'TW_START_0.0',\n",
       " 'TW_START_1.0',\n",
       " 'WRKLOSS_-1.0',\n",
       " 'WRKLOSS_0.0',\n",
       " 'WRKLOSS_1.0',\n",
       " 'THHLD_NUMADLT_1.0',\n",
       " 'THHLD_NUMADLT_2.0',\n",
       " 'THHLD_NUMADLT_3.0',\n",
       " 'polit_0',\n",
       " 'polit_1',\n",
       " 'EST_MSA_0.0',\n",
       " 'EST_MSA_12060.0',\n",
       " 'EST_MSA_14460.0',\n",
       " 'EST_MSA_16980.0',\n",
       " 'EST_MSA_19100.0',\n",
       " 'EST_MSA_19820.0',\n",
       " 'EST_MSA_26420.0',\n",
       " 'EST_MSA_31080.0',\n",
       " 'EST_MSA_33100.0',\n",
       " 'EST_MSA_35620.0',\n",
       " 'EST_MSA_37980.0',\n",
       " 'EST_MSA_38060.0',\n",
       " 'EST_MSA_40140.0',\n",
       " 'EST_MSA_41860.0',\n",
       " 'EST_MSA_42660.0',\n",
       " 'EST_MSA_47900.0',\n",
       " 'MS_-1.0',\n",
       " 'MS_1.0',\n",
       " 'MS_2.0',\n",
       " 'MS_3.0',\n",
       " 'MS_4.0',\n",
       " 'MS_5.0',\n",
       " 'inc_binary_0.0',\n",
       " 'inc_binary_1.0',\n",
       " 'IN_METRO_AREA_0.0',\n",
       " 'IN_METRO_AREA_1.0',\n",
       " 'SCHOOL_KIDS_0.0',\n",
       " 'SCHOOL_KIDS_1.0',\n",
       " 'MS_2_-1.0',\n",
       " 'MS_2_1.0',\n",
       " 'MS_2_2.0',\n",
       " 'MS_2_3.0',\n",
       " 'PROP_FOODSPEND_HOME_skipped_0.0',\n",
       " 'PROP_FOODSPEND_HOME_skipped_1.0',\n",
       " 'TNUM_PS_skipped_0.0',\n",
       " 'TNUM_PS_skipped_1.0',\n",
       " 'CURFOODSUF_skipped_0.0',\n",
       " 'CURFOODSUF_skipped_1.0',\n",
       " 'EXPNS_DIF_skipped_0.0',\n",
       " 'EXPNS_DIF_skipped_1.0',\n",
       " 'INCOME_skipped_0.0',\n",
       " 'INCOME_skipped_1.0']"
      ]
     },
     "execution_count": 111,
     "metadata": {},
     "output_type": "execute_result"
    }
   ],
   "source": [
    "# Create boolean mask for categorical feature columns\n",
    "list(X_train_df.columns)"
   ]
  },
  {
   "cell_type": "markdown",
   "metadata": {},
   "source": [
    "Luckily, the OHE columns were all put at the end, so I can easily make a boolean mask. The first 10 columns are False, and the rest are True."
   ]
  },
  {
   "cell_type": "code",
   "execution_count": 112,
   "metadata": {
    "ExecuteTime": {
     "end_time": "2021-05-19T23:40:12.158194Z",
     "start_time": "2021-05-19T23:40:12.046050Z"
    },
    "scrolled": false
   },
   "outputs": [
    {
     "name": "stdout",
     "output_type": "stream",
     "text": [
      "240\n"
     ]
    },
    {
     "data": {
      "text/plain": [
       "array([ True,  True,  True,  True,  True,  True,  True,  True,  True,\n",
       "        True, False, False, False, False, False, False, False, False,\n",
       "       False, False, False, False, False, False, False, False, False,\n",
       "       False, False, False, False, False, False, False, False, False,\n",
       "       False, False, False, False, False, False, False, False, False,\n",
       "       False, False, False, False, False, False, False, False, False,\n",
       "       False, False, False, False, False, False, False, False, False,\n",
       "       False, False, False, False, False, False, False, False, False,\n",
       "       False, False, False, False, False, False, False, False, False,\n",
       "       False, False, False, False, False, False, False, False, False,\n",
       "       False, False, False, False, False, False, False, False, False,\n",
       "       False, False, False, False, False, False, False, False, False,\n",
       "       False, False, False, False, False, False, False, False, False,\n",
       "       False, False, False, False, False, False, False, False, False,\n",
       "       False, False, False, False, False, False, False, False, False,\n",
       "       False, False, False, False, False, False, False, False, False,\n",
       "       False, False, False, False, False, False, False, False, False,\n",
       "       False, False, False, False, False, False, False, False, False,\n",
       "       False, False, False, False, False, False, False, False, False,\n",
       "       False, False, False, False, False, False, False, False, False,\n",
       "       False, False, False, False, False, False, False, False, False,\n",
       "       False, False, False, False, False, False, False, False, False,\n",
       "       False, False, False, False, False, False, False, False, False,\n",
       "       False, False, False, False, False, False, False, False, False,\n",
       "       False, False, False, False, False, False, False, False, False,\n",
       "       False, False, False, False, False, False, False, False, False,\n",
       "       False, False, False, False, False, False])"
      ]
     },
     "execution_count": 112,
     "metadata": {},
     "output_type": "execute_result"
    }
   ],
   "source": [
    "cat_mask = np.array([True]*10 + [False]*230)\n",
    "print(len(cat_mask))\n",
    "cat_mask"
   ]
  },
  {
   "cell_type": "code",
   "execution_count": 113,
   "metadata": {
    "ExecuteTime": {
     "end_time": "2021-05-19T23:40:56.821900Z",
     "start_time": "2021-05-19T23:40:12.164268Z"
    }
   },
   "outputs": [],
   "source": [
    "sm = SMOTENC(cat_mask, random_state=42)\n",
    "X_train_sm, y_train_sm = sm.fit_resample(X_train_df, y_train) "
   ]
  },
  {
   "cell_type": "code",
   "execution_count": 114,
   "metadata": {
    "ExecuteTime": {
     "end_time": "2021-05-19T23:40:56.969729Z",
     "start_time": "2021-05-19T23:40:56.828187Z"
    }
   },
   "outputs": [
    {
     "name": "stdout",
     "output_type": "stream",
     "text": [
      "1.0    0.5\n",
      "0.0    0.5\n",
      "Name: target, dtype: float64\n",
      "1.0    51283\n",
      "0.0    51283\n",
      "Name: target, dtype: int64\n"
     ]
    }
   ],
   "source": [
    "print(y_train_sm.value_counts(1))\n",
    "print(y_train_sm.value_counts())\n"
   ]
  },
  {
   "cell_type": "markdown",
   "metadata": {},
   "source": [
    "## Data Modeling\n",
    "\n",
    "I will:\n",
    "1. Create a dummy model using transformed but un-SMOTED data on the less engineered columns to act as a baseline\n",
    "2. Test DecisionTree on SMOTEd data versus using class_weight to see how that performs\n",
    "3. Test KNN on SMOTEd data versus different weights\n",
    "4. Review feature importances for a model and how the features I engineered replacements for performed. Test the engineered features instead.\n",
    "\n",
    "***\n",
    "Questions to consider:\n",
    "* How did you analyze or model the data?\n",
    "* How did you iterate on your initial approach to make it better?\n",
    "* Why are these choices appropriate given the data and the business problem?\n",
    "***"
   ]
  },
  {
   "cell_type": "code",
   "execution_count": 115,
   "metadata": {
    "ExecuteTime": {
     "end_time": "2021-05-19T23:40:57.067897Z",
     "start_time": "2021-05-19T23:40:56.973365Z"
    }
   },
   "outputs": [],
   "source": [
    "def eval_clf_model(clf, X_test, y_test, X_train=None, y_train=None,  \n",
    "               rep_type='both', labels=['Class 0', 'Class 1']):\n",
    "    \"\"\"Shows metrics and plots visualizations to interpret classifier model \n",
    "    performance.\n",
    "    \n",
    "    ***\n",
    "    Args\n",
    "    \n",
    "    clf: classifier model to evaluate\n",
    "    \n",
    "    X_test: dataframe of test predictors\n",
    "    \n",
    "    y_test: dataframe of true target values\n",
    "    \n",
    "    X_train: dataframe (optional). Default is None. Provide training data if\n",
    "    you want to evaluate performance on train versus test; otherwise only \n",
    "    test performance is evaluated.\n",
    "    \n",
    "    y_train: dataframe (optional). Default is None. Provide training data if\n",
    "    you want to evaluate performance on train versus test; otherwise only \n",
    "    test performance is evaluated.\n",
    "    \n",
    "    rep_type: string (optional). Default is `both`.\n",
    "    - if `both` provide scores and metrics report for both training and test\n",
    "    - if `train` provide scores and metrics report for only training\n",
    "    - if `test` provide scores and metrics report for only test\n",
    "    Regardless of this setting, charts wil reflect test.\n",
    "    \n",
    "    labels: list (optional). Provide a list of labels for the target class.\n",
    "    \"\"\"\n",
    "    spacer = '*'*30\n",
    "    \n",
    "    # print classification reports\n",
    "    if rep_type in ['both', 'train']:\n",
    "        print(spacer + ' Training Data ' + spacer)\n",
    "        print(metrics.classification_report(y_train, clf.predict(X_train)))\n",
    "        print()\n",
    "        \n",
    "    if rep_type in ['both', 'test']:\n",
    "        print(spacer + ' Test Data ' + spacer)\n",
    "        print(metrics.classification_report(y_test, clf.predict(X_test)))\n",
    "        print()\n",
    "    \n",
    "    # print scores from train and test next to each other for easy comparison\n",
    "    print(spacer + ' Score Comparison ' + spacer)\n",
    "    if rep_type in ['both', 'train']:\n",
    "        train_f1 = np.round(metrics.f1_score(y_train, \n",
    "                                             clf.predict(X_train)), 4)\n",
    "        print(f\"Training F1 = {train_f1}\")\n",
    "        train_acc = np.round(metrics.accuracy_score(y_train, \n",
    "                                             clf.predict(X_train)), 4)\n",
    "        print(f\"Training Accuracy = {train_acc}\")\n",
    "        \n",
    "    if rep_type in ['both', 'test']:\n",
    "        test_f1 = np.round(metrics.f1_score(y_test, \n",
    "                                             clf.predict(X_test)), 4)\n",
    "        print(f\"Test F1 = {test_f1}\")\n",
    "        test_acc = np.round(metrics.accuracy_score(y_test, \n",
    "                                             clf.predict(X_test)), 4)\n",
    "        print(f\"Test Accuracy = {test_acc}\")\n",
    "        \n",
    "    print()\n",
    "    \n",
    "    print(spacer + ' Graphs for Test ' + spacer)\n",
    "    # plot graphs\n",
    "    auc = np.round(metrics.roc_auc_score(y_test, clf.predict(X_test)), 2)\n",
    "    ap = np.round(metrics.average_precision_score(y_test, clf.predict(X_test)), 2)\n",
    "    \n",
    "    fig, [ax1, ax2, ax3] = plt.subplots(figsize=[10, 3], nrows=1, ncols=3)\n",
    "    plt.tight_layout(pad=2.5)\n",
    "    metrics.plot_confusion_matrix(clf, X_test, y_test, normalize='true', \n",
    "                              display_labels=labels, cmap='Reds', ax=ax1)\n",
    "    metrics.plot_roc_curve(clf, X_test, y_test, ax=ax2)\n",
    "    ax2.legend(loc='best', fontsize='small', labels=[f'AUC: {auc}'])\n",
    "    \n",
    "    metrics.plot_precision_recall_curve(clf, X_test, y_test, ax=ax3)\n",
    "    ax3.legend(loc='best', fontsize='small')\n",
    "    ax3.legend(loc='best', fontsize='small', labels=[f'AP: {ap}'])\n",
    "    plt.show();\n",
    "    \n",
    "    return None\n",
    "    "
   ]
  },
  {
   "cell_type": "markdown",
   "metadata": {},
   "source": [
    "### Create Dummy Model\n"
   ]
  },
  {
   "cell_type": "code",
   "execution_count": 116,
   "metadata": {
    "ExecuteTime": {
     "end_time": "2021-05-19T23:40:57.192774Z",
     "start_time": "2021-05-19T23:40:57.071148Z"
    },
    "scrolled": true
   },
   "outputs": [
    {
     "data": {
      "text/plain": [
       "0.0    51283\n",
       "1.0     7085\n",
       "Name: target, dtype: int64"
      ]
     },
     "execution_count": 116,
     "metadata": {},
     "output_type": "execute_result"
    }
   ],
   "source": [
    "y_train.value_counts()"
   ]
  },
  {
   "cell_type": "code",
   "execution_count": 117,
   "metadata": {
    "ExecuteTime": {
     "end_time": "2021-05-19T23:40:57.372889Z",
     "start_time": "2021-05-19T23:40:57.222044Z"
    }
   },
   "outputs": [],
   "source": [
    "labels = ['Optimistic', 'Hesitant']"
   ]
  },
  {
   "cell_type": "code",
   "execution_count": 118,
   "metadata": {
    "ExecuteTime": {
     "end_time": "2021-05-19T23:40:58.899916Z",
     "start_time": "2021-05-19T23:40:57.381027Z"
    },
    "scrolled": false
   },
   "outputs": [
    {
     "name": "stdout",
     "output_type": "stream",
     "text": [
      "****************************** Training Data ******************************\n",
      "              precision    recall  f1-score   support\n",
      "\n",
      "         0.0       0.88      0.88      0.88     51283\n",
      "         1.0       0.12      0.12      0.12      7085\n",
      "\n",
      "    accuracy                           0.79     58368\n",
      "   macro avg       0.50      0.50      0.50     58368\n",
      "weighted avg       0.79      0.79      0.79     58368\n",
      "\n",
      "\n",
      "****************************** Test Data ******************************\n",
      "              precision    recall  f1-score   support\n",
      "\n",
      "         0.0       0.88      0.88      0.88     17037\n",
      "         1.0       0.13      0.12      0.12      2420\n",
      "\n",
      "    accuracy                           0.78     19457\n",
      "   macro avg       0.50      0.50      0.50     19457\n",
      "weighted avg       0.78      0.78      0.78     19457\n",
      "\n",
      "\n",
      "****************************** Score Comparison ******************************\n",
      "Training F1 = 0.1176\n",
      "Training Accuracy = 0.7862\n",
      "Test F1 = 0.1235\n",
      "Test Accuracy = 0.7848\n",
      "\n",
      "****************************** Graphs for Test ******************************\n"
     ]
    },
    {
     "data": {
      "image/png": "[encoded data removed]",
      "text/plain": [
       "<Figure size 720x216 with 4 Axes>"
      ]
     },
     "metadata": {
      "needs_background": "light"
     },
     "output_type": "display_data"
    }
   ],
   "source": [
    "dum = DummyClassifier(strategy='stratified', random_state=42)\n",
    "\n",
    "dum.fit(X_train_df, y_train)\n",
    "\n",
    "eval_clf_model(dum, X_test_df, y_test, X_train_df, y_train, labels=labels)"
   ]
  },
  {
   "cell_type": "markdown",
   "metadata": {},
   "source": [
    "Performs appropriately poorly. Let's try on the SMOTEd data as well."
   ]
  },
  {
   "cell_type": "code",
   "execution_count": 119,
   "metadata": {
    "ExecuteTime": {
     "end_time": "2021-05-19T23:40:59.956677Z",
     "start_time": "2021-05-19T23:40:58.902497Z"
    },
    "scrolled": false
   },
   "outputs": [
    {
     "name": "stdout",
     "output_type": "stream",
     "text": [
      "****************************** Training Data ******************************\n",
      "              precision    recall  f1-score   support\n",
      "\n",
      "         0.0       0.50      0.88      0.64     51283\n",
      "         1.0       0.49      0.12      0.19     51283\n",
      "\n",
      "    accuracy                           0.50    102566\n",
      "   macro avg       0.50      0.50      0.41    102566\n",
      "weighted avg       0.50      0.50      0.41    102566\n",
      "\n",
      "\n",
      "****************************** Test Data ******************************\n",
      "              precision    recall  f1-score   support\n",
      "\n",
      "         0.0       0.88      0.88      0.88     17037\n",
      "         1.0       0.13      0.12      0.12      2420\n",
      "\n",
      "    accuracy                           0.78     19457\n",
      "   macro avg       0.50      0.50      0.50     19457\n",
      "weighted avg       0.78      0.78      0.78     19457\n",
      "\n",
      "\n",
      "****************************** Score Comparison ******************************\n",
      "Training F1 = 0.191\n",
      "Training Accuracy = 0.4985\n",
      "Test F1 = 0.1235\n",
      "Test Accuracy = 0.7848\n",
      "\n",
      "****************************** Graphs for Test ******************************\n"
     ]
    },
    {
     "data": {
      "image/png": "[encoded data removed]",
      "text/plain": [
       "<Figure size 720x216 with 4 Axes>"
      ]
     },
     "metadata": {
      "needs_background": "light"
     },
     "output_type": "display_data"
    }
   ],
   "source": [
    "dum_bal = DummyClassifier(strategy='uniform', random_state=42)\n",
    "\n",
    "dum_bal.fit(X_train_sm, y_train_sm)\n",
    "\n",
    "eval_clf_model(dum, X_test_df, y_test, X_train_sm, y_train_sm, labels=labels)"
   ]
  },
  {
   "cell_type": "markdown",
   "metadata": {},
   "source": [
    "Also performs quite poorly. Great, now I can start modeling for real!"
   ]
  },
  {
   "cell_type": "markdown",
   "metadata": {},
   "source": [
    "### K-Nearest-Neighbors"
   ]
  },
  {
   "cell_type": "code",
   "execution_count": 120,
   "metadata": {
    "ExecuteTime": {
     "end_time": "2021-05-19T23:41:27.552471Z",
     "start_time": "2021-05-19T23:41:18.204909Z"
    }
   },
   "outputs": [
    {
     "data": {
      "text/html": [
       "<style>div.sk-top-container {color: black;background-color: white;}div.sk-toggleable {background-color: white;}label.sk-toggleable__label {cursor: pointer;display: block;width: 100%;margin-bottom: 0;padding: 0.2em 0.3em;box-sizing: border-box;text-align: center;}div.sk-toggleable__content {max-height: 0;max-width: 0;overflow: hidden;text-align: left;background-color: #f0f8ff;}div.sk-toggleable__content pre {margin: 0.2em;color: black;border-radius: 0.25em;background-color: #f0f8ff;}input.sk-toggleable__control:checked~div.sk-toggleable__content {max-height: 200px;max-width: 100%;overflow: auto;}div.sk-estimator input.sk-toggleable__control:checked~label.sk-toggleable__label {background-color: #d4ebff;}div.sk-label input.sk-toggleable__control:checked~label.sk-toggleable__label {background-color: #d4ebff;}input.sk-hidden--visually {border: 0;clip: rect(1px 1px 1px 1px);clip: rect(1px, 1px, 1px, 1px);height: 1px;margin: -1px;overflow: hidden;padding: 0;position: absolute;width: 1px;}div.sk-estimator {font-family: monospace;background-color: #f0f8ff;margin: 0.25em 0.25em;border: 1px dotted black;border-radius: 0.25em;box-sizing: border-box;}div.sk-estimator:hover {background-color: #d4ebff;}div.sk-parallel-item::after {content: \"\";width: 100%;border-bottom: 1px solid gray;flex-grow: 1;}div.sk-label:hover label.sk-toggleable__label {background-color: #d4ebff;}div.sk-serial::before {content: \"\";position: absolute;border-left: 1px solid gray;box-sizing: border-box;top: 2em;bottom: 0;left: 50%;}div.sk-serial {display: flex;flex-direction: column;align-items: center;background-color: white;}div.sk-item {z-index: 1;}div.sk-parallel {display: flex;align-items: stretch;justify-content: center;background-color: white;}div.sk-parallel-item {display: flex;flex-direction: column;position: relative;background-color: white;}div.sk-parallel-item:first-child::after {align-self: flex-end;width: 50%;}div.sk-parallel-item:last-child::after {align-self: flex-start;width: 50%;}div.sk-parallel-item:only-child::after {width: 0;}div.sk-dashed-wrapped {border: 1px dashed gray;margin: 0.2em;box-sizing: border-box;padding-bottom: 0.1em;background-color: white;position: relative;}div.sk-label label {font-family: monospace;font-weight: bold;background-color: white;display: inline-block;line-height: 1.2em;}div.sk-label-container {position: relative;z-index: 2;text-align: center;}div.sk-container {display: inline-block;position: relative;}</style><div class=\"sk-top-container\"><div class=\"sk-container\"><div class=\"sk-item\"><div class=\"sk-estimator sk-toggleable\"><input class=\"sk-toggleable__control sk-hidden--visually\" id=\"29ead0c1-b63b-468c-9d6e-f952f8c241da\" type=\"checkbox\" checked><label class=\"sk-toggleable__label\" for=\"29ead0c1-b63b-468c-9d6e-f952f8c241da\">KNeighborsClassifier</label><div class=\"sk-toggleable__content\"><pre>KNeighborsClassifier(weights='distance')</pre></div></div></div></div></div>"
      ],
      "text/plain": [
       "KNeighborsClassifier(weights='distance')"
      ]
     },
     "execution_count": 120,
     "metadata": {},
     "output_type": "execute_result"
    }
   ],
   "source": [
    "# First I'll try the un-balanced data, using the weights=distance param\n",
    "knn = KNeighborsClassifier(weights='distance')\n",
    "\n",
    "knn.fit(X_train_df, y_train)"
   ]
  },
  {
   "cell_type": "code",
   "execution_count": null,
   "metadata": {
    "ExecuteTime": {
     "start_time": "2021-05-19T23:33:28.232Z"
    }
   },
   "outputs": [
    {
     "name": "stdout",
     "output_type": "stream",
     "text": [
      "****************************** Training Data ******************************\n"
     ]
    }
   ],
   "source": [
    "eval_clf_model(knn, X_test_df, y_test, X_train_df, y_train, labels=labels)"
   ]
  },
  {
   "cell_type": "code",
   "execution_count": null,
   "metadata": {
    "ExecuteTime": {
     "start_time": "2021-05-19T23:42:33.042Z"
    }
   },
   "outputs": [],
   "source": [
    "print(metrics.classification_report(y_train, knn.predict(X_train_df)))\n"
   ]
  },
  {
   "cell_type": "code",
   "execution_count": null,
   "metadata": {},
   "outputs": [],
   "source": [
    "print(spacer + ' Test Data ' + spacer)\n",
    "print(metrics.classification_report(y_test, knn.predict(X_test_df)))\n",
    "print()"
   ]
  },
  {
   "cell_type": "code",
   "execution_count": null,
   "metadata": {},
   "outputs": [],
   "source": [
    "# print scores from train and test next to each other for easy comparison\n",
    "print(spacer + ' Score Comparison ' + spacer)\n",
    "\n",
    "train_f1 = np.round(metrics.f1_score(y_train_df, \n",
    "                                     clf.predict(X_train_)), 4)\n",
    "print(f\"Training F1 = {train_f1}\")\n",
    "train_acc = np.round(metrics.accuracy_score(y_train, \n",
    "                                     clf.predict(X_train)), 4)\n",
    "print(f\"Training Accuracy = {train_acc}\")\n",
    "\n",
    "\n",
    "test_f1 = np.round(metrics.f1_score(y_test, \n",
    "                                     clf.predict(X_test)), 4)\n",
    "print(f\"Test F1 = {test_f1}\")\n",
    "test_acc = np.round(metrics.accuracy_score(y_test, \n",
    "                                     clf.predict(X_test)), 4)\n",
    "print(f\"Test Accuracy = {test_acc}\")\n",
    "\n",
    "print()"
   ]
  },
  {
   "cell_type": "code",
   "execution_count": null,
   "metadata": {},
   "outputs": [],
   "source": [
    "print(spacer + ' Graphs for Test ' + spacer)\n",
    "# plot graphs\n",
    "auc = np.round(metrics.roc_auc_score(y_test, clf.predict(X_test)), 2)\n",
    "ap = np.round(metrics.average_precision_score(y_test, clf.predict(X_test)), 2)\n",
    "\n",
    "fig, [ax1, ax2, ax3] = plt.subplots(figsize=[10, 3], nrows=1, ncols=3)\n",
    "plt.tight_layout(pad=2.5)\n",
    "metrics.plot_confusion_matrix(clf, X_test, y_test, normalize='true', \n",
    "                          display_labels=labels, cmap='Reds', ax=ax1)\n",
    "metrics.plot_roc_curve(clf, X_test, y_test, ax=ax2)\n",
    "ax2.legend(loc='best', fontsize='small', labels=[f'AUC: {auc}'])\n",
    "\n",
    "metrics.plot_precision_recall_curve(clf, X_test, y_test, ax=ax3)\n",
    "ax3.legend(loc='best', fontsize='small')\n",
    "ax3.legend(loc='best', fontsize='small', labels=[f'AP: {ap}'])\n",
    "plt.show();"
   ]
  },
  {
   "cell_type": "markdown",
   "metadata": {},
   "source": [
    "# iNTERPRET"
   ]
  },
  {
   "cell_type": "markdown",
   "metadata": {},
   "source": [
    "Evaluate how well your work solves the stated business problem.\n",
    "\n",
    "***\n",
    "Questions to consider:\n",
    "* How do you interpret the results?\n",
    "* How well does your model fit your data? How much better is this than your baseline model?\n",
    "* How confident are you that your results would generalize beyond the data you have?\n",
    "* How confident are you that this model would benefit the business if put into use?\n",
    "***"
   ]
  },
  {
   "cell_type": "code",
   "execution_count": null,
   "metadata": {},
   "outputs": [],
   "source": []
  },
  {
   "cell_type": "markdown",
   "metadata": {},
   "source": [
    "# CONCLUSIONS & RECOMMENDATIONS"
   ]
  },
  {
   "cell_type": "markdown",
   "metadata": {},
   "source": [
    "Provide your conclusions about the work you've done, including any limitations or next steps.\n",
    "\n",
    "***\n",
    "Questions to consider:\n",
    "* What would you recommend the business do as a result of this work?\n",
    "* What are some reasons why your analysis might not fully solve the business problem?\n",
    "* What else could you do in the future to improve this project?\n",
    "***"
   ]
  },
  {
   "cell_type": "code",
   "execution_count": null,
   "metadata": {},
   "outputs": [],
   "source": []
  }
 ],
 "metadata": {
  "kernelspec": {
   "display_name": "learn-env",
   "language": "python",
   "name": "learn-env"
  },
  "language_info": {
   "codemirror_mode": {
    "name": "ipython",
    "version": 3
   },
   "file_extension": ".py",
   "mimetype": "text/x-python",
   "name": "python",
   "nbconvert_exporter": "python",
   "pygments_lexer": "ipython3",
   "version": "3.8.5"
  },
  "toc": {
   "base_numbering": 1,
   "nav_menu": {},
   "number_sections": false,
   "sideBar": true,
   "skip_h1_title": false,
   "title_cell": "Table of Contents",
   "title_sidebar": "Contents",
   "toc_cell": false,
   "toc_position": {
    "height": "calc(100% - 180px)",
    "left": "10px",
    "top": "150px",
    "width": "239.797px"
   },
   "toc_section_display": true,
   "toc_window_display": true
  },
  "varInspector": {
   "cols": {
    "lenName": 16,
    "lenType": 16,
    "lenVar": 40
   },
   "kernels_config": {
    "python": {
     "delete_cmd_postfix": "",
     "delete_cmd_prefix": "del ",
     "library": "var_list.py",
     "varRefreshCmd": "print(var_dic_list())"
    },
    "r": {
     "delete_cmd_postfix": ") ",
     "delete_cmd_prefix": "rm(",
     "library": "var_list.r",
     "varRefreshCmd": "cat(var_dic_list()) "
    }
   },
   "types_to_exclude": [
    "module",
    "function",
    "builtin_function_or_method",
    "instance",
    "_Feature"
   ],
   "window_display": false
  }
 },
 "nbformat": 4,
 "nbformat_minor": 2
}
